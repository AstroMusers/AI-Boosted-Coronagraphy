{
 "cells": [
  {
   "cell_type": "code",
   "execution_count": 82,
   "metadata": {},
   "outputs": [],
   "source": [
    "import numpy as np"
   ]
  },
  {
   "cell_type": "code",
   "execution_count": 83,
   "metadata": {},
   "outputs": [],
   "source": [
    "test_latent_dir = '/data/scratch/bariskurtkaya/dataset/NIRCAM/1386/models/modelv1/latent_v1/test_374_latent_space.npy'\n",
    "train_latent_dir = '/data/scratch/bariskurtkaya/dataset/NIRCAM/1386/models/modelv1/latent_v1/train_374_latent_space.npy'"
   ]
  },
  {
   "cell_type": "code",
   "execution_count": 84,
   "metadata": {},
   "outputs": [],
   "source": [
    "test_latent = np.load(test_latent_dir, allow_pickle=True)\n",
    "\n",
    "train_latent = np.load(train_latent_dir, allow_pickle=True)"
   ]
  },
  {
   "cell_type": "code",
   "execution_count": 85,
   "metadata": {},
   "outputs": [],
   "source": [
    "import pandas as pd\n",
    "\n",
    "\n",
    "def get_latent_vector_matrix(latent):\n",
    "    encoded_samples = []\n",
    "\n",
    "    for idx in range(latent.shape[0]):\n",
    "        vector = np.reshape(latent[idx][0], (-1, 1))\n",
    "        encoded_sample = {f\"Enc. Variable {i}\": enc for i, enc in enumerate(vector)}\n",
    "        encoded_sample['label'] = latent[idx][1].cpu().numpy()[0]\n",
    "        encoded_samples.append(encoded_sample)\n",
    "\n",
    "    return pd.DataFrame(encoded_samples)"
   ]
  },
  {
   "cell_type": "code",
   "execution_count": 86,
   "metadata": {},
   "outputs": [],
   "source": [
    "test_encoded = get_latent_vector_matrix(test_latent)\n",
    "train_encoded = get_latent_vector_matrix(train_latent)"
   ]
  },
  {
   "cell_type": "code",
   "execution_count": null,
   "metadata": {},
   "outputs": [],
   "source": [
    "from sklearn.manifold import TSNE\n",
    "import plotly.express as px\n",
    "\n",
    "tsne = TSNE(n_components=2)\n",
    "tsne_results = tsne.fit_transform(train_encoded.drop(['label'],axis=1))\n",
    "fig = px.scatter(tsne_results, x=0, y=1,\n",
    "                 color=train_encoded.label.astype(str),\n",
    "                 labels={'0': 'tsne-2d-one', '1': 'tsne-2d-two'})\n",
    "fig.show()"
   ]
  },
  {
   "cell_type": "code",
   "execution_count": null,
   "metadata": {},
   "outputs": [],
   "source": [
    "from sklearn.cluster import KMeans\n",
    "from sklearn.mixture import GaussianMixture\n",
    "import matplotlib.pyplot as plt\n",
    "import numpy as np\n",
    "import seaborn as sn\n",
    "import pandas as pd"
   ]
  },
  {
   "cell_type": "code",
   "execution_count": null,
   "metadata": {},
   "outputs": [],
   "source": [
    "def get_latent_vector_with_labels(latent):\n",
    "    encoded_samples = []\n",
    "    \n",
    "    for _, vector in enumerate(np.array(latent[:, 0])):\n",
    "        encoded_samples.append(vector)\n",
    "\n",
    "    return np.array(encoded_samples), np.array(latent[:, 1])"
   ]
  },
  {
   "cell_type": "code",
   "execution_count": null,
   "metadata": {},
   "outputs": [],
   "source": [
    "test_encoded_samples, test_labels = get_latent_vector_with_labels(test_latent)\n",
    "train_encoded_samples, train_labels = get_latent_vector_with_labels(train_latent)"
   ]
  },
  {
   "cell_type": "code",
   "execution_count": null,
   "metadata": {},
   "outputs": [],
   "source": [
    "test_encoded_samples.shape, test_labels.shape, train_encoded_samples.shape, train_labels.shape"
   ]
  },
  {
   "cell_type": "code",
   "execution_count": null,
   "metadata": {},
   "outputs": [],
   "source": [
    "def metric_calculation(true_positive, true_negative, false_positive, false_negative):\n",
    "    accuracy = (true_positive + true_negative) / (true_positive + true_negative + false_positive + false_negative)\n",
    "    precision = true_positive / (true_positive + false_positive)\n",
    "    recall = true_positive / (true_positive + false_negative)\n",
    "    f1_score = 2 * precision * recall / (precision + recall)\n",
    "    return accuracy, precision, recall, f1_score"
   ]
  },
  {
   "cell_type": "code",
   "execution_count": null,
   "metadata": {},
   "outputs": [],
   "source": [
    "kmeans = KMeans(n_clusters=2, random_state=0, n_init=\"auto\").fit(train_encoded_samples)"
   ]
  },
  {
   "cell_type": "code",
   "execution_count": null,
   "metadata": {},
   "outputs": [],
   "source": [
    "class_first_true = 0\n",
    "class_first_false = 0\n",
    "\n",
    "class_second_true = 0\n",
    "class_second_false = 0 \n",
    "\n",
    "predictions = kmeans.predict(test_encoded_samples)\n",
    "\n",
    "# Needed if prediction labels are reversed\n",
    "labels = np.abs(test_labels - 1)\n",
    "\n",
    "for idx, prediction in enumerate(predictions):\n",
    "    if prediction == 0 and prediction == labels[idx]:\n",
    "        class_first_true += 1\n",
    "    elif prediction == 0 and prediction != labels[idx]:\n",
    "        class_first_false += 1\n",
    "    elif prediction == 1 and prediction == labels[idx]:\n",
    "        class_second_true += 1\n",
    "    else:\n",
    "        class_second_false += 1\n",
    "\n",
    "accuracy, precision, recall, f1_score = metric_calculation(class_first_true, class_second_true, class_first_false, class_second_false)"
   ]
  },
  {
   "cell_type": "code",
   "execution_count": null,
   "metadata": {},
   "outputs": [],
   "source": [
    "f'accuracy: {accuracy}, precision: {precision}, recall: {recall}, f1_score: {f1_score}'"
   ]
  },
  {
   "cell_type": "code",
   "execution_count": null,
   "metadata": {},
   "outputs": [],
   "source": [
    "confussion = [[class_first_true, class_first_false], [class_second_false, class_second_true]]\n",
    "\n",
    "df_cm = pd.DataFrame(confussion)\n",
    "\n",
    "plt.figure(figsize = (10,7))\n",
    "sn.heatmap(df_cm, annot=True, fmt='g')"
   ]
  },
  {
   "cell_type": "code",
   "execution_count": null,
   "metadata": {},
   "outputs": [],
   "source": [
    "gm = GaussianMixture(n_components=2, random_state=0).fit(train_encoded_samples)"
   ]
  },
  {
   "cell_type": "code",
   "execution_count": null,
   "metadata": {},
   "outputs": [],
   "source": [
    "class_first_true = 0\n",
    "class_first_false = 0\n",
    "\n",
    "class_second_true = 0\n",
    "class_second_false = 0 \n",
    "\n",
    "predictions = gm.predict(test_encoded_samples)\n",
    "\n",
    "# Needed if prediction labels are reversed\n",
    "labels = np.abs(test_labels - 1)\n",
    "\n",
    "for idx, prediction in enumerate(predictions):\n",
    "    if prediction == 0 and prediction == labels[idx]:\n",
    "        class_first_true += 1\n",
    "    elif prediction == 0 and prediction != labels[idx]:\n",
    "        class_first_false += 1\n",
    "    elif prediction == 1 and prediction == labels[idx]:\n",
    "        class_second_true += 1\n",
    "    else:\n",
    "        class_second_false += 1\n",
    "\n",
    "accuracy, precision, recall, f1_score = metric_calculation(class_first_true, class_second_true, class_first_false, class_second_false)"
   ]
  },
  {
   "cell_type": "code",
   "execution_count": null,
   "metadata": {},
   "outputs": [],
   "source": [
    "f'accuracy: {accuracy}, precision: {precision}, recall: {recall}, f1_score: {f1_score}'"
   ]
  },
  {
   "cell_type": "code",
   "execution_count": null,
   "metadata": {},
   "outputs": [],
   "source": [
    "confussion = [[class_first_true, class_first_false], [class_second_false, class_second_true]]\n",
    "\n",
    "df_cm = pd.DataFrame(confussion)\n",
    "\n",
    "plt.figure(figsize = (10,7))\n",
    "sn.heatmap(df_cm, annot=True, fmt='g')"
   ]
  },
  {
   "cell_type": "code",
   "execution_count": null,
   "metadata": {},
   "outputs": [],
   "source": []
  }
 ],
 "metadata": {
  "kernelspec": {
   "display_name": "jwst",
   "language": "python",
   "name": "python3"
  },
  "language_info": {
   "codemirror_mode": {
    "name": "ipython",
    "version": 3
   },
   "file_extension": ".py",
   "mimetype": "text/x-python",
   "name": "python",
   "nbconvert_exporter": "python",
   "pygments_lexer": "ipython3",
   "version": "3.10.8"
  },
  "orig_nbformat": 4
 },
 "nbformat": 4,
 "nbformat_minor": 2
}

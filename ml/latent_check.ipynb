{
 "cells": [
  {
   "cell_type": "code",
   "execution_count": 1,
   "metadata": {},
   "outputs": [],
   "source": [
    "import numpy as np"
   ]
  },
  {
   "cell_type": "code",
   "execution_count": 46,
   "metadata": {},
   "outputs": [],
   "source": [
    "latent_dir = '/data/scratch/bariskurtkaya/dataset/NIRCAM/1386/models/modelv1/latent_v1/374_latent_space.npy'"
   ]
  },
  {
   "cell_type": "code",
   "execution_count": 47,
   "metadata": {},
   "outputs": [],
   "source": [
    "latent = np.load(latent_dir, allow_pickle=True)"
   ]
  },
  {
   "cell_type": "code",
   "execution_count": 48,
   "metadata": {},
   "outputs": [],
   "source": [
    "import pandas as pd\n",
    "\n",
    "encoded_samples = []\n",
    "\n",
    "for idx in range(latent.shape[0]):\n",
    "    vector = np.reshape(latent[idx][0], (-1, 1))\n",
    "    encoded_sample = {f\"Enc. Variable {i}\": enc for i, enc in enumerate(vector)}\n",
    "    encoded_sample['label'] = latent[idx][1].cpu().numpy()[0]\n",
    "    encoded_samples.append(encoded_sample)\n",
    "\n",
    "encoded_samples = pd.DataFrame(encoded_samples)"
   ]
  },
  {
   "cell_type": "code",
   "execution_count": null,
   "metadata": {},
   "outputs": [],
   "source": [
    "from sklearn.manifold import TSNE\n",
    "import plotly.express as px\n",
    "\n",
    "tsne = TSNE(n_components=2)\n",
    "tsne_results = tsne.fit_transform(encoded_samples.drop(['label'],axis=1))\n",
    "fig = px.scatter(tsne_results, x=0, y=1,\n",
    "                 color=encoded_samples.label.astype(str),\n",
    "                 labels={'0': 'tsne-2d-one', '1': 'tsne-2d-two'})\n",
    "fig.show()"
   ]
  },
  {
   "cell_type": "code",
   "execution_count": null,
   "metadata": {},
   "outputs": [],
   "source": []
  }
 ],
 "metadata": {
  "kernelspec": {
   "display_name": "jwst",
   "language": "python",
   "name": "python3"
  },
  "language_info": {
   "codemirror_mode": {
    "name": "ipython",
    "version": 3
   },
   "file_extension": ".py",
   "mimetype": "text/x-python",
   "name": "python",
   "nbconvert_exporter": "python",
   "pygments_lexer": "ipython3",
   "version": "3.10.8"
  },
  "orig_nbformat": 4
 },
 "nbformat": 4,
 "nbformat_minor": 2
}

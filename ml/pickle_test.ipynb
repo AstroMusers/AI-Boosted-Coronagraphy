{
 "cells": [
  {
   "cell_type": "code",
   "execution_count": 8,
   "metadata": {},
   "outputs": [],
   "source": [
    "import matplotlib.pyplot as plt\n",
    "\n",
    "from glob import glob\n",
    "\n",
    "import numpy as np\n",
    "\n",
    "import torch\n",
    "\n",
    "from tqdm.notebook import tqdm\n",
    "\n",
    "# import wandb\n",
    "\n",
    "import pickle5 as pickle\n",
    "\n",
    "import sys\n",
    "sys.path.append(\"..\")\n",
    "\n",
    "import random"
   ]
  },
  {
   "cell_type": "markdown",
   "metadata": {},
   "source": [
    "# AE TEST RESULTS"
   ]
  },
  {
   "cell_type": "code",
   "execution_count": null,
   "metadata": {},
   "outputs": [],
   "source": [
    "device = torch.device('cuda:0' if torch.cuda.is_available() else 'cpu')\n",
    "\n",
    "encoder_dirs = glob('/data/scratch/bariskurtkaya/dataset/NIRCAM/1386/models/*enc.pickle')\n",
    "encoder_dirs = sorted(encoder_dirs, key=lambda x: int(x.split('/')[-1].split('_')[0]))\n",
    "\n",
    "dataset_dir = '/data/scratch/bariskurtkaya/dataset/NIRCAM/1386/injections/'\n",
    "img_dirs = glob(dataset_dir+'*.npy')\n",
    "\n",
    "n_of_photos=10\n",
    "\n",
    "total_enc_count = len(encoder_dirs)\n",
    "\n",
    "plt.figure(figsize=(20, 20))\n",
    "plt.subplots_adjust(bottom=2, right=0.5, top=5)\n",
    "\n",
    "rand_selected_imgs_dir = []\n",
    "\n",
    "for idx in range(n_of_photos):\n",
    "    rand_selected_imgs_dir.append(random.choice(img_dirs))\n",
    "    print(rand_selected_imgs_dir[idx].split('/')[-1])\n",
    "\n",
    "\n",
    "for enc_idx, enc_dir in enumerate(encoder_dirs):\n",
    "    dec_dir = enc_dir.replace('enc', 'dec')\n",
    "    \n",
    "    with open(f'{enc_dir}', 'rb') as fin:\n",
    "        enc_best = pickle.load(fin).to(device)\n",
    "    \n",
    "    with open(f'{dec_dir}', 'rb') as fin:\n",
    "        dec_best = pickle.load(fin).to(device)\n",
    "\n",
    "    for img_idx in range(n_of_photos):\n",
    "        img = np.load(rand_selected_imgs_dir[img_idx])\n",
    "        img = torch.from_numpy(img).to(device).float()\n",
    "        img = img.unsqueeze(0)\n",
    "        \n",
    "        enc_best.eval()\n",
    "        dec_best.eval()\n",
    "        with torch.no_grad():\n",
    "            enc_out = enc_best(img)\n",
    "            dec_out = dec_best(enc_out)\n",
    "\n",
    "        ax = plt.subplot(total_enc_count*2+2, n_of_photos, (2*enc_idx+1)*n_of_photos+img_idx+1)\n",
    "\n",
    "        if img_idx == n_of_photos//2:\n",
    "            ax.set_title(f'{enc_dir.split(\"/\")[-1]}/Original')\n",
    "\n",
    "        plt.imshow(img.squeeze().detach().cpu().numpy())\n",
    "        plt.axis('off')\n",
    "        \n",
    "\n",
    "        ax = plt.subplot(total_enc_count*2+2, n_of_photos, (2*enc_idx+2)*n_of_photos+img_idx+1)\n",
    "\n",
    "        if img_idx == n_of_photos//2:\n",
    "            ax.set_title(f'{enc_dir.split(\"/\")[-1]}/Dec_OUT')\n",
    "\n",
    "        plt.imshow(dec_out.squeeze().detach().cpu().numpy())\n",
    "        plt.axis('off')"
   ]
  },
  {
   "cell_type": "code",
   "execution_count": null,
   "metadata": {},
   "outputs": [],
   "source": [
    "import pandas as pd\n",
    "\n",
    "encoded_samples = []\n",
    "for sample in tqdm(test_dataset):\n",
    "    img = sample[0].unsqueeze(0).to(device)\n",
    "    label = sample[1]\n",
    "    # Encode image\n",
    "    enc_best.eval()\n",
    "    with torch.no_grad():\n",
    "        encoded_img  = enc_best(img)\n",
    "    # Append to list\n",
    "    encoded_img = encoded_img.flatten().cpu().numpy()\n",
    "    encoded_sample = {f\"Enc. Variable {i}\": enc for i, enc in enumerate(encoded_img)}\n",
    "    encoded_sample['label'] = label\n",
    "    encoded_samples.append(encoded_sample)\n",
    "encoded_samples = pd.DataFrame(encoded_samples)\n",
    "encoded_samples"
   ]
  },
  {
   "cell_type": "code",
   "execution_count": null,
   "metadata": {},
   "outputs": [],
   "source": [
    "import plotly.express as px\n",
    "\n",
    "px.scatter(encoded_samples, x='Enc. Variable 0', y='Enc. Variable 1', \n",
    "           color=encoded_samples.label.astype(str), opacity=0.7)"
   ]
  },
  {
   "cell_type": "code",
   "execution_count": null,
   "metadata": {},
   "outputs": [],
   "source": [
    "from sklearn.manifold import TSNE\n",
    "\n",
    "tsne = TSNE(n_components=2)\n",
    "tsne_results = tsne.fit_transform(encoded_samples.drop(['label'],axis=1))\n",
    "fig = px.scatter(tsne_results, x=0, y=1,\n",
    "                 color=encoded_samples.label.astype(str),\n",
    "                 labels={'0': 'tsne-2d-one', '1': 'tsne-2d-two'})\n",
    "fig.show()"
   ]
  }
 ],
 "metadata": {
  "kernelspec": {
   "display_name": "jwst",
   "language": "python",
   "name": "python3"
  },
  "language_info": {
   "codemirror_mode": {
    "name": "ipython",
    "version": 3
   },
   "file_extension": ".py",
   "mimetype": "text/x-python",
   "name": "python",
   "nbconvert_exporter": "python",
   "pygments_lexer": "ipython3",
   "version": "3.10.8"
  },
  "orig_nbformat": 4
 },
 "nbformat": 4,
 "nbformat_minor": 2
}

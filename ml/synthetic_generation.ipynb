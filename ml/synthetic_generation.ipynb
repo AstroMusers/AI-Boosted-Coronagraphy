{
 "cells": [
  {
   "cell_type": "code",
   "execution_count": 60,
   "id": "87dbc251-84a4-488b-93d8-525c9576dfa3",
   "metadata": {},
   "outputs": [],
   "source": [
    "import matplotlib.pyplot as plt\n",
    "import matplotlib\n",
    "\n",
    "from PIL import Image\n",
    "\n",
    "from tqdm import tqdm\n",
    "\n",
    "import numpy as np\n",
    "import time"
   ]
  },
  {
   "cell_type": "code",
   "execution_count": 113,
   "id": "7c44825d-c68c-4e9e-85bd-5b8e1ea5e781",
   "metadata": {},
   "outputs": [],
   "source": [
    "mean = [0,0]\n",
    "cov = [[3,0], [0,3]]\n",
    "\n",
    "mean_exo = [0,0]\n",
    "cov_exo = [[0.25,0], [0, 0.25]]"
   ]
  },
  {
   "cell_type": "code",
   "execution_count": 61,
   "id": "e0572ed3-95a2-44db-b4d5-e6a909bb52f1",
   "metadata": {},
   "outputs": [],
   "source": [
    "matplotlib.use('Agg')"
   ]
  },
  {
   "cell_type": "code",
   "execution_count": 147,
   "id": "12be5a88-d2c1-4a90-a24a-003607156980",
   "metadata": {
    "tags": []
   },
   "outputs": [],
   "source": [
    "plt.cla()\n",
    "pts = np.random.multivariate_normal(mean, cov, 1750)\n",
    "    \n",
    "plt.rcParams['figure.figsize'] = [w/my_dpi, h/my_dpi]\n",
    "plt.axis('off')\n",
    "    \n",
    "plt.plot(pts[:, 0], pts[:, 1], 'o', alpha=0.5, color='white')\n",
    "\n",
    "plt.xlim(-14, 14)\n",
    "plt.ylim(-14, 14)\n",
    "    \n",
    "plt.savefig('trial.png', dpi=my_dpi, facecolor='black')\n"
   ]
  },
  {
   "cell_type": "code",
   "execution_count": 162,
   "id": "1c83e13f-6581-41f0-8cde-2675cfe24af4",
   "metadata": {},
   "outputs": [
    {
     "name": "stdout",
     "output_type": "stream",
     "text": [
      "/data/scratch/bariskurtkaya/synthetic_dataset/trial1123.png: PNG image data, 214 x 160, 8-bit/color RGBA, non-interlaced\n"
     ]
    }
   ],
   "source": [
    "!file /data/scratch/bariskurtkaya/synthetic_dataset/trial1123.png"
   ]
  },
  {
   "cell_type": "code",
   "execution_count": 140,
   "id": "01f133cd-82ac-470b-ab2a-3ef5bc45bb79",
   "metadata": {},
   "outputs": [],
   "source": [
    "tick = time.time()\n",
    "all_pts = []\n",
    "\n",
    "plt.cla()\n",
    "\n",
    "pts = np.random.multivariate_normal(mean, cov, 1750)\n",
    "\n",
    "pts_exo = np.random.multivariate_normal(mean_exo, cov_exo, 250) \n",
    "    \n",
    "x_add = np.random.randint(4,10) * np.random.choice((-1, 1))\n",
    "y_add = np.random.randint(4,10) * np.random.choice((-1, 1))\n",
    "    \n",
    "pts_exo.T[0] = pts_exo.T[0] + x_add\n",
    "pts_exo.T[1] = pts_exo.T[1] + y_add\n",
    "        \n",
    "all_pts = np.append(pts, pts_exo, axis = 0)\n",
    "    \n",
    "plt.rcParams['figure.figsize'] = [w/my_dpi, h/my_dpi]\n",
    "plt.axis('off')\n",
    "    \n",
    "plt.plot(all_pts[:, 0], all_pts[:, 1], 'o', alpha=0.5, color='white', markersize=64)\n",
    "\n",
    "plt.xlim(-14, 14)\n",
    "plt.ylim(-14, 14)\n",
    "\n",
    "plt.savefig('trial_exo.png', dpi=my_dpi, facecolor='black')\n",
    "tock = time.time()"
   ]
  },
  {
   "cell_type": "code",
   "execution_count": 141,
   "id": "e4f3e7d2-046a-43b1-8fe7-f3140a823fed",
   "metadata": {},
   "outputs": [
    {
     "data": {
      "text/plain": [
       "(-9, -8, (1000, 2))"
      ]
     },
     "execution_count": 141,
     "metadata": {},
     "output_type": "execute_result"
    }
   ],
   "source": [
    "x_add, y_add, all_pts.shape"
   ]
  },
  {
   "cell_type": "code",
   "execution_count": 27,
   "id": "0a6ede6a-6196-44af-8777-cbaf7d47d6ae",
   "metadata": {},
   "outputs": [],
   "source": [
    "w,h = 160,160\n",
    "my_dpi = 10"
   ]
  },
  {
   "cell_type": "code",
   "execution_count": 23,
   "id": "f4fb44ef-9795-42c2-b698-b4edd0c5d06d",
   "metadata": {},
   "outputs": [],
   "source": [
    "synthetic_dataser_dir = '/data/scratch/bariskurtkaya/synthetic_dataset/'"
   ]
  },
  {
   "cell_type": "code",
   "execution_count": 24,
   "id": "25819a46-b426-45f5-b611-8e9446e64695",
   "metadata": {},
   "outputs": [],
   "source": [
    "# Just star\n",
    "def create_synthetic_data(img_name:str, width:int = 28, height:int = 28, dpi:float = 10, mean: [] = [0,0], cov: [] = [[3,0], [0,3]], xlimit: int = 128, ylimit: int = 128):\n",
    "    pts = np.random.multivariate_normal(mean, cov, 500)\n",
    "    \n",
    "    #plt.rcParams[\"figure.facecolor\"] = 'black'\n",
    "    plt.rcParams['figure.figsize'] = [width/dpi, height/dpi]\n",
    "    plt.axis('off')\n",
    "    \n",
    "    plt.plot(pts[:, 0], pts[:, 1], '.', alpha=0.5, color='white')\n",
    "\n",
    "    plt.xlim(-xlimit, xlimit)\n",
    "    plt.ylim(-ylimit, ylimit)\n",
    "    \n",
    "    #plt.savefig(img_name, dpi=dpi, facecolor='black')\n",
    "    plt.show()"
   ]
  },
  {
   "cell_type": "code",
   "execution_count": 15,
   "id": "364a77a0-0161-4c7a-9a07-eb5e8a629e4b",
   "metadata": {},
   "outputs": [
    {
     "data": {
      "image/png": "[encoded data removed]",
      "text/plain": [
       "<Figure size 280x280 with 1 Axes>"
      ]
     },
     "metadata": {},
     "output_type": "display_data"
    }
   ],
   "source": [
    "#for idx in tqdm(range(10000)):\n",
    "    #img_name = synthetic_dataser_dir + 'trial' + str(idx)\n",
    "    #create_synthetic_data(img_name = img_name, width=w, height=h, dpi=my_dpi, mean=mean, cov=cov)\n",
    "\n",
    "create_synthetic_data(img_name = 'star', width=w, height=h, dpi=my_dpi, mean=mean, cov=cov)"
   ]
  },
  {
   "cell_type": "code",
   "execution_count": 18,
   "id": "9dd5497c-7e9b-4d63-88be-2d12036f3afa",
   "metadata": {},
   "outputs": [],
   "source": [
    "# Star + Exoplanet\n",
    "def create_exop_synth_data(img_name:str, width:int = 28, height:int = 28, dpi:float = 10, mean: [] = [0,0], cov: [] = [[3,0], [0,3]], mean_exo: [] = [0,0], cov_exo: [] = [[0.25,0], [0,0.25]], xlimit: int = 128, ylimit: int = 128):\n",
    "    pts = np.random.multivariate_normal(mean, cov, 500)\n",
    "    pts_exo = np.random.multivariate_normal(mean_exo, cov_exo, 250) \n",
    "    \n",
    "    x_add = np.random.randint(10,30) * np.random.choice((-1, 1))\n",
    "    y_add = np.random.randint(10,30) * np.random.choice((-1, 1))\n",
    "    \n",
    "    pts_exo.T[0] = pts_exo.T[0] + x_add\n",
    "    pts_exo.T[1] = pts_exo.T[1] + y_add\n",
    "    \n",
    "    print(x_add, y_add)\n",
    "    \n",
    "    all_pts = np.append(pts, pts_exo, axis = 0)\n",
    "    \n",
    "    #plt.rcParams[\"figure.facecolor\"] = 'black'\n",
    "    plt.rcParams['figure.figsize'] = [width/dpi, height/dpi]\n",
    "    plt.axis('off')\n",
    "    \n",
    "    plt.plot(all_pts[:, 0], all_pts[:, 1], '.', alpha=0.5, color='white')\n",
    "\n",
    "    plt.xlim(-xlimit, xlimit)\n",
    "    plt.ylim(-ylimit, ylimit)\n",
    "    \n",
    "    #plt.savefig(img_name, dpi=dpi, facecolor='black')\n",
    "    plt.show()"
   ]
  },
  {
   "cell_type": "code",
   "execution_count": 19,
   "id": "824e1984-c4b3-4e56-a237-a10edd4a87cb",
   "metadata": {},
   "outputs": [
    {
     "name": "stdout",
     "output_type": "stream",
     "text": [
      "27 15\n"
     ]
    },
    {
     "data": {
      "image/png": "[encoded data removed]",
      "text/plain": [
       "<Figure size 280x280 with 1 Axes>"
      ]
     },
     "metadata": {},
     "output_type": "display_data"
    }
   ],
   "source": [
    "#for idx in tqdm(range(3000)):\n",
    "    #img_name = synthetic_dataser_dir + 'trial_exo' + str(idx)\n",
    "    #create_exop_synth_data(img_name = img_name, width=w, height=h, dpi=my_dpi, mean=mean, cov=cov)\n",
    "    \n",
    "create_exop_synth_data(img_name = 'star_exo', width=w, height=h, dpi=my_dpi, mean=mean, cov=cov)"
   ]
  },
  {
   "cell_type": "code",
   "execution_count": null,
   "id": "982ac4a6-6a1c-4378-8168-6c9eb81ecdb4",
   "metadata": {},
   "outputs": [],
   "source": [
    "!file /data/scratch/bariskurtkaya/synthetic_dataset/trial1.png"
   ]
  }
 ],
 "metadata": {
  "kernelspec": {
   "display_name": "Python 3 (ipykernel)",
   "language": "python",
   "name": "python3"
  },
  "language_info": {
   "codemirror_mode": {
    "name": "ipython",
    "version": 3
   },
   "file_extension": ".py",
   "mimetype": "text/x-python",
   "name": "python",
   "nbconvert_exporter": "python",
   "pygments_lexer": "ipython3",
   "version": "3.10.8"
  }
 },
 "nbformat": 4,
 "nbformat_minor": 5
}

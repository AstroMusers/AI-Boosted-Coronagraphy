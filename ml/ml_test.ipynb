{
 "cells": [
  {
   "cell_type": "code",
   "execution_count": 1,
   "metadata": {},
   "outputs": [],
   "source": [
    "from glob import glob\n",
    "\n",
    "import numpy as np\n",
    "\n",
    "import matplotlib.pyplot as plt\n",
    "\n",
    "import cv2 as cv\n",
    "\n",
    "from astropy.io import fits"
   ]
  },
  {
   "cell_type": "code",
   "execution_count": 10,
   "metadata": {},
   "outputs": [],
   "source": [
    "real_psf_dir = glob('/data/scratch/bariskurtkaya/dataset/NIRCAM/1386/mastDownload/JWST/*psfstack.fits')"
   ]
  },
  {
   "cell_type": "code",
   "execution_count": 11,
   "metadata": {},
   "outputs": [
    {
     "data": {
      "text/plain": [
       "['/data/scratch/bariskurtkaya/dataset/NIRCAM/1386/mastDownload/JWST/jw01386-a3001_t004_nircam_f356w-maskrnd-sub320a335r_psfstack.fits',\n",
       " '/data/scratch/bariskurtkaya/dataset/NIRCAM/1386/mastDownload/JWST/jw01386-a3001_t004_nircam_f300m-maskrnd-sub320a335r_psfstack.fits',\n",
       " '/data/scratch/bariskurtkaya/dataset/NIRCAM/1386/mastDownload/JWST/jw01386-a3001_t002_nircam_f410m-maskrnd-sub320a335r_psfstack.fits',\n",
       " '/data/scratch/bariskurtkaya/dataset/NIRCAM/1386/mastDownload/JWST/jw01386-a3001_t002_nircam_f300m-maskrnd-sub320a335r_psfstack.fits',\n",
       " '/data/scratch/bariskurtkaya/dataset/NIRCAM/1386/mastDownload/JWST/jw01386-a3001_t002_nircam_f356w-maskrnd-sub320a335r_psfstack.fits',\n",
       " '/data/scratch/bariskurtkaya/dataset/NIRCAM/1386/mastDownload/JWST/jw01386-a3001_t004_nircam_f410m-maskrnd-sub320a335r_psfstack.fits',\n",
       " '/data/scratch/bariskurtkaya/dataset/NIRCAM/1386/mastDownload/JWST/jw01386-a3001_t002_nircam_f444w-maskrnd-sub320a335r_psfstack.fits',\n",
       " '/data/scratch/bariskurtkaya/dataset/NIRCAM/1386/mastDownload/JWST/jw01386-a3001_t002_nircam_f250m-maskrnd-sub320a335r_psfstack.fits',\n",
       " '/data/scratch/bariskurtkaya/dataset/NIRCAM/1386/mastDownload/JWST/jw01386-a3001_t004_nircam_f360m-maskrnd-sub320a335r_psfstack.fits']"
      ]
     },
     "execution_count": 11,
     "metadata": {},
     "output_type": "execute_result"
    }
   ],
   "source": [
    "real_psf_dir"
   ]
  },
  {
   "cell_type": "code",
   "execution_count": 25,
   "metadata": {},
   "outputs": [],
   "source": [
    "f360 = fits.open(real_psf_dir[-1])[1].data"
   ]
  },
  {
   "cell_type": "code",
   "execution_count": 45,
   "metadata": {},
   "outputs": [],
   "source": [
    "def create_psd(psf):\n",
    "    psf = np.nan_to_num(psf)\n",
    "    psd = np.abs(np.fft.fftshift(np.fft.fft2(psf)))**2\n",
    "    psd = np.log10(psd)\n",
    "    psd = psd/psd.max()\n",
    "    return psd"
   ]
  },
  {
   "cell_type": "code",
   "execution_count": 69,
   "metadata": {},
   "outputs": [],
   "source": [
    "def is_psf_empty(psf):\n",
    "    width, height = psf.shape[0], psf.shape[1]\n",
    "    psd = create_psd(psf)\n",
    "    if psd[int(width/2) -1][int(height/2) -1] < 0.8:\n",
    "        return True\n",
    "    else:\n",
    "        return False"
   ]
  },
  {
   "cell_type": "code",
   "execution_count": 72,
   "metadata": {},
   "outputs": [
    {
     "data": {
      "text/plain": [
       "True"
      ]
     },
     "execution_count": 72,
     "metadata": {},
     "output_type": "execute_result"
    }
   ],
   "source": [
    "is_psf_empty(f360[120])"
   ]
  },
  {
   "cell_type": "code",
   "execution_count": 75,
   "metadata": {},
   "outputs": [
    {
     "name": "stdout",
     "output_type": "stream",
     "text": [
      "(18, 320, 320)\n",
      "jw01386-a3001_t004_nircam_f356w-maskrnd-sub320a335r_psfstack.fits 0\n",
      "(466, 320, 320)\n"
     ]
    },
    {
     "name": "stdout",
     "output_type": "stream",
     "text": [
      "jw01386-a3001_t004_nircam_f300m-maskrnd-sub320a335r_psfstack.fits 56\n",
      "(18, 320, 320)\n",
      "jw01386-a3001_t002_nircam_f410m-maskrnd-sub320a335r_psfstack.fits 0\n",
      "(36, 320, 320)\n",
      "jw01386-a3001_t002_nircam_f300m-maskrnd-sub320a335r_psfstack.fits 0\n",
      "(18, 320, 320)\n",
      "jw01386-a3001_t002_nircam_f356w-maskrnd-sub320a335r_psfstack.fits 0\n",
      "(18, 320, 320)\n",
      "jw01386-a3001_t004_nircam_f410m-maskrnd-sub320a335r_psfstack.fits 0\n",
      "(18, 320, 320)\n",
      "jw01386-a3001_t002_nircam_f444w-maskrnd-sub320a335r_psfstack.fits 0\n",
      "(36, 320, 320)\n",
      "jw01386-a3001_t002_nircam_f250m-maskrnd-sub320a335r_psfstack.fits 0\n",
      "(296, 320, 320)\n",
      "jw01386-a3001_t004_nircam_f360m-maskrnd-sub320a335r_psfstack.fits 69\n"
     ]
    }
   ],
   "source": [
    "for _, psfstackdir in enumerate(real_psf_dir):\n",
    "   psfstack = fits.open(psfstackdir)[1].data\n",
    "\n",
    "   print(psfstack.shape)\n",
    "   x = 0\n",
    "   for _, psf in enumerate(psfstack):\n",
    "      if is_psf_empty(psf):\n",
    "         x=x+1\n",
    "\n",
    "   print(psfstackdir.split('/')[-1], x)"
   ]
  },
  {
   "cell_type": "code",
   "execution_count": null,
   "metadata": {},
   "outputs": [],
   "source": []
  }
 ],
 "metadata": {
  "kernelspec": {
   "display_name": "jwst",
   "language": "python",
   "name": "python3"
  },
  "language_info": {
   "codemirror_mode": {
    "name": "ipython",
    "version": 3
   },
   "file_extension": ".py",
   "mimetype": "text/x-python",
   "name": "python",
   "nbconvert_exporter": "python",
   "pygments_lexer": "ipython3",
   "version": "3.10.8"
  },
  "orig_nbformat": 4
 },
 "nbformat": 4,
 "nbformat_minor": 2
}

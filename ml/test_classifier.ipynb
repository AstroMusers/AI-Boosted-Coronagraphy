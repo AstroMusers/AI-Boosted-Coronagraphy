{
 "cells": [
  {
   "cell_type": "code",
   "execution_count": 1,
   "metadata": {},
   "outputs": [],
   "source": [
    "import torch\n",
    "from torch.utils.data import Dataset, DataLoader\n",
    "from glob import glob\n",
    "import os\n",
    "import numpy as np\n",
    "from classifier  import ConvNet, predict\n",
    "from data import NIRCamDataset"
   ]
  },
  {
   "cell_type": "code",
   "execution_count": 2,
   "metadata": {},
   "outputs": [
    {
     "data": {
      "text/plain": [
       "ConvNet(\n",
       "  (conv1): Conv2d(2, 32, kernel_size=(7, 7), stride=(1, 1), padding=(3, 3))\n",
       "  (conv2): Conv2d(32, 32, kernel_size=(7, 7), stride=(1, 1), padding=(3, 3))\n",
       "  (conv3): Conv2d(32, 64, kernel_size=(7, 7), stride=(1, 1), padding=(3, 3))\n",
       "  (conv4): Conv2d(64, 64, kernel_size=(7, 7), stride=(1, 1), padding=(3, 3))\n",
       "  (conv5): Conv2d(64, 128, kernel_size=(7, 7), stride=(1, 1), padding=(3, 3))\n",
       "  (fc): Linear(in_features=1843200, out_features=2, bias=True)\n",
       "  (activation): LeakyReLU(negative_slope=0.01)\n",
       "  (softmax): Softmax(dim=1)\n",
       "  (BN1): BatchNorm2d(32, eps=1e-05, momentum=0.1, affine=True, track_running_stats=True)\n",
       "  (BN2): BatchNorm2d(64, eps=1e-05, momentum=0.1, affine=True, track_running_stats=True)\n",
       "  (dropout): Dropout2d(p=0.4, inplace=False)\n",
       ")"
      ]
     },
     "execution_count": 2,
     "metadata": {},
     "output_type": "execute_result"
    }
   ],
   "source": [
    "device = torch.device('cuda' if torch.cuda.is_available() else 'cpu')\n",
    "\n",
    "dataset_path = '/data/scratch/sarperyurtseven/dataset/NIRCAM/1386/injections2/fc10_coron_injections_train_resized_unnormalized'\n",
    "dataset = glob(os.path.join(dataset_path, '*.npy'))\n",
    "\n",
    "nircam = NIRCamDataset(dataset, device)\n",
    "nircam_loader = DataLoader(nircam, batch_size=512, shuffle=True)\n",
    "\n",
    "model = ConvNet()\n",
    "model.load_state_dict(torch.load('./models/model_20.pth'))\n",
    "model.to(device)\n",
    "model.eval()"
   ]
  },
  {
   "cell_type": "code",
   "execution_count": 3,
   "metadata": {},
   "outputs": [],
   "source": [
    "test = next(iter(nircam_loader))\n",
    "results = predict(model, test[0])"
   ]
  },
  {
   "cell_type": "code",
   "execution_count": 2,
   "metadata": {},
   "outputs": [],
   "source": [
    "x = torch.Tensor([[-0.5], [0.5], [0.2], [-0.3]])"
   ]
  },
  {
   "cell_type": "code",
   "execution_count": 9,
   "metadata": {},
   "outputs": [
    {
     "data": {
      "text/plain": [
       "tensor([[-1.],\n",
       "        [ 1.],\n",
       "        [ 0.],\n",
       "        [ 0.]])"
      ]
     },
     "execution_count": 9,
     "metadata": {},
     "output_type": "execute_result"
    }
   ],
   "source": [
    "t = torch.where(x < 0.5, x, 1)\n",
    "t = torch.where(t > -0.5, t, -1)\n",
    "t = torch.where((-0.5 < t) == (t < 0.5), 0, t)\n",
    "\n",
    "t"
   ]
  },
  {
   "cell_type": "code",
   "execution_count": 24,
   "metadata": {},
   "outputs": [],
   "source": [
    "res = torch.where(x < 0, -1, 1)"
   ]
  },
  {
   "cell_type": "code",
   "execution_count": 26,
   "metadata": {},
   "outputs": [],
   "source": [
    "test_class = torch.Tensor([[-1], [-1], [1], [-1]])"
   ]
  },
  {
   "cell_type": "code",
   "execution_count": 29,
   "metadata": {},
   "outputs": [
    {
     "data": {
      "text/plain": [
       "3"
      ]
     },
     "execution_count": 29,
     "metadata": {},
     "output_type": "execute_result"
    }
   ],
   "source": [
    "(test_class == res).sum().item()"
   ]
  },
  {
   "cell_type": "code",
   "execution_count": null,
   "metadata": {},
   "outputs": [],
   "source": [
    "import numpy as np\n",
    "import matplotlib.pyplot as plt\n",
    "from torchvision import utils\n",
    "\n",
    "def visTensor(kernels): \n",
    "    kernels = kernels[:,:1:,:]\n",
    "    print(kernels.size())\n",
    "\n",
    "    # normalize to (0,1) range so that matplotlib\n",
    "    # can plot them\n",
    "    kernels = kernels - kernels.min()\n",
    "    kernels = kernels / kernels.max()\n",
    "    filter_img = utils.make_grid(kernels, nrow = 8)\n",
    "    # change ordering since matplotlib requires images to \n",
    "    # be (H, W, C)\n",
    "    plt.imshow(filter_img.permute(1, 2, 0).cpu().numpy())\n",
    "\n",
    "    # You can directly save the image as well using\n",
    "    return kernels"
   ]
  },
  {
   "cell_type": "code",
   "execution_count": 3,
   "metadata": {},
   "outputs": [
    {
     "data": {
      "text/plain": [
       "torch.Size([512, 2, 120, 120])"
      ]
     },
     "execution_count": 3,
     "metadata": {},
     "output_type": "execute_result"
    }
   ],
   "source": [
    "test = next(iter(nircam_loader))\n",
    "\n",
    "test[0].size()"
   ]
  },
  {
   "cell_type": "code",
   "execution_count": 5,
   "metadata": {},
   "outputs": [
    {
     "data": {
      "text/plain": [
       "-1.0"
      ]
     },
     "execution_count": 5,
     "metadata": {},
     "output_type": "execute_result"
    }
   ],
   "source": [
    "np.min(test[0].cpu().numpy())"
   ]
  },
  {
   "cell_type": "code",
   "execution_count": null,
   "metadata": {},
   "outputs": [],
   "source": [
    "filter = model.conv1.weight.data.clone()\n",
    "kernels = visTensor(filter)\n",
    "\n",
    "plt.axis('off')\n",
    "plt.ioff()\n",
    "plt.show()"
   ]
  },
  {
   "cell_type": "code",
   "execution_count": null,
   "metadata": {},
   "outputs": [],
   "source": [
    "filter[:,:1:,:].shape"
   ]
  },
  {
   "cell_type": "code",
   "execution_count": 9,
   "metadata": {},
   "outputs": [
    {
     "data": {
      "text/plain": [
       "'/data/scratch/sarperyurtseven/dataset/NIRCAM/1386/injections2/fc10_coron_injections_train_resized_unnormalized/jw01386-a3001_t004_nircam_f300m-maskrnd-sub320a335r-psf354-aug-rot2-flip0-vshift2-hshift0-vshiftp8-hshiftp10.npy'"
      ]
     },
     "execution_count": 9,
     "metadata": {},
     "output_type": "execute_result"
    }
   ],
   "source": [
    "dataset_path = '/data/scratch/sarperyurtseven/dataset/NIRCAM/1386/injections2/fc10_coron_injections_train_resized_unnormalized'\n",
    "dataset = glob(os.path.join(dataset_path, '*.npy'))\n",
    "\n",
    "dest_copy_path = '/data/scratch/bariskurtkaya/dataset/NIRCAM/1386/injections_24102023'\n",
    "dataset[0]"
   ]
  },
  {
   "cell_type": "code",
   "execution_count": 14,
   "metadata": {},
   "outputs": [],
   "source": [
    "import random\n",
    "import shutil\n",
    "\n",
    "random.shuffle(dataset)"
   ]
  },
  {
   "cell_type": "code",
   "execution_count": 15,
   "metadata": {},
   "outputs": [],
   "source": [
    "train = dataset[:int(len(dataset)*0.8)]\n",
    "test = dataset[int(len(dataset)*0.8):]"
   ]
  },
  {
   "cell_type": "code",
   "execution_count": 16,
   "metadata": {},
   "outputs": [],
   "source": [
    "for file in train:\n",
    "    shutil.copy(file, os.path.join(dest_copy_path, 'train'))\n",
    "\n",
    "for file in test:\n",
    "    shutil.copy(file, os.path.join(dest_copy_path, 'test'))"
   ]
  },
  {
   "cell_type": "code",
   "execution_count": null,
   "metadata": {},
   "outputs": [],
   "source": []
  }
 ],
 "metadata": {
  "kernelspec": {
   "display_name": "jwst",
   "language": "python",
   "name": "python3"
  },
  "language_info": {
   "codemirror_mode": {
    "name": "ipython",
    "version": 3
   },
   "file_extension": ".py",
   "mimetype": "text/x-python",
   "name": "python",
   "nbconvert_exporter": "python",
   "pygments_lexer": "ipython3",
   "version": "3.10.8"
  }
 },
 "nbformat": 4,
 "nbformat_minor": 2
}

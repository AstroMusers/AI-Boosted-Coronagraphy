{
 "cells": [
  {
   "cell_type": "code",
   "execution_count": 2,
   "metadata": {},
   "outputs": [],
   "source": [
    "import matplotlib.pyplot as plt\n",
    "import torch\n",
    "from torch.utils.data import Dataset, DataLoader\n",
    "from torchvision import datasets\n",
    "import torch.nn as nn\n",
    "import torch.optim as optim\n",
    "from torch.nn import functional as F\n",
    "import torchvision\n",
    "from torchvision import transforms\n",
    "import numpy as np\n",
    "from tqdm import tqdm\n",
    "import pandas as pd\n",
    "import glob"
   ]
  },
  {
   "cell_type": "code",
   "execution_count": 3,
   "metadata": {},
   "outputs": [
    {
     "data": {
      "text/plain": [
       "['/data/scratch/bariskurtkaya/dataset/NIRCAM/1386/fits_arrays/1386_F360M_HD-140986_psfstack_sci_8.npy',\n",
       " '/data/scratch/bariskurtkaya/dataset/NIRCAM/1386/fits_arrays/1386_F300M_HIP-68245_psfstack_sci_1.npy',\n",
       " '/data/scratch/bariskurtkaya/dataset/NIRCAM/1386/fits_arrays/1386_F444W_HIP-68245_psfstack_sci_6.npy',\n",
       " '/data/scratch/bariskurtkaya/dataset/NIRCAM/1386/fits_arrays/1386_F356W_HIP-68245_psfstack_sci_4.npy',\n",
       " '/data/scratch/bariskurtkaya/dataset/NIRCAM/1386/fits_arrays/1386_F250M_HIP-68245_psfstack_sci_7.npy',\n",
       " '/data/scratch/bariskurtkaya/dataset/NIRCAM/1386/fits_arrays/1386_F410M_HIP-68245_psfstack_sci_5.npy',\n",
       " '/data/scratch/bariskurtkaya/dataset/NIRCAM/1386/fits_arrays/1386_F410M_HIP-68245_psfstack_sci_2.npy',\n",
       " '/data/scratch/bariskurtkaya/dataset/NIRCAM/1386/fits_arrays/1386_F356W_HIP-68245_psfstack_sci_0.npy',\n",
       " '/data/scratch/bariskurtkaya/dataset/NIRCAM/1386/fits_arrays/1386_F300M_HIP-68245_psfstack_sci_3.npy']"
      ]
     },
     "execution_count": 3,
     "metadata": {},
     "output_type": "execute_result"
    }
   ],
   "source": [
    "glob.glob('/data/scratch/bariskurtkaya/dataset/NIRCAM/1386/fits_arrays/*.npy')"
   ]
  },
  {
   "cell_type": "code",
   "execution_count": null,
   "metadata": {},
   "outputs": [],
   "source": []
  }
 ],
 "metadata": {
  "kernelspec": {
   "display_name": "jwst-dev",
   "language": "python",
   "name": "python3"
  },
  "language_info": {
   "codemirror_mode": {
    "name": "ipython",
    "version": 3
   },
   "file_extension": ".py",
   "mimetype": "text/x-python",
   "name": "python",
   "nbconvert_exporter": "python",
   "pygments_lexer": "ipython3",
   "version": "3.9.16"
  },
  "orig_nbformat": 4
 },
 "nbformat": 4,
 "nbformat_minor": 2
}

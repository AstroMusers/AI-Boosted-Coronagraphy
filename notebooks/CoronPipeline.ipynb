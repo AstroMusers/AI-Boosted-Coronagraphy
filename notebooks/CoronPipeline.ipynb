{
 "cells": [
  {
   "cell_type": "code",
   "execution_count": null,
   "id": "f41bffcc-a851-4b4e-b56e-7011abda853d",
   "metadata": {},
   "outputs": [],
   "source": [
    "import os\n",
    "from jwst.pipeline import Detector1Pipeline, Image2Pipeline, Coron3Pipeline\n",
    "import jwst.associations\n",
    "from jwst.associations.lib.rules_level3_base import DMS_Level3_Base\n",
    "from glob import glob\n",
    "import astropy.io.fits as fits\n",
    "import numpy as np\n",
    "import time\n",
    "import pandas as pd\n",
    "import json\n",
    "import pickle\n",
    "from json import JSONEncoder\n",
    "from collections import defaultdict\n",
    "from CoronPipeline import MyCoron3Pipeline"
   ]
  },
  {
   "cell_type": "code",
   "execution_count": null,
   "id": "4be9f523-4d7b-4ab3-a457-7cc2fe342789",
   "metadata": {},
   "outputs": [],
   "source": [
    "os.environ[\"CRDS_PATH\"] = '/home/sarperyn/crds_cache/jwst_ops'\n",
    "os.environ[\"CRDS_SERVER_URL\"] = 'https://jwst-crds.stsci.edu'"
   ]
  },
  {
   "cell_type": "code",
   "execution_count": null,
   "id": "0f6de925-3ebe-4638-a081-c1053fc04115",
   "metadata": {},
   "outputs": [],
   "source": [
    "import matplotlib.pyplot as plt\n",
    "from matplotlib import rcParams\n",
    "\n",
    "%matplotlib inline\n",
    "\n",
    "# figure sizes and resolutions\n",
    "rcParams['figure.figsize'] = [20,15]\n",
    "rcParams['figure.dpi'] = 80\n",
    "rcParams['savefig.dpi'] = 80"
   ]
  },
  {
   "cell_type": "code",
   "execution_count": null,
   "id": "846ea189-f354-4e10-8008-b4c22ff86c7d",
   "metadata": {},
   "outputs": [],
   "source": [
    "import jwst\n",
    "print(jwst.__version__)"
   ]
  },
  {
   "cell_type": "code",
   "execution_count": null,
   "id": "caedc859-a5c1-4619-9563-b0eb7dc9d1f1",
   "metadata": {},
   "outputs": [],
   "source": [
    "PROPOSAL_ID = '1536'\n",
    "INSTRUME = 'NIRCAM'\n",
    "#DETECTOR = 'nrca2'"
   ]
  },
  {
   "cell_type": "markdown",
   "id": "7c9fbb60-ac01-423c-92e1-45bb1eec2e95",
   "metadata": {
    "tags": []
   },
   "source": [
    "# Pipeline things"
   ]
  },
  {
   "cell_type": "markdown",
   "id": "d1bb7b55-3c8d-4f80-9f7e-c2c4218ad619",
   "metadata": {},
   "source": [
    "\n",
    "\n",
    "<div class=\"alert alert-block alert-info\">\n",
    "Now we have the fits files. We will create our coronagrahic images using the JWST pipeline. Our data has the suffix <b>.rateints</b> just like we needed. \n",
    "While processing coronagraphy data, the common procedure is using the following pipeline:\n",
    "    <ul> \n",
    "        <li> calwebb_detector1 $\\rightarrow$ <strong>from jwst.pipeline import Detector1Pipeline</strong>\n",
    "        <li> calwebb_image2  $\\rightarrow$ <strong>from jwst.pipeline import Image2Pipeline</strong>\n",
    "        <li> calwebb_coron3  $\\rightarrow$ <strong>from jwst.pipeline import Coron3Pipeline</strong>\n",
    "    </ul>\n",
    "</div>"
   ]
  },
  {
   "cell_type": "markdown",
   "id": "458f36e2-871d-44b6-94df-ee192fb215a3",
   "metadata": {},
   "source": [
    "We have the outputs of the first stage. They all have the `rateints.fits` suffix. By passing them through the second pipeline we are going to end up with `calints.fits` files which is a last step before getting the coron products."
   ]
  },
  {
   "cell_type": "code",
   "execution_count": null,
   "id": "954325e5-c4e4-454f-bbe1-bf1755ebfbf7",
   "metadata": {},
   "outputs": [],
   "source": [
    "# Path containing the rateints data\n",
    "directory = f'/home/sarperyn/sarperyurtseven/ProjectFiles/dataset/{INSTRUME}/{PROPOSAL_ID}/mastDownload/JWST/'"
   ]
  },
  {
   "cell_type": "code",
   "execution_count": null,
   "id": "06114f9b-b59b-4f82-9b86-494742f6e559",
   "metadata": {},
   "outputs": [],
   "source": [
    "directory"
   ]
  },
  {
   "cell_type": "markdown",
   "id": "233b2794-ddf6-4173-99d2-e9695d4c2f40",
   "metadata": {},
   "source": [
    "### Stage2"
   ]
  },
  {
   "cell_type": "code",
   "execution_count": null,
   "id": "9a1eea0c-8e78-45ed-b230-64eb9e5a7bbe",
   "metadata": {},
   "outputs": [],
   "source": [
    "def get_exptypes(fits_):\n",
    "    \n",
    "    for file in range(len(fits_)):\n",
    "        \n",
    "        f = fits.open(fits_[file])\n",
    "        exp_type = f[0].header['EXP_TYPE']\n",
    "        print(exp_type)"
   ]
  },
  {
   "cell_type": "code",
   "execution_count": null,
   "id": "de506def-dae9-465c-826a-58e9bba2db8a",
   "metadata": {},
   "outputs": [],
   "source": [
    "def runimg2(filename, output_dir):\n",
    "    \n",
    "    img2 = Image2Pipeline()\n",
    "    img2.output_dir = output_dir\n",
    "    img2.save_results = True\n",
    "    img2(filename)"
   ]
  },
  {
   "cell_type": "code",
   "execution_count": null,
   "id": "b23c6ee0-e9af-471e-a2a9-8aeeb91e1724",
   "metadata": {},
   "outputs": [],
   "source": [
    "def delete_files(files):\n",
    "    for file in files:\n",
    "\n",
    "        if os.path.isfile(file):\n",
    "            os.remove(file)\n",
    "            print(\"File has been deleted\")\n",
    "        else:\n",
    "            print(\"File does not exist\")"
   ]
  },
  {
   "cell_type": "code",
   "execution_count": null,
   "id": "b99c9b39-bc76-4733-a4a5-d89995f8094d",
   "metadata": {},
   "outputs": [],
   "source": [
    "rateints_files = glob(os.path.join(directory, '**/*nrca2_rateints.fits'))"
   ]
  },
  {
   "cell_type": "code",
   "execution_count": null,
   "id": "63120766-541d-4679-b0e3-62a0c7b35199",
   "metadata": {},
   "outputs": [],
   "source": [
    "batch_size = 4"
   ]
  },
  {
   "cell_type": "code",
   "execution_count": null,
   "id": "7d62918b-d671-4bb0-b632-5108e8ce6545",
   "metadata": {
    "tags": []
   },
   "outputs": [],
   "source": [
    "for i in range(0,len(rateints_files),batch_size):\n",
    "    \n",
    "    for f in rateints_files[i:i+batch_size]:\n",
    "        \n",
    "        \n",
    "        output_dir = '/'.join(f.split('/')[:-1]) + '/' \n",
    "        runimg2(f,output_dir)\n",
    "    time.sleep(1)"
   ]
  },
  {
   "cell_type": "code",
   "execution_count": null,
   "id": "4d5dd07a-35bc-4f97-b713-f9d092d4922f",
   "metadata": {},
   "outputs": [],
   "source": [
    "calints_data = glob(os.path.join(directory, '**/*nrcalong_calints.fits'))"
   ]
  },
  {
   "cell_type": "code",
   "execution_count": null,
   "id": "9fb38042-fed1-418b-954c-077f4757121e",
   "metadata": {},
   "outputs": [],
   "source": [
    "calints1 = fits.open(calints_data[0])\n",
    "calints1.info()"
   ]
  },
  {
   "cell_type": "markdown",
   "id": "fcc51e3b-c72d-49f3-ab9b-545c912a75f7",
   "metadata": {},
   "source": [
    "### Stage 3"
   ]
  },
  {
   "cell_type": "markdown",
   "id": "0f22588c-eed2-4ecb-b014-3a83f70091b4",
   "metadata": {},
   "source": [
    "The stage 3 is kinda different than the other steps. To run this step we need an association (ASN) file. Thus, we need some functions to create ASN files."
   ]
  },
  {
   "cell_type": "code",
   "execution_count": null,
   "id": "75010e26-b704-4a2e-95ab-92c112361a26",
   "metadata": {},
   "outputs": [],
   "source": [
    "len(calints_data)"
   ]
  },
  {
   "cell_type": "code",
   "execution_count": null,
   "id": "518406b1-e272-47c7-a709-ae9d7fa51008",
   "metadata": {},
   "outputs": [],
   "source": [
    "from jwst.associations.mkpool import mkpool\n",
    "from jwst.associations.lib.rules_level3 import Asn_Lv3Coron\n",
    "from jwst.associations import AssociationPool, AssociationRegistry\n",
    "from jwst.associations.mkpool import from_cmdline, mkpool\n",
    "from jwst.associations import generate\n",
    "from astropy.table import Table"
   ]
  },
  {
   "cell_type": "code",
   "execution_count": null,
   "id": "4e01ca31-1313-41e6-96f3-e844f0d89bb9",
   "metadata": {
    "tags": []
   },
   "outputs": [],
   "source": [
    "pool = mkpool(calints_data)"
   ]
  },
  {
   "cell_type": "code",
   "execution_count": null,
   "id": "f13a49b4-30a0-4f51-a9e4-36937cf4fc80",
   "metadata": {},
   "outputs": [],
   "source": [
    "pool_df = pool.to_pandas()\n",
    "pool_df.to_csv(f'calints_{INSTRUME}_{PROPOSAL_ID}_pool.csv',index=False)"
   ]
  },
  {
   "cell_type": "code",
   "execution_count": null,
   "id": "9991911a-8619-4475-9a93-c04cce270cab",
   "metadata": {},
   "outputs": [],
   "source": [
    "def t_path(partial_path):\n",
    "    __file__ = '/home/sarperyn/sarperyurtseven/ProjectFiles/notebooks/asn_coron_rule.py'\n",
    "    test_dir = os.path.dirname(__file__)\n",
    "    return os.path.join(test_dir, partial_path)"
   ]
  },
  {
   "cell_type": "code",
   "execution_count": null,
   "id": "b5d7ec2b-2365-4799-aeaa-64b8f91c9c1b",
   "metadata": {
    "tags": []
   },
   "outputs": [],
   "source": [
    "registry = AssociationRegistry([t_path('asn_coron_rule.py')],\n",
    "                              include_default=False)"
   ]
  },
  {
   "cell_type": "code",
   "execution_count": null,
   "id": "9ee06e1a-69dd-40a6-aed9-ba2bc4c58f50",
   "metadata": {
    "tags": []
   },
   "outputs": [],
   "source": [
    "asns = generate(pool,registry)"
   ]
  },
  {
   "cell_type": "code",
   "execution_count": null,
   "id": "04ea4e41-02c0-460e-bf2b-9263d6f3d32d",
   "metadata": {},
   "outputs": [],
   "source": [
    "len(asns)"
   ]
  },
  {
   "cell_type": "code",
   "execution_count": null,
   "id": "e0917607-7538-4832-8426-f6c1e0b4b969",
   "metadata": {
    "tags": []
   },
   "outputs": [],
   "source": [
    "asns"
   ]
  },
  {
   "cell_type": "code",
   "execution_count": null,
   "id": "7e3f1b10-b36e-4f54-bfb6-80b86dfaec91",
   "metadata": {
    "tags": []
   },
   "outputs": [],
   "source": [
    "class FileEncoder(JSONEncoder):\n",
    "        def default(self, o):\n",
    "            return o.__dict__"
   ]
  },
  {
   "cell_type": "code",
   "execution_count": null,
   "id": "1dcbb210-32fd-4e7f-ab7e-3582d4081f92",
   "metadata": {},
   "outputs": [],
   "source": [
    "def get_asns(asns):\n",
    "    \n",
    "    asn_list = []\n",
    "    for idx,asn in enumerate(asns):\n",
    "        asn_dict = {}\n",
    "        \n",
    "        for i,j in zip(asn.keys(),asn.values()):\n",
    "            asn_dict[i] = j\n",
    "            \n",
    "        asn_list.append(asn_dict)\n",
    "        \n",
    "        \n",
    "        # I couldn't figure out how to serialize the abc.AsnCoron_Lv3 object and save it as a json file\n",
    "        # For a temporary solution we will have a list that contains asn files as dictionaries\n",
    "        # In this way, we can easily run the pipeline\n",
    "        '''\n",
    "        FileEncoder().encode(asn_dict)\n",
    "        with open(f'asnfile_{idx}.json','w') as output:\n",
    "            encodedJSON = json.dump(asn_dict,output,indent=4,cls=FileEncoder)\n",
    "        '''\n",
    "        \n",
    "    return asn_list\n",
    "            "
   ]
  },
  {
   "cell_type": "code",
   "execution_count": null,
   "id": "adb27f91-e9d7-4ebc-84e9-4e58422dfb1d",
   "metadata": {
    "tags": []
   },
   "outputs": [],
   "source": [
    "def runcoron(filename, output_dir):\n",
    "\n",
    "    coron = MyCoron3Pipeline()\n",
    "    coron.output_dir = output_dir\n",
    "    coron.save_results = True\n",
    "    coron.process(filename)"
   ]
  },
  {
   "cell_type": "code",
   "execution_count": null,
   "id": "8fa66e46-4d51-48e8-8216-deab30373f8d",
   "metadata": {},
   "outputs": [],
   "source": [
    "def get_stage3_products(asns,directory):\n",
    "    \n",
    "    for t in range(len(asns)):\n",
    "\n",
    "        asn_dict = {}\n",
    "        for i,j in zip(asns[t].keys(),asns[t].values()):\n",
    "            asn_dict[i] = j\n",
    "            \n",
    "        runcoron(asn_dict,directory)\n",
    "        \n",
    "        "
   ]
  },
  {
   "cell_type": "code",
   "execution_count": null,
   "id": "b1687e49-095a-4db6-b1ad-dab12018b54d",
   "metadata": {},
   "outputs": [],
   "source": [
    "print(len(asns[0]['products'][0]['members']))\n",
    "print(len(asns[1]['products'][0]['members']))\n",
    "#print(len(asns[2]['products'][0]['members']))"
   ]
  },
  {
   "cell_type": "code",
   "execution_count": null,
   "id": "4738e120-9fbb-4d30-8426-a5e8a27d9e6b",
   "metadata": {
    "tags": []
   },
   "outputs": [],
   "source": [
    "get_stage3_products(asns,directory)"
   ]
  },
  {
   "cell_type": "code",
   "execution_count": null,
   "id": "aa7c96ff-47e6-4279-a145-1aae93cd4915",
   "metadata": {},
   "outputs": [],
   "source": []
  }
 ],
 "metadata": {
  "kernelspec": {
   "display_name": "Python 3 (ipykernel)",
   "language": "python",
   "name": "python3"
  },
  "language_info": {
   "codemirror_mode": {
    "name": "ipython",
    "version": 3
   },
   "file_extension": ".py",
   "mimetype": "text/x-python",
   "name": "python",
   "nbconvert_exporter": "python",
   "pygments_lexer": "ipython3",
   "version": "3.10.8"
  }
 },
 "nbformat": 4,
 "nbformat_minor": 5
}

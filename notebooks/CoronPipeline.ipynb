{
 "cells": [
  {
   "cell_type": "code",
   "execution_count": 9,
   "id": "f41bffcc-a851-4b4e-b56e-7011abda853d",
   "metadata": {
    "scrolled": true
   },
   "outputs": [],
   "source": [
    "import os\n",
    "from jwst.pipeline import Detector1Pipeline, Image2Pipeline, Coron3Pipeline\n",
    "import jwst.associations\n",
    "from jwst.associations.lib.rules_level3_base import DMS_Level3_Base\n",
    "from glob import glob\n",
    "import astropy.io.fits as fits\n",
    "import numpy as np\n",
    "import time\n",
    "import pandas as pd\n",
    "import json\n",
    "import pickle\n",
    "from json import JSONEncoder\n",
    "from collections import defaultdict\n",
    "from CoronPipeline import MyCoron3Pipeline"
   ]
  },
  {
   "cell_type": "code",
   "execution_count": 10,
   "id": "4be9f523-4d7b-4ab3-a457-7cc2fe342789",
   "metadata": {},
   "outputs": [],
   "source": [
    "os.environ[\"CRDS_PATH\"] = '/home/bariskurtkaya/crds_cache/jwst_ops'\n",
    "os.environ[\"CRDS_SERVER_URL\"] = 'https://jwst-crds.stsci.edu'"
   ]
  },
  {
   "cell_type": "code",
   "execution_count": 11,
   "id": "0f6de925-3ebe-4638-a081-c1053fc04115",
   "metadata": {},
   "outputs": [],
   "source": [
    "import matplotlib.pyplot as plt\n",
    "from matplotlib import rcParams\n",
    "\n",
    "%matplotlib inline\n",
    "\n",
    "# figure sizes and resolutions\n",
    "rcParams['figure.figsize'] = [20,15]\n",
    "rcParams['figure.dpi'] = 80\n",
    "rcParams['savefig.dpi'] = 80"
   ]
  },
  {
   "cell_type": "code",
   "execution_count": 12,
   "id": "846ea189-f354-4e10-8008-b4c22ff86c7d",
   "metadata": {},
   "outputs": [
    {
     "name": "stdout",
     "output_type": "stream",
     "text": [
      "1.10.2\n"
     ]
    }
   ],
   "source": [
    "import jwst\n",
    "print(jwst.__version__)"
   ]
  },
  {
   "cell_type": "code",
   "execution_count": 13,
   "id": "caedc859-a5c1-4619-9563-b0eb7dc9d1f1",
   "metadata": {},
   "outputs": [],
   "source": [
    "PROPOSAL_ID = '1386'\n",
    "INSTRUME = 'NIRCAM'\n",
    "#DETECTOR = 'nrca2'"
   ]
  },
  {
   "cell_type": "code",
   "execution_count": 14,
   "id": "8ae6ee68-ccc6-4d21-ae9e-596198128e5f",
   "metadata": {},
   "outputs": [],
   "source": [
    "import os\n",
    "from jwst.pipeline import Detector1Pipeline, Image2Pipeline, Coron3Pipeline\n",
    "import jwst.associations\n",
    "from jwst.associations.lib.rules_level3_base import DMS_Level3_Base\n",
    "from glob import glob\n",
    "import astropy.io.fits as fits\n",
    "import numpy as np\n",
    "import time\n",
    "import pandas as pd\n",
    "import json\n",
    "import pickle\n",
    "from json import JSONEncoder\n",
    "from collections import defaultdict\n",
    "from CoronPipeline import MyCoron3Pipeline\n",
    "from jwst.associations.mkpool import mkpool\n",
    "from jwst.associations.lib.rules_level3 import Asn_Lv3Coron\n",
    "from jwst.associations import AssociationPool, AssociationRegistry\n",
    "from jwst.associations.mkpool import from_cmdline, mkpool\n",
    "from jwst.associations import generate\n",
    "from astropy.table import Table"
   ]
  },
  {
   "cell_type": "code",
   "execution_count": 15,
   "id": "aeaea5cb-6f79-4ce7-ba63-47d7bee1768e",
   "metadata": {},
   "outputs": [],
   "source": [
    "def get_exptypes(fits_):\n",
    "    \n",
    "    for file in range(len(fits_)):\n",
    "        \n",
    "        f = fits.open(fits_[file])\n",
    "        exp_type = f[0].header['EXP_TYPE']\n",
    "        print(exp_type)\n",
    "        \n",
    "def runimg2(filename, output_dir):\n",
    "    \n",
    "    img2 = Image2Pipeline()\n",
    "    img2.output_dir = output_dir\n",
    "    img2.save_results = True\n",
    "    img2(filename)\n",
    "\n",
    "def t_path(partial_path):\n",
    "    __file__ = '/home/sarperyn/sarperyurtseven/ProjectFiles/notebooks/asn_coron_rule.py'\n",
    "    test_dir = os.path.dirname(__file__)\n",
    "    return os.path.join(test_dir, partial_path)\n",
    "\n",
    "\n",
    "def runcoron(filename, output_dir):\n",
    "\n",
    "    coron = MyCoron3Pipeline()\n",
    "    coron.output_dir = output_dir\n",
    "    coron.save_results = True\n",
    "    coron.process(filename)\n",
    "\n",
    "def get_stage3_products(asns,directory):\n",
    "    \n",
    "    for t in range(len(asns)):\n",
    "\n",
    "        asn_dict = {}\n",
    "        for i,j in zip(asns[t].keys(),asns[t].values()):\n",
    "            asn_dict[i] = j\n",
    "            \n",
    "        runcoron(asn_dict,directory)\n",
    "        "
   ]
  },
  {
   "cell_type": "code",
   "execution_count": 16,
   "id": "9ef616c2-51cb-41c9-bdd3-050e0c22d9f6",
   "metadata": {},
   "outputs": [],
   "source": [
    "def process_products(programs):\n",
    "\n",
    "    for program in programs:\n",
    "        \n",
    "        directory = f'/data/scratch/bariskurtkaya/dataset/{INSTRUME}/{program}/mastDownload/JWST/'\n",
    "        rateints_files = glob(os.path.join(directory, '*/*rateints.fits'))\n",
    "        batch_size = 4\n",
    "        for i in range(0,len(rateints_files),batch_size):\n",
    "        \n",
    "            for f in rateints_files[i:i+batch_size]:\n",
    "                \n",
    "                output_dir = '/'.join(f.split('/')[:-1]) + '/' \n",
    "                runimg2(f,output_dir)\n",
    "            time.sleep(1)\n",
    "    \n",
    "        calints_data = glob(os.path.join(directory, '**/**calints.fits'))\n",
    "    \n",
    "        pool = mkpool(calints_data)\n",
    "        pool_df = pool.to_pandas()\n",
    "        pool_df.to_csv(f'calints_{INSTRUME}_{program}_pool.csv',index=False)\n",
    "    \n",
    "        registry = AssociationRegistry([t_path('rule_level3.py')], include_default=False)\n",
    "        asns = generate(pool,registry)\n",
    "    \n",
    "        get_stage3_products(asns,directory)"
   ]
  },
  {
   "cell_type": "code",
   "execution_count": 17,
   "id": "c1c65e13-78b5-4834-96c2-d79b78f5532a",
   "metadata": {},
   "outputs": [
    {
     "name": "stderr",
     "output_type": "stream",
     "text": [
      "2023-07-12 04:32:46,138 - stpipe.Image2Pipeline - INFO - Image2Pipeline instance created.\n",
      "2023-07-12 04:32:46,141 - stpipe.Image2Pipeline.bkg_subtract - INFO - BackgroundStep instance created.\n",
      "2023-07-12 04:32:46,145 - stpipe.Image2Pipeline.assign_wcs - INFO - AssignWcsStep instance created.\n",
      "2023-07-12 04:32:46,147 - stpipe.Image2Pipeline.flat_field - INFO - FlatFieldStep instance created.\n",
      "2023-07-12 04:32:46,150 - stpipe.Image2Pipeline.photom - INFO - PhotomStep instance created.\n",
      "2023-07-12 04:32:46,153 - stpipe.Image2Pipeline.resample - INFO - ResampleStep instance created.\n",
      "2023-07-12 04:32:46,284 - stpipe.Image2Pipeline - INFO - Step Image2Pipeline running with args ('/data/scratch/bariskurtkaya/dataset/NIRCAM/1441/mastDownload/JWST/jw01441009001_03106_00004_nrcalong/jw01441009001_03106_00004_nrcalong_rateints.fits',).\n",
      "2023-07-12 04:32:46,289 - stpipe.Image2Pipeline - INFO - Step Image2Pipeline parameters are: {'pre_hooks': [], 'post_hooks': [], 'output_file': None, 'output_dir': '/data/scratch/bariskurtkaya/dataset/NIRCAM/1441/mastDownload/JWST/jw01441009001_03106_00004_nrcalong/', 'output_ext': '.fits', 'output_use_model': False, 'output_use_index': True, 'save_results': True, 'skip': False, 'suffix': None, 'search_output_file': True, 'input_dir': '', 'save_bsub': False, 'steps': {'bkg_subtract': {'pre_hooks': [], 'post_hooks': [], 'output_file': None, 'output_dir': None, 'output_ext': '.fits', 'output_use_model': False, 'output_use_index': True, 'save_results': False, 'skip': False, 'suffix': None, 'search_output_file': True, 'input_dir': '', 'save_combined_background': False, 'sigma': 3.0, 'maxiters': None, 'wfss_mmag_extract': None}, 'assign_wcs': {'pre_hooks': [], 'post_hooks': [], 'output_file': None, 'output_dir': None, 'output_ext': '.fits', 'output_use_model': False, 'output_use_index': True, 'save_results': False, 'skip': False, 'suffix': None, 'search_output_file': True, 'input_dir': '', 'sip_approx': True, 'sip_max_pix_error': 0.1, 'sip_degree': None, 'sip_max_inv_pix_error': 0.1, 'sip_inv_degree': None, 'sip_npoints': 12, 'slit_y_low': -0.55, 'slit_y_high': 0.55}, 'flat_field': {'pre_hooks': [], 'post_hooks': [], 'output_file': None, 'output_dir': None, 'output_ext': '.fits', 'output_use_model': False, 'output_use_index': True, 'save_results': False, 'skip': False, 'suffix': None, 'search_output_file': True, 'input_dir': '', 'save_interpolated_flat': False, 'user_supplied_flat': None, 'inverse': False}, 'photom': {'pre_hooks': [], 'post_hooks': [], 'output_file': None, 'output_dir': None, 'output_ext': '.fits', 'output_use_model': False, 'output_use_index': True, 'save_results': False, 'skip': False, 'suffix': None, 'search_output_file': True, 'input_dir': '', 'inverse': False, 'source_type': None}, 'resample': {'pre_hooks': [], 'post_hooks': [], 'output_file': None, 'output_dir': None, 'output_ext': '.fits', 'output_use_model': False, 'output_use_index': True, 'save_results': False, 'skip': False, 'suffix': None, 'search_output_file': True, 'input_dir': '', 'pixfrac': 1.0, 'kernel': 'square', 'fillval': 'INDEF', 'weight_type': 'ivm', 'output_shape': None, 'crpix': None, 'crval': None, 'rotation': None, 'pixel_scale_ratio': 1.0, 'pixel_scale': None, 'output_wcs': '', 'single': False, 'blendheaders': True, 'allowed_memory': None, 'in_memory': True}}}\n",
      "2023-07-12 04:32:47,257 - stpipe.Image2Pipeline - INFO - Prefetching reference files for dataset: 'jw01441009001_03106_00004_nrcalong_rateints.fits' reftypes = ['area', 'camera', 'collimator', 'dflat', 'disperser', 'distortion', 'drizpars', 'fflat', 'filteroffset', 'flat', 'fore', 'fpa', 'ifufore', 'ifupost', 'ifuslicer', 'msa', 'ote', 'photom', 'regions', 'sflat', 'specwcs', 'wavelengthrange', 'wfssbkg']\n",
      "2023-07-12 04:32:47,586 - CRDS - INFO -  Fetching  /home/bariskurtkaya/crds_cache/jwst_ops/mappings/jwst/jwst_system_calver_0033.rmap    4.1 K bytes  (1 / 41 files) (0 / 273.2 K bytes)\n",
      "Traceback (most recent call last):\n",
      "  File \"/home/sarperyn/.conda/envs/jwst-dev/lib/python3.9/site-packages/crds/core/heavy_client.py\", line 353, in local_bestrefs\n",
      "    return hv_best_references(context, parameters, reftypes)\n",
      "  File \"/home/sarperyn/.conda/envs/jwst-dev/lib/python3.9/site-packages/crds/core/heavy_client.py\", line 373, in hv_best_references\n",
      "    ctx = get_symbolic_mapping(context_file, cached=True)\n",
      "  File \"/home/sarperyn/.conda/envs/jwst-dev/lib/python3.9/site-packages/crds/core/heavy_client.py\", line 676, in get_symbolic_mapping\n",
      "    return get_pickled_mapping(   # reviewed\n",
      "  File \"/home/sarperyn/.conda/envs/jwst-dev/lib/python3.9/site-packages/crds/core/utils.py\", line 306, in __call__\n",
      "    key, result = self._readonly(*args, **keys)\n",
      "  File \"/home/sarperyn/.conda/envs/jwst-dev/lib/python3.9/site-packages/crds/core/utils.py\", line 293, in _readonly\n",
      "    return key, self.uncached(*args, **keys)\n",
      "  File \"/home/sarperyn/.conda/envs/jwst-dev/lib/python3.9/site-packages/crds/core/heavy_client.py\", line 701, in get_pickled_mapping\n",
      "    loaded = rmap.asmapping(mapping, cached=cached, **keys)\n",
      "  File \"/home/sarperyn/.conda/envs/jwst-dev/lib/python3.9/site-packages/crds/core/rmap.py\", line 1684, in asmapping\n",
      "    return get_cached_mapping(filename_or_mapping, **keys)\n",
      "  File \"/home/sarperyn/.conda/envs/jwst-dev/lib/python3.9/site-packages/crds/core/rmap.py\", line 1611, in get_cached_mapping\n",
      "    return _load_mapping(mapping, **keys)\n",
      "  File \"/home/sarperyn/.conda/envs/jwst-dev/lib/python3.9/site-packages/crds/core/utils.py\", line 306, in __call__\n",
      "    key, result = self._readonly(*args, **keys)\n",
      "  File \"/home/sarperyn/.conda/envs/jwst-dev/lib/python3.9/site-packages/crds/core/utils.py\", line 293, in _readonly\n",
      "    return key, self.uncached(*args, **keys)\n",
      "  File \"/home/sarperyn/.conda/envs/jwst-dev/lib/python3.9/site-packages/crds/core/rmap.py\", line 1662, in _load_mapping\n",
      "    return cls.from_file(mapping, **keys)\n",
      "  File \"/home/sarperyn/.conda/envs/jwst-dev/lib/python3.9/site-packages/crds/core/rmap.py\", line 266, in from_file\n",
      "    text = utils.get_uri_content(filename)\n",
      "  File \"/home/sarperyn/.conda/envs/jwst-dev/lib/python3.9/site-packages/crds/core/utils.py\", line 737, in get_uri_content\n",
      "    with open(uri, mode) as file:\n",
      "FileNotFoundError: [Errno 2] No such file or directory: '/home/bariskurtkaya/crds_cache/jwst_ops/mappings/jwst/jwst_1097.pmap'\n",
      "\n",
      "During handling of the above exception, another exception occurred:\n",
      "\n",
      "Traceback (most recent call last):\n",
      "  File \"/home/sarperyn/.conda/envs/jwst-dev/lib/python3.9/site-packages/crds/client/api.py\", line 653, in download\n",
      "    return proxy.apply_with_retries(self.download_core, name, localpath)\n",
      "  File \"/home/sarperyn/.conda/envs/jwst-dev/lib/python3.9/site-packages/crds/client/proxy.py\", line 50, in apply_with_retries\n",
      "    raise exc2\n",
      "  File \"/home/sarperyn/.conda/envs/jwst-dev/lib/python3.9/site-packages/crds/client/proxy.py\", line 44, in apply_with_retries\n",
      "    return func(*pars, **keys)\n",
      "  File \"/home/sarperyn/.conda/envs/jwst-dev/lib/python3.9/site-packages/crds/client/api.py\", line 679, in download_core\n",
      "    self.generator_download(generator, localpath)\n",
      "  File \"/home/sarperyn/.conda/envs/jwst-dev/lib/python3.9/site-packages/crds/client/api.py\", line 684, in generator_download\n",
      "    with open(localpath, \"wb+\") as outfile:\n",
      "PermissionError: [Errno 13] Permission denied: '/home/bariskurtkaya/crds_cache/jwst_ops/mappings/jwst/jwst_system_calver_0033.rmap'\n",
      "\n",
      "The above exception was the direct cause of the following exception:\n",
      "\n",
      "Traceback (most recent call last):\n",
      "  File \"/home/sarperyn/.conda/envs/jwst-dev/lib/python3.9/site-packages/crds/core/heavy_client.py\", line 357, in local_bestrefs\n",
      "    api.dump_mappings(context, ignore_cache=ignore_cache)\n",
      "  File \"/home/sarperyn/.conda/envs/jwst-dev/lib/python3.9/site-packages/crds/client/api.py\", line 778, in dump_mappings\n",
      "    return dump_mappings3(*args, **keys)[0]\n",
      "  File \"/home/sarperyn/.conda/envs/jwst-dev/lib/python3.9/site-packages/crds/client/api.py\", line 771, in dump_mappings3\n",
      "    return FileCacher(pipeline_context, ignore_cache, raise_exceptions).get_local_files(mappings)\n",
      "  File \"/home/sarperyn/.conda/envs/jwst-dev/lib/python3.9/site-packages/crds/client/api.py\", line 594, in get_local_files\n",
      "    n_bytes = self.download_files(downloads, localpaths)\n",
      "  File \"/home/sarperyn/.conda/envs/jwst-dev/lib/python3.9/site-packages/crds/client/api.py\", line 634, in download_files\n",
      "    self.download(name, path)\n",
      "  File \"/home/sarperyn/.conda/envs/jwst-dev/lib/python3.9/site-packages/crds/client/api.py\", line 656, in download\n",
      "    raise CrdsDownloadError(\n",
      "crds.core.exceptions.CrdsDownloadError: Error fetching data for 'jwst_system_calver_0033.rmap' at CRDS server 'https://jwst-crds.stsci.edu' with mode 'http' : [Errno 13] Permission denied: '/home/bariskurtkaya/crds_cache/jwst_ops/mappings/jwst/jwst_system_calver_0033.rmap'\n"
     ]
    },
    {
     "ename": "CrdsDownloadError",
     "evalue": "Failed caching mapping files: Error fetching data for 'jwst_system_calver_0033.rmap' at CRDS server 'https://jwst-crds.stsci.edu' with mode 'http' : [Errno 13] Permission denied: '/home/bariskurtkaya/crds_cache/jwst_ops/mappings/jwst/jwst_system_calver_0033.rmap'",
     "output_type": "error",
     "traceback": [
      "\u001b[0;31m---------------------------------------------------------------------------\u001b[0m",
      "\u001b[0;31mFileNotFoundError\u001b[0m                         Traceback (most recent call last)",
      "File \u001b[0;32m~/.conda/envs/jwst-dev/lib/python3.9/site-packages/crds/core/heavy_client.py:353\u001b[0m, in \u001b[0;36mlocal_bestrefs\u001b[0;34m(parameters, reftypes, context, ignore_cache)\u001b[0m\n\u001b[1;32m    352\u001b[0m     \u001b[39m# Finally do the best refs computation using pmap methods from local code.\u001b[39;00m\n\u001b[0;32m--> 353\u001b[0m     \u001b[39mreturn\u001b[39;00m hv_best_references(context, parameters, reftypes)\n\u001b[1;32m    354\u001b[0m \u001b[39mexcept\u001b[39;00m \u001b[39mIOError\u001b[39;00m \u001b[39mas\u001b[39;00m exc:\n",
      "File \u001b[0;32m~/.conda/envs/jwst-dev/lib/python3.9/site-packages/crds/core/heavy_client.py:373\u001b[0m, in \u001b[0;36mhv_best_references\u001b[0;34m(context_file, header, include, condition)\u001b[0m\n\u001b[1;32m    367\u001b[0m \u001b[39m\u001b[39m\u001b[39m\"\"\"Compute the best references for `header` for the given CRDS\u001b[39;00m\n\u001b[1;32m    368\u001b[0m \u001b[39m`context_file`.   This is a local computation using local rmaps and\u001b[39;00m\n\u001b[1;32m    369\u001b[0m \u001b[39mCPU resources.   If `include` is None,  return results for all\u001b[39;00m\n\u001b[1;32m    370\u001b[0m \u001b[39mfilekinds appropriate to `header`,  otherwise return only those\u001b[39;00m\n\u001b[1;32m    371\u001b[0m \u001b[39mfilekinds listed in `include`.\u001b[39;00m\n\u001b[1;32m    372\u001b[0m \u001b[39m\"\"\"\u001b[39;00m\n\u001b[0;32m--> 373\u001b[0m ctx \u001b[39m=\u001b[39m get_symbolic_mapping(context_file, cached\u001b[39m=\u001b[39;49m\u001b[39mTrue\u001b[39;49;00m)\n\u001b[1;32m    374\u001b[0m conditioned \u001b[39m=\u001b[39m utils\u001b[39m.\u001b[39mcondition_header(header) \u001b[39mif\u001b[39;00m condition \u001b[39melse\u001b[39;00m header\n",
      "File \u001b[0;32m~/.conda/envs/jwst-dev/lib/python3.9/site-packages/crds/core/heavy_client.py:676\u001b[0m, in \u001b[0;36mget_symbolic_mapping\u001b[0;34m(mapping, observatory, cached, use_pickles, save_pickles, **keys)\u001b[0m\n\u001b[1;32m    675\u001b[0m abs_mapping \u001b[39m=\u001b[39m translate_date_based_context(mapping, observatory)\n\u001b[0;32m--> 676\u001b[0m \u001b[39mreturn\u001b[39;00m get_pickled_mapping(   \u001b[39m# reviewed\u001b[39;49;00m\n\u001b[1;32m    677\u001b[0m     abs_mapping, cached\u001b[39m=\u001b[39;49mcached, use_pickles\u001b[39m=\u001b[39;49muse_pickles, save_pickles\u001b[39m=\u001b[39;49msave_pickles, \u001b[39m*\u001b[39;49m\u001b[39m*\u001b[39;49mkeys)\n",
      "File \u001b[0;32m~/.conda/envs/jwst-dev/lib/python3.9/site-packages/crds/core/utils.py:306\u001b[0m, in \u001b[0;36mCachedFunction.__call__\u001b[0;34m(self, *args, **keys)\u001b[0m\n\u001b[1;32m    303\u001b[0m \u001b[39m\u001b[39m\u001b[39m\"\"\"Compute or fetch func(*args, **keys).  Add the result to the cache.\u001b[39;00m\n\u001b[1;32m    304\u001b[0m \u001b[39mreturn func(*args, **keys)\u001b[39;00m\n\u001b[1;32m    305\u001b[0m \u001b[39m\"\"\"\u001b[39;00m\n\u001b[0;32m--> 306\u001b[0m key, result \u001b[39m=\u001b[39m \u001b[39mself\u001b[39;49m\u001b[39m.\u001b[39;49m_readonly(\u001b[39m*\u001b[39;49margs, \u001b[39m*\u001b[39;49m\u001b[39m*\u001b[39;49mkeys)\n\u001b[1;32m    307\u001b[0m \u001b[39mself\u001b[39m\u001b[39m.\u001b[39mcache[key] \u001b[39m=\u001b[39m result\n",
      "File \u001b[0;32m~/.conda/envs/jwst-dev/lib/python3.9/site-packages/crds/core/utils.py:293\u001b[0m, in \u001b[0;36mCachedFunction._readonly\u001b[0;34m(self, *args, **keys)\u001b[0m\n\u001b[1;32m    292\u001b[0m log\u001b[39m.\u001b[39mverbose(\u001b[39m\"\u001b[39m\u001b[39mUncached call\u001b[39m\u001b[39m\"\u001b[39m, \u001b[39mself\u001b[39m\u001b[39m.\u001b[39muncached\u001b[39m.\u001b[39m\u001b[39m__name__\u001b[39m, \u001b[39mrepr\u001b[39m(key), verbosity\u001b[39m=\u001b[39m\u001b[39m80\u001b[39m)\n\u001b[0;32m--> 293\u001b[0m \u001b[39mreturn\u001b[39;00m key, \u001b[39mself\u001b[39;49m\u001b[39m.\u001b[39;49muncached(\u001b[39m*\u001b[39;49margs, \u001b[39m*\u001b[39;49m\u001b[39m*\u001b[39;49mkeys)\n",
      "File \u001b[0;32m~/.conda/envs/jwst-dev/lib/python3.9/site-packages/crds/core/heavy_client.py:701\u001b[0m, in \u001b[0;36mget_pickled_mapping\u001b[0;34m(mapping, cached, use_pickles, save_pickles, **keys)\u001b[0m\n\u001b[1;32m    700\u001b[0m \u001b[39melse\u001b[39;00m:\n\u001b[0;32m--> 701\u001b[0m     loaded \u001b[39m=\u001b[39m rmap\u001b[39m.\u001b[39;49masmapping(mapping, cached\u001b[39m=\u001b[39;49mcached, \u001b[39m*\u001b[39;49m\u001b[39m*\u001b[39;49mkeys)\n\u001b[1;32m    702\u001b[0m \u001b[39mreturn\u001b[39;00m loaded\n",
      "File \u001b[0;32m~/.conda/envs/jwst-dev/lib/python3.9/site-packages/crds/core/rmap.py:1684\u001b[0m, in \u001b[0;36masmapping\u001b[0;34m(filename_or_mapping, cached, **keys)\u001b[0m\n\u001b[1;32m   1683\u001b[0m \u001b[39melif\u001b[39;00m cached \u001b[39min\u001b[39;00m [\u001b[39mTrue\u001b[39;00m, \u001b[39m\"\u001b[39m\u001b[39mcached\u001b[39m\u001b[39m\"\u001b[39m]:\n\u001b[0;32m-> 1684\u001b[0m     \u001b[39mreturn\u001b[39;00m get_cached_mapping(filename_or_mapping, \u001b[39m*\u001b[39;49m\u001b[39m*\u001b[39;49mkeys)\n\u001b[1;32m   1685\u001b[0m \u001b[39melif\u001b[39;00m cached \u001b[39m==\u001b[39m \u001b[39m\"\u001b[39m\u001b[39mreadonly\u001b[39m\u001b[39m\"\u001b[39m:\n",
      "File \u001b[0;32m~/.conda/envs/jwst-dev/lib/python3.9/site-packages/crds/core/rmap.py:1611\u001b[0m, in \u001b[0;36mget_cached_mapping\u001b[0;34m(mapping, **keys)\u001b[0m\n\u001b[1;32m   1610\u001b[0m keys[\u001b[39m\"\u001b[39m\u001b[39mloader\u001b[39m\u001b[39m\"\u001b[39m] \u001b[39m=\u001b[39m get_cached_mapping\n\u001b[0;32m-> 1611\u001b[0m \u001b[39mreturn\u001b[39;00m _load_mapping(mapping, \u001b[39m*\u001b[39;49m\u001b[39m*\u001b[39;49mkeys)\n",
      "File \u001b[0;32m~/.conda/envs/jwst-dev/lib/python3.9/site-packages/crds/core/utils.py:306\u001b[0m, in \u001b[0;36mCachedFunction.__call__\u001b[0;34m(self, *args, **keys)\u001b[0m\n\u001b[1;32m    303\u001b[0m \u001b[39m\u001b[39m\u001b[39m\"\"\"Compute or fetch func(*args, **keys).  Add the result to the cache.\u001b[39;00m\n\u001b[1;32m    304\u001b[0m \u001b[39mreturn func(*args, **keys)\u001b[39;00m\n\u001b[1;32m    305\u001b[0m \u001b[39m\"\"\"\u001b[39;00m\n\u001b[0;32m--> 306\u001b[0m key, result \u001b[39m=\u001b[39m \u001b[39mself\u001b[39;49m\u001b[39m.\u001b[39;49m_readonly(\u001b[39m*\u001b[39;49margs, \u001b[39m*\u001b[39;49m\u001b[39m*\u001b[39;49mkeys)\n\u001b[1;32m    307\u001b[0m \u001b[39mself\u001b[39m\u001b[39m.\u001b[39mcache[key] \u001b[39m=\u001b[39m result\n",
      "File \u001b[0;32m~/.conda/envs/jwst-dev/lib/python3.9/site-packages/crds/core/utils.py:293\u001b[0m, in \u001b[0;36mCachedFunction._readonly\u001b[0;34m(self, *args, **keys)\u001b[0m\n\u001b[1;32m    292\u001b[0m log\u001b[39m.\u001b[39mverbose(\u001b[39m\"\u001b[39m\u001b[39mUncached call\u001b[39m\u001b[39m\"\u001b[39m, \u001b[39mself\u001b[39m\u001b[39m.\u001b[39muncached\u001b[39m.\u001b[39m\u001b[39m__name__\u001b[39m, \u001b[39mrepr\u001b[39m(key), verbosity\u001b[39m=\u001b[39m\u001b[39m80\u001b[39m)\n\u001b[0;32m--> 293\u001b[0m \u001b[39mreturn\u001b[39;00m key, \u001b[39mself\u001b[39;49m\u001b[39m.\u001b[39;49muncached(\u001b[39m*\u001b[39;49margs, \u001b[39m*\u001b[39;49m\u001b[39m*\u001b[39;49mkeys)\n",
      "File \u001b[0;32m~/.conda/envs/jwst-dev/lib/python3.9/site-packages/crds/core/rmap.py:1662\u001b[0m, in \u001b[0;36m_load_mapping\u001b[0;34m(mapping, **keys)\u001b[0m\n\u001b[1;32m   1661\u001b[0m \u001b[39melse\u001b[39;00m:\n\u001b[0;32m-> 1662\u001b[0m     \u001b[39mreturn\u001b[39;00m \u001b[39mcls\u001b[39;49m\u001b[39m.\u001b[39;49mfrom_file(mapping, \u001b[39m*\u001b[39;49m\u001b[39m*\u001b[39;49mkeys)\n",
      "File \u001b[0;32m~/.conda/envs/jwst-dev/lib/python3.9/site-packages/crds/core/rmap.py:266\u001b[0m, in \u001b[0;36mMapping.from_file\u001b[0;34m(cls, basename, *args, **keys)\u001b[0m\n\u001b[1;32m    265\u001b[0m     filename \u001b[39m=\u001b[39m config\u001b[39m.\u001b[39mlocate_mapping(basename)\n\u001b[0;32m--> 266\u001b[0m text \u001b[39m=\u001b[39m utils\u001b[39m.\u001b[39;49mget_uri_content(filename)\n\u001b[1;32m    267\u001b[0m \u001b[39mreturn\u001b[39;00m \u001b[39mcls\u001b[39m\u001b[39m.\u001b[39mfrom_string(text, basename, \u001b[39m*\u001b[39margs, \u001b[39m*\u001b[39m\u001b[39m*\u001b[39mkeys)\n",
      "File \u001b[0;32m~/.conda/envs/jwst-dev/lib/python3.9/site-packages/crds/core/utils.py:737\u001b[0m, in \u001b[0;36mget_uri_content\u001b[0;34m(uri, mode)\u001b[0m\n\u001b[1;32m    736\u001b[0m mode \u001b[39m=\u001b[39m \u001b[39m\"\u001b[39m\u001b[39mr\u001b[39m\u001b[39m\"\u001b[39m \u001b[39mif\u001b[39;00m (mode\u001b[39m==\u001b[39m\u001b[39m\"\u001b[39m\u001b[39mtext\u001b[39m\u001b[39m\"\u001b[39m) \u001b[39melse\u001b[39;00m \u001b[39m\"\u001b[39m\u001b[39mrb\u001b[39m\u001b[39m\"\u001b[39m\n\u001b[0;32m--> 737\u001b[0m \u001b[39mwith\u001b[39;00m \u001b[39mopen\u001b[39;49m(uri, mode) \u001b[39mas\u001b[39;00m file:\n\u001b[1;32m    738\u001b[0m     \u001b[39mreturn\u001b[39;00m file\u001b[39m.\u001b[39mread()\n",
      "\u001b[0;31mFileNotFoundError\u001b[0m: [Errno 2] No such file or directory: '/home/bariskurtkaya/crds_cache/jwst_ops/mappings/jwst/jwst_1097.pmap'",
      "\nDuring handling of the above exception, another exception occurred:\n",
      "\u001b[0;31mPermissionError\u001b[0m                           Traceback (most recent call last)",
      "File \u001b[0;32m~/.conda/envs/jwst-dev/lib/python3.9/site-packages/crds/client/api.py:653\u001b[0m, in \u001b[0;36mFileCacher.download\u001b[0;34m(self, name, localpath)\u001b[0m\n\u001b[1;32m    652\u001b[0m     utils\u001b[39m.\u001b[39mensure_dir_exists(localpath)\n\u001b[0;32m--> 653\u001b[0m     \u001b[39mreturn\u001b[39;00m proxy\u001b[39m.\u001b[39;49mapply_with_retries(\u001b[39mself\u001b[39;49m\u001b[39m.\u001b[39;49mdownload_core, name, localpath)\n\u001b[1;32m    654\u001b[0m \u001b[39mexcept\u001b[39;00m \u001b[39mException\u001b[39;00m \u001b[39mas\u001b[39;00m exc:\n",
      "File \u001b[0;32m~/.conda/envs/jwst-dev/lib/python3.9/site-packages/crds/client/proxy.py:50\u001b[0m, in \u001b[0;36mapply_with_retries\u001b[0;34m(func, *pars, **keys)\u001b[0m\n\u001b[1;32m     49\u001b[0m         exc2 \u001b[39m=\u001b[39m exc\n\u001b[0;32m---> 50\u001b[0m \u001b[39mraise\u001b[39;00m exc2\n",
      "File \u001b[0;32m~/.conda/envs/jwst-dev/lib/python3.9/site-packages/crds/client/proxy.py:44\u001b[0m, in \u001b[0;36mapply_with_retries\u001b[0;34m(func, *pars, **keys)\u001b[0m\n\u001b[1;32m     43\u001b[0m \u001b[39mtry\u001b[39;00m:\n\u001b[0;32m---> 44\u001b[0m     \u001b[39mreturn\u001b[39;00m func(\u001b[39m*\u001b[39;49mpars, \u001b[39m*\u001b[39;49m\u001b[39m*\u001b[39;49mkeys)\n\u001b[1;32m     45\u001b[0m \u001b[39mexcept\u001b[39;00m \u001b[39mException\u001b[39;00m \u001b[39mas\u001b[39;00m exc:\n",
      "File \u001b[0;32m~/.conda/envs/jwst-dev/lib/python3.9/site-packages/crds/client/api.py:679\u001b[0m, in \u001b[0;36mFileCacher.download_core\u001b[0;34m(self, name, localpath)\u001b[0m\n\u001b[1;32m    678\u001b[0m     generator \u001b[39m=\u001b[39m \u001b[39mself\u001b[39m\u001b[39m.\u001b[39mget_data_http(name)\n\u001b[0;32m--> 679\u001b[0m     \u001b[39mself\u001b[39;49m\u001b[39m.\u001b[39;49mgenerator_download(generator, localpath)\n\u001b[1;32m    680\u001b[0m \u001b[39mself\u001b[39m\u001b[39m.\u001b[39mverify_file(name, localpath)\n",
      "File \u001b[0;32m~/.conda/envs/jwst-dev/lib/python3.9/site-packages/crds/client/api.py:684\u001b[0m, in \u001b[0;36mFileCacher.generator_download\u001b[0;34m(self, generator, localpath)\u001b[0m\n\u001b[1;32m    683\u001b[0m \u001b[39m\u001b[39m\u001b[39m\"\"\"Read all bytes from `generator` until file is downloaded to `localpath.`\"\"\"\u001b[39;00m\n\u001b[0;32m--> 684\u001b[0m \u001b[39mwith\u001b[39;00m \u001b[39mopen\u001b[39;49m(localpath, \u001b[39m\"\u001b[39;49m\u001b[39mwb+\u001b[39;49m\u001b[39m\"\u001b[39;49m) \u001b[39mas\u001b[39;00m outfile:\n\u001b[1;32m    685\u001b[0m     \u001b[39mfor\u001b[39;00m data \u001b[39min\u001b[39;00m generator:\n",
      "\u001b[0;31mPermissionError\u001b[0m: [Errno 13] Permission denied: '/home/bariskurtkaya/crds_cache/jwst_ops/mappings/jwst/jwst_system_calver_0033.rmap'",
      "\nThe above exception was the direct cause of the following exception:\n",
      "\u001b[0;31mCrdsDownloadError\u001b[0m                         Traceback (most recent call last)",
      "File \u001b[0;32m~/.conda/envs/jwst-dev/lib/python3.9/site-packages/crds/core/heavy_client.py:357\u001b[0m, in \u001b[0;36mlocal_bestrefs\u001b[0;34m(parameters, reftypes, context, ignore_cache)\u001b[0m\n\u001b[1;32m    356\u001b[0m \u001b[39mtry\u001b[39;00m:\n\u001b[0;32m--> 357\u001b[0m     api\u001b[39m.\u001b[39;49mdump_mappings(context, ignore_cache\u001b[39m=\u001b[39;49mignore_cache)\n\u001b[1;32m    358\u001b[0m \u001b[39mexcept\u001b[39;00m CrdsError \u001b[39mas\u001b[39;00m exc:\n",
      "File \u001b[0;32m~/.conda/envs/jwst-dev/lib/python3.9/site-packages/crds/client/api.py:778\u001b[0m, in \u001b[0;36mdump_mappings\u001b[0;34m(*args, **keys)\u001b[0m\n\u001b[1;32m    774\u001b[0m \u001b[39m\u001b[39m\u001b[39m\"\"\"See dump_mappings3.\u001b[39;00m\n\u001b[1;32m    775\u001b[0m \n\u001b[1;32m    776\u001b[0m \u001b[39mReturns { mapping_basename :   mapping_local_filepath ... }\u001b[39;00m\n\u001b[1;32m    777\u001b[0m \u001b[39m\"\"\"\u001b[39;00m\n\u001b[0;32m--> 778\u001b[0m \u001b[39mreturn\u001b[39;00m dump_mappings3(\u001b[39m*\u001b[39;49margs, \u001b[39m*\u001b[39;49m\u001b[39m*\u001b[39;49mkeys)[\u001b[39m0\u001b[39m]\n",
      "File \u001b[0;32m~/.conda/envs/jwst-dev/lib/python3.9/site-packages/crds/client/api.py:771\u001b[0m, in \u001b[0;36mdump_mappings3\u001b[0;34m(pipeline_context, ignore_cache, mappings, raise_exceptions)\u001b[0m\n\u001b[1;32m    770\u001b[0m mappings \u001b[39m=\u001b[39m \u001b[39mlist\u001b[39m(\u001b[39mreversed\u001b[39m(\u001b[39msorted\u001b[39m(\u001b[39mset\u001b[39m(mappings))))\n\u001b[0;32m--> 771\u001b[0m \u001b[39mreturn\u001b[39;00m FileCacher(pipeline_context, ignore_cache, raise_exceptions)\u001b[39m.\u001b[39;49mget_local_files(mappings)\n",
      "File \u001b[0;32m~/.conda/envs/jwst-dev/lib/python3.9/site-packages/crds/client/api.py:594\u001b[0m, in \u001b[0;36mFileCacher.get_local_files\u001b[0;34m(self, names)\u001b[0m\n\u001b[1;32m    593\u001b[0m \u001b[39mif\u001b[39;00m downloads:\n\u001b[0;32m--> 594\u001b[0m     n_bytes \u001b[39m=\u001b[39m \u001b[39mself\u001b[39;49m\u001b[39m.\u001b[39;49mdownload_files(downloads, localpaths)\n\u001b[1;32m    595\u001b[0m \u001b[39melse\u001b[39;00m:\n",
      "File \u001b[0;32m~/.conda/envs/jwst-dev/lib/python3.9/site-packages/crds/client/api.py:634\u001b[0m, in \u001b[0;36mFileCacher.download_files\u001b[0;34m(self, downloads, localpaths)\u001b[0m\n\u001b[1;32m    633\u001b[0m log\u001b[39m.\u001b[39minfo(file_progress(\u001b[39m\"\u001b[39m\u001b[39mFetching\u001b[39m\u001b[39m\"\u001b[39m, name, path, \u001b[39mbytes\u001b[39m, bytes_so_far, total_bytes, nth_file, total_files))\n\u001b[0;32m--> 634\u001b[0m \u001b[39mself\u001b[39;49m\u001b[39m.\u001b[39;49mdownload(name, path)\n\u001b[1;32m    635\u001b[0m bytes_so_far \u001b[39m+\u001b[39m\u001b[39m=\u001b[39m os\u001b[39m.\u001b[39mstat(path)\u001b[39m.\u001b[39mst_size\n",
      "File \u001b[0;32m~/.conda/envs/jwst-dev/lib/python3.9/site-packages/crds/client/api.py:656\u001b[0m, in \u001b[0;36mFileCacher.download\u001b[0;34m(self, name, localpath)\u001b[0m\n\u001b[1;32m    655\u001b[0m     \u001b[39mself\u001b[39m\u001b[39m.\u001b[39mremove_file(localpath)\n\u001b[0;32m--> 656\u001b[0m     \u001b[39mraise\u001b[39;00m CrdsDownloadError(\n\u001b[1;32m    657\u001b[0m         \u001b[39m\"\u001b[39m\u001b[39mError fetching data for\u001b[39m\u001b[39m\"\u001b[39m, srepr(name),\n\u001b[1;32m    658\u001b[0m         \u001b[39m\"\u001b[39m\u001b[39mat CRDS server\u001b[39m\u001b[39m\"\u001b[39m, srepr(get_crds_server()),\n\u001b[1;32m    659\u001b[0m         \u001b[39m\"\u001b[39m\u001b[39mwith mode\u001b[39m\u001b[39m\"\u001b[39m, srepr(config\u001b[39m.\u001b[39mget_download_mode()),\n\u001b[1;32m    660\u001b[0m         \u001b[39m\"\u001b[39m\u001b[39m:\u001b[39m\u001b[39m\"\u001b[39m, \u001b[39mstr\u001b[39m(exc)) \u001b[39mfrom\u001b[39;00m \u001b[39mexc\u001b[39;00m\n\u001b[1;32m    661\u001b[0m \u001b[39mexcept\u001b[39;00m:  \u001b[39m#  mainly for control-c,  catch it and throw it.\u001b[39;00m\n",
      "\u001b[0;31mCrdsDownloadError\u001b[0m: Error fetching data for 'jwst_system_calver_0033.rmap' at CRDS server 'https://jwst-crds.stsci.edu' with mode 'http' : [Errno 13] Permission denied: '/home/bariskurtkaya/crds_cache/jwst_ops/mappings/jwst/jwst_system_calver_0033.rmap'",
      "\nThe above exception was the direct cause of the following exception:\n",
      "\u001b[0;31mCrdsDownloadError\u001b[0m                         Traceback (most recent call last)",
      "Cell \u001b[0;32mIn[17], line 2\u001b[0m\n\u001b[1;32m      1\u001b[0m programs \u001b[39m=\u001b[39m [\u001b[39m'\u001b[39m\u001b[39m1441\u001b[39m\u001b[39m'\u001b[39m]\n\u001b[0;32m----> 2\u001b[0m process_products(programs)\n",
      "Cell \u001b[0;32mIn[16], line 13\u001b[0m, in \u001b[0;36mprocess_products\u001b[0;34m(programs)\u001b[0m\n\u001b[1;32m     10\u001b[0m     \u001b[39mfor\u001b[39;00m f \u001b[39min\u001b[39;00m rateints_files[i:i\u001b[39m+\u001b[39mbatch_size]:\n\u001b[1;32m     12\u001b[0m         output_dir \u001b[39m=\u001b[39m \u001b[39m'\u001b[39m\u001b[39m/\u001b[39m\u001b[39m'\u001b[39m\u001b[39m.\u001b[39mjoin(f\u001b[39m.\u001b[39msplit(\u001b[39m'\u001b[39m\u001b[39m/\u001b[39m\u001b[39m'\u001b[39m)[:\u001b[39m-\u001b[39m\u001b[39m1\u001b[39m]) \u001b[39m+\u001b[39m \u001b[39m'\u001b[39m\u001b[39m/\u001b[39m\u001b[39m'\u001b[39m \n\u001b[0;32m---> 13\u001b[0m         runimg2(f,output_dir)\n\u001b[1;32m     14\u001b[0m     time\u001b[39m.\u001b[39msleep(\u001b[39m1\u001b[39m)\n\u001b[1;32m     16\u001b[0m calints_data \u001b[39m=\u001b[39m glob(os\u001b[39m.\u001b[39mpath\u001b[39m.\u001b[39mjoin(directory, \u001b[39m'\u001b[39m\u001b[39m**/**calints.fits\u001b[39m\u001b[39m'\u001b[39m))\n",
      "Cell \u001b[0;32mIn[15], line 14\u001b[0m, in \u001b[0;36mrunimg2\u001b[0;34m(filename, output_dir)\u001b[0m\n\u001b[1;32m     12\u001b[0m img2\u001b[39m.\u001b[39moutput_dir \u001b[39m=\u001b[39m output_dir\n\u001b[1;32m     13\u001b[0m img2\u001b[39m.\u001b[39msave_results \u001b[39m=\u001b[39m \u001b[39mTrue\u001b[39;00m\n\u001b[0;32m---> 14\u001b[0m img2(filename)\n",
      "File \u001b[0;32m~/.conda/envs/jwst-dev/lib/python3.9/site-packages/stpipe/step.py:452\u001b[0m, in \u001b[0;36mStep.run\u001b[0;34m(self, *args)\u001b[0m\n\u001b[1;32m    450\u001b[0m \u001b[39melse\u001b[39;00m:\n\u001b[1;32m    451\u001b[0m     \u001b[39mif\u001b[39;00m \u001b[39mself\u001b[39m\u001b[39m.\u001b[39mprefetch_references:\n\u001b[0;32m--> 452\u001b[0m         \u001b[39mself\u001b[39;49m\u001b[39m.\u001b[39;49mprefetch(\u001b[39m*\u001b[39;49margs)\n\u001b[1;32m    453\u001b[0m     \u001b[39mtry\u001b[39;00m:\n\u001b[1;32m    454\u001b[0m         step_result \u001b[39m=\u001b[39m \u001b[39mself\u001b[39m\u001b[39m.\u001b[39mprocess(\u001b[39m*\u001b[39margs)\n",
      "File \u001b[0;32m~/.conda/envs/jwst-dev/lib/python3.9/site-packages/stpipe/step.py:569\u001b[0m, in \u001b[0;36mStep.prefetch\u001b[0;34m(self, *args)\u001b[0m\n\u001b[1;32m    567\u001b[0m \u001b[39m# prefetch truly occurs at the Pipeline (or subclass) level.\u001b[39;00m\n\u001b[1;32m    568\u001b[0m \u001b[39mif\u001b[39;00m \u001b[39mlen\u001b[39m(args) \u001b[39mand\u001b[39;00m \u001b[39mlen\u001b[39m(\u001b[39mself\u001b[39m\u001b[39m.\u001b[39mreference_file_types) \u001b[39mand\u001b[39;00m \u001b[39mnot\u001b[39;00m \u001b[39mself\u001b[39m\u001b[39m.\u001b[39mskip:\n\u001b[0;32m--> 569\u001b[0m     \u001b[39mself\u001b[39;49m\u001b[39m.\u001b[39;49m_precache_references(args[\u001b[39m0\u001b[39;49m])\n",
      "File \u001b[0;32m~/.conda/envs/jwst-dev/lib/python3.9/site-packages/stpipe/pipeline.py:248\u001b[0m, in \u001b[0;36mPipeline._precache_references\u001b[0;34m(self, input_file)\u001b[0m\n\u001b[1;32m    245\u001b[0m \u001b[39mtry\u001b[39;00m:\n\u001b[1;32m    246\u001b[0m     \u001b[39mwith\u001b[39;00m \u001b[39mself\u001b[39m\u001b[39m.\u001b[39mopen_model(input_file, asn_n_members\u001b[39m=\u001b[39m\u001b[39m1\u001b[39m,\n\u001b[1;32m    247\u001b[0m                         asn_exptypes\u001b[39m=\u001b[39m[\u001b[39m\"\u001b[39m\u001b[39mscience\u001b[39m\u001b[39m\"\u001b[39m]) \u001b[39mas\u001b[39;00m model:\n\u001b[0;32m--> 248\u001b[0m         \u001b[39mself\u001b[39;49m\u001b[39m.\u001b[39;49m_precache_references_opened(model)\n\u001b[1;32m    249\u001b[0m \u001b[39mexcept\u001b[39;00m (\u001b[39mValueError\u001b[39;00m, \u001b[39mTypeError\u001b[39;00m, \u001b[39mIOError\u001b[39;00m):\n\u001b[1;32m    250\u001b[0m     \u001b[39mself\u001b[39m\u001b[39m.\u001b[39mlog\u001b[39m.\u001b[39minfo(\n\u001b[1;32m    251\u001b[0m         \u001b[39m'\u001b[39m\u001b[39mFirst argument \u001b[39m\u001b[39m{0}\u001b[39;00m\u001b[39m does not appear to be a \u001b[39m\u001b[39m'\u001b[39m\n\u001b[1;32m    252\u001b[0m         \u001b[39m'\u001b[39m\u001b[39mmodel\u001b[39m\u001b[39m'\u001b[39m\u001b[39m.\u001b[39mformat(input_file))\n",
      "File \u001b[0;32m~/.conda/envs/jwst-dev/lib/python3.9/site-packages/stpipe/pipeline.py:271\u001b[0m, in \u001b[0;36mPipeline._precache_references_opened\u001b[0;34m(self, model_or_container)\u001b[0m\n\u001b[1;32m    268\u001b[0m         \u001b[39mself\u001b[39m\u001b[39m.\u001b[39m_precache_references_opened(contained_model)\n\u001b[1;32m    269\u001b[0m \u001b[39melse\u001b[39;00m:\n\u001b[1;32m    270\u001b[0m     \u001b[39m# precache a single model object\u001b[39;00m\n\u001b[0;32m--> 271\u001b[0m     \u001b[39mself\u001b[39;49m\u001b[39m.\u001b[39;49m_precache_references_impl(model_or_container)\n",
      "File \u001b[0;32m~/.conda/envs/jwst-dev/lib/python3.9/site-packages/stpipe/pipeline.py:295\u001b[0m, in \u001b[0;36mPipeline._precache_references_impl\u001b[0;34m(self, model)\u001b[0m\n\u001b[1;32m    291\u001b[0m fetch_types \u001b[39m=\u001b[39m \u001b[39msorted\u001b[39m(\u001b[39mset\u001b[39m(\u001b[39mself\u001b[39m\u001b[39m.\u001b[39mreference_file_types) \u001b[39m-\u001b[39m \u001b[39mset\u001b[39m(ovr_refs\u001b[39m.\u001b[39mkeys()))\n\u001b[1;32m    293\u001b[0m \u001b[39mself\u001b[39m\u001b[39m.\u001b[39mlog\u001b[39m.\u001b[39minfo(\u001b[39m\"\u001b[39m\u001b[39mPrefetching reference files for dataset: \u001b[39m\u001b[39m\"\u001b[39m \u001b[39m+\u001b[39m \u001b[39mrepr\u001b[39m(model\u001b[39m.\u001b[39mmeta\u001b[39m.\u001b[39mfilename) \u001b[39m+\u001b[39m\n\u001b[1;32m    294\u001b[0m               \u001b[39m\"\u001b[39m\u001b[39m reftypes = \u001b[39m\u001b[39m\"\u001b[39m \u001b[39m+\u001b[39m \u001b[39mrepr\u001b[39m(fetch_types))\n\u001b[0;32m--> 295\u001b[0m crds_refs \u001b[39m=\u001b[39m crds_client\u001b[39m.\u001b[39;49mget_multiple_reference_paths(model\u001b[39m.\u001b[39;49mget_crds_parameters(), fetch_types, model\u001b[39m.\u001b[39;49mcrds_observatory)\n\u001b[1;32m    297\u001b[0m ref_path_map \u001b[39m=\u001b[39m \u001b[39mdict\u001b[39m(\u001b[39mlist\u001b[39m(crds_refs\u001b[39m.\u001b[39mitems()) \u001b[39m+\u001b[39m \u001b[39mlist\u001b[39m(ovr_refs\u001b[39m.\u001b[39mitems()))\n\u001b[1;32m    299\u001b[0m \u001b[39mfor\u001b[39;00m (reftype, refpath) \u001b[39min\u001b[39;00m \u001b[39msorted\u001b[39m(ref_path_map\u001b[39m.\u001b[39mitems()):\n",
      "File \u001b[0;32m~/.conda/envs/jwst-dev/lib/python3.9/site-packages/stpipe/crds_client.py:55\u001b[0m, in \u001b[0;36mget_multiple_reference_paths\u001b[0;34m(parameters, reference_file_types, observatory)\u001b[0m\n\u001b[1;32m     52\u001b[0m     \u001b[39mraise\u001b[39;00m \u001b[39mTypeError\u001b[39;00m(\u001b[39m\"\u001b[39m\u001b[39mFirst argument must be a dict of parameters\u001b[39m\u001b[39m\"\u001b[39m)\n\u001b[1;32m     54\u001b[0m log\u001b[39m.\u001b[39mset_log_time(\u001b[39mTrue\u001b[39;00m)\n\u001b[0;32m---> 55\u001b[0m refpaths \u001b[39m=\u001b[39m _get_refpaths(parameters, \u001b[39mtuple\u001b[39;49m(reference_file_types), observatory)\n\u001b[1;32m     56\u001b[0m \u001b[39mreturn\u001b[39;00m refpaths\n",
      "File \u001b[0;32m~/.conda/envs/jwst-dev/lib/python3.9/site-packages/stpipe/crds_client.py:68\u001b[0m, in \u001b[0;36m_get_refpaths\u001b[0;34m(data_dict, reference_file_types, observatory)\u001b[0m\n\u001b[1;32m     66\u001b[0m     \u001b[39mreturn\u001b[39;00m {}\n\u001b[1;32m     67\u001b[0m \u001b[39mwith\u001b[39;00m crds_cache_locking\u001b[39m.\u001b[39mget_cache_lock():\n\u001b[0;32m---> 68\u001b[0m     bestrefs \u001b[39m=\u001b[39m crds\u001b[39m.\u001b[39;49mgetreferences(\n\u001b[1;32m     69\u001b[0m         data_dict, reftypes\u001b[39m=\u001b[39;49mreference_file_types, observatory\u001b[39m=\u001b[39;49mobservatory)\n\u001b[1;32m     70\u001b[0m refpaths \u001b[39m=\u001b[39m {filetype: filepath \u001b[39mif\u001b[39;00m \u001b[39m\"\u001b[39m\u001b[39mN/A\u001b[39m\u001b[39m\"\u001b[39m \u001b[39mnot\u001b[39;00m \u001b[39min\u001b[39;00m filepath\u001b[39m.\u001b[39mupper() \u001b[39melse\u001b[39;00m \u001b[39m\"\u001b[39m\u001b[39mN/A\u001b[39m\u001b[39m\"\u001b[39m\n\u001b[1;32m     71\u001b[0m             \u001b[39mfor\u001b[39;00m (filetype, filepath) \u001b[39min\u001b[39;00m bestrefs\u001b[39m.\u001b[39mitems()}\n\u001b[1;32m     72\u001b[0m \u001b[39mreturn\u001b[39;00m refpaths\n",
      "File \u001b[0;32m~/.conda/envs/jwst-dev/lib/python3.9/site-packages/crds/core/heavy_client.py:122\u001b[0m, in \u001b[0;36mgetreferences\u001b[0;34m(parameters, reftypes, context, ignore_cache, observatory, fast)\u001b[0m\n\u001b[1;32m     81\u001b[0m \u001b[39mdef\u001b[39;00m \u001b[39mgetreferences\u001b[39m(parameters, reftypes\u001b[39m=\u001b[39m\u001b[39mNone\u001b[39;00m, context\u001b[39m=\u001b[39m\u001b[39mNone\u001b[39;00m, ignore_cache\u001b[39m=\u001b[39m\u001b[39mFalse\u001b[39;00m,\n\u001b[1;32m     82\u001b[0m                   observatory\u001b[39m=\u001b[39m\u001b[39m\"\u001b[39m\u001b[39mjwst\u001b[39m\u001b[39m\"\u001b[39m, fast\u001b[39m=\u001b[39m\u001b[39mFalse\u001b[39;00m):\n\u001b[1;32m     83\u001b[0m \u001b[39m    \u001b[39m\u001b[39m\"\"\"\u001b[39;00m\n\u001b[1;32m     84\u001b[0m \u001b[39m    This is the top-level get reference call for all of CRDS.  Based on\u001b[39;00m\n\u001b[1;32m     85\u001b[0m \u001b[39m    `parameters`, getreferences() will download/cache the corresponding best\u001b[39;00m\n\u001b[0;32m   (...)\u001b[0m\n\u001b[1;32m    120\u001b[0m \u001b[39m      cached reference file.\u001b[39;00m\n\u001b[1;32m    121\u001b[0m \u001b[39m    \"\"\"\u001b[39;00m\n\u001b[0;32m--> 122\u001b[0m     final_context, bestrefs \u001b[39m=\u001b[39m _initial_recommendations(\u001b[39m\"\u001b[39;49m\u001b[39mgetreferences\u001b[39;49m\u001b[39m\"\u001b[39;49m,\n\u001b[1;32m    123\u001b[0m         parameters, reftypes, context, ignore_cache, observatory, fast)\n\u001b[1;32m    125\u001b[0m     \u001b[39m# Attempt to cache the recommended references,  which unlike dump_mappings\u001b[39;00m\n\u001b[1;32m    126\u001b[0m     \u001b[39m# should work without network access if files are already cached.\u001b[39;00m\n\u001b[1;32m    127\u001b[0m     best_refs_paths \u001b[39m=\u001b[39m api\u001b[39m.\u001b[39mcache_references(\n\u001b[1;32m    128\u001b[0m         final_context, bestrefs, ignore_cache\u001b[39m=\u001b[39mignore_cache)\n",
      "File \u001b[0;32m~/.conda/envs/jwst-dev/lib/python3.9/site-packages/crds/core/heavy_client.py:215\u001b[0m, in \u001b[0;36m_initial_recommendations\u001b[0;34m(name, parameters, reftypes, context, ignore_cache, observatory, fast)\u001b[0m\n\u001b[1;32m    213\u001b[0m \u001b[39mif\u001b[39;00m mode \u001b[39m==\u001b[39m \u001b[39m\"\u001b[39m\u001b[39mlocal\u001b[39m\u001b[39m\"\u001b[39m:\n\u001b[1;32m    214\u001b[0m     log\u001b[39m.\u001b[39mverbose(\u001b[39m\"\u001b[39m\u001b[39mComputing best references locally.\u001b[39m\u001b[39m\"\u001b[39m)\n\u001b[0;32m--> 215\u001b[0m     bestrefs \u001b[39m=\u001b[39m local_bestrefs(\n\u001b[1;32m    216\u001b[0m         parameters, reftypes\u001b[39m=\u001b[39;49mreftypes, context\u001b[39m=\u001b[39;49mfinal_context, ignore_cache\u001b[39m=\u001b[39;49mignore_cache)\n\u001b[1;32m    217\u001b[0m \u001b[39melse\u001b[39;00m:\n\u001b[1;32m    218\u001b[0m     log\u001b[39m.\u001b[39mverbose(\u001b[39m\"\u001b[39m\u001b[39mComputing best references remotely.\u001b[39m\u001b[39m\"\u001b[39m)\n",
      "File \u001b[0;32m~/.conda/envs/jwst-dev/lib/python3.9/site-packages/crds/core/heavy_client.py:360\u001b[0m, in \u001b[0;36mlocal_bestrefs\u001b[0;34m(parameters, reftypes, context, ignore_cache)\u001b[0m\n\u001b[1;32m    358\u001b[0m \u001b[39mexcept\u001b[39;00m CrdsError \u001b[39mas\u001b[39;00m exc:\n\u001b[1;32m    359\u001b[0m     traceback\u001b[39m.\u001b[39mprint_exc()\n\u001b[0;32m--> 360\u001b[0m     \u001b[39mraise\u001b[39;00m CrdsDownloadError(\n\u001b[1;32m    361\u001b[0m         \u001b[39m\"\u001b[39m\u001b[39mFailed caching mapping files:\u001b[39m\u001b[39m\"\u001b[39m, \u001b[39mstr\u001b[39m(exc)) \u001b[39mfrom\u001b[39;00m \u001b[39mexc\u001b[39;00m\n\u001b[1;32m    362\u001b[0m \u001b[39mreturn\u001b[39;00m hv_best_references(context, parameters, reftypes)\n",
      "\u001b[0;31mCrdsDownloadError\u001b[0m: Failed caching mapping files: Error fetching data for 'jwst_system_calver_0033.rmap' at CRDS server 'https://jwst-crds.stsci.edu' with mode 'http' : [Errno 13] Permission denied: '/home/bariskurtkaya/crds_cache/jwst_ops/mappings/jwst/jwst_system_calver_0033.rmap'"
     ]
    }
   ],
   "source": [
    "programs = ['1441']\n",
    "process_products(programs)"
   ]
  },
  {
   "attachments": {},
   "cell_type": "markdown",
   "id": "7c9fbb60-ac01-423c-92e1-45bb1eec2e95",
   "metadata": {
    "tags": []
   },
   "source": [
    "# Pipeline things"
   ]
  },
  {
   "attachments": {},
   "cell_type": "markdown",
   "id": "d1bb7b55-3c8d-4f80-9f7e-c2c4218ad619",
   "metadata": {},
   "source": [
    "\n",
    "\n",
    "<div class=\"alert alert-block alert-info\">\n",
    "Now we have the fits files. We will create our coronagrahic images using the JWST pipeline. Our data has the suffix <b>.rateints</b> just like we needed. \n",
    "While processing coronagraphy data, the common procedure is using the following pipeline:\n",
    "    <ul> \n",
    "        <li> calwebb_detector1 $\\rightarrow$ <strong>from jwst.pipeline import Detector1Pipeline</strong>\n",
    "        <li> calwebb_image2  $\\rightarrow$ <strong>from jwst.pipeline import Image2Pipeline</strong>\n",
    "        <li> calwebb_coron3  $\\rightarrow$ <strong>from jwst.pipeline import Coron3Pipeline</strong>\n",
    "    </ul>\n",
    "</div>"
   ]
  },
  {
   "attachments": {},
   "cell_type": "markdown",
   "id": "458f36e2-871d-44b6-94df-ee192fb215a3",
   "metadata": {},
   "source": [
    "We have the outputs of the first stage. They all have the `rateints.fits` suffix. By passing them through the second pipeline we are going to end up with `calints.fits` files which is a last step before getting the coron products."
   ]
  },
  {
   "cell_type": "code",
   "execution_count": null,
   "id": "954325e5-c4e4-454f-bbe1-bf1755ebfbf7",
   "metadata": {},
   "outputs": [],
   "source": [
    "# Path containing the rateints data\n",
    "directory = f'/data/scratch/bariskurtkaya/dataset/{INSTRUME}/{PROPOSAL_ID}/mastDownload/JWST/'"
   ]
  },
  {
   "attachments": {},
   "cell_type": "markdown",
   "id": "233b2794-ddf6-4173-99d2-e9695d4c2f40",
   "metadata": {},
   "source": [
    "### Stage2"
   ]
  },
  {
   "cell_type": "code",
   "execution_count": null,
   "id": "9a1eea0c-8e78-45ed-b230-64eb9e5a7bbe",
   "metadata": {},
   "outputs": [],
   "source": [
    "def get_exptypes(fits_):\n",
    "    \n",
    "    for file in range(len(fits_)):\n",
    "        \n",
    "        f = fits.open(fits_[file])\n",
    "        exp_type = f[0].header['EXP_TYPE']\n",
    "        print(exp_type)"
   ]
  },
  {
   "cell_type": "code",
   "execution_count": null,
   "id": "de506def-dae9-465c-826a-58e9bba2db8a",
   "metadata": {},
   "outputs": [],
   "source": [
    "def runimage(filename, output_dir):\n",
    "    \n",
    "    img2 = Image2Pipeline()\n",
    "    img2.output_dir = output_dir\n",
    "    img2.save_results = True\n",
    "    img2(filename)"
   ]
  },
  {
   "cell_type": "code",
   "execution_count": null,
   "id": "10000fa4",
   "metadata": {},
   "outputs": [],
   "source": [
    "def run_pipeline2(directory):\n",
    "    rateints_files = glob(os.path.join(directory, '*/*rateints.fits'))\n",
    "    print('rateints file:',len(rateints_files))\n",
    "    batch_size = 4\n",
    "    for i in range(0,len(rateints_files),batch_size):\n",
    "    \n",
    "        for f in rateints_files[i:i+batch_size]:\n",
    "            \n",
    "            output_dir = '/'.join(f.split('/')[:-1]) + '/' \n",
    "            runimg2(f,output_dir)\n",
    "        time.sleep(1)"
   ]
  },
  {
   "cell_type": "code",
   "execution_count": null,
   "id": "4d5dd07a-35bc-4f97-b713-f9d092d4922f",
   "metadata": {},
   "outputs": [],
   "source": [
    "calints_data = glob(os.path.join(directory, '*/*calints.fits'))"
   ]
  },
  {
   "cell_type": "code",
   "execution_count": null,
   "id": "e72aff2f",
   "metadata": {},
   "outputs": [],
   "source": [
    "directory"
   ]
  },
  {
   "cell_type": "code",
   "execution_count": null,
   "id": "6d65edb6",
   "metadata": {},
   "outputs": [],
   "source": [
    "len(calints_data)"
   ]
  },
  {
   "attachments": {},
   "cell_type": "markdown",
   "id": "fcc51e3b-c72d-49f3-ab9b-545c912a75f7",
   "metadata": {},
   "source": [
    "### Stage 3"
   ]
  },
  {
   "attachments": {},
   "cell_type": "markdown",
   "id": "0f22588c-eed2-4ecb-b014-3a83f70091b4",
   "metadata": {},
   "source": [
    "The stage 3 is kinda different than the other steps. To run this step we need an association (ASN) file. Thus, we need some functions to create ASN files."
   ]
  },
  {
   "cell_type": "code",
   "execution_count": null,
   "id": "518406b1-e272-47c7-a709-ae9d7fa51008",
   "metadata": {},
   "outputs": [],
   "source": [
    "from jwst.associations.mkpool import mkpool\n",
    "from jwst.associations.lib.rules_level3 import Asn_Lv3Coron\n",
    "from jwst.associations import AssociationPool, AssociationRegistry\n",
    "from jwst.associations.mkpool import from_cmdline, mkpool\n",
    "from jwst.associations import generate\n",
    "from astropy.table import Table"
   ]
  },
  {
   "cell_type": "code",
   "execution_count": null,
   "id": "b336e0af",
   "metadata": {},
   "outputs": [],
   "source": [
    "def get_asns_files(calints_data,INSTRUME,PROPOSAL_ID):\n",
    "\n",
    "    pool = mkpool(calints_data)\n",
    "    pool_df = pool.to_pandas()\n",
    "    pool_df.to_csv(f'calints_{INSTRUME}_{PROPOSAL_ID}_pool.csv',index=False)\n",
    "    registry = AssociationRegistry([t_path('rule_level3.py')], include_default=False)\n",
    "    asns = generate(pool,registry)\n",
    "    print(f'Length of association pools for the program {PROPOSAL_ID}:',len(asns))\n",
    "\n",
    "    return asns\n",
    "\n"
   ]
  },
  {
   "cell_type": "code",
   "execution_count": null,
   "id": "9991911a-8619-4475-9a93-c04cce270cab",
   "metadata": {},
   "outputs": [],
   "source": [
    "def t_path(partial_path):\n",
    "    __file__ = '/home/bariskurtkaya/github/AI-Boosted-Coronagraphy/notebooks/asn_coron_rule.py'\n",
    "    test_dir = os.path.dirname(__file__)\n",
    "    return os.path.join(test_dir, partial_path)"
   ]
  },
  {
   "cell_type": "code",
   "execution_count": null,
   "id": "adb27f91-e9d7-4ebc-84e9-4e58422dfb1d",
   "metadata": {
    "tags": []
   },
   "outputs": [],
   "source": [
    "def runcoron(asn_dict, output_dir):\n",
    "\n",
    "    coron = MyCoron3Pipeline()\n",
    "    coron.output_dir = output_dir\n",
    "    coron.save_results = True\n",
    "    coron.process(asn_dict)"
   ]
  },
  {
   "cell_type": "code",
   "execution_count": null,
   "id": "8fa66e46-4d51-48e8-8216-deab30373f8d",
   "metadata": {},
   "outputs": [],
   "source": [
    "def run_pipeline3(asns,directory):\n",
    "    \n",
    "    for t in range(len(asns)):\n",
    "\n",
    "        asn_dict = {}\n",
    "        for i,j in zip(asns[t].keys(),asns[t].values()):\n",
    "            asn_dict[i] = j\n",
    "            \n",
    "        runcoron(asn_dict,directory)\n",
    "        \n",
    "        "
   ]
  },
  {
   "cell_type": "code",
   "execution_count": null,
   "id": "9866e686",
   "metadata": {},
   "outputs": [],
   "source": [
    "asns = get_asns_files(calints_data,INSTRUME,PROPOSAL_ID)"
   ]
  },
  {
   "cell_type": "code",
   "execution_count": null,
   "id": "4738e120-9fbb-4d30-8426-a5e8a27d9e6b",
   "metadata": {
    "collapsed": true,
    "jupyter": {
     "outputs_hidden": true
    },
    "tags": []
   },
   "outputs": [],
   "source": [
    "run_pipeline3(asns,directory)"
   ]
  },
  {
   "cell_type": "code",
   "execution_count": null,
   "id": "aa7c96ff-47e6-4279-a145-1aae93cd4915",
   "metadata": {},
   "outputs": [],
   "source": [
    "print('Finished')"
   ]
  }
 ],
 "metadata": {
  "kernelspec": {
   "display_name": "Python 3",
   "language": "python",
   "name": "python3"
  },
  "language_info": {
   "codemirror_mode": {
    "name": "ipython",
    "version": 3
   },
   "file_extension": ".py",
   "mimetype": "text/x-python",
   "name": "python",
   "nbconvert_exporter": "python",
   "pygments_lexer": "ipython3",
   "version": "3.9.16"
  }
 },
 "nbformat": 4,
 "nbformat_minor": 5
}

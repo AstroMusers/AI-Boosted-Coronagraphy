{
 "cells": [
  {
   "cell_type": "code",
   "execution_count": null,
   "id": "f41bffcc-a851-4b4e-b56e-7011abda853d",
   "metadata": {
    "scrolled": true
   },
   "outputs": [],
   "source": [
    "import os\n",
    "from jwst.pipeline import Detector1Pipeline, Image2Pipeline, Coron3Pipeline\n",
    "import jwst.associations\n",
    "from jwst.associations.lib.rules_level3_base import DMS_Level3_Base\n",
    "from glob import glob\n",
    "import astropy.io.fits as fits\n",
    "import numpy as np\n",
    "import time\n",
    "import pandas as pd\n",
    "import json\n",
    "import pickle\n",
    "from json import JSONEncoder\n",
    "from collections import defaultdict\n",
    "from CoronPipeline import MyCoron3Pipeline"
   ]
  },
  {
   "cell_type": "code",
   "execution_count": null,
   "id": "4be9f523-4d7b-4ab3-a457-7cc2fe342789",
   "metadata": {},
   "outputs": [],
   "source": [
    "os.environ[\"CRDS_PATH\"] = '/home/bariskurtkaya/crds_cache/jwst_ops'\n",
    "os.environ[\"CRDS_SERVER_URL\"] = 'https://jwst-crds.stsci.edu'"
   ]
  },
  {
   "cell_type": "code",
   "execution_count": null,
   "id": "0f6de925-3ebe-4638-a081-c1053fc04115",
   "metadata": {},
   "outputs": [],
   "source": [
    "import matplotlib.pyplot as plt\n",
    "from matplotlib import rcParams\n",
    "\n",
    "%matplotlib inline\n",
    "\n",
    "# figure sizes and resolutions\n",
    "rcParams['figure.figsize'] = [20,15]\n",
    "rcParams['figure.dpi'] = 80\n",
    "rcParams['savefig.dpi'] = 80"
   ]
  },
  {
   "cell_type": "code",
   "execution_count": null,
   "id": "846ea189-f354-4e10-8008-b4c22ff86c7d",
   "metadata": {},
   "outputs": [],
   "source": [
    "import jwst\n",
    "print(jwst.__version__)"
   ]
  },
  {
   "cell_type": "code",
   "execution_count": null,
   "id": "caedc859-a5c1-4619-9563-b0eb7dc9d1f1",
   "metadata": {},
   "outputs": [],
   "source": [
    "PROPOSAL_ID = '1386'\n",
    "INSTRUME = 'NIRCAM'\n",
    "#DETECTOR = 'nrca2'"
   ]
  },
  {
   "cell_type": "code",
   "execution_count": null,
   "id": "8ae6ee68-ccc6-4d21-ae9e-596198128e5f",
   "metadata": {},
   "outputs": [],
   "source": [
    "import os\n",
    "from jwst.pipeline import Detector1Pipeline, Image2Pipeline, Coron3Pipeline\n",
    "import jwst.associations\n",
    "from jwst.associations.lib.rules_level3_base import DMS_Level3_Base\n",
    "from glob import glob\n",
    "import astropy.io.fits as fits\n",
    "import numpy as np\n",
    "import time\n",
    "import pandas as pd\n",
    "import json\n",
    "import pickle\n",
    "from json import JSONEncoder\n",
    "from collections import defaultdict\n",
    "from CoronPipeline import MyCoron3Pipeline\n",
    "from jwst.associations.mkpool import mkpool\n",
    "from jwst.associations.lib.rules_level3 import Asn_Lv3Coron\n",
    "from jwst.associations import AssociationPool, AssociationRegistry\n",
    "from jwst.associations.mkpool import from_cmdline, mkpool\n",
    "from jwst.associations import generate\n",
    "from astropy.table import Table"
   ]
  },
  {
   "cell_type": "code",
   "execution_count": null,
   "id": "aeaea5cb-6f79-4ce7-ba63-47d7bee1768e",
   "metadata": {},
   "outputs": [],
   "source": [
    "def get_exptypes(fits_):\n",
    "    \n",
    "    for file in range(len(fits_)):\n",
    "        \n",
    "        f = fits.open(fits_[file])\n",
    "        exp_type = f[0].header['EXP_TYPE']\n",
    "        print(exp_type)\n",
    "        \n",
    "def runimg2(filename, output_dir):\n",
    "    \n",
    "    img2 = Image2Pipeline()\n",
    "    img2.output_dir = output_dir\n",
    "    img2.save_results = True\n",
    "    img2(filename)\n",
    "\n",
    "def t_path(partial_path):\n",
    "    __file__ = '/home/sarperyn/sarperyurtseven/ProjectFiles/notebooks/asn_coron_rule.py'\n",
    "    test_dir = os.path.dirname(__file__)\n",
    "    return os.path.join(test_dir, partial_path)\n",
    "\n",
    "\n",
    "def runcoron(filename, output_dir):\n",
    "\n",
    "    coron = MyCoron3Pipeline()\n",
    "    coron.output_dir = output_dir\n",
    "    coron.save_results = True\n",
    "    coron.process(filename)\n",
    "\n",
    "def get_stage3_products(asns,directory):\n",
    "    \n",
    "    for t in range(len(asns)):\n",
    "\n",
    "        asn_dict = {}\n",
    "        for i,j in zip(asns[t].keys(),asns[t].values()):\n",
    "            asn_dict[i] = j\n",
    "            \n",
    "        runcoron(asn_dict,directory)\n",
    "        "
   ]
  },
  {
   "cell_type": "code",
   "execution_count": null,
   "id": "9ef616c2-51cb-41c9-bdd3-050e0c22d9f6",
   "metadata": {},
   "outputs": [],
   "source": [
    "def process_products(programs):\n",
    "\n",
    "    for program in programs:\n",
    "        \n",
    "        directory = f'/data/scratch/bariskurtkaya/dataset/{INSTRUME}/{program}/mastDownload/JWST/'\n",
    "        rateints_files = glob(os.path.join(directory, '*/*rateints.fits'))\n",
    "        batch_size = 4\n",
    "        for i in range(0,len(rateints_files),batch_size):\n",
    "        \n",
    "            for f in rateints_files[i:i+batch_size]:\n",
    "                \n",
    "                output_dir = '/'.join(f.split('/')[:-1]) + '/' \n",
    "                runimg2(f,output_dir)\n",
    "            time.sleep(1)\n",
    "    \n",
    "        calints_data = glob(os.path.join(directory, '**/**calints.fits'))\n",
    "    \n",
    "        pool = mkpool(calints_data)\n",
    "        pool_df = pool.to_pandas()\n",
    "        pool_df.to_csv(f'calints_{INSTRUME}_{program}_pool.csv',index=False)\n",
    "    \n",
    "        registry = AssociationRegistry([t_path('rule_level3.py')], include_default=False)\n",
    "        asns = generate(pool,registry)\n",
    "    \n",
    "        get_stage3_products(asns,directory)"
   ]
  },
  {
   "cell_type": "code",
   "execution_count": null,
   "id": "c1c65e13-78b5-4834-96c2-d79b78f5532a",
   "metadata": {},
   "outputs": [],
   "source": [
    "programs = ['1386']\n",
    "process_products(programs)"
   ]
  },
  {
   "attachments": {},
   "cell_type": "markdown",
   "id": "7c9fbb60-ac01-423c-92e1-45bb1eec2e95",
   "metadata": {
    "tags": []
   },
   "source": [
    "# Pipeline things"
   ]
  },
  {
   "attachments": {},
   "cell_type": "markdown",
   "id": "d1bb7b55-3c8d-4f80-9f7e-c2c4218ad619",
   "metadata": {},
   "source": [
    "\n",
    "\n",
    "<div class=\"alert alert-block alert-info\">\n",
    "Now we have the fits files. We will create our coronagrahic images using the JWST pipeline. Our data has the suffix <b>.rateints</b> just like we needed. \n",
    "While processing coronagraphy data, the common procedure is using the following pipeline:\n",
    "    <ul> \n",
    "        <li> calwebb_detector1 $\\rightarrow$ <strong>from jwst.pipeline import Detector1Pipeline</strong>\n",
    "        <li> calwebb_image2  $\\rightarrow$ <strong>from jwst.pipeline import Image2Pipeline</strong>\n",
    "        <li> calwebb_coron3  $\\rightarrow$ <strong>from jwst.pipeline import Coron3Pipeline</strong>\n",
    "    </ul>\n",
    "</div>"
   ]
  },
  {
   "attachments": {},
   "cell_type": "markdown",
   "id": "458f36e2-871d-44b6-94df-ee192fb215a3",
   "metadata": {},
   "source": [
    "We have the outputs of the first stage. They all have the `rateints.fits` suffix. By passing them through the second pipeline we are going to end up with `calints.fits` files which is a last step before getting the coron products."
   ]
  },
  {
   "cell_type": "code",
   "execution_count": null,
   "id": "954325e5-c4e4-454f-bbe1-bf1755ebfbf7",
   "metadata": {},
   "outputs": [],
   "source": [
    "# Path containing the rateints data\n",
    "directory = f'/data/scratch/bariskurtkaya/dataset/{INSTRUME}/{PROPOSAL_ID}/mastDownload/JWST/'"
   ]
  },
  {
   "attachments": {},
   "cell_type": "markdown",
   "id": "233b2794-ddf6-4173-99d2-e9695d4c2f40",
   "metadata": {},
   "source": [
    "### Stage2"
   ]
  },
  {
   "cell_type": "code",
   "execution_count": null,
   "id": "9a1eea0c-8e78-45ed-b230-64eb9e5a7bbe",
   "metadata": {},
   "outputs": [],
   "source": [
    "def get_exptypes(fits_):\n",
    "    \n",
    "    for file in range(len(fits_)):\n",
    "        \n",
    "        f = fits.open(fits_[file])\n",
    "        exp_type = f[0].header['EXP_TYPE']\n",
    "        print(exp_type)"
   ]
  },
  {
   "cell_type": "code",
   "execution_count": null,
   "id": "de506def-dae9-465c-826a-58e9bba2db8a",
   "metadata": {},
   "outputs": [],
   "source": [
    "def runimage(filename, output_dir):\n",
    "    \n",
    "    img2 = Image2Pipeline()\n",
    "    img2.output_dir = output_dir\n",
    "    img2.save_results = True\n",
    "    img2(filename)"
   ]
  },
  {
   "cell_type": "code",
   "execution_count": null,
   "id": "10000fa4",
   "metadata": {},
   "outputs": [],
   "source": [
    "def run_pipeline2(directory):\n",
    "    rateints_files = glob(os.path.join(directory, '*/*rateints.fits'))\n",
    "    print('rateints file:',len(rateints_files))\n",
    "    batch_size = 4\n",
    "    for i in range(0,len(rateints_files),batch_size):\n",
    "    \n",
    "        for f in rateints_files[i:i+batch_size]:\n",
    "            \n",
    "            output_dir = '/'.join(f.split('/')[:-1]) + '/' \n",
    "            runimg2(f,output_dir)\n",
    "        time.sleep(1)"
   ]
  },
  {
   "cell_type": "code",
   "execution_count": null,
   "id": "4d5dd07a-35bc-4f97-b713-f9d092d4922f",
   "metadata": {},
   "outputs": [],
   "source": [
    "calints_data = glob(os.path.join(directory, '*/*calints.fits'))"
   ]
  },
  {
   "cell_type": "code",
   "execution_count": null,
   "id": "e72aff2f",
   "metadata": {},
   "outputs": [],
   "source": [
    "directory"
   ]
  },
  {
   "cell_type": "code",
   "execution_count": null,
   "id": "6d65edb6",
   "metadata": {},
   "outputs": [],
   "source": [
    "len(calints_data)"
   ]
  },
  {
   "attachments": {},
   "cell_type": "markdown",
   "id": "fcc51e3b-c72d-49f3-ab9b-545c912a75f7",
   "metadata": {},
   "source": [
    "### Stage 3"
   ]
  },
  {
   "attachments": {},
   "cell_type": "markdown",
   "id": "0f22588c-eed2-4ecb-b014-3a83f70091b4",
   "metadata": {},
   "source": [
    "The stage 3 is kinda different than the other steps. To run this step we need an association (ASN) file. Thus, we need some functions to create ASN files."
   ]
  },
  {
   "cell_type": "code",
   "execution_count": null,
   "id": "518406b1-e272-47c7-a709-ae9d7fa51008",
   "metadata": {},
   "outputs": [],
   "source": [
    "from jwst.associations.mkpool import mkpool\n",
    "from jwst.associations.lib.rules_level3 import Asn_Lv3Coron\n",
    "from jwst.associations import AssociationPool, AssociationRegistry\n",
    "from jwst.associations.mkpool import from_cmdline, mkpool\n",
    "from jwst.associations import generate\n",
    "from astropy.table import Table"
   ]
  },
  {
   "cell_type": "code",
   "execution_count": null,
   "id": "b336e0af",
   "metadata": {},
   "outputs": [],
   "source": [
    "def get_asns_files(calints_data,INSTRUME,PROPOSAL_ID):\n",
    "\n",
    "    pool = mkpool(calints_data)\n",
    "    pool_df = pool.to_pandas()\n",
    "    pool_df.to_csv(f'calints_{INSTRUME}_{PROPOSAL_ID}_pool.csv',index=False)\n",
    "    registry = AssociationRegistry([t_path('rule_level3.py')], include_default=False)\n",
    "    asns = generate(pool,registry)\n",
    "    print(f'Length of association pools for the program {PROPOSAL_ID}:',len(asns))\n",
    "\n",
    "    return asns\n",
    "\n"
   ]
  },
  {
   "cell_type": "code",
   "execution_count": null,
   "id": "9991911a-8619-4475-9a93-c04cce270cab",
   "metadata": {},
   "outputs": [],
   "source": [
    "def t_path(partial_path):\n",
    "    __file__ = '/home/bariskurtkaya/github/AI-Boosted-Coronagraphy/notebooks/asn_coron_rule.py'\n",
    "    test_dir = os.path.dirname(__file__)\n",
    "    return os.path.join(test_dir, partial_path)"
   ]
  },
  {
   "cell_type": "code",
   "execution_count": null,
   "id": "adb27f91-e9d7-4ebc-84e9-4e58422dfb1d",
   "metadata": {
    "tags": []
   },
   "outputs": [],
   "source": [
    "def runcoron(asn_dict, output_dir):\n",
    "\n",
    "    coron = MyCoron3Pipeline()\n",
    "    coron.output_dir = output_dir\n",
    "    coron.save_results = True\n",
    "    coron.process(asn_dict)"
   ]
  },
  {
   "cell_type": "code",
   "execution_count": null,
   "id": "8fa66e46-4d51-48e8-8216-deab30373f8d",
   "metadata": {},
   "outputs": [],
   "source": [
    "def run_pipeline3(asns,directory):\n",
    "    \n",
    "    for t in range(len(asns)):\n",
    "\n",
    "        asn_dict = {}\n",
    "        for i,j in zip(asns[t].keys(),asns[t].values()):\n",
    "            asn_dict[i] = j\n",
    "            \n",
    "        runcoron(asn_dict,directory)\n",
    "        \n",
    "        "
   ]
  },
  {
   "cell_type": "code",
   "execution_count": null,
   "id": "9866e686",
   "metadata": {},
   "outputs": [],
   "source": [
    "asns = get_asns_files(calints_data,INSTRUME,PROPOSAL_ID)"
   ]
  },
  {
   "cell_type": "code",
   "execution_count": null,
   "id": "4738e120-9fbb-4d30-8426-a5e8a27d9e6b",
   "metadata": {
    "collapsed": true,
    "jupyter": {
     "outputs_hidden": true
    },
    "tags": []
   },
   "outputs": [],
   "source": [
    "run_pipeline3(asns,directory)"
   ]
  },
  {
   "cell_type": "code",
   "execution_count": null,
   "id": "aa7c96ff-47e6-4279-a145-1aae93cd4915",
   "metadata": {},
   "outputs": [],
   "source": [
    "print('Finished')"
   ]
  }
 ],
 "metadata": {
  "kernelspec": {
   "display_name": "Python 3",
   "language": "python",
   "name": "python3"
  },
  "language_info": {
   "codemirror_mode": {
    "name": "ipython",
    "version": 3
   },
   "file_extension": ".py",
   "mimetype": "text/x-python",
   "name": "python",
   "nbconvert_exporter": "python",
   "pygments_lexer": "ipython3",
   "version": "3.9.16"
  }
 },
 "nbformat": 4,
 "nbformat_minor": 5
}

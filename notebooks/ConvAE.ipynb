{
 "cells": [
  {
   "cell_type": "code",
   "execution_count": 1,
   "id": "09496bc1-2072-4544-89b9-5d706bdcfabd",
   "metadata": {},
   "outputs": [],
   "source": [
    "import torch\n",
    "import h5py\n",
    "import numpy as np\n",
    "import webbpsf"
   ]
  },
  {
   "cell_type": "code",
   "execution_count": 2,
   "id": "abbc6fa1-8827-4a48-a2ee-f97ed3b8a98e",
   "metadata": {},
   "outputs": [
    {
     "ename": "OSError",
     "evalue": "WEBBPSF_PATH (/home/sarperyn/data/webbpsf-data) is not a valid directory path!\n\n ***********  ERROR  ******  ERROR  ******  ERROR  ******  ERROR  ***********\n *                                                                          *\n *  WebbPSF requires several data files to operate.                         *\n *  These files could not be located automatically at this time, or this    *\n *  version of the software requires a newer set of reference files than    *\n *  you have installed.  For more details see:                              *\n *                                                                          *\n *        https://webbpsf.readthedocs.io/en/stable/installation.html        *\n *                                                                          *\n *  under \"Installing the Required Data Files\".                             *\n *  WebbPSF will not be able to function properly until the appropriate     *\n *  reference files have been downloaded to your machine and installed.     *\n *                                                                          *\n ****************************************************************************\n",
     "output_type": "error",
     "traceback": [
      "\u001b[0;31m---------------------------------------------------------------------------\u001b[0m",
      "\u001b[0;31mOSError\u001b[0m                                   Traceback (most recent call last)",
      "Cell \u001b[0;32mIn [2], line 1\u001b[0m\n\u001b[0;32m----> 1\u001b[0m nir \u001b[38;5;241m=\u001b[39m \u001b[43mwebbpsf\u001b[49m\u001b[38;5;241;43m.\u001b[39;49m\u001b[43mNIRCam\u001b[49m\u001b[43m(\u001b[49m\u001b[43m)\u001b[49m\n\u001b[1;32m      2\u001b[0m nir\u001b[38;5;241m.\u001b[39mfilter \u001b[38;5;241m=\u001b[39m \u001b[38;5;124m\"\u001b[39m\u001b[38;5;124mF070W\u001b[39m\u001b[38;5;124m\"\u001b[39m\n\u001b[1;32m      3\u001b[0m psf \u001b[38;5;241m=\u001b[39m nir\u001b[38;5;241m.\u001b[39mcalc_psf()  \u001b[38;5;66;03m# the keywords add_distortion and crop_psf are automatically set to True\u001b[39;00m\n",
      "File \u001b[0;32m~/miniconda3/envs/jwst-dev/lib/python3.10/site-packages/webbpsf/webbpsf_core.py:1916\u001b[0m, in \u001b[0;36mNIRCam.__init__\u001b[0;34m(self)\u001b[0m\n\u001b[1;32m   1913\u001b[0m \u001b[38;5;28mself\u001b[39m\u001b[38;5;241m.\u001b[39m_filter \u001b[38;5;241m=\u001b[39m \u001b[38;5;124m'\u001b[39m\u001b[38;5;124mF200W\u001b[39m\u001b[38;5;124m'\u001b[39m\n\u001b[1;32m   1914\u001b[0m \u001b[38;5;28mself\u001b[39m\u001b[38;5;241m.\u001b[39m_detector \u001b[38;5;241m=\u001b[39m \u001b[38;5;124m'\u001b[39m\u001b[38;5;124mNRCA1\u001b[39m\u001b[38;5;124m'\u001b[39m\n\u001b[0;32m-> 1916\u001b[0m \u001b[43mJWInstrument\u001b[49m\u001b[38;5;241;43m.\u001b[39;49m\u001b[38;5;21;43m__init__\u001b[39;49m\u001b[43m(\u001b[49m\u001b[38;5;28;43mself\u001b[39;49m\u001b[43m,\u001b[49m\u001b[43m \u001b[49m\u001b[38;5;124;43m\"\u001b[39;49m\u001b[38;5;124;43mNIRCam\u001b[39;49m\u001b[38;5;124;43m\"\u001b[39;49m\u001b[43m)\u001b[49m  \u001b[38;5;66;03m# do this after setting the long & short scales.\u001b[39;00m\n\u001b[1;32m   1917\u001b[0m \u001b[38;5;28mself\u001b[39m\u001b[38;5;241m.\u001b[39m_detector \u001b[38;5;241m=\u001b[39m \u001b[38;5;124m'\u001b[39m\u001b[38;5;124mNRCA1\u001b[39m\u001b[38;5;124m'\u001b[39m \u001b[38;5;66;03m# Must re-do this after superclass init since that sets it to None.\u001b[39;00m\n\u001b[1;32m   1918\u001b[0m                          \u001b[38;5;66;03m# This is an annoying workaround to ensure all the auto-channel stuff is ok\u001b[39;00m\n",
      "File \u001b[0;32m~/miniconda3/envs/jwst-dev/lib/python3.10/site-packages/webbpsf/webbpsf_core.py:768\u001b[0m, in \u001b[0;36mJWInstrument.__init__\u001b[0;34m(self, *args, **kwargs)\u001b[0m\n\u001b[1;32m    767\u001b[0m \u001b[38;5;28;01mdef\u001b[39;00m \u001b[38;5;21m__init__\u001b[39m(\u001b[38;5;28mself\u001b[39m, \u001b[38;5;241m*\u001b[39margs, \u001b[38;5;241m*\u001b[39m\u001b[38;5;241m*\u001b[39mkwargs):\n\u001b[0;32m--> 768\u001b[0m     \u001b[38;5;28;43msuper\u001b[39;49m\u001b[43m(\u001b[49m\u001b[43mJWInstrument\u001b[49m\u001b[43m,\u001b[49m\u001b[43m \u001b[49m\u001b[38;5;28;43mself\u001b[39;49m\u001b[43m)\u001b[49m\u001b[38;5;241;43m.\u001b[39;49m\u001b[38;5;21;43m__init__\u001b[39;49m\u001b[43m(\u001b[49m\u001b[38;5;241;43m*\u001b[39;49m\u001b[43margs\u001b[49m\u001b[43m,\u001b[49m\u001b[43m \u001b[49m\u001b[38;5;241;43m*\u001b[39;49m\u001b[38;5;241;43m*\u001b[39;49m\u001b[43mkwargs\u001b[49m\u001b[43m)\u001b[49m\n\u001b[1;32m    770\u001b[0m     \u001b[38;5;28mself\u001b[39m\u001b[38;5;241m.\u001b[39msiaf \u001b[38;5;241m=\u001b[39m pysiaf\u001b[38;5;241m.\u001b[39mSiaf(\u001b[38;5;28mself\u001b[39m\u001b[38;5;241m.\u001b[39mname)\n\u001b[1;32m    772\u001b[0m     opd_path \u001b[38;5;241m=\u001b[39m os\u001b[38;5;241m.\u001b[39mpath\u001b[38;5;241m.\u001b[39mjoin(\u001b[38;5;28mself\u001b[39m\u001b[38;5;241m.\u001b[39m_datapath, \u001b[38;5;124m'\u001b[39m\u001b[38;5;124mOPD\u001b[39m\u001b[38;5;124m'\u001b[39m)\n",
      "File \u001b[0;32m~/miniconda3/envs/jwst-dev/lib/python3.10/site-packages/webbpsf/webbpsf_core.py:176\u001b[0m, in \u001b[0;36mSpaceTelescopeInstrument.__init__\u001b[0;34m(self, name, pixelscale)\u001b[0m\n\u001b[1;32m    173\u001b[0m \u001b[38;5;28;01mdef\u001b[39;00m \u001b[38;5;21m__init__\u001b[39m(\u001b[38;5;28mself\u001b[39m, name\u001b[38;5;241m=\u001b[39m\u001b[38;5;124m\"\u001b[39m\u001b[38;5;124m\"\u001b[39m, pixelscale\u001b[38;5;241m=\u001b[39m\u001b[38;5;241m0.064\u001b[39m):\n\u001b[1;32m    174\u001b[0m     \u001b[38;5;28mself\u001b[39m\u001b[38;5;241m.\u001b[39mname \u001b[38;5;241m=\u001b[39m name\n\u001b[0;32m--> 176\u001b[0m     \u001b[38;5;28mself\u001b[39m\u001b[38;5;241m.\u001b[39m_WebbPSF_basepath, \u001b[38;5;28mself\u001b[39m\u001b[38;5;241m.\u001b[39m_data_version \u001b[38;5;241m=\u001b[39m \u001b[43mutils\u001b[49m\u001b[38;5;241;43m.\u001b[39;49m\u001b[43mget_webbpsf_data_path\u001b[49m\u001b[43m(\u001b[49m\n\u001b[1;32m    177\u001b[0m \u001b[43m        \u001b[49m\u001b[43mdata_version_min\u001b[49m\u001b[38;5;241;43m=\u001b[39;49m\u001b[43mDATA_VERSION_MIN\u001b[49m\u001b[43m,\u001b[49m\u001b[43m \u001b[49m\u001b[43mreturn_version\u001b[49m\u001b[38;5;241;43m=\u001b[39;49m\u001b[38;5;28;43;01mTrue\u001b[39;49;00m\u001b[43m)\u001b[49m\n\u001b[1;32m    179\u001b[0m     \u001b[38;5;28mself\u001b[39m\u001b[38;5;241m.\u001b[39m_datapath \u001b[38;5;241m=\u001b[39m os\u001b[38;5;241m.\u001b[39mpath\u001b[38;5;241m.\u001b[39mjoin(\u001b[38;5;28mself\u001b[39m\u001b[38;5;241m.\u001b[39m_WebbPSF_basepath, \u001b[38;5;28mself\u001b[39m\u001b[38;5;241m.\u001b[39mname)\n\u001b[1;32m    180\u001b[0m     \u001b[38;5;28mself\u001b[39m\u001b[38;5;241m.\u001b[39m_image_mask \u001b[38;5;241m=\u001b[39m \u001b[38;5;28;01mNone\u001b[39;00m\n",
      "File \u001b[0;32m~/miniconda3/envs/jwst-dev/lib/python3.10/site-packages/webbpsf/utils.py:210\u001b[0m, in \u001b[0;36mget_webbpsf_data_path\u001b[0;34m(data_version_min, return_version)\u001b[0m\n\u001b[1;32m    208\u001b[0m \u001b[38;5;66;03m# at minimum, the path must be a valid directory\u001b[39;00m\n\u001b[1;32m    209\u001b[0m \u001b[38;5;28;01mif\u001b[39;00m \u001b[38;5;129;01mnot\u001b[39;00m os\u001b[38;5;241m.\u001b[39mpath\u001b[38;5;241m.\u001b[39misdir(path):\n\u001b[0;32m--> 210\u001b[0m     \u001b[38;5;28;01mraise\u001b[39;00m \u001b[38;5;167;01mIOError\u001b[39;00m(\u001b[38;5;124mf\u001b[39m\u001b[38;5;124m\"\u001b[39m\u001b[38;5;124mWEBBPSF_PATH (\u001b[39m\u001b[38;5;132;01m{\u001b[39;00mpath\u001b[38;5;132;01m}\u001b[39;00m\u001b[38;5;124m) is not a valid directory path!\u001b[39m\u001b[38;5;130;01m\\n\u001b[39;00m\u001b[38;5;132;01m{\u001b[39;00mMISSING_WEBBPSF_DATA_MESSAGE\u001b[38;5;132;01m}\u001b[39;00m\u001b[38;5;124m\"\u001b[39m)\n\u001b[1;32m    212\u001b[0m \u001b[38;5;28;01mif\u001b[39;00m data_version_min \u001b[38;5;129;01mis\u001b[39;00m \u001b[38;5;129;01mnot\u001b[39;00m \u001b[38;5;28;01mNone\u001b[39;00m:\n\u001b[1;32m    213\u001b[0m     \u001b[38;5;66;03m# Check if the data in WEBBPSF_PATH meet the minimum data version\u001b[39;00m\n\u001b[1;32m    214\u001b[0m     version_file_path \u001b[38;5;241m=\u001b[39m os\u001b[38;5;241m.\u001b[39mpath\u001b[38;5;241m.\u001b[39mjoin(path, \u001b[38;5;124m'\u001b[39m\u001b[38;5;124mversion.txt\u001b[39m\u001b[38;5;124m'\u001b[39m)\n",
      "\u001b[0;31mOSError\u001b[0m: WEBBPSF_PATH (/home/sarperyn/data/webbpsf-data) is not a valid directory path!\n\n ***********  ERROR  ******  ERROR  ******  ERROR  ******  ERROR  ***********\n *                                                                          *\n *  WebbPSF requires several data files to operate.                         *\n *  These files could not be located automatically at this time, or this    *\n *  version of the software requires a newer set of reference files than    *\n *  you have installed.  For more details see:                              *\n *                                                                          *\n *        https://webbpsf.readthedocs.io/en/stable/installation.html        *\n *                                                                          *\n *  under \"Installing the Required Data Files\".                             *\n *  WebbPSF will not be able to function properly until the appropriate     *\n *  reference files have been downloaded to your machine and installed.     *\n *                                                                          *\n ****************************************************************************\n"
     ]
    }
   ],
   "source": [
    "nir = webbpsf.NIRCam()\n",
    "nir.filter = \"F070W\"\n",
    "psf = nir.calc_psf()  # the keywords add_distortion and crop_psf are automatically set to True\n",
    "\n",
    "# Note the 4 extensions, where ext=2 is the distorted version of ext=0 and ext=3 is the distorted version of ext=1\n",
    "psf.info()"
   ]
  },
  {
   "cell_type": "code",
   "execution_count": 17,
   "id": "bdb07983-92ae-40fc-822a-9d1fc7837e6f",
   "metadata": {},
   "outputs": [],
   "source": [
    "psfstack_sci = h5py.File('/home/sarperyn/sarperyurtseven/ProjectFiles/dataset/NIRCAM/1386/1386_psfstack_sci.h5', 'r')\n",
    "psfsub_sci = h5py.File('/home/sarperyn/sarperyurtseven/ProjectFiles/dataset/NIRCAM/1386/1386_psfsub_sci.h5','r')"
   ]
  },
  {
   "cell_type": "code",
   "execution_count": 18,
   "id": "6f84d974-f857-417d-9537-e2b7c94ba5c5",
   "metadata": {},
   "outputs": [
    {
     "name": "stdout",
     "output_type": "stream",
     "text": [
      "sci_F250M sci_F250M\n",
      "sci_F300M sci_F300M\n",
      "sci_F356W sci_F444W\n"
     ]
    }
   ],
   "source": [
    "for i,j in zip(psfstack_sci.keys(),psfsub_sci.keys()):\n",
    "    print(i,j)"
   ]
  },
  {
   "cell_type": "code",
   "execution_count": 22,
   "id": "fd4c03a7-89f3-45bb-8029-6f587520a200",
   "metadata": {},
   "outputs": [],
   "source": [
    "arr = np.array(psfsub_sci.get('sci_F444W'))"
   ]
  },
  {
   "cell_type": "code",
   "execution_count": 23,
   "id": "df30252a-b662-4c66-8b29-03877f288101",
   "metadata": {},
   "outputs": [
    {
     "data": {
      "text/plain": [
       "(2, 320, 320)"
      ]
     },
     "execution_count": 23,
     "metadata": {},
     "output_type": "execute_result"
    }
   ],
   "source": [
    "arr.shape"
   ]
  },
  {
   "cell_type": "code",
   "execution_count": 24,
   "id": "742a13ac-c3ae-42ac-b81c-46430217638f",
   "metadata": {},
   "outputs": [],
   "source": [
    "arr2 = np.array(psfstack_sci.get('sci_F356W'))"
   ]
  },
  {
   "cell_type": "code",
   "execution_count": 25,
   "id": "28f411b7-7e0a-4465-bf3c-f1ae7cd4ed03",
   "metadata": {},
   "outputs": [
    {
     "data": {
      "text/plain": [
       "(18, 320, 320)"
      ]
     },
     "execution_count": 25,
     "metadata": {},
     "output_type": "execute_result"
    }
   ],
   "source": [
    "arr2.shape"
   ]
  },
  {
   "cell_type": "code",
   "execution_count": null,
   "id": "33ec3cbd-3721-483d-b7b1-8fb3d6364757",
   "metadata": {},
   "outputs": [],
   "source": []
  }
 ],
 "metadata": {
  "kernelspec": {
   "display_name": "Python 3 (ipykernel)",
   "language": "python",
   "name": "python3"
  },
  "language_info": {
   "codemirror_mode": {
    "name": "ipython",
    "version": 3
   },
   "file_extension": ".py",
   "mimetype": "text/x-python",
   "name": "python",
   "nbconvert_exporter": "python",
   "pygments_lexer": "ipython3",
   "version": "3.10.8"
  }
 },
 "nbformat": 4,
 "nbformat_minor": 5
}

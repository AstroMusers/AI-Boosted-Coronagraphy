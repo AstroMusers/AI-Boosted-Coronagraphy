{
 "cells": [
  {
   "cell_type": "code",
   "execution_count": null,
   "metadata": {},
   "outputs": [],
   "source": [
    "import glob\n",
    "import numpy as np\n",
    "import matplotlib.pyplot as plt\n",
    "from itertools import product\n",
    "import random\n",
    "import os\n",
    "import glob\n",
    "import numpy as np\n",
    "import matplotlib.pyplot as plt\n",
    "import astropy.io.fits as fits\n",
    "from itertools import product\n",
    "from astropy.wcs import WCS\n",
    "from astropy.coordinates import SkyCoord  # High-level coordinates\n",
    "from astropy.coordinates import ICRS, Galactic, FK4, FK5\n",
    "from astropy.coordinates import Angle, Latitude, Longitude  # Angles\n",
    "import astropy.units as u\n",
    "import math\n",
    "import re\n",
    "import cv2\n",
    "import sys\n",
    "sys.path.append(os.path.dirname(os.getcwd()))\n",
    "from scripts.visualization_helpers import *"
   ]
  },
  {
   "cell_type": "code",
   "execution_count": null,
   "metadata": {},
   "outputs": [],
   "source": [
    "PROPOSAL_ID = \"1386\"\n",
    "STATE = \"train\"\n",
    "injected =  glob.glob(f'/data/scratch/bariskurtkaya/dataset/NIRCAM/{STATE}/{PROPOSAL_ID}/injections/*fc*.npy')\n",
    "not_injected =  glob.glob(f'/data/scratch/bariskurtkaya/dataset/NIRCAM/{STATE}/{PROPOSAL_ID}/injections/*[!fc]*.npy')\n",
    "print(len(injected))"
   ]
  },
  {
   "cell_type": "code",
   "execution_count": null,
   "metadata": {},
   "outputs": [],
   "source": [
    "injected =  glob.glob(f'/data/scratch/bariskurtkaya/dataset/NIRCAM/train/train_test/injections/*fc*.npy')\n",
    "not_injected =  glob.glob(f'/data/scratch/bariskurtkaya/dataset/NIRCAM/train/train_test/injections/*[!fc]*.npy')"
   ]
  },
  {
   "cell_type": "code",
   "execution_count": null,
   "metadata": {},
   "outputs": [],
   "source": [
    "print(len(injected))"
   ]
  },
  {
   "cell_type": "code",
   "execution_count": null,
   "metadata": {},
   "outputs": [],
   "source": [
    "print(len(not_injected))"
   ]
  },
  {
   "cell_type": "code",
   "execution_count": null,
   "metadata": {},
   "outputs": [],
   "source": [
    "#train_arrays = glob.glob(f'/data/scratch/bariskurtkaya/dataset/NIRCAM/{STATE}/{PROPOSAL_ID}/injections//*fc*.npy')[25:50]"
   ]
  },
  {
   "cell_type": "code",
   "execution_count": null,
   "metadata": {},
   "outputs": [],
   "source": [
    "import torch\n",
    "sample_count = 10e+3\n",
    "flux_coef = torch.arange(sample_count) / sample_count # 0 - 1 normalized 10.000 samples\n",
    "flux_coef = flux_coef * (10e-4 - 10e-10) + 10e-10\n",
    "flux_coef = flux_coef.cpu().numpy()"
   ]
  },
  {
   "cell_type": "code",
   "execution_count": null,
   "metadata": {},
   "outputs": [],
   "source": [
    "len(flux_coef)"
   ]
  },
  {
   "cell_type": "code",
   "execution_count": null,
   "metadata": {},
   "outputs": [],
   "source": [
    "main_dir = \"/data/scratch/bariskurtkaya/dataset/NIRCAM/*\"\n",
    "main_total = 0\n",
    "\n",
    "for pid_dir in glob.glob(main_dir):\n",
    "    sub_dir = f\"{pid_dir}/mastDownload/JWST/*psfstack*\"\n",
    "    total_psf = 0\n",
    "    for psfs_dir in glob.glob(sub_dir):\n",
    "        total_psf += fits.open(psfs_dir)[1].data.shape[0]\n",
    "    if total_psf != 0:\n",
    "        print(pid_dir.split('/')[-1], total_psf)\n",
    "\n",
    "    main_total += total_psf"
   ]
  },
  {
   "cell_type": "code",
   "execution_count": null,
   "metadata": {},
   "outputs": [],
   "source": [
    "locations        = get_psf_info(train_arrays, '1386', 'train')\n",
    "info             = get_augmentation_info(train_arrays)\n",
    "transformed_list = do_transformations(info, locations)\n",
    "arrays           = get_array(train_arrays)"
   ]
  },
  {
   "cell_type": "code",
   "execution_count": null,
   "metadata": {},
   "outputs": [],
   "source": [
    "bs = 5\n",
    "nrows = 5\n",
    "fig, axes = plt.subplots(nrows=nrows,ncols=bs,figsize=(15,15))\n",
    "distances = []\n",
    "step = 20*0.06259530358142339\n",
    "step = round(step,2)\n",
    "labels = step*np.array([-2., -1., 0., 1., 2.])\n",
    "axis_points = np.linspace(0,80,5)\n",
    "\n",
    "for i, (row,col) in enumerate(product(range(nrows),range(bs))):\n",
    "\n",
    "    idx_x  = train_arrays[i].rfind('x')\n",
    "\n",
    "    if idx_x == -1:\n",
    "        x, y = 0, 0\n",
    "    else:\n",
    "        x = int(train_arrays[i][idx_x+1:idx_x+3])\n",
    "        y = int(train_arrays[i][idx_x+5:idx_x+7])\n",
    "\n",
    "    #x, y = int(train_arrays[i].split('/')[-1].split('-')[-3:-1][0][1:]), int(train_arrays[i].split('/')[-1].split('-')[-3:-1][1][1:])\n",
    "    axes[row][col].imshow(arrays[i], interpolation='nearest', cmap='Greys_r')\n",
    "\n",
    "    if col == 0:\n",
    "        axes[row][col].set_yticks(axis_points,labels, fontsize=10, rotation=0)\n",
    "        axes[row][col].set_ylabel('DEC(arcsec)', fontsize=10)\n",
    "        \n",
    "        if row == 4:\n",
    "            axes[row][col].set_xticks(axis_points,labels, fontsize=10, rotation=0)\n",
    "            axes[row][col].set_xlabel('RA(arcsec)', fontsize=10)\n",
    "\n",
    "        else:\n",
    "            axes[row][col].set_xticks([])\n",
    "\n",
    "    elif row == 4:\n",
    "        axes[row][col].set_xticks(axis_points,labels, fontsize=10, rotation=0)\n",
    "        axes[row][col].set_xlabel('arcsec', fontsize=10)\n",
    "        axes[row][col].set_yticks([])\n",
    "\n",
    "    else:\n",
    "        axes[row][col].set_yticks([])\n",
    "        axes[row][col].set_xticks([])\n",
    "\n",
    "\n",
    "    #axes[row][col].text(x, y, s=\"\\u25CF\", fontsize=12, color='red', alpha=.3, ha='center', va='center')#u\"\\u2734\"\n",
    "    axes[row][col].invert_yaxis()\n",
    "\n",
    "    if int(transformed_list[i][0]) == -1:\n",
    "        pass\n",
    "    else:\n",
    "        pass\n",
    "        #axes[row][col].text(int(transformed_list[i][0]), int(transformed_list[i][1]) , s=\"\\u2605\", fontsize=30, color='green', ha='center', va='center')\n",
    "\n",
    "    distance = calculate_distance(x1=x,x2=int(transformed_list[i][0]), y1=y,y2=int(transformed_list[i][1]))\n",
    "    distances.append(distance)\n",
    "    print(\"Distance:\",distance)\n",
    "    \n",
    "plt.subplots_adjust(wspace=.12,hspace=.12)\n",
    "#plt.savefig('figure.jpg',format='jpg', dpi=300, bbox_inches='tight', pad_inches=.1)\n",
    "plt.show()"
   ]
  },
  {
   "cell_type": "code",
   "execution_count": null,
   "metadata": {},
   "outputs": [],
   "source": []
<<<<<<< HEAD
  },
  {
   "cell_type": "code",
   "execution_count": 11,
   "metadata": {},
   "outputs": [],
   "source": [
    "import torch\n",
    "import numpy as np\n",
    "import matplotlib.pyplot as plt\n"
   ]
  },
  {
   "cell_type": "code",
   "execution_count": 31,
   "metadata": {},
   "outputs": [],
   "source": [
    "sample_count = 10e+3\n",
    "flux_coef = torch.arange(sample_count) / sample_count # 0 - 1 normalized 10e+4 samples\n",
    "flux_coef = flux_coef * (10e-4 - 10e-10) + 10e-10"
   ]
  },
  {
   "cell_type": "code",
   "execution_count": 32,
   "metadata": {},
   "outputs": [
    {
     "data": {
      "text/plain": [
       "(tensor(1.0000e-09), tensor(0.0010))"
      ]
     },
     "execution_count": 32,
     "metadata": {},
     "output_type": "execute_result"
    }
   ],
   "source": [
    "flux_coef[0] , flux_coef[-1]"
   ]
  },
  {
   "cell_type": "code",
   "execution_count": 3,
   "metadata": {},
   "outputs": [],
   "source": [
    "num_rand_flux = 10**4\n",
    "\n",
    "flux_coef = torch.randint(num_rand_flux, (num_rand_flux,))"
   ]
  },
  {
   "cell_type": "code",
   "execution_count": 15,
   "metadata": {},
   "outputs": [
    {
     "data": {
      "text/plain": [
       "(array([1., 0., 2., ..., 0., 1., 4.]),\n",
       " array([0.000e+00, 1.000e+00, 2.000e+00, ..., 9.997e+03, 9.998e+03,\n",
       "        9.999e+03]),\n",
       " <BarContainer object of 9999 artists>)"
      ]
     },
     "execution_count": 15,
     "metadata": {},
     "output_type": "execute_result"
    },
    {
     "data": {
      "image/png": "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",
      "text/plain": [
       "<Figure size 640x480 with 1 Axes>"
      ]
     },
     "metadata": {},
     "output_type": "display_data"
    }
   ],
   "source": [
    "flux_coef.cpu().numpy()\n",
    "counts, bins = np.histogram(flux_coef, bins=torch.arange(num_rand_flux))\n",
    "plt.hist(bins[:-1], bins, weights=counts)\n"
   ]
=======
,
>>>>>>> 4e1ba71518514bd5f01927500694e67a3ddb2899
  }
 ],
 "metadata": {
  "kernelspec": {
   "display_name": "jwst-dev",
   "language": "python",
   "name": "python3"
  },
  "language_info": {
   "codemirror_mode": {
    "name": "ipython",
    "version": 3
   },
   "file_extension": ".py",
   "mimetype": "text/x-python",
   "name": "python",
   "nbconvert_exporter": "python",
   "pygments_lexer": "ipython3",
   "version": "3.9.16"
  }
 },
 "nbformat": 4,
 "nbformat_minor": 2
}

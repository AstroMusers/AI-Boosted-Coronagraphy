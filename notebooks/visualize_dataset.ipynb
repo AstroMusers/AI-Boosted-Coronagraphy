{
 "cells": [
  {
   "cell_type": "code",
   "execution_count": null,
   "metadata": {},
   "outputs": [],
   "source": [
    "import glob\n",
    "import numpy as np\n",
    "import matplotlib.pyplot as plt\n",
    "from itertools import product\n",
    "import random\n",
    "import os\n",
    "import glob\n",
    "import numpy as np\n",
    "import matplotlib.pyplot as plt\n",
    "import astropy.io.fits as fits\n",
    "from itertools import product\n",
    "from astropy.wcs import WCS\n",
    "from astropy.coordinates import SkyCoord  # High-level coordinates\n",
    "from astropy.coordinates import ICRS, Galactic, FK4, FK5\n",
    "from astropy.coordinates import Angle, Latitude, Longitude  # Angles\n",
    "import astropy.units as u\n",
    "import math\n",
    "import re\n",
    "import cv2\n",
    "import sys\n",
    "sys.path.append(os.path.dirname(os.getcwd()))\n",
    "from scripts.visualization_helpers import *"
   ]
  },
  {
   "cell_type": "code",
   "execution_count": null,
   "metadata": {},
   "outputs": [],
   "source": [
    "PROPOSAL_ID = \"1386\"\n",
    "STATE = \"train\"\n",
    "injected =  glob.glob(f'/data/scratch/bariskurtkaya/dataset/NIRCAM/{STATE}/{PROPOSAL_ID}/injections/*fc*.npy')\n",
    "not_injected =  glob.glob(f'/data/scratch/bariskurtkaya/dataset/NIRCAM/{STATE}/{PROPOSAL_ID}/injections/*[!fc]*.npy')\n",
    "print(len(injected))"
   ]
  },
  {
   "cell_type": "code",
   "execution_count": null,
   "metadata": {},
   "outputs": [],
   "source": [
    "injected =  glob.glob(f'/data/scratch/bariskurtkaya/dataset/NIRCAM/train/train_test/injections/*fc*.npy')\n",
    "not_injected =  glob.glob(f'/data/scratch/bariskurtkaya/dataset/NIRCAM/train/train_test/injections/*[!fc]*.npy')"
   ]
  },
  {
   "cell_type": "code",
   "execution_count": null,
   "metadata": {},
   "outputs": [],
   "source": [
    "print(len(injected))"
   ]
  },
  {
   "cell_type": "code",
   "execution_count": null,
   "metadata": {},
   "outputs": [],
   "source": [
    "print(len(not_injected))"
   ]
  },
  {
   "cell_type": "code",
   "execution_count": null,
   "metadata": {},
   "outputs": [],
   "source": [
    "#train_arrays = glob.glob(f'/data/scratch/bariskurtkaya/dataset/NIRCAM/{STATE}/{PROPOSAL_ID}/injections//*fc*.npy')[25:50]"
   ]
  },
  {
   "cell_type": "code",
   "execution_count": null,
   "metadata": {},
   "outputs": [],
   "source": [
    "import torch\n",
    "sample_count = 10e+3\n",
    "flux_coef = torch.arange(sample_count) / sample_count # 0 - 1 normalized 10.000 samples\n",
    "flux_coef = flux_coef * (10e-4 - 10e-10) + 10e-10\n",
    "flux_coef = flux_coef.cpu().numpy()"
   ]
  },
  {
   "cell_type": "code",
   "execution_count": null,
   "metadata": {},
   "outputs": [],
   "source": [
    "len(flux_coef)"
   ]
  },
  {
   "cell_type": "code",
   "execution_count": null,
   "metadata": {},
   "outputs": [],
   "source": [
    "main_dir = \"/data/scratch/bariskurtkaya/dataset/NIRCAM/*\"\n",
    "main_total = 0\n",
    "\n",
    "for pid_dir in glob.glob(main_dir):\n",
    "    sub_dir = f\"{pid_dir}/mastDownload/JWST/*psfstack*\"\n",
    "    total_psf = 0\n",
    "    for psfs_dir in glob.glob(sub_dir):\n",
    "        total_psf += fits.open(psfs_dir)[1].data.shape[0]\n",
    "    if total_psf != 0:\n",
    "        print(pid_dir.split('/')[-1], total_psf)\n",
    "\n",
    "    main_total += total_psf"
   ]
  },
  {
   "cell_type": "code",
   "execution_count": null,
   "metadata": {},
   "outputs": [],
   "source": [
    "locations        = get_psf_info(train_arrays, '1386', 'train')\n",
    "info             = get_augmentation_info(train_arrays)\n",
    "transformed_list = do_transformations(info, locations)\n",
    "arrays           = get_array(train_arrays)"
   ]
  },
  {
   "cell_type": "code",
   "execution_count": null,
   "metadata": {},
   "outputs": [],
   "source": [
    "bs = 5\n",
    "nrows = 5\n",
    "fig, axes = plt.subplots(nrows=nrows,ncols=bs,figsize=(15,15))\n",
    "distances = []\n",
    "step = 20*0.06259530358142339\n",
    "step = round(step,2)\n",
    "labels = step*np.array([-2., -1., 0., 1., 2.])\n",
    "axis_points = np.linspace(0,80,5)\n",
    "\n",
    "for i, (row,col) in enumerate(product(range(nrows),range(bs))):\n",
    "\n",
    "    idx_x  = train_arrays[i].rfind('x')\n",
    "\n",
    "    if idx_x == -1:\n",
    "        x, y = 0, 0\n",
    "    else:\n",
    "        x = int(train_arrays[i][idx_x+1:idx_x+3])\n",
    "        y = int(train_arrays[i][idx_x+5:idx_x+7])\n",
    "\n",
    "    #x, y = int(train_arrays[i].split('/')[-1].split('-')[-3:-1][0][1:]), int(train_arrays[i].split('/')[-1].split('-')[-3:-1][1][1:])\n",
    "    axes[row][col].imshow(arrays[i], interpolation='nearest', cmap='Greys_r')\n",
    "\n",
    "    if col == 0:\n",
    "        axes[row][col].set_yticks(axis_points,labels, fontsize=10, rotation=0)\n",
    "        axes[row][col].set_ylabel('DEC(arcsec)', fontsize=10)\n",
    "        \n",
    "        if row == 4:\n",
    "            axes[row][col].set_xticks(axis_points,labels, fontsize=10, rotation=0)\n",
    "            axes[row][col].set_xlabel('RA(arcsec)', fontsize=10)\n",
    "\n",
    "        else:\n",
    "            axes[row][col].set_xticks([])\n",
    "\n",
    "    elif row == 4:\n",
    "        axes[row][col].set_xticks(axis_points,labels, fontsize=10, rotation=0)\n",
    "        axes[row][col].set_xlabel('arcsec', fontsize=10)\n",
    "        axes[row][col].set_yticks([])\n",
    "\n",
    "    else:\n",
    "        axes[row][col].set_yticks([])\n",
    "        axes[row][col].set_xticks([])\n",
    "\n",
    "\n",
    "    #axes[row][col].text(x, y, s=\"\\u25CF\", fontsize=12, color='red', alpha=.3, ha='center', va='center')#u\"\\u2734\"\n",
    "    axes[row][col].invert_yaxis()\n",
    "\n",
    "    if int(transformed_list[i][0]) == -1:\n",
    "        pass\n",
    "    else:\n",
    "        pass\n",
    "        #axes[row][col].text(int(transformed_list[i][0]), int(transformed_list[i][1]) , s=\"\\u2605\", fontsize=30, color='green', ha='center', va='center')\n",
    "\n",
    "    distance = calculate_distance(x1=x,x2=int(transformed_list[i][0]), y1=y,y2=int(transformed_list[i][1]))\n",
    "    distances.append(distance)\n",
    "    print(\"Distance:\",distance)\n",
    "    \n",
    "plt.subplots_adjust(wspace=.12,hspace=.12)\n",
    "#plt.savefig('figure.jpg',format='jpg', dpi=300, bbox_inches='tight', pad_inches=.1)\n",
    "plt.show()"
   ]
  },
  {
   "cell_type": "code",
   "execution_count": null,
   "metadata": {},
   "outputs": [],
   "source": []
  }
 ],
 "metadata": {
  "kernelspec": {
   "display_name": "jwst-dev",
   "language": "python",
   "name": "python3"
  },
  "language_info": {
   "codemirror_mode": {
    "name": "ipython",
    "version": 3
   },
   "file_extension": ".py",
   "mimetype": "text/x-python",
   "name": "python",
   "nbconvert_exporter": "python",
   "pygments_lexer": "ipython3",
   "version": "3.9.16"
  }
 },
 "nbformat": 4,
 "nbformat_minor": 2
}

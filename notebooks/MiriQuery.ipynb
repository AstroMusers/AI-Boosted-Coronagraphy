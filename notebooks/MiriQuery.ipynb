{
 "cells": [
  {
   "cell_type": "code",
   "execution_count": 1,
   "id": "a80f41db-d156-4c21-89ee-a7f7c5f170ba",
   "metadata": {},
   "outputs": [],
   "source": [
    "from astropy.io import fits\n",
    "from astropy.table import unique, vstack\n",
    "from astropy.time import Time\n",
    "from astroquery.mast import Mast,Observations\n",
    "from astropy.table import Table\n",
    "import matplotlib.pyplot as plt\n",
    "import os\n",
    "import pandas as pd\n",
    "import glob\n",
    "import json"
   ]
  },
  {
   "cell_type": "code",
   "execution_count": 2,
   "id": "67fe1dff-8358-4ce7-a89a-6e93bc0f0bd0",
   "metadata": {},
   "outputs": [],
   "source": [
    "def set_params(parameters):\n",
    "    return [{\"paramName\" : p, \"values\" : v} for p, v in parameters.items()]\n",
    "\n",
    "def set_mjd_range(min, max):\n",
    "    '''Set time range in MJD given limits expressed as ISO-8601 dates'''\n",
    "    return {\n",
    "        \"min\": Time(min, format='isot').mjd, \n",
    "        \"max\": Time(max, format='isot').mjd\n",
    "        }\n"
   ]
  },
  {
   "cell_type": "code",
   "execution_count": 5,
   "id": "a8201009-830c-4451-9d22-ec3abb0d3267",
   "metadata": {},
   "outputs": [],
   "source": [
    "def get_proposal_products(proposal_id:str):\n",
    "    \n",
    "    service = 'Mast.Jwst.Filtered.Miri'\n",
    "\n",
    "    keywords = {\n",
    "            'exp_type':['MIR_IMAGE'],\n",
    "            'instrume':['MIRI'],\n",
    "            'date_obs_mjd': [set_mjd_range('2022-06-01','2022-12-01')],\n",
    "           }\n",
    "\n",
    "    params = {'columns': '*',\n",
    "          'filters': set_params(keywords)\n",
    "         }\n",
    "\n",
    "    \n",
    "    t = Mast.service_request(service, params)\n",
    "    fn = list(set(t['filename']))\n",
    "    ids = list(set(['_'.join(x.split('_')[:-1]) for x in fn]))\n",
    "    \n",
    "    matched_obs = Observations.query_criteria(instrument_name='Miri',\n",
    "                                          obs_id=ids,\n",
    "                                         )\n",
    "    batch_size = 10\n",
    "    batches = [matched_obs[i:i+batch_size] for i in range(0, len(matched_obs), batch_size)]\n",
    "    t = [Observations.get_product_list(obs) for obs in batches]\n",
    "    products = unique(vstack(t), keys='productFilename')\n",
    "    filtered_products = Observations.filter_products(products,\n",
    "                                                 #dataproduct_type='image',\n",
    "                                                 #productType = ['SCIENCE'],\n",
    "                                                 #proposal_id = [f'{proposal_id}'],)\n",
    "                                                 productSubGroupDescription = ['RATEINTS'])\n",
    "                                                                               #'CALINTS',\n",
    "                                                                               #'ASN'])\n",
    "    \n",
    "    return products,filtered_products"
   ]
  },
  {
   "cell_type": "code",
   "execution_count": 6,
   "id": "4643b659-7b76-4506-bb12-f082f0ce3fc2",
   "metadata": {},
   "outputs": [],
   "source": [
    "products, filtered_products = get_proposal_products(proposal_id='1386')"
   ]
  },
  {
   "cell_type": "code",
   "execution_count": 7,
   "id": "d84c40ff-e692-4b59-b948-9c81de7fb720",
   "metadata": {},
   "outputs": [
    {
     "data": {
      "text/html": [
       "<div><i>Table length=6477</i>\n",
       "<table id=\"table140193044457904\" class=\"table-striped table-bordered table-condensed\">\n",
       "<thead><tr><th>obsID</th><th>obs_collection</th><th>dataproduct_type</th><th>obs_id</th><th>description</th><th>type</th><th>dataURI</th><th>productType</th><th>productGroupDescription</th><th>productSubGroupDescription</th><th>productDocumentationURL</th><th>project</th><th>prvversion</th><th>proposal_id</th><th>productFilename</th><th>size</th><th>parent_obsid</th><th>dataRights</th><th>calib_level</th></tr></thead>\n",
       "<thead><tr><th>str9</th><th>str4</th><th>str5</th><th>str42</th><th>str64</th><th>str1</th><th>str77</th><th>str9</th><th>str28</th><th>str13</th><th>str1</th><th>str7</th><th>str5</th><th>str4</th><th>str59</th><th>int64</th><th>str9</th><th>str16</th><th>int64</th></tr></thead>\n",
       "<tr><td>87529899</td><td>JWST</td><td>image</td><td>jw01022017001_03101_00001_mirimage</td><td>exposure (L2a): 3D countrate per integration</td><td>S</td><td>mast:JWST/product/jw01022017001_03101_00001_mirimage_rateints.fits</td><td>SCIENCE</td><td>--</td><td>RATEINTS</td><td>--</td><td>CALJWST</td><td>1.5.3</td><td>1022</td><td>jw01022017001_03101_00001_mirimage_rateints.fits</td><td>42336000</td><td>87529921</td><td>PUBLIC</td><td>2</td></tr>\n",
       "<tr><td>87529912</td><td>JWST</td><td>image</td><td>jw01022018001_02101_00001_mirimage</td><td>exposure (L2a): 3D countrate per integration</td><td>S</td><td>mast:JWST/product/jw01022018001_02101_00001_mirimage_rateints.fits</td><td>SCIENCE</td><td>--</td><td>RATEINTS</td><td>--</td><td>CALJWST</td><td>1.5.3</td><td>1022</td><td>jw01022018001_02101_00001_mirimage_rateints.fits</td><td>42336000</td><td>87529944</td><td>PUBLIC</td><td>2</td></tr>\n",
       "<tr><td>87529927</td><td>JWST</td><td>image</td><td>jw01022019001_02101_00001_mirimage</td><td>exposure (L2a): 3D countrate per integration</td><td>S</td><td>mast:JWST/product/jw01022019001_02101_00001_mirimage_rateints.fits</td><td>SCIENCE</td><td>--</td><td>RATEINTS</td><td>--</td><td>CALJWST</td><td>1.5.3</td><td>1022</td><td>jw01022019001_02101_00001_mirimage_rateints.fits</td><td>42336000</td><td>87529958</td><td>PUBLIC</td><td>2</td></tr>\n",
       "<tr><td>87584571</td><td>JWST</td><td>image</td><td>jw01022020001_03101_00001_mirimage</td><td>exposure (L2a): 3D countrate per integration</td><td>S</td><td>mast:JWST/product/jw01022020001_03101_00001_mirimage_rateints.fits</td><td>SCIENCE</td><td>--</td><td>RATEINTS</td><td>--</td><td>CALJWST</td><td>1.5.3</td><td>1022</td><td>jw01022020001_03101_00001_mirimage_rateints.fits</td><td>42336000</td><td>87584603</td><td>PUBLIC</td><td>2</td></tr>\n",
       "<tr><td>...</td><td>...</td><td>...</td><td>...</td><td>...</td><td>...</td><td>...</td><td>...</td><td>...</td><td>...</td><td>...</td><td>...</td><td>...</td><td>...</td><td>...</td><td>...</td><td>...</td><td>...</td><td>...</td></tr>\n",
       "<tr><td>88594572</td><td>JWST</td><td>image</td><td>jw02741021001_02101_00001_mirimage</td><td>exposure (L2a): 3D countrate per integration</td><td>S</td><td>mast:JWST/product/jw02741021001_02101_00001_mirimage_rateints.fits</td><td>SCIENCE</td><td>Minimum Recommended Products</td><td>RATEINTS</td><td>--</td><td>CALJWST</td><td>1.5.3</td><td>2741</td><td>jw02741021001_02101_00001_mirimage_rateints.fits</td><td>21193920</td><td>88594572</td><td>PUBLIC</td><td>2</td></tr>\n",
       "<tr><td>89364685</td><td>JWST</td><td>image</td><td>jw02741022001_02101_00001_mirimage</td><td>exposure (L2a): 3D countrate per integration</td><td>S</td><td>mast:JWST/product/jw02741022001_02101_00001_mirimage_rateints.fits</td><td>SCIENCE</td><td>Minimum Recommended Products</td><td>RATEINTS</td><td>--</td><td>CALJWST</td><td>1.5.3</td><td>2741</td><td>jw02741022001_02101_00001_mirimage_rateints.fits</td><td>21193920</td><td>89364685</td><td>PUBLIC</td><td>2</td></tr>\n",
       "<tr><td>89375409</td><td>JWST</td><td>image</td><td>jw02741023001_02101_00001_mirimage</td><td>exposure (L2a): 3D countrate per integration</td><td>S</td><td>mast:JWST/product/jw02741023001_02101_00001_mirimage_rateints.fits</td><td>SCIENCE</td><td>Minimum Recommended Products</td><td>RATEINTS</td><td>--</td><td>CALJWST</td><td>1.6.2</td><td>2741</td><td>jw02741023001_02101_00001_mirimage_rateints.fits</td><td>21196800</td><td>89375409</td><td>PUBLIC</td><td>2</td></tr>\n",
       "<tr><td>89376489</td><td>JWST</td><td>image</td><td>jw02741024001_02101_00001_mirimage</td><td>exposure (L2a): 3D countrate per integration</td><td>S</td><td>mast:JWST/product/jw02741024001_02101_00001_mirimage_rateints.fits</td><td>SCIENCE</td><td>Minimum Recommended Products</td><td>RATEINTS</td><td>--</td><td>CALJWST</td><td>1.6.2</td><td>2741</td><td>jw02741024001_02101_00001_mirimage_rateints.fits</td><td>21196800</td><td>89376489</td><td>PUBLIC</td><td>2</td></tr>\n",
       "<tr><td>89875452</td><td>JWST</td><td>image</td><td>jw02741026001_02101_00001_mirimage</td><td>exposure (L2a): 3D countrate per integration</td><td>S</td><td>mast:JWST/product/jw02741026001_02101_00001_mirimage_rateints.fits</td><td>SCIENCE</td><td>Minimum Recommended Products</td><td>RATEINTS</td><td>--</td><td>CALJWST</td><td>1.6.2</td><td>2741</td><td>jw02741026001_02101_00001_mirimage_rateints.fits</td><td>21196800</td><td>89875452</td><td>PUBLIC</td><td>2</td></tr>\n",
       "</table></div>"
      ],
      "text/plain": [
       "<Table length=6477>\n",
       " obsID   obs_collection dataproduct_type               obs_id                               description                  ...   size   parent_obsid dataRights calib_level\n",
       "  str9        str4            str5                     str42                                   str64                     ...  int64       str9       str16       int64   \n",
       "-------- -------------- ---------------- ---------------------------------- -------------------------------------------- ... -------- ------------ ---------- -----------\n",
       "87529899           JWST            image jw01022017001_03101_00001_mirimage exposure (L2a): 3D countrate per integration ... 42336000     87529921     PUBLIC           2\n",
       "87529912           JWST            image jw01022018001_02101_00001_mirimage exposure (L2a): 3D countrate per integration ... 42336000     87529944     PUBLIC           2\n",
       "87529927           JWST            image jw01022019001_02101_00001_mirimage exposure (L2a): 3D countrate per integration ... 42336000     87529958     PUBLIC           2\n",
       "87584571           JWST            image jw01022020001_03101_00001_mirimage exposure (L2a): 3D countrate per integration ... 42336000     87584603     PUBLIC           2\n",
       "     ...            ...              ...                                ...                                          ... ...      ...          ...        ...         ...\n",
       "88594572           JWST            image jw02741021001_02101_00001_mirimage exposure (L2a): 3D countrate per integration ... 21193920     88594572     PUBLIC           2\n",
       "89364685           JWST            image jw02741022001_02101_00001_mirimage exposure (L2a): 3D countrate per integration ... 21193920     89364685     PUBLIC           2\n",
       "89375409           JWST            image jw02741023001_02101_00001_mirimage exposure (L2a): 3D countrate per integration ... 21196800     89375409     PUBLIC           2\n",
       "89376489           JWST            image jw02741024001_02101_00001_mirimage exposure (L2a): 3D countrate per integration ... 21196800     89376489     PUBLIC           2\n",
       "89875452           JWST            image jw02741026001_02101_00001_mirimage exposure (L2a): 3D countrate per integration ... 21196800     89875452     PUBLIC           2"
      ]
     },
     "execution_count": 7,
     "metadata": {},
     "output_type": "execute_result"
    }
   ],
   "source": [
    "filtered_products"
   ]
  },
  {
   "cell_type": "code",
   "execution_count": 9,
   "id": "be1d5379-ad33-4879-9e70-41f9c626fd52",
   "metadata": {},
   "outputs": [],
   "source": [
    "def determine_and_count(column:str,table):    \n",
    "    prop_list = []\n",
    "    counter = {}\n",
    "    for i in range(len(table['proposal_id'])):\n",
    "\n",
    "        if table[f'{column}'][i] not in prop_list:\n",
    "\n",
    "            prop_list.append(table[f'{column}'][i])\n",
    "            try:\n",
    "                counter[table[f'{column}'][i]] = 1\n",
    "            except:\n",
    "                print(table[f'{column}'][i])\n",
    "                continue\n",
    "        else:\n",
    "            try:\n",
    "                counter[table[f'{column}'][i]] += 1\n",
    "            except:\n",
    "                continue\n",
    "            \n",
    "    print(prop_list)\n",
    "    print(counter)"
   ]
  },
  {
   "cell_type": "code",
   "execution_count": 10,
   "id": "3e524ad7-b473-4f21-8b2c-7f4d5157b01f",
   "metadata": {},
   "outputs": [
    {
     "name": "stdout",
     "output_type": "stream",
     "text": [
      "['1045', '1532', '1536', '1538']\n",
      "{'1045': 1428, '1532': 1474, '1536': 1274, '1538': 1007}\n"
     ]
    }
   ],
   "source": [
    "determine_and_count(column='proposal_id',table=products)"
   ]
  },
  {
   "cell_type": "code",
   "execution_count": 23,
   "id": "bfa0eb9b-f369-44ff-b62c-c26596a8e4eb",
   "metadata": {},
   "outputs": [
    {
     "name": "stdout",
     "output_type": "stream",
     "text": [
      "['ASN', 'RATEINTS']\n",
      "{'ASN': 266, 'RATEINTS': 319}\n"
     ]
    }
   ],
   "source": [
    "determine_and_count(column='productSubGroupDescription',table=filtered_products)"
   ]
  },
  {
   "cell_type": "code",
   "execution_count": null,
   "id": "487f58f8-dd36-450b-9c4f-6c631c72f961",
   "metadata": {},
   "outputs": [],
   "source": []
  }
 ],
 "metadata": {
  "kernelspec": {
   "display_name": "Python 3 (ipykernel)",
   "language": "python",
   "name": "python3"
  },
  "language_info": {
   "codemirror_mode": {
    "name": "ipython",
    "version": 3
   },
   "file_extension": ".py",
   "mimetype": "text/x-python",
   "name": "python",
   "nbconvert_exporter": "python",
   "pygments_lexer": "ipython3",
   "version": "3.10.8"
  }
 },
 "nbformat": 4,
 "nbformat_minor": 5
}

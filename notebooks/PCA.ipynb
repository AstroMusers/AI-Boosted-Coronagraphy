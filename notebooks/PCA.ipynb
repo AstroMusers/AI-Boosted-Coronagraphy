{
 "cells": [
  {
   "cell_type": "code",
   "execution_count": null,
   "id": "226b9015-2451-4003-a6e2-4ec7668ac867",
   "metadata": {},
   "outputs": [],
   "source": [
    "from glob import glob\n",
    "import h5py\n",
    "import os\n",
    "import numpy as np\n",
    "from sklearn.decomposition import PCA\n",
    "import matplotlib.pyplot as plt\n",
    "import matplotlib.patches as patches"
   ]
  },
  {
   "cell_type": "code",
   "execution_count": null,
   "id": "3ef342e0-0ab1-485d-8215-8c2225292a03",
   "metadata": {},
   "outputs": [],
   "source": [
    "from matplotlib import rcParams\n",
    "import matplotlib as mpl\n",
    "rcParams['figure.figsize'] = [15,10]\n",
    "rcParams['figure.dpi'] = 80\n",
    "rcParams['savefig.dpi'] = 80\n",
    "\n",
    "COLOR = 'white'\n",
    "mpl.rcParams['text.color'] = COLOR\n",
    "mpl.rcParams['axes.labelcolor'] = COLOR\n",
    "mpl.rcParams['xtick.color'] = COLOR\n",
    "mpl.rcParams['ytick.color'] = COLOR"
   ]
  },
  {
   "cell_type": "code",
   "execution_count": null,
   "id": "bf64e3fd-c7e3-487c-b2a6-89fabc0172c7",
   "metadata": {},
   "outputs": [],
   "source": [
    "def pca_func(flatten_final,n_comp,ncols=10):\n",
    "    \n",
    "    pca = PCA(n_components=n_comp)\n",
    "    lower_dimensional_data = pca.fit_transform(flatten_final)\n",
    "    approximation = pca.inverse_transform(lower_dimensional_data)\n",
    "    #print(pca.n_components)\n",
    "    \n",
    "    return approximation,lower_dimensional_data\n",
    "    "
   ]
  },
  {
   "cell_type": "code",
   "execution_count": null,
   "id": "f76ffb6a-73ac-4906-8f32-101838b7d484",
   "metadata": {},
   "outputs": [],
   "source": [
    "def visualize_pca(flatten_final, approximation, ncols=10):\n",
    "    substract = np.abs(flatten_final - approximation)\n",
    "    nsample = flatten_final.shape[0]\n",
    "    #subs_mean = np.mean(substract,axis=0)\n",
    "    \n",
    "    _, axes = plt.subplots(nrows=3,ncols=ncols,figsize=(20,8))\n",
    "    \n",
    "    for idx in range(ncols):\n",
    "        \n",
    "        rand_num = np.random.randint(0,nsample)\n",
    "        #print(rand_num)\n",
    "        \n",
    "        \n",
    "        axes[0][idx].imshow(flatten_final[rand_num].reshape(320, 320),\n",
    "              cmap = plt.cm.gray, interpolation='nearest',\n",
    "              clim=(0, 255));\n",
    "        axes[1][idx].imshow(approximation[rand_num].reshape(320, 320),\n",
    "              cmap = plt.cm.gray, interpolation='nearest',\n",
    "              clim=(0, 255));\n",
    "    \n",
    "        axes[2][idx].imshow(np.sinh(substract[rand_num]).reshape(320, 320),\n",
    "              cmap = plt.cm.gray, interpolation='nearest',\n",
    "              clim=(0, 255));\n",
    "        \n",
    "        if idx == 0:\n",
    "            \n",
    "            axes[0][idx].set_ylabel('Original',fontsize=10,fontweight='bold')\n",
    "            axes[1][idx].set_ylabel('Reconstructed',fontsize=10,fontweight='bold')\n",
    "            axes[2][idx].set_ylabel('Subtracted',fontsize=10,fontweight='bold')\n",
    "            \n",
    "        axes[0][idx].set_yticks([])\n",
    "        axes[0][idx].set_xticks([])\n",
    "        \n",
    "        axes[1][idx].set_yticks([])\n",
    "        axes[1][idx].set_xticks([])\n",
    "        \n",
    "        axes[2][idx].set_yticks([])\n",
    "        axes[2][idx].set_xticks([])\n",
    "        \n",
    "    plt.subplots_adjust(wspace=0,hspace=0)\n",
    "    _.patch.set_facecolor('#423f3b')\n",
    "    plt.show()\n",
    "    "
   ]
  },
  {
   "cell_type": "code",
   "execution_count": null,
   "id": "d65a6a00-9c46-4099-a311-8b157aec295a",
   "metadata": {},
   "outputs": [],
   "source": [
    "def visualize_latent(low_dim_data,dimension):\n",
    "    \n",
    "    \n",
    "    if dimension == 2:\n",
    "    \n",
    "        ((pc1_min, pc2_min), \n",
    "        (pc1_max, pc2_max)) = np.percentile(low_dim_data, q=[5, 95], axis=0)\n",
    "\n",
    "\n",
    "        roi_rect = patches.Rectangle(xy=(pc1_min, pc2_min),\n",
    "                                 width=pc1_max-pc1_min,\n",
    "                                 height=pc2_max-pc2_min, alpha=.4)\n",
    "\n",
    "        fig, ax = plt.subplots(nrows=1,ncols=1,figsize=(15,15))\n",
    "\n",
    "        ax.scatter(*low_dim_data.T)\n",
    "        ax.add_patch(roi_rect)\n",
    "        ax.set_xlabel('$pc_1$')\n",
    "        ax.set_ylabel('$pc_2$')\n",
    "        fig.patch.set_facecolor('#423f3b')\n",
    "\n",
    "        plt.show()\n",
    "        \n",
    "    if dimension == 3:\n",
    "                \n",
    "        fig = plt.figure()\n",
    "        ax = fig.add_subplot(projection='3d')\n",
    "        ax.scatter(*low_dim_data.T)    \n",
    "        ax.set_xlabel('$pc_1$')\n",
    "        ax.set_ylabel('$pc_2$')\n",
    "        ax.set_zlabel('$pc_3$')\n",
    "        fig.patch.set_facecolor('#423f3b')\n",
    "        plt.show()\n"
   ]
  },
  {
   "cell_type": "markdown",
   "id": "03fd774a-1d8b-4edc-bb5e-490d9ba5c7fa",
   "metadata": {},
   "source": [
    "## Data loading"
   ]
  },
  {
   "cell_type": "code",
   "execution_count": null,
   "id": "fdb0e678-7428-41f7-9dde-e3d51ec9a204",
   "metadata": {},
   "outputs": [],
   "source": [
    "directory = f'/home/sarperyn/sarperyurtseven/ProjectFiles/dataset/NIRCAM/'"
   ]
  },
  {
   "cell_type": "code",
   "execution_count": null,
   "id": "60a37d8c-0373-4020-984e-b86c15f80a15",
   "metadata": {},
   "outputs": [],
   "source": [
    "h5_files = glob(os.path.join(directory,'**/*.h5'))"
   ]
  },
  {
   "cell_type": "code",
   "execution_count": null,
   "id": "ec5b68a3-7c57-4352-b5e4-e7d61742be4d",
   "metadata": {},
   "outputs": [],
   "source": [
    "h5_files"
   ]
  },
  {
   "cell_type": "code",
   "execution_count": null,
   "id": "e753fea7-cba3-478e-a699-629178b917c1",
   "metadata": {},
   "outputs": [],
   "source": [
    "data_1441 = h5py.File(h5_files[0],'r')\n",
    "data_1386 = h5py.File(h5_files[1],'r')"
   ]
  },
  {
   "cell_type": "markdown",
   "id": "30e5a59b-48fc-4541-8610-918a4e36bb91",
   "metadata": {},
   "source": [
    "## 1386"
   ]
  },
  {
   "cell_type": "code",
   "execution_count": null,
   "id": "8fd1a228-37be-4dfb-a30e-1a3d3e8ed58a",
   "metadata": {},
   "outputs": [],
   "source": [
    "keys_1386 = [x for x in data_1386.keys()]"
   ]
  },
  {
   "cell_type": "code",
   "execution_count": null,
   "id": "77bfd2bd-36a8-48ec-ab67-d459ab91fba9",
   "metadata": {},
   "outputs": [],
   "source": [
    "final_1386 = np.concatenate((np.array(data_1386[keys_1386[0]]),np.array(data_1386[keys_1386[1]])))\n",
    "\n",
    "for i in range(len(keys_1386)-2):\n",
    "    \n",
    "    final_1386 = np.concatenate((final_1386,np.array(data_1386[keys_1386[i+2]])))\n",
    "    \n",
    "final_1386.shape"
   ]
  },
  {
   "cell_type": "code",
   "execution_count": null,
   "id": "df1727e4-a835-4750-bd88-d8f1e7366dfb",
   "metadata": {},
   "outputs": [],
   "source": [
    "flatten_final_1386 = np.resize(final_1386, (final_1386.shape[0],320*320))\n",
    "flatten_final_1386.shape"
   ]
  },
  {
   "cell_type": "code",
   "execution_count": null,
   "id": "cdb34b6f-6272-4b65-a27e-1a0b3cd6d307",
   "metadata": {},
   "outputs": [],
   "source": [
    "approx_1386,low_dim_1386 = pca_func(flatten_final_1386,3)"
   ]
  },
  {
   "cell_type": "code",
   "execution_count": null,
   "id": "90dac97c-c46f-4c7a-8be0-fc8dfcb66195",
   "metadata": {},
   "outputs": [],
   "source": [
    "visualize_pca(flatten_final_1386, approx_1386)"
   ]
  },
  {
   "cell_type": "code",
   "execution_count": null,
   "id": "2c4106f4-a39f-43e9-b74d-bac386cab038",
   "metadata": {},
   "outputs": [],
   "source": [
    "visualize_latent(low_dim_1386,3)"
   ]
  },
  {
   "cell_type": "markdown",
   "id": "dd8a604e-41dc-49aa-8eae-aa77e622b485",
   "metadata": {},
   "source": [
    "## 1441"
   ]
  },
  {
   "cell_type": "code",
   "execution_count": null,
   "id": "a2e17df6-78f7-4069-b998-27b53c3a7a8d",
   "metadata": {},
   "outputs": [],
   "source": [
    "keys_1441 = [x for x in data_1441.keys()]"
   ]
  },
  {
   "cell_type": "code",
   "execution_count": null,
   "id": "197f1d8e-d469-4275-af5f-f7e034c9a676",
   "metadata": {},
   "outputs": [],
   "source": [
    "f = np.concatenate((np.array(data_1441[keys_1441[0]]),np.array(data_1441[keys_1441[1]])))\n",
    "final_1441 = np.concatenate((f,np.array(data_1441[keys_1441[2]])))"
   ]
  },
  {
   "cell_type": "code",
   "execution_count": null,
   "id": "271e1b88-ad0a-4c1f-8d0a-a25f672b237c",
   "metadata": {},
   "outputs": [],
   "source": [
    "flatten_final_1441 = np.resize(final_1441, (final_1441.shape[0],320*320))\n",
    "flatten_final_1441.shape"
   ]
  },
  {
   "cell_type": "code",
   "execution_count": null,
   "id": "8f528dea-9a29-4b0f-9972-f3142b79b48b",
   "metadata": {},
   "outputs": [],
   "source": [
    "approx_1441,low_dim_1441 = pca_func(flatten_final_1441,3)"
   ]
  },
  {
   "cell_type": "code",
   "execution_count": null,
   "id": "d4084d9f-f0bc-49ef-ad03-beb707e39a5c",
   "metadata": {},
   "outputs": [],
   "source": [
    "visualize_pca(flatten_final_1441, approx_1441)"
   ]
  },
  {
   "cell_type": "code",
   "execution_count": null,
   "id": "6db8b7cf-e4f8-424c-a686-a465917e1b5b",
   "metadata": {},
   "outputs": [],
   "source": [
    "visualize_latent(low_dim_1441,3)"
   ]
  },
  {
   "cell_type": "markdown",
   "id": "f4e8edb9-6dc6-4993-baab-118a13d19a34",
   "metadata": {},
   "source": [
    "Now we can try pca for every psfstack in 1441. We will calculate one by one."
   ]
  },
  {
   "cell_type": "code",
   "execution_count": null,
   "id": "0562e6a5-04af-4297-b780-d9ed18655a61",
   "metadata": {},
   "outputs": [],
   "source": [
    "batch1 = np.array(data_1441[keys_1441[0]])\n",
    "batch2 = np.array(data_1441[keys_1441[1]])\n",
    "batch3 = np.array(data_1441[keys_1441[2]])"
   ]
  },
  {
   "cell_type": "code",
   "execution_count": null,
   "id": "088b5e4d-c547-44c9-9747-63fe15c79f9c",
   "metadata": {},
   "outputs": [],
   "source": [
    "flatten_batch1 = np.resize(batch1, (batch1.shape[0],320*320))\n",
    "flatten_batch2 = np.resize(batch2, (batch2.shape[0],320*320))\n",
    "flatten_batch3 = np.resize(batch3, (batch3.shape[0],320*320))"
   ]
  },
  {
   "cell_type": "code",
   "execution_count": null,
   "id": "4647d9dd-a99e-4f45-a4b1-1ff62f4bd5cc",
   "metadata": {},
   "outputs": [],
   "source": [
    "approx1_1441,low_dim_1441_1 =  pca_func(flatten_batch1,3)\n",
    "approx2_1441,low_dim_1441_2 =  pca_func(flatten_batch2,3)\n",
    "approx3_1441,low_dim_1441_3 =  pca_func(flatten_batch3,3)"
   ]
  },
  {
   "cell_type": "code",
   "execution_count": null,
   "id": "d2845ab6-ffe3-4a96-ad9a-31714d6b90ce",
   "metadata": {},
   "outputs": [],
   "source": [
    "visualize_pca(flatten_batch1, approx1_1441)"
   ]
  },
  {
   "cell_type": "code",
   "execution_count": null,
   "id": "95582abd-92f1-4a85-9ba0-c82a958c0565",
   "metadata": {},
   "outputs": [],
   "source": [
    "visualize_latent(low_dim_1441_1,3)"
   ]
  },
  {
   "cell_type": "code",
   "execution_count": null,
   "id": "6620527d-b6dd-4105-8726-4a62ffbcf695",
   "metadata": {},
   "outputs": [],
   "source": [
    "visualize_pca(flatten_batch2, approx2_1441)"
   ]
  },
  {
   "cell_type": "code",
   "execution_count": null,
   "id": "e7c1ab7b-f08b-40a2-ae69-fdd072a2ca6e",
   "metadata": {},
   "outputs": [],
   "source": [
    "visualize_latent(low_dim_1441_2,3)"
   ]
  },
  {
   "cell_type": "code",
   "execution_count": null,
   "id": "6a5133f0-8000-4796-a328-d0ac92a9328a",
   "metadata": {},
   "outputs": [],
   "source": [
    "visualize_pca(flatten_batch3, approx3_1441)"
   ]
  },
  {
   "cell_type": "code",
   "execution_count": null,
   "id": "76ce6f72-c03c-4208-91af-bdfa920f9edf",
   "metadata": {},
   "outputs": [],
   "source": [
    "visualize_latent(low_dim_1441_3,3)"
   ]
  },
  {
   "cell_type": "code",
   "execution_count": null,
   "id": "39ba1b7a-8063-4a24-9187-01fe099fc3d2",
   "metadata": {},
   "outputs": [],
   "source": []
  },
  {
   "cell_type": "code",
   "execution_count": null,
   "id": "16fec197-1257-4776-9fa4-14592e8d054d",
   "metadata": {},
   "outputs": [],
   "source": []
  }
 ],
 "metadata": {
  "kernelspec": {
   "display_name": "Python 3 (ipykernel)",
   "language": "python",
   "name": "python3"
  },
  "language_info": {
   "codemirror_mode": {
    "name": "ipython",
    "version": 3
   },
   "file_extension": ".py",
   "mimetype": "text/x-python",
   "name": "python",
   "nbconvert_exporter": "python",
   "pygments_lexer": "ipython3",
   "version": "3.10.8"
  }
 },
 "nbformat": 4,
 "nbformat_minor": 5
}

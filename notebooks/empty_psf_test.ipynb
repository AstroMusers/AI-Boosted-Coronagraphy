{
 "cells": [
  {
   "cell_type": "code",
   "execution_count": 1,
   "metadata": {},
   "outputs": [],
   "source": [
    "from glob import glob\n",
    "\n",
    "import numpy as np\n",
    "\n",
    "import matplotlib.pyplot as plt\n",
    "\n",
    "import cv2 as cv\n",
    "\n",
    "from astropy.io import fits"
   ]
  },
  {
   "cell_type": "markdown",
   "metadata": {},
   "source": [
    "# EMPTY PSF CHECK"
   ]
  },
  {
   "cell_type": "code",
   "execution_count": 2,
   "metadata": {},
   "outputs": [],
   "source": [
    "real_psf_dir = glob('/data/scratch/bariskurtkaya/dataset/NIRCAM/1386/mastDownload/JWST/*psfstack.fits')"
   ]
  },
  {
   "cell_type": "code",
   "execution_count": 3,
   "metadata": {},
   "outputs": [
    {
     "data": {
      "text/plain": [
       "['/data/scratch/bariskurtkaya/dataset/NIRCAM/1386/mastDownload/JWST/jw01386-a3001_t004_nircam_f356w-maskrnd-sub320a335r_psfstack.fits',\n",
       " '/data/scratch/bariskurtkaya/dataset/NIRCAM/1386/mastDownload/JWST/jw01386-a3001_t004_nircam_f300m-maskrnd-sub320a335r_psfstack.fits',\n",
       " '/data/scratch/bariskurtkaya/dataset/NIRCAM/1386/mastDownload/JWST/jw01386-a3001_t004_nircam_f410m-maskrnd-sub320a335r_psfstack.fits',\n",
       " '/data/scratch/bariskurtkaya/dataset/NIRCAM/1386/mastDownload/JWST/jw01386-a3001_t004_nircam_f360m-maskrnd-sub320a335r_psfstack.fits']"
      ]
     },
     "execution_count": 3,
     "metadata": {},
     "output_type": "execute_result"
    }
   ],
   "source": [
    "real_psf_dir"
   ]
  },
  {
   "cell_type": "code",
   "execution_count": 5,
   "metadata": {},
   "outputs": [],
   "source": [
    "def create_psd(psf):\n",
    "    # cropped_psf = psf[\n",
    "    #     int(psf.shape[0]*3/8):int(psf.shape[0]*5/8),\n",
    "    #     int(psf.shape[1]*3/8):int(psf.shape[1]*5/8)\n",
    "    #     ]\n",
    "    psf = np.nan_to_num(psf)\n",
    "    psd = np.abs(np.fft.fftshift(np.fft.fft2(psf)))**2\n",
    "    psd = np.log10(psd)\n",
    "    psd = psd/psd.max()\n",
    "    return psd"
   ]
  },
  {
   "cell_type": "code",
   "execution_count": 6,
   "metadata": {},
   "outputs": [],
   "source": [
    "def is_psf_empty(psf):\n",
    "    width, height = psf.shape[0], psf.shape[1]\n",
    "    psd = create_psd(psf)\n",
    "    if psd[int(width/2) -1][int(height/2) -1] < 0.85:\n",
    "        return True\n",
    "    else:\n",
    "        return False"
   ]
  },
  {
   "cell_type": "code",
   "execution_count": 7,
   "metadata": {},
   "outputs": [
    {
     "name": "stdout",
     "output_type": "stream",
     "text": [
      "(18, 320, 320)\n",
      "jw01386-a3001_t004_nircam_f356w-maskrnd-sub320a335r_psfstack.fits 0\n",
      "(466, 320, 320)\n",
      "jw01386-a3001_t004_nircam_f300m-maskrnd-sub320a335r_psfstack.fits 72\n",
      "(18, 320, 320)\n",
      "jw01386-a3001_t004_nircam_f410m-maskrnd-sub320a335r_psfstack.fits 0\n",
      "(296, 320, 320)\n",
      "jw01386-a3001_t004_nircam_f360m-maskrnd-sub320a335r_psfstack.fits 75\n"
     ]
    }
   ],
   "source": [
    "for _, psfstackdir in enumerate(real_psf_dir):\n",
    "   psfstack = fits.open(psfstackdir)[1].data\n",
    "\n",
    "   print(psfstack.shape)\n",
    "   x = 0\n",
    "\n",
    "   for _, psf in enumerate(psfstack):\n",
    "     if is_psf_empty(psf):\n",
    "        x=x+1\n",
    "\n",
    "   print(psfstackdir.split('/')[-1], x)"
   ]
  },
  {
   "cell_type": "code",
   "execution_count": null,
   "metadata": {},
   "outputs": [],
   "source": [
    "psfstack = fits.open(real_psf_dir[0])[1].data\n",
    "\n",
    "psd = create_psd(np.nan_to_num(psfstack[10]))\n",
    "\n",
    "width, height = psd.shape[0], psd.shape[1]\n",
    "\n",
    "psd = psd * 1 /np.max(psd)\n",
    "\n",
    "print(psd[int(width/2)][int(height/2)], int(width/2), int(height/2), psd.shape)\n",
    "\n",
    "psd[int(width/2)][int(height/2)] = 0\n",
    "\n",
    "cropped_psf = psf[\n",
    "        int(psf.shape[0]*3/8):int(psf.shape[0]*5/8),\n",
    "        int(psf.shape[1]*3/8):int(psf.shape[1]*5/8)\n",
    "        ]\n",
    "\n",
    "plt.imshow(cropped_psf)\n",
    "\n",
    "print(real_psf_dir[1])"
   ]
  },
  {
   "cell_type": "code",
   "execution_count": null,
   "metadata": {},
   "outputs": [],
   "source": [
    "psfstack = fits.open(real_psf_dir[2])[1].data\n",
    "\n",
    "count_of_psf = psfstack.shape[0]\n",
    "\n",
    "plt.subplots(31, 15, figsize=(5, 20))\n",
    "plt.subplots_adjust(bottom=10, right=8, top=15)\n",
    "\n",
    "\n",
    "for idx, psf in enumerate(psfstack[0:465]):\n",
    "\n",
    "    crop_coef = [\n",
    "        1/4, \n",
    "        3/4\n",
    "    ]\n",
    "    \n",
    "    psf_crop = psf[\n",
    "        int(psf.shape[0]*crop_coef[0]):int(psf.shape[0]*crop_coef[1]),\n",
    "        int(psf.shape[1]*crop_coef[0]):int(psf.shape[1]*crop_coef[1])\n",
    "        ]\n",
    "    plt.title(f'mean {np.round(np.nanmean(psf), 3)}', fontstyle='italic')\n",
    "    plt.subplot(31, 15, idx+1)\n",
    "    plt.imshow(psf_crop, aspect='auto')"
   ]
  },
  {
   "cell_type": "code",
   "execution_count": null,
   "metadata": {},
   "outputs": [],
   "source": [
    "psfstack_npy_dir = glob(f'/data/scratch/bariskurtkaya/dataset/NIRCAM/1386/injections/*.npy')\n",
    "\n",
    "plt.subplots(30, 15, figsize=(20, 20))\n",
    "# plt.subplots_adjust(bottom=10, right=8, top=15)\n",
    "\n",
    "\n",
    "for idx in range(450):\n",
    "    random_idx = np.random.randint(0, len(psfstack_npy_dir))\n",
    "    psf_npy = np.load(psfstack_npy_dir[random_idx])\n",
    "\n",
    "    plt.subplot(30, 15, idx+1)\n",
    "    plt.axis('off')\n",
    "    plt.imshow(psf_npy)"
   ]
  },
  {
   "cell_type": "markdown",
   "metadata": {},
   "source": [
    "# INJECTION TEST"
   ]
  },
  {
   "cell_type": "code",
   "execution_count": null,
   "metadata": {},
   "outputs": [],
   "source": [
    "injection_folder = '/data/scratch/bariskurtkaya/dataset/PSF_INJECTION/'\n",
    "\n",
    "injections_paths = glob(f'{injection_folder}/*')"
   ]
  },
  {
   "cell_type": "code",
   "execution_count": null,
   "metadata": {},
   "outputs": [],
   "source": [
    "path = injections_paths[2]\n",
    "\n",
    "img = cv.imread(f'{path}', 0)\n",
    "\n",
    "print(path, img.shape)\n",
    "plt.imshow(np.arcsinh(img))"
   ]
  }
 ],
 "metadata": {
  "kernelspec": {
   "display_name": "jwst",
   "language": "python",
   "name": "python3"
  },
  "language_info": {
   "codemirror_mode": {
    "name": "ipython",
    "version": 3
   },
   "file_extension": ".py",
   "mimetype": "text/x-python",
   "name": "python",
   "nbconvert_exporter": "python",
   "pygments_lexer": "ipython3",
   "version": "3.10.8"
  },
  "orig_nbformat": 4
 },
 "nbformat": 4,
 "nbformat_minor": 2
}

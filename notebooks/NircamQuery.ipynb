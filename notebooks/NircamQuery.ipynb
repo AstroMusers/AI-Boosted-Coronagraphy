{
 "cells": [
  {
   "cell_type": "code",
   "execution_count": null,
   "id": "e0fbb8bf-fc80-4ea2-8049-abd6e71ca90a",
   "metadata": {},
   "outputs": [],
   "source": [
    "from astropy.io import fits\n",
    "from astropy.table import unique, vstack\n",
    "from astropy.table import Table\n",
    "from astropy.time import Time\n",
    "from astroquery.mast import Mast,Observations\n",
    "import matplotlib.pyplot as plt\n",
    "import os\n",
    "import pandas as pd\n",
    "import glob\n",
    "import json\n",
    "import jwst"
   ]
  },
  {
   "cell_type": "code",
   "execution_count": null,
   "id": "c6419663-9c49-4c7f-afce-561775f9516a",
   "metadata": {},
   "outputs": [],
   "source": [
    "import astroquery"
   ]
  },
  {
   "cell_type": "code",
   "execution_count": null,
   "id": "7b127f01-8b06-48b6-9756-5f71a3f17cf7",
   "metadata": {},
   "outputs": [],
   "source": [
    "astroquery.__version__"
   ]
  },
  {
   "cell_type": "code",
   "execution_count": null,
   "id": "fd9e078a-0d71-4c6c-9c85-aaab0f0f5261",
   "metadata": {},
   "outputs": [],
   "source": [
    "jwst.__version__"
   ]
  },
  {
   "cell_type": "code",
   "execution_count": null,
   "id": "94614285-647f-4412-8e99-9615262b0531",
   "metadata": {},
   "outputs": [],
   "source": [
    "def set_params(parameters):\n",
    "    return [{\"paramName\" : p, \"values\" : v} for p, v in parameters.items()]\n",
    "\n",
    "def set_mjd_range(min, max):\n",
    "    '''Set time range in MJD given limits expressed as ISO-8601 dates'''\n",
    "    return {\n",
    "        \"min\": Time(min, format='isot').mjd, \n",
    "        \"max\": Time(max, format='isot').mjd\n",
    "        }"
   ]
  },
  {
   "cell_type": "code",
   "execution_count": null,
   "id": "e6743118-466a-4820-8cdd-5f48921b467e",
   "metadata": {},
   "outputs": [],
   "source": [
    "def get_proposal_products(proposal_id:str):\n",
    "    \n",
    "    service = 'Mast.Jwst.Filtered.Nircam'\n",
    "\n",
    "    keywords = {\n",
    "            'exp_type':['NRC_CORON'],\n",
    "            'instrume':['NIRCAM'],\n",
    "            'date_obs_mjd': [set_mjd_range('2022-01-01','2023-05-03')],\n",
    "               }\n",
    "\n",
    "    params = {\n",
    "            'columns': '*',\n",
    "            'filters': set_params(keywords)\n",
    "             }\n",
    "    print(service, params)\n",
    "    t = Mast.service_request(service, params)\n",
    "    fn = list(set(t['filename']))\n",
    "    ids = list(set(['_'.join(x.split('_')[:-1]) for x in fn]))\n",
    "    \n",
    "    matched_obs = Observations.query_criteria(instrument_name='Nircam',\n",
    "                                         )\n",
    "    batch_size = 100\n",
    "    batches = [matched_obs[i:i+batch_size] for i in range(0, len(matched_obs), batch_size)]\n",
    "    t = [Observations.get_product_list(obs) for obs in batches]\n",
    "    products = unique(vstack(t), keys='productFilename')\n",
    "    filtered_products = Observations.filter_products(products,\n",
    "                                                 #dataproduct_type='image',\n",
    "                                                 productType = ['SCIENCE'],\n",
    "                                                 #proposal_id = [f'{proposal_id}'],\n",
    "                                                 productSubGroupDescription = [#'UNCAL',\n",
    "                                                                               #'RATEINTS',\n",
    "                                                                               'CALINTS']\n",
    "                                                 )\n",
    "    \n",
    "    return products,filtered_products\n",
    "    "
   ]
  },
  {
   "cell_type": "code",
   "execution_count": null,
   "id": "c1e64dc9-f679-4ed9-ae20-b0fdbdc42e55",
   "metadata": {},
   "outputs": [],
   "source": [
    "PROPOSAL_ID = '1412'"
   ]
  },
  {
   "cell_type": "code",
   "execution_count": null,
   "id": "85c64433-38bb-4a30-9fd7-0b51c9ab5dce",
   "metadata": {},
   "outputs": [],
   "source": [
    "products,filtered_products = get_proposal_products(proposal_id=PROPOSAL_ID)"
   ]
  },
  {
   "cell_type": "code",
   "execution_count": null,
   "id": "a0db704f-35fb-469a-8584-73d67bb9adbf",
   "metadata": {},
   "outputs": [],
   "source": [
    "len(filtered_products), len(products)"
   ]
  },
  {
   "cell_type": "code",
   "execution_count": null,
   "id": "20181b3c-d413-4e12-ad6e-d5afaec5ca84",
   "metadata": {},
   "outputs": [],
   "source": [
    "#prd_df = filtered_products.to_pandas()"
   ]
  },
  {
   "cell_type": "code",
   "execution_count": null,
   "id": "f7558dff-3bcb-4436-b96f-ab33879ce987",
   "metadata": {},
   "outputs": [],
   "source": [
    "def determine_and_count(column:str,table):    \n",
    "    prop_list = []\n",
    "    counter = {}\n",
    "    for i in range(len(table['proposal_id'])):\n",
    "\n",
    "        if table[f'{column}'][i] not in prop_list:\n",
    "\n",
    "            prop_list.append(table[f'{column}'][i])\n",
    "            try:\n",
    "                counter[table[f'{column}'][i]] = 1\n",
    "            except:\n",
    "                #print(table[f'{column}'][i])\n",
    "                continue\n",
    "        else:\n",
    "            try:\n",
    "                counter[table[f'{column}'][i]] += 1\n",
    "            except:\n",
    "                continue\n",
    "            \n",
    "    #print(prop_list)\n",
    "    print(counter)\n",
    "    print(len(counter))"
   ]
  },
  {
   "cell_type": "code",
   "execution_count": null,
   "id": "36df0dd4-b99f-4266-97a6-cc0f2af9c1fd",
   "metadata": {},
   "outputs": [],
   "source": [
    "determine_and_count('proposal_id',filtered_products)"
   ]
  },
  {
   "cell_type": "code",
   "execution_count": null,
   "id": "55148bb9-f644-4bb3-856c-c98eea87f722",
   "metadata": {},
   "outputs": [],
   "source": [
    "def get_json_table(table,suffix):\n",
    "    \n",
    "    testing_df = table.to_pandas()\n",
    "    product_files = testing_df.loc[testing_df['productSubGroupDescription'] == f'{suffix}']['obs_id']\n",
    "    obs_ids = []\n",
    "    for i in product_files:\n",
    "        obs_ids.append(i)\n",
    "        \n",
    "    products_df = testing_df.loc[testing_df['obs_id'].isin(obs_ids)]\n",
    "    info_files = products_df.loc[products_df['productType']=='INFO']\n",
    "    info_table = Table.from_pandas(info_files)\n",
    "    \n",
    "    return info_table"
   ]
  },
  {
   "cell_type": "code",
   "execution_count": null,
   "id": "45213f7a-6fa9-4c59-b798-6bf9c0bdf4d4",
   "metadata": {},
   "outputs": [],
   "source": [
    "def get_rateints_files(table):\n",
    "    \n",
    "    rateints_df = table.to_pandas()\n",
    "    rateints_df = rateints_df.loc[rateints_df['productSubGroupDescription'] == 'RATEINTS']\n",
    "    rateints_table = Table.from_pandas(rateints_df)\n",
    "    \n",
    "    return rateints_table"
   ]
  },
  {
   "cell_type": "code",
   "execution_count": null,
   "id": "507a06ce-31e2-4ecf-820c-36dd551d77f6",
   "metadata": {},
   "outputs": [],
   "source": [
    "filtered_products"
   ]
  },
  {
   "attachments": {},
   "cell_type": "markdown",
   "id": "817a084d-9fda-470f-ac7b-a39fbeb5e15f",
   "metadata": {},
   "source": [
    "# Downloading the Products"
   ]
  },
  {
   "cell_type": "code",
   "execution_count": null,
   "id": "da3c97a0-2188-4da6-8176-4aa1772ee810",
   "metadata": {},
   "outputs": [],
   "source": [
    "#Observations.login(mast_token)"
   ]
  },
  {
   "cell_type": "code",
   "execution_count": null,
   "id": "ab2bc863-e6d3-4014-ada0-38daf94e5874",
   "metadata": {
    "tags": []
   },
   "outputs": [],
   "source": [
    "coron_files = Observations.download_products(filtered_products,download_dir = f'/home/sarperyn/sarperyurtseven/ProjectFiles/dataset/NIRCAM/{PROPOSAL_ID}')"
   ]
  },
  {
   "cell_type": "code",
   "execution_count": null,
   "id": "c1abad71-f4a6-404e-a704-645a94d3c9b0",
   "metadata": {},
   "outputs": [],
   "source": []
  },
  {
   "cell_type": "code",
   "execution_count": null,
   "id": "4d44b2da-26fe-43a0-a158-8ce7937a1b52",
   "metadata": {},
   "outputs": [],
   "source": []
  },
  {
   "cell_type": "code",
   "execution_count": null,
   "id": "e5b92d3e-d532-4eb0-800e-a05898292abe",
   "metadata": {},
   "outputs": [],
   "source": []
  },
  {
   "cell_type": "code",
   "execution_count": null,
   "id": "b1dc2089-5661-41e7-b96d-f3d54c297da2",
   "metadata": {},
   "outputs": [],
   "source": []
  },
  {
   "cell_type": "code",
   "execution_count": null,
   "id": "f47c7556-243e-47ad-a6da-83293f752f93",
   "metadata": {},
   "outputs": [],
   "source": []
  },
  {
   "cell_type": "code",
   "execution_count": null,
   "id": "fd3c6267-0d9a-4be3-88c5-0bf90517b7f9",
   "metadata": {},
   "outputs": [],
   "source": []
  },
  {
   "cell_type": "code",
   "execution_count": null,
   "id": "d618fca7-e84c-474f-8b95-9b5d788fc475",
   "metadata": {},
   "outputs": [],
   "source": []
  },
  {
   "cell_type": "code",
   "execution_count": null,
   "id": "caddfcfa-15a2-464a-b520-bc779927ed7e",
   "metadata": {},
   "outputs": [],
   "source": []
  },
  {
   "cell_type": "code",
   "execution_count": null,
   "id": "8680b0bb-9d52-4070-bf6c-5f9dac6f891e",
   "metadata": {},
   "outputs": [],
   "source": [
    "def get_coron():\n",
    "    \n",
    "    path = '/home/sarperyn/sarperyurtseven/ProjectFiles/dataset/CoronFiles/mastDownload/JWST/'\n",
    "    coron_exptype = []\n",
    "    noncoron_exptype = []\n",
    "\n",
    "    for i in glob.glob(f'{path}/**/*.json'):\n",
    "\n",
    "        with open(i,'r') as f:\n",
    "            asn_file = json.load(f)\n",
    "\n",
    "            fits_name = asn_file['products'][0]['members'][0]['expname']\n",
    "            if 'nrc_coron' in asn_file['constraints']:\n",
    "                #print('There is a coron right here')\n",
    "\n",
    "                coron_exptype.append(fits_name)\n",
    "\n",
    "            else:\n",
    "                noncoron_exptype.append(fits_name)\n",
    "                \n",
    "    return coron_exptype, noncoron_exptype"
   ]
  },
  {
   "cell_type": "code",
   "execution_count": null,
   "id": "b27895fd-6e0c-48a1-9fed-888932d87f24",
   "metadata": {},
   "outputs": [],
   "source": []
  },
  {
   "cell_type": "code",
   "execution_count": null,
   "id": "23a38af6-ea6b-48c8-92e5-39c2a1cbb444",
   "metadata": {},
   "outputs": [],
   "source": [
    "coron, noncoron = get_coron()"
   ]
  },
  {
   "cell_type": "code",
   "execution_count": null,
   "id": "0ec3dd3c-1fd0-481b-ba9d-3725b50a3ae3",
   "metadata": {
    "collapsed": true,
    "jupyter": {
     "outputs_hidden": true
    },
    "tags": []
   },
   "outputs": [],
   "source": [
    "coron"
   ]
  },
  {
   "cell_type": "code",
   "execution_count": null,
   "id": "ed1771b3-f615-4703-9206-6ea38d1a195c",
   "metadata": {},
   "outputs": [],
   "source": [
    "def det_asn_type():\n",
    "    \n",
    "    path = '/home/sarperyn/sarperyurtseven/ProjectFiles/dataset/CoronFiles/mastDownload/JWST/'\n",
    "    image2 = []\n",
    "    image3 = []\n",
    "\n",
    "    for i in glob.glob(f'{path}/**/*.json'):\n",
    "\n",
    "        with open(i,'r') as f:\n",
    "            asn_file = json.load(f)\n",
    "\n",
    "            fits_name = asn_file['asn_type']\n",
    "            if 'image3' in asn_file['asn_type']:\n",
    "                #print('There is a coron right here')\n",
    "                image3.append(fits_name)\n",
    "            else:\n",
    "                image2.append(fits_name)\n",
    "                \n",
    "    return image3,image2"
   ]
  },
  {
   "cell_type": "code",
   "execution_count": null,
   "id": "0298ede1-bb01-4368-822f-33d8e2d145b2",
   "metadata": {},
   "outputs": [],
   "source": [
    "image3, image2 = det_asn_type()"
   ]
  },
  {
   "attachments": {},
   "cell_type": "markdown",
   "id": "4cb6fbd7-1acd-4eb3-8574-d0d0605aabea",
   "metadata": {
    "tags": []
   },
   "source": [
    "# Some Visualizations"
   ]
  },
  {
   "cell_type": "code",
   "execution_count": null,
   "id": "c733c84f-c7af-49ff-a481-4e2c76d3b402",
   "metadata": {},
   "outputs": [],
   "source": []
  }
 ],
 "metadata": {
  "kernelspec": {
   "display_name": "Python 3",
   "language": "python",
   "name": "python3"
  },
  "language_info": {
   "codemirror_mode": {
    "name": "ipython",
    "version": 3
   },
   "file_extension": ".py",
   "mimetype": "text/x-python",
   "name": "python",
   "nbconvert_exporter": "python",
   "pygments_lexer": "ipython3",
   "version": "3.9.16"
  }
 },
 "nbformat": 4,
 "nbformat_minor": 5
}

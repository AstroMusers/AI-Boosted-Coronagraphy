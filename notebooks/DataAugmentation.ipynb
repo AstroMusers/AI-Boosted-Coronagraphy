{
 "cells": [
  {
   "cell_type": "code",
   "execution_count": null,
   "id": "ae735187-f5fe-4317-81e0-da3b09a0f216",
   "metadata": {},
   "outputs": [],
   "source": [
    "from glob import glob\n",
    "import h5py\n",
    "import os\n",
    "import numpy as np\n",
    "import matplotlib.pyplot as plt\n",
    "import torch\n",
    "from torchvision import datasets\n",
    "from torch.utils.data import DataLoader\n",
    "import torchvision.transforms as T\n",
    "from PIL import Image\n",
    "import copy"
   ]
  },
  {
   "cell_type": "code",
   "execution_count": null,
   "id": "950760ba-4858-459d-8fe3-e3107ce9a32d",
   "metadata": {},
   "outputs": [],
   "source": [
    "def visualize_noise(flatten_final, noise, ncols=10):\n",
    "    residuals = np.abs(flatten_final - noise)\n",
    "    nsample = flatten_final.shape[0]\n",
    "    \n",
    "    _, axes = plt.subplots(nrows=3,ncols=ncols,figsize=(20,8))\n",
    "    \n",
    "    for idx in range(ncols):\n",
    "        \n",
    "        rand_num = np.random.randint(0,nsample)\n",
    "        #print(rand_num)\n",
    "        \n",
    "        \n",
    "        axes[0][idx].imshow(flatten_final[idx],\n",
    "              cmap = plt.cm.gray,\n",
    "              clim=(0, 255));\n",
    "        axes[1][idx].imshow(noise[idx],\n",
    "              cmap = plt.cm.gray,\n",
    "              clim=(0, 255));\n",
    "    \n",
    "        axes[2][idx].imshow(np.sinh(residuals[idx]),\n",
    "              cmap = plt.cm.gray, interpolation='nearest',\n",
    "              clim=(0, 255));\n",
    "        \n",
    "        if idx == 0:\n",
    "            \n",
    "            axes[0][idx].set_ylabel('Original',fontsize=10,fontweight='bold')\n",
    "            axes[1][idx].set_ylabel('Noisy',fontsize=10,fontweight='bold')\n",
    "            axes[2][idx].set_ylabel('Residuals',fontsize=10,fontweight='bold')\n",
    "            \n",
    "        axes[0][idx].set_yticks([])\n",
    "        axes[0][idx].set_xticks([])\n",
    "        \n",
    "        axes[1][idx].set_yticks([])\n",
    "        axes[1][idx].set_xticks([])\n",
    "        \n",
    "        axes[2][idx].set_yticks([])\n",
    "        axes[2][idx].set_xticks([])\n",
    "        \n",
    "    plt.subplots_adjust(wspace=0,hspace=0)\n",
    "    _.patch.set_facecolor('#423f3b')\n",
    "    plt.show()\n",
    "    "
   ]
  },
  {
   "cell_type": "code",
   "execution_count": null,
   "id": "9dc22fdf-a139-4db4-99de-f789de6dad7d",
   "metadata": {},
   "outputs": [],
   "source": [
    "directory = f'/home/sarperyn/sarperyurtseven/ProjectFiles/dataset/NIRCAM/'\n",
    "h5_files = glob(os.path.join(directory,'**/*sci.h5'))"
   ]
  },
  {
   "cell_type": "code",
   "execution_count": null,
   "id": "f03d4109-d720-4a5d-b7b7-d3427a5a52a7",
   "metadata": {},
   "outputs": [],
   "source": [
    "data_1441 = h5py.File(h5_files[0],'r')\n",
    "data_1386 = h5py.File(h5_files[1],'r')"
   ]
  },
  {
   "cell_type": "code",
   "execution_count": null,
   "id": "ba30cfe6-22b8-42dd-894a-5eb279bc9f03",
   "metadata": {},
   "outputs": [],
   "source": [
    "def visualize(original,sample1, sample2, sample3, sample4, sample5, ncols=10):\n",
    "    \n",
    "    nsample = original.shape[0]\n",
    "    _, axes = plt.subplots(nrows=6,ncols=ncols,figsize=(20,10))\n",
    "    \n",
    "    for idx in range(ncols):\n",
    "                \n",
    "        rand_num = np.random.randint(150,nsample)    \n",
    "        \n",
    "        axes[0][idx].imshow(original[rand_num],cmap='gray',clim=(0,255))\n",
    "        axes[1][idx].imshow(sample1[rand_num],cmap='gray',clim=(0,255))\n",
    "        axes[2][idx].imshow(sample2[rand_num],cmap='gray',clim=(0,255))\n",
    "        axes[3][idx].imshow(sample3[rand_num],cmap='gray',clim=(0,255))\n",
    "        axes[4][idx].imshow(sample2[rand_num],cmap='gray',clim=(0,255))\n",
    "        axes[5][idx].imshow(sample3[rand_num],cmap='gray',clim=(0,255))\n",
    "        \n",
    "        if idx == 0:\n",
    "            \n",
    "            axes[0][idx].set_ylabel('Original',fontsize=10,fontweight='bold')\n",
    "            axes[1][idx].set_ylabel('Rotated 45˚',fontsize=10,fontweight='bold')\n",
    "            axes[2][idx].set_ylabel('Rotated 90˚',fontsize=10,fontweight='bold')\n",
    "            axes[3][idx].set_ylabel('Rotated 120˚',fontsize=10,fontweight='bold')\n",
    "            axes[4][idx].set_ylabel('Flipped',fontsize=10,fontweight='bold')\n",
    "            axes[5][idx].set_ylabel('F + R 210˚',fontsize=10,fontweight='bold')\n",
    "            \n",
    "            \n",
    "            \n",
    "        axes[0][idx].set_yticks([])\n",
    "        axes[0][idx].set_xticks([])\n",
    "        \n",
    "        axes[1][idx].set_yticks([])\n",
    "        axes[1][idx].set_xticks([])\n",
    "        \n",
    "        axes[2][idx].set_yticks([])\n",
    "        axes[2][idx].set_xticks([])\n",
    "        \n",
    "        axes[3][idx].set_yticks([])\n",
    "        axes[3][idx].set_xticks([])\n",
    "        \n",
    "        axes[4][idx].set_yticks([])\n",
    "        axes[4][idx].set_xticks([])\n",
    "        \n",
    "        axes[5][idx].set_yticks([])\n",
    "        axes[5][idx].set_xticks([])\n",
    "        \n",
    "           \n",
    "    plt.subplots_adjust(wspace=0,hspace=0)\n",
    "    #_.patch.set_facecolor('#423f3b')\n",
    "    plt.show()\n",
    "    _.savefig(f'Augmentation.png', dpi=300,bbox_inches='tight',pad_inches=0);\n",
    "    "
   ]
  },
  {
   "attachments": {},
   "cell_type": "markdown",
   "id": "23b919a1-14b9-4688-a0f7-2af1894e51f7",
   "metadata": {},
   "source": [
    "# 1386"
   ]
  },
  {
   "cell_type": "code",
   "execution_count": null,
   "id": "3875f1d0-4ee1-4480-96f5-3ebbdc7efc14",
   "metadata": {},
   "outputs": [],
   "source": [
    "np.array(data_1441[keys_1441[0]]).shape"
   ]
  },
  {
   "cell_type": "code",
   "execution_count": null,
   "id": "0b439abf-0ada-4c36-8c2c-527d4b4e0572",
   "metadata": {},
   "outputs": [],
   "source": [
    "keys_1386 = [x for x in data_1386.keys()]\n",
    "final_1386 = np.concatenate((np.array(data_1386[keys_1386[0]]),np.array(data_1386[keys_1386[1]])))\n",
    "\n",
    "for i in range(len(keys_1386)-2):\n",
    "    \n",
    "    final_1386 = np.concatenate((final_1386,np.array(data_1386[keys_1386[i+2]])))"
   ]
  },
  {
   "cell_type": "code",
   "execution_count": null,
   "id": "d3fd55c5-53f3-492e-a993-a4dd316b120b",
   "metadata": {},
   "outputs": [],
   "source": [
    "final_1386 = torch.from_numpy(final_1386)"
   ]
  },
  {
   "attachments": {},
   "cell_type": "markdown",
   "id": "90c36eaf-547d-43d9-a6d6-d2cbc270374b",
   "metadata": {},
   "source": [
    "## Resizing"
   ]
  },
  {
   "cell_type": "code",
   "execution_count": null,
   "id": "d24be1d7-7d66-4d3d-9778-99d0f27f211e",
   "metadata": {},
   "outputs": [],
   "source": [
    "#resized_imgs = [T.CenterCrop(size=size)(final_1386) for size in [160,120]]"
   ]
  },
  {
   "cell_type": "code",
   "execution_count": null,
   "id": "41840fe7-0ed4-4e76-a1c0-2c458632d60b",
   "metadata": {
    "tags": []
   },
   "outputs": [],
   "source": [
    "#visualize(final_1386,resized_imgs[0],resized_imgs[1])"
   ]
  },
  {
   "cell_type": "code",
   "execution_count": null,
   "id": "09c82605-2000-4cdb-b417-b5acdcc8f2f5",
   "metadata": {},
   "outputs": [],
   "source": [
    "#resized_160 = resized_imgs[0]"
   ]
  },
  {
   "cell_type": "code",
   "execution_count": null,
   "id": "8f2c2f95-8297-453d-9e66-d22750192cb3",
   "metadata": {},
   "outputs": [],
   "source": []
  },
  {
   "cell_type": "code",
   "execution_count": null,
   "id": "92200f54-2d44-4999-91e9-ad94789d6ad7",
   "metadata": {},
   "outputs": [],
   "source": [
    "def augment(tensor):\n",
    "        \n",
    "    #### ROTATION\n",
    "    #####################################################################\n",
    "    angles = [30,45,60,75,90,105,120,135,180,200,210,245,275,310,340]\n",
    "    rotated_imgs = [T.RandomRotation(degrees=d)(tensor) for d in angles]\n",
    "    \n",
    "    rot1 = np.array(rotated_imgs[0])\n",
    "    rot2 = np.array(rotated_imgs[1])\n",
    "    rotated_stack = np.concatenate((rot1,rot2),axis=0)   \n",
    "    \n",
    "    for i in range(2,len(rotated_imgs)):\n",
    "    \n",
    "        rotated_stack = np.concatenate((rotated_stack,np.array(rotated_imgs[i])),axis=0) \n",
    "    #####################################################################\n",
    "    \n",
    "    \n",
    "    \n",
    "    \n",
    "    #### FLIPPING    \n",
    "    #####################################################################\n",
    "    flipped_imgs = [T.RandomHorizontalFlip(p=1)(tensor)]\n",
    "    #####################################################################\n",
    "    \n",
    "    \n",
    "    \n",
    "    #### FLIP + ROTATE\n",
    "    #####################################################################\n",
    "    flipped_rotated_imgs = [T.RandomRotation(degrees=d)(flipped_imgs[0]) for d in angles]\n",
    "    \n",
    "    flip_rot1  = np.array(flipped_rotated_imgs[0])\n",
    "    flip_rot2  = np.array(flipped_rotated_imgs[1])\n",
    "    flipped_rotated_stack = np.concatenate((flip_rot1,flip_rot2),axis=0) \n",
    "    \n",
    "    for i in range(2,len(flipped_rotated_imgs)):\n",
    "    \n",
    "        flipped_rotated_stack = np.concatenate((flipped_rotated_stack,np.array(flipped_rotated_imgs[i])),axis=0) \n",
    "    \n",
    "    \n",
    "    augmented_data = np.concatenate((rotated_stack,flipped_rotated_stack,flipped_imgs[0]),axis=0)\n",
    "    \n",
    "    return augmented_data, rotated_imgs, flipped_imgs, flipped_rotated_imgs"
   ]
  },
  {
   "cell_type": "code",
   "execution_count": null,
   "id": "726798ea-a44e-4829-9b5d-5b08d3bcd421",
   "metadata": {},
   "outputs": [],
   "source": [
    "#np.save('augmented',augmented_data)"
   ]
  },
  {
   "cell_type": "code",
   "execution_count": null,
   "id": "3706c175-9202-49ca-b0c6-2eee00fdb399",
   "metadata": {},
   "outputs": [],
   "source": [
    "augmented_data, rotated_imgs, flipped_imgs, flipped_rotated_imgs = augment(final_1386)"
   ]
  },
  {
   "cell_type": "code",
   "execution_count": null,
   "id": "e83647ad-0321-4294-a7f3-4f7535e93b80",
   "metadata": {},
   "outputs": [],
   "source": []
  },
  {
   "cell_type": "code",
   "execution_count": null,
   "id": "993cf49f-6d67-474a-9b21-21ebe3d741da",
   "metadata": {},
   "outputs": [],
   "source": [
    "visualize(final_1386,rotated_imgs[0],rotated_imgs[1],rotated_imgs[2],flipped_imgs[0],flipped_rotated_imgs[10])"
   ]
  },
  {
   "cell_type": "code",
   "execution_count": null,
   "id": "bbfa7a52-3e52-44f1-956b-32b91a7a01a9",
   "metadata": {},
   "outputs": [],
   "source": []
  },
  {
   "cell_type": "code",
   "execution_count": null,
   "id": "e9d3abcc-86b8-43e2-86d2-44cf71f51b72",
   "metadata": {},
   "outputs": [],
   "source": []
  },
  {
   "cell_type": "code",
   "execution_count": null,
   "id": "dcd3f9b7-d33d-4743-be23-7e060910e809",
   "metadata": {},
   "outputs": [],
   "source": [
    "DIR = f'/home/sarperyn/sarperyurtseven/ProjectFiles/dataset/NIRCAM/1386/1386_psfstack_160.h5'"
   ]
  },
  {
   "attachments": {},
   "cell_type": "markdown",
   "id": "63e4aba2-b1d9-4426-8a78-cc7eedb3cd16",
   "metadata": {},
   "source": [
    "## Shifting"
   ]
  },
  {
   "cell_type": "code",
   "execution_count": null,
   "id": "9921e7e7-27c6-493c-b670-0a3761e291f3",
   "metadata": {},
   "outputs": [],
   "source": [
    "def random_shift(imgs):\n",
    "    \n",
    "    y,x = np.random.randint(0,150,(2,len(imgs)))\n",
    "    samples = copy.deepcopy(imgs)\n",
    "    star = copy.deepcopy(samples[:,100:250,75:225])\n",
    "    \n",
    "    for i in range(len(y)):\n",
    "\n",
    "        replace = copy.deepcopy(samples[i:i+1,y[i]:y[i]+150,x[i]:x[i]+150])\n",
    "        samples[i:i+1,y[i]:y[i]+150,x[i]:x[i]+150] = star[i]\n",
    "        samples[i:i+1,100:250,75:225] = replace\n",
    "        \n",
    "    return samples"
   ]
  },
  {
   "cell_type": "code",
   "execution_count": null,
   "id": "14d9b122-4555-4c4c-839b-592638b48deb",
   "metadata": {},
   "outputs": [],
   "source": []
  },
  {
   "cell_type": "code",
   "execution_count": null,
   "id": "c6883ef7-ce5d-4d3c-b046-1e70ba4da603",
   "metadata": {},
   "outputs": [],
   "source": []
  },
  {
   "cell_type": "code",
   "execution_count": null,
   "id": "de2c98ed-2ecc-4467-9739-bcc3e5f81750",
   "metadata": {},
   "outputs": [],
   "source": []
  },
  {
   "cell_type": "code",
   "execution_count": null,
   "id": "888af9a3-723a-4184-a1fb-f6f712b4d52f",
   "metadata": {},
   "outputs": [],
   "source": [
    "flipped_imgs_135 = [T.RandomHorizontalFlip(p=1)(rotated_imgs[0])]\n",
    "flipped_imgs_270 = [T.RandomHorizontalFlip(p=1)(rotated_imgs[1])]\n",
    "shifting_135 = random_shift(rotated_imgs[0])\n",
    "shifting_270 = random_shift(rotated_imgs[1])"
   ]
  },
  {
   "cell_type": "code",
   "execution_count": null,
   "id": "1f215a1e-ff67-4b32-8a74-0d7a302355ed",
   "metadata": {},
   "outputs": [],
   "source": [
    "shifted_rotated = [T.RandomRotation(degrees=d)(shifted) for d in range(135,270)]\n",
    "shifted_flipped = [T.RandomHorizontalFlip(p=1)(shifted)]"
   ]
  },
  {
   "cell_type": "code",
   "execution_count": null,
   "id": "b96d1eb2-469d-4fae-bd55-ee61fce499ed",
   "metadata": {},
   "outputs": [],
   "source": [
    "data_1386.create_dataset('rotated_135',data=rotated_imgs[0])\n",
    "data_1386.create_dataset('rotated_270',data=rotated_imgs[1])\n",
    "data_1386.create_dataset('flipped',data=flipped_imgs[0])"
   ]
  },
  {
   "cell_type": "code",
   "execution_count": null,
   "id": "8aae746e-dd32-42ac-a0e6-ddb405c13f8a",
   "metadata": {},
   "outputs": [],
   "source": [
    "data_1386.create_dataset('shifted',data=shifted)\n",
    "\n",
    "data_1386.create_dataset('rotated_flipped_135',data=flipped_imgs_135[0])\n",
    "data_1386.create_dataset('rotated_flipped_270',data=flipped_imgs_270[0])\n",
    "data_1386.create_dataset('rotated_shifted_135',data=shifting_135)\n",
    "data_1386.create_dataset('rotated_shifted_270',data=shifting_270)\n",
    "\n",
    "data_1386.create_dataset('shifted_rotated_135',data=shifted_rotated[0])\n",
    "data_1386.create_dataset('shifted_rotated_270',data=shifted_rotated[1])\n",
    "data_1386.create_dataset('shifted_flipped_270',data=shifted_flipped[0])"
   ]
  },
  {
   "cell_type": "code",
   "execution_count": null,
   "id": "13aba61c-d146-4426-a912-e4cf74971956",
   "metadata": {},
   "outputs": [],
   "source": [
    "data_1386.close()"
   ]
  },
  {
   "attachments": {},
   "cell_type": "markdown",
   "id": "fff74b3e-c67b-45e1-b285-e881004ae109",
   "metadata": {},
   "source": [
    "# 1441"
   ]
  },
  {
   "cell_type": "code",
   "execution_count": null,
   "id": "6817217d-784c-4f0a-ae5e-e5a033c4c0d1",
   "metadata": {},
   "outputs": [],
   "source": [
    "keys_1441 = [x for x in data_1441.keys()]\n",
    "final_1441 = np.concatenate((np.array(data_1441[keys_1441[0]]),np.array(data_1441[keys_1441[1]])))\n",
    "\n",
    "for i in range(len(keys_1441)-2):\n",
    "    \n",
    "    final_1441 = np.concatenate((final_1441,np.array(data_1441[keys_1441[i+2]])))"
   ]
  },
  {
   "cell_type": "code",
   "execution_count": null,
   "id": "85db35b3-851c-494f-8686-a731a85265f2",
   "metadata": {},
   "outputs": [],
   "source": [
    "final_1441.shape"
   ]
  },
  {
   "cell_type": "code",
   "execution_count": null,
   "id": "7178ba9b-218b-4000-8bc6-6f25a5523160",
   "metadata": {},
   "outputs": [],
   "source": [
    "final_1441 = torch.from_numpy(final_1441)"
   ]
  },
  {
   "cell_type": "code",
   "execution_count": null,
   "id": "cb21322f-9232-44bd-b048-be52275e9767",
   "metadata": {},
   "outputs": [],
   "source": [
    "augmented_data, rotated_imgs, flipped_imgs, flipped_rotated_imgs = augment(final_1441)"
   ]
  },
  {
   "cell_type": "code",
   "execution_count": null,
   "id": "19e39a68-08a2-4c39-a8a8-8b7cad55a3a5",
   "metadata": {},
   "outputs": [],
   "source": [
    "rotated_imgs[0].shape"
   ]
  },
  {
   "cell_type": "code",
   "execution_count": null,
   "id": "e3b6da57-2bb7-4ffa-a74a-f02889caa668",
   "metadata": {},
   "outputs": [],
   "source": [
    "visualize(final_1441,rotated_imgs[0],rotated_imgs[1],rotated_imgs[2],flipped_imgs[0],flipped_rotated_imgs[10])"
   ]
  },
  {
   "cell_type": "code",
   "execution_count": null,
   "id": "19e1d90b-4c3f-4cfd-95ca-192daa96743e",
   "metadata": {},
   "outputs": [],
   "source": []
  },
  {
   "cell_type": "code",
   "execution_count": null,
   "id": "30b725b4-1761-42c5-b8c4-022bc5b2f032",
   "metadata": {},
   "outputs": [],
   "source": []
  },
  {
   "cell_type": "code",
   "execution_count": null,
   "id": "1ef18945-eb77-4a9b-9749-35bbfb887c73",
   "metadata": {},
   "outputs": [],
   "source": [
    "#data_1441.create_dataset('stacked_gaussian4_10_noise',data=noisy_gauss_1441)\n",
    "#data_1441.create_dataset('stacked_exp_3_noise',data=noisy_exp_1441)\n",
    "#data_1441.create_dataset('stacked_rayleigh_5_noise',data=noisy_rayleigh_1441)"
   ]
  },
  {
   "cell_type": "code",
   "execution_count": null,
   "id": "f5eafcf8-e7df-4c8f-b3b9-a8111f6b3762",
   "metadata": {},
   "outputs": [],
   "source": [
    "rotated_imgs_1441 = [T.RandomRotation(degrees=d)(final_1441) for d in range(135,270)]"
   ]
  },
  {
   "cell_type": "code",
   "execution_count": null,
   "id": "134f9e1e-9357-425b-9dc1-1cf682402ab5",
   "metadata": {},
   "outputs": [],
   "source": [
    "flipped_imgs_1441 = [T.RandomHorizontalFlip(p=1)(final_1441)]"
   ]
  },
  {
   "cell_type": "code",
   "execution_count": null,
   "id": "f098db51-f401-4737-bb03-2d02aafb18dc",
   "metadata": {},
   "outputs": [],
   "source": [
    "rotated135_flipped = [T.RandomHorizontalFlip(p=0.98)(rotated_imgs_1441[0])]\n",
    "rotated270_flipped = [T.RandomHorizontalFlip(p=0.98)(rotated_imgs_1441[1])]"
   ]
  },
  {
   "cell_type": "code",
   "execution_count": null,
   "id": "544e4cfb-1aad-442b-a14d-b68c29615f34",
   "metadata": {},
   "outputs": [],
   "source": [
    "np.save('augmented_1441',data_14)"
   ]
  },
  {
   "cell_type": "code",
   "execution_count": null,
   "id": "81b54916-4547-4e95-b8fa-985bdc059785",
   "metadata": {},
   "outputs": [],
   "source": []
  },
  {
   "cell_type": "code",
   "execution_count": null,
   "id": "879c9b2e-d19a-404a-ac36-534d937fa25f",
   "metadata": {},
   "outputs": [],
   "source": [
    "shifted_1441 = random_shift(final_1441)"
   ]
  },
  {
   "cell_type": "code",
   "execution_count": null,
   "id": "42d3b924-20c0-4686-a358-455b6957f47f",
   "metadata": {},
   "outputs": [],
   "source": [
    "flipped_imgs_135_1441 = [T.RandomHorizontalFlip(p=1)(rotated_imgs_1441[0])]\n",
    "flipped_imgs_270_1441 = [T.RandomHorizontalFlip(p=1)(rotated_imgs_1441[1])]\n",
    "shifting_135_1441 = random_shift(rotated_imgs_1441[0])\n",
    "shifting_270_1441 = random_shift(rotated_imgs_1441[1])"
   ]
  },
  {
   "cell_type": "code",
   "execution_count": null,
   "id": "bcdc2a39-2b1a-4c1b-8931-b8bb6244d032",
   "metadata": {},
   "outputs": [],
   "source": [
    "shifted_rotated_1441 = [T.RandomRotation(degrees=d)(shifted_1441) for d in range(135,270)]\n",
    "shifted_flipped_1441 = [T.RandomHorizontalFlip(p=1)(shifted_1441)]"
   ]
  },
  {
   "cell_type": "code",
   "execution_count": null,
   "id": "7c3f5149-2921-486e-98de-923ce1546f44",
   "metadata": {},
   "outputs": [],
   "source": [
    "#data_1441.create_dataset('rotated_135',data=rotated_imgs_1441[0])\n",
    "#data_1441.create_dataset('rotated_270',data=rotated_imgs_1441[1])\n",
    "data_1441.create_dataset('flipped',data=flipped_imgs_1441[0])\n",
    "data_1441.create_dataset('rotated135_flipped',data=rotated135_flipped[0])\n",
    "data_1441.create_dataset('rotated270_flipped',data=rotated270_flipped[0])"
   ]
  },
  {
   "cell_type": "code",
   "execution_count": null,
   "id": "aa1dce62-5c4a-4e55-ab0b-baeed74d48c3",
   "metadata": {},
   "outputs": [],
   "source": [
    "data_1441.create_dataset('shifted',data=shifted_1441)\n",
    "\n",
    "\n",
    "data_1441.create_dataset('rotated_flipped_135',data=flipped_imgs_135_1441[0])\n",
    "data_1441.create_dataset('rotated_flipped_270',data=flipped_imgs_270_1441[0])\n",
    "data_1441.create_dataset('rotated_shifted_135',data=shifting_135_1441)\n",
    "data_1441.create_dataset('rotated_shifted_270',data=shifting_270_1441)\n",
    "\n",
    "data_1441.create_dataset('shifted_rotated_135',data=shifted_rotated_1441[0])\n",
    "data_1441.create_dataset('shifted_rotated_270',data=shifted_rotated_1441[1])\n",
    "data_1441.create_dataset('shifted_flipped',data=shifted_flipped_1441[0])"
   ]
  },
  {
   "cell_type": "code",
   "execution_count": null,
   "id": "c9059ff8-869d-49ac-a366-d507d951787b",
   "metadata": {},
   "outputs": [],
   "source": [
    "data_1441.close()"
   ]
  },
  {
   "cell_type": "code",
   "execution_count": null,
   "id": "d6c645dc-ff31-4b4e-97c5-06bd62b06f22",
   "metadata": {},
   "outputs": [],
   "source": [
    "data_1386.close()"
   ]
  },
  {
   "cell_type": "code",
   "execution_count": null,
   "id": "b589f1ef-a0fd-4de0-ac52-4e546b490f5d",
   "metadata": {},
   "outputs": [],
   "source": []
  },
  {
   "cell_type": "code",
   "execution_count": null,
   "id": "b2500de7-8696-4809-b8cc-19ffc3fb8c71",
   "metadata": {},
   "outputs": [],
   "source": [
    "croped_imgs = [T.CenterCrop(size=size)(final_1441) for size in [160,120]]"
   ]
  },
  {
   "cell_type": "code",
   "execution_count": null,
   "id": "e4ff2388-14af-47dd-8f04-21a7d7a4e05f",
   "metadata": {},
   "outputs": [],
   "source": [
    "visualize(final_1441,croped_imgs[0],croped_imgs[1])"
   ]
  },
  {
   "cell_type": "code",
   "execution_count": null,
   "id": "60f9ee05-627e-4805-91cb-0ef8e57d413c",
   "metadata": {},
   "outputs": [],
   "source": [
    "DIR = f'/home/sarperyn/sarperyurtseven/ProjectFiles/dataset/NIRCAM/1441/1441_psfstack_160.h5'"
   ]
  },
  {
   "cell_type": "code",
   "execution_count": null,
   "id": "dd7c91e4-6ef1-4083-a323-0c38e1db7bec",
   "metadata": {},
   "outputs": [],
   "source": [
    "with h5py.File(DIR,'w') as hf:\n",
    "    \n",
    "    hf.create_dataset('fullpackage1441_160',data=croped_imgs[0])  "
   ]
  },
  {
   "cell_type": "code",
   "execution_count": null,
   "id": "a546cc31-2613-48ba-827b-51a7c2ef2e1e",
   "metadata": {},
   "outputs": [],
   "source": []
  }
 ],
 "metadata": {
  "kernelspec": {
   "display_name": "Python 3 (ipykernel)",
   "language": "python",
   "name": "python3"
  },
  "language_info": {
   "codemirror_mode": {
    "name": "ipython",
    "version": 3
   },
   "file_extension": ".py",
   "mimetype": "text/x-python",
   "name": "python",
   "nbconvert_exporter": "python",
   "pygments_lexer": "ipython3",
   "version": "3.10.8"
  }
 },
 "nbformat": 4,
 "nbformat_minor": 5
}

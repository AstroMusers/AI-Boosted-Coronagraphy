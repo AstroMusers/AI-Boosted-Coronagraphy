{
 "cells": [
  {
   "cell_type": "code",
   "execution_count": null,
   "metadata": {},
   "outputs": [],
   "source": [
    "import glob\n",
    "import numpy as np\n",
    "import matplotlib.pyplot as plt\n",
    "import astropy.io.fits as fits\n",
    "from itertools import product\n",
    "from copy import deepcopy"
   ]
  },
  {
   "cell_type": "code",
   "execution_count": null,
   "metadata": {},
   "outputs": [],
   "source": [
    "sci_dirs = sorted(glob.glob('/data/scratch/bariskurtkaya/dataset/NIRCAM/4454/fits_arrays/*'))\n",
    "len(sci_dirs)"
   ]
  },
  {
   "cell_type": "code",
   "execution_count": null,
   "metadata": {},
   "outputs": [],
   "source": [
    "sci_dirs"
   ]
  },
  {
   "cell_type": "code",
   "execution_count": null,
   "metadata": {},
   "outputs": [],
   "source": [
    "sci_arr = []\n",
    "for sci in sci_dirs:\n",
    "    arr = np.load(sci)\n",
    "    sci_arr.append(arr)\n"
   ]
  },
  {
   "cell_type": "code",
   "execution_count": null,
   "metadata": {},
   "outputs": [],
   "source": [
    "def find_factors(input_num):\n",
    "    factors = []\n",
    "    for i in range(1, int(input_num**0.5) + 1):\n",
    "        if input_num % i == 0:\n",
    "            factors.append(i)\n",
    "    \n",
    "    pairs = []\n",
    "    for factor in factors:\n",
    "        pairs.append((factor, input_num // factor))\n",
    "    \n",
    "    return pairs[-1]"
   ]
  },
  {
   "cell_type": "code",
   "execution_count": null,
   "metadata": {},
   "outputs": [],
   "source": [
    "def plot_stack(stack):\n",
    "\n",
    "    n = stack.shape[0]\n",
    "\n",
    "    if n > 100:\n",
    "        nrow, ncol = 10, 10\n",
    "    \n",
    "    else:\n",
    "        nrow, ncol = find_factors(n)\n",
    "\n",
    "    _, axes = plt.subplots(nrows=nrow,ncols=ncol,figsize=(20,10))\n",
    "\n",
    "    for idx, (row, col) in enumerate(product(range(nrow),range(ncol))):\n",
    "\n",
    "        axes[row][col].imshow(stack[idx])        \n",
    "        axes[row][col].set_yticks([])\n",
    "        axes[row][col].set_xticks([])\n"
   ]
  },
  {
   "cell_type": "code",
   "execution_count": null,
   "metadata": {},
   "outputs": [],
   "source": [
    "def nan2num(arr):\n",
    "    \n",
    "    copy_arr = deepcopy(arr)\n",
    "    copy_arr = np.nan_to_num(copy_arr)\n",
    "\n",
    "    return copy_arr"
   ]
  },
  {
   "cell_type": "code",
   "execution_count": null,
   "metadata": {},
   "outputs": [],
   "source": [
    "plot_stack(sci_arr[5])"
   ]
  },
  {
   "cell_type": "code",
   "execution_count": null,
   "metadata": {},
   "outputs": [],
   "source": [
    "plot_stack(nan2num(sci_arr[0]))"
   ]
  },
  {
   "cell_type": "code",
   "execution_count": null,
   "metadata": {},
   "outputs": [],
   "source": []
  }
 ],
 "metadata": {
  "kernelspec": {
   "display_name": "jwst-dev",
   "language": "python",
   "name": "python3"
  },
  "language_info": {
   "codemirror_mode": {
    "name": "ipython",
    "version": 3
   },
   "file_extension": ".py",
   "mimetype": "text/x-python",
   "name": "python",
   "nbconvert_exporter": "python",
   "pygments_lexer": "ipython3",
   "version": "3.9.16"
  },
  "orig_nbformat": 4
 },
 "nbformat": 4,
 "nbformat_minor": 2
}

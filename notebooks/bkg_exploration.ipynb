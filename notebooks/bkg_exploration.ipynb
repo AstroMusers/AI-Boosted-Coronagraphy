{
 "cells": [
  {
   "cell_type": "code",
   "execution_count": 1,
   "metadata": {},
   "outputs": [],
   "source": [
    "import glob\n",
    "import numpy as np\n",
    "import matplotlib.pyplot as plt\n",
    "import astropy.io.fits as fits\n",
    "from itertools import product\n",
    "from copy import deepcopy"
   ]
  },
  {
   "cell_type": "code",
   "execution_count": null,
   "metadata": {},
   "outputs": [],
   "source": [
    "from astropy.io import fits\n",
    "from astropy.wcs import WCS\n",
    "from astropy.utils.data import get_pkg_data_filename\n",
    "fn = get_pkg_data_filename('data/j94f05bgq_flt.fits', package='astropy.wcs.tests')\n",
    "f = fits.open(fn)\n",
    "w = WCS(f[1].header)\n",
    "x, y = w.world_to_pixel(sky)\n",
    "print(x, y)  \n",
    "f.close()"
   ]
  },
  {
   "cell_type": "code",
   "execution_count": 2,
   "metadata": {},
   "outputs": [
    {
     "data": {
      "text/plain": [
       "11"
      ]
     },
     "execution_count": 2,
     "metadata": {},
     "output_type": "execute_result"
    }
   ],
   "source": [
    "sci_dirs = sorted(glob.glob('/data/scratch/bariskurtkaya/dataset/NIRCAM/4454/fits_arrays/*'))\n",
    "len(sci_dirs)"
   ]
  },
  {
   "cell_type": "code",
   "execution_count": 3,
   "metadata": {},
   "outputs": [
    {
     "data": {
      "text/plain": [
       "['/data/scratch/bariskurtkaya/dataset/NIRCAM/4454/fits_arrays/4454_F182M_HD-111733-STAR2_psfstack_sci_4.npy',\n",
       " '/data/scratch/bariskurtkaya/dataset/NIRCAM/4454/fits_arrays/4454_F210M_HD-111733-STAR2_psfstack_sci_0.npy',\n",
       " '/data/scratch/bariskurtkaya/dataset/NIRCAM/4454/fits_arrays/4454_F210M_HD-111733-STAR2_psfstack_sci_5.npy',\n",
       " '/data/scratch/bariskurtkaya/dataset/NIRCAM/4454/fits_arrays/4454_F210M_HD-111733-STAR2_psfstack_sci_6.npy',\n",
       " '/data/scratch/bariskurtkaya/dataset/NIRCAM/4454/fits_arrays/4454_F210M_HD-111733-STAR2_psfstack_sci_8.npy',\n",
       " '/data/scratch/bariskurtkaya/dataset/NIRCAM/4454/fits_arrays/4454_F250M_HD-111733-STAR2_psfstack_sci_2.npy',\n",
       " '/data/scratch/bariskurtkaya/dataset/NIRCAM/4454/fits_arrays/4454_F335M_HD-111733-STAR2_psfstack_sci_1.npy',\n",
       " '/data/scratch/bariskurtkaya/dataset/NIRCAM/4454/fits_arrays/4454_F335M_HD-111733-STAR2_psfstack_sci_3.npy',\n",
       " '/data/scratch/bariskurtkaya/dataset/NIRCAM/4454/fits_arrays/4454_F335M_HD-111733-STAR2_psfstack_sci_9.npy',\n",
       " '/data/scratch/bariskurtkaya/dataset/NIRCAM/4454/fits_arrays/4454_F430M_HD-111733-STAR2_psfstack_sci_7.npy',\n",
       " '/data/scratch/bariskurtkaya/dataset/NIRCAM/4454/fits_arrays/4454_F480M_HD-111733-STAR2_psfstack_sci_10.npy']"
      ]
     },
     "execution_count": 3,
     "metadata": {},
     "output_type": "execute_result"
    }
   ],
   "source": [
    "sci_dirs"
   ]
  },
  {
   "cell_type": "code",
   "execution_count": null,
   "metadata": {},
   "outputs": [],
   "source": [
    "sci_arr = []\n",
    "for sci in sci_dirs:\n",
    "    arr = np.load(sci)\n",
    "    sci_arr.append(arr)\n"
   ]
  },
  {
   "cell_type": "code",
   "execution_count": null,
   "metadata": {},
   "outputs": [],
   "source": [
    "def find_factors(input_num):\n",
    "    factors = []\n",
    "    for i in range(1, int(input_num**0.5) + 1):\n",
    "        if input_num % i == 0:\n",
    "            factors.append(i)\n",
    "    \n",
    "    pairs = []\n",
    "    for factor in factors:\n",
    "        pairs.append((factor, input_num // factor))\n",
    "    \n",
    "    return pairs[-1]"
   ]
  },
  {
   "cell_type": "code",
   "execution_count": null,
   "metadata": {},
   "outputs": [],
   "source": [
    "def plot_stack(stack):\n",
    "\n",
    "    n = stack.shape[0]\n",
    "\n",
    "    if n > 100:\n",
    "        nrow, ncol = 10, 10\n",
    "    \n",
    "    else:\n",
    "        nrow, ncol = find_factors(n)\n",
    "\n",
    "    _, axes = plt.subplots(nrows=nrow,ncols=ncol,figsize=(20,10))\n",
    "\n",
    "    for idx, (row, col) in enumerate(product(range(nrow),range(ncol))):\n",
    "\n",
    "        axes[row][col].imshow(stack[idx])        \n",
    "        axes[row][col].set_yticks([])\n",
    "        axes[row][col].set_xticks([])\n"
   ]
  },
  {
   "cell_type": "code",
   "execution_count": null,
   "metadata": {},
   "outputs": [],
   "source": [
    "def nan2num(arr):\n",
    "    \n",
    "    copy_arr = deepcopy(arr)\n",
    "    copy_arr = np.nan_to_num(copy_arr)\n",
    "\n",
    "    return copy_arr"
   ]
  },
  {
   "cell_type": "code",
   "execution_count": null,
   "metadata": {},
   "outputs": [],
   "source": [
    "plot_stack(sci_arr[5])"
   ]
  },
  {
   "cell_type": "code",
   "execution_count": null,
   "metadata": {},
   "outputs": [],
   "source": [
    "plot_stack(nan2num(sci_arr[0]))"
   ]
  },
  {
   "cell_type": "code",
   "execution_count": null,
   "metadata": {},
   "outputs": [],
   "source": []
  }
 ],
 "metadata": {
  "kernelspec": {
   "display_name": "jwst-dev",
   "language": "python",
   "name": "python3"
  },
  "language_info": {
   "codemirror_mode": {
    "name": "ipython",
    "version": 3
   },
   "file_extension": ".py",
   "mimetype": "text/x-python",
   "name": "python",
   "nbconvert_exporter": "python",
   "pygments_lexer": "ipython3",
   "version": "3.9.16"
  },
  "orig_nbformat": 4
 },
 "nbformat": 4,
 "nbformat_minor": 2
}

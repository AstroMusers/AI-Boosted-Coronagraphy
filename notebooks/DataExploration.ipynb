{
 "cells": [
  {
   "cell_type": "code",
   "execution_count": null,
   "id": "2ebc426d-4d7e-4520-81e6-7430446c5061",
   "metadata": {},
   "outputs": [],
   "source": [
    "from astropy.io import fits\n",
    "from glob import glob\n",
    "import os\n",
    "import matplotlib.pyplot as plt\n",
    "from mpl_toolkits import mplot3d\n",
    "import numpy as np\n",
    "import matplotlib.pyplot as plt\n",
    "from astropy import wcs\n",
    "import math\n",
    "from astropy.io import fits\n",
    "from astropy.wcs import WCS\n",
    "import pandas as pd\n",
    "import random\n",
    "from visualization_helpers import *"
   ]
  },
  {
   "cell_type": "code",
   "execution_count": null,
   "id": "37608363-5bef-47c2-bece-38e7ffe1e031",
   "metadata": {},
   "outputs": [],
   "source": [
    "PROPOSAL_ID = '1386'\n",
    "directory_nircam = f'/home/sarperyn/sarperyurtseven/ProjectFiles/dataset/NIRCAM/{PROPOSAL_ID}/mastDownload/JWST/'"
   ]
  },
  {
   "cell_type": "code",
   "execution_count": null,
   "id": "b5610ae9-1164-4318-842f-07f4d8f9e642",
   "metadata": {},
   "outputs": [],
   "source": [
    "psfaligns_nircam = get_stage3_products(suffix='psfalign',directory=directory_nircam)\n",
    "psfsubs_nircam = get_stage3_products(suffix='psfsub',directory=directory_nircam)\n",
    "psfstacks_nircam = get_stage3_products(suffix='psfstack',directory=directory_nircam)\n",
    "crfints_nircam = get_stage3_products(suffix='crfints',directory=directory_nircam)\n",
    "i2ds_nircam = get_stage3_products(suffix='i2d',directory=directory_nircam)\n",
    "calints_nircam = get_lower_products(suffix='calints',directory=directory_nircam)\n",
    "rateints_nircam = get_lower_products(suffix='rateints',directory=directory_nircam)"
   ]
  },
  {
   "cell_type": "code",
   "execution_count": null,
   "id": "d24e795c-5b66-48bb-8768-f163bff3937c",
   "metadata": {},
   "outputs": [],
   "source": [
    "psfstackF410M = fits.open(psfstacks_nircam[0])"
   ]
  },
  {
   "cell_type": "code",
   "execution_count": null,
   "id": "6da87a91-3f2e-4fd7-9517-c3fbb433a705",
   "metadata": {
    "collapsed": true,
    "jupyter": {
     "outputs_hidden": true
    },
    "tags": []
   },
   "outputs": [],
   "source": [
    "psfstackF410M[1].header"
   ]
  },
  {
   "cell_type": "code",
   "execution_count": null,
   "id": "9644f148-c407-4134-8f7a-21f35972a8f5",
   "metadata": {},
   "outputs": [],
   "source": [
    "PROPOSAL_ID = '1441'\n",
    "directory_nircam = f'/home/sarperyn/sarperyurtseven/ProjectFiles/dataset/NIRCAM/{PROPOSAL_ID}/mastDownload/JWST/'"
   ]
  },
  {
   "cell_type": "code",
   "execution_count": null,
   "id": "79d39d83-72ac-49a2-a9ed-52ff065d5e70",
   "metadata": {},
   "outputs": [],
   "source": [
    "psfaligns_nircam = get_stage3_products(suffix='psfalign',directory=directory_nircam)\n",
    "psfsubs_nircam = get_stage3_products(suffix='psfsub',directory=directory_nircam)\n",
    "psfstacks_nircam = get_stage3_products(suffix='psfstack',directory=directory_nircam)\n",
    "crfints_nircam = get_stage3_products(suffix='crfints',directory=directory_nircam)\n",
    "i2ds_nircam = get_stage3_products(suffix='i2d',directory=directory_nircam)\n",
    "calints_nircam = get_lower_products(suffix='calints',directory=directory_nircam)\n",
    "rateints_nircam = get_lower_products(suffix='rateints',directory=directory_nircam)"
   ]
  },
  {
   "cell_type": "code",
   "execution_count": null,
   "id": "ad431888-80d1-4873-b4b7-1b3c94f8fbf8",
   "metadata": {},
   "outputs": [],
   "source": [
    "psfstackF410M = fits.open(psfstacks_nircam[0])"
   ]
  },
  {
   "cell_type": "code",
   "execution_count": null,
   "id": "e0094803-4bcc-4496-b162-1eab6856a95d",
   "metadata": {
    "collapsed": true,
    "jupyter": {
     "outputs_hidden": true
    },
    "tags": []
   },
   "outputs": [],
   "source": [
    "psfstackF410M[0].header"
   ]
  },
  {
   "cell_type": "code",
   "execution_count": null,
   "id": "2e213841-a8da-4e73-a876-ce22e185b009",
   "metadata": {},
   "outputs": [],
   "source": [
    "import webbpsf\n",
    "import numpy as np"
   ]
  },
  {
   "cell_type": "code",
   "execution_count": null,
   "id": "070c4de5-0543-404f-bb85-bb62bdd7f645",
   "metadata": {},
   "outputs": [],
   "source": [
    "def compute_psfs():\n",
    "    nc = webbpsf.NIRCam()\n",
    "\n",
    "    # acq filter, occulting mask, lyot, coords of acq ND square\n",
    "    sets = [('F182M', 'MASKSWB', 'WEDGELYOT', -10,  7.5),\n",
    "            ('F182M', 'MASK210R', 'CIRCLYOT', -7.5, 7.5),\n",
    "            ('F335M', 'MASKLWB', 'WEDGELYOT',  7.5, 7.5),\n",
    "            ('F335M', 'MASK335R', 'CIRCLYOT', -10,  7.5)]\n",
    "\n",
    "    nlambda = 9\n",
    "    oversample = 2\n",
    "\n",
    "    calc_oversample=4\n",
    "\n",
    "    fov_arcsec = 25\n",
    "\n",
    "    for param in sets:\n",
    "        nc.filter = param[0]\n",
    "        nc.image_mask = param[1]\n",
    "        nc.pupil_mask = param[2]\n",
    "        source_offset_x = param[3]\n",
    "        source_offset_y = param[4]\n",
    "\n",
    "\n",
    "        source_offset_r = np.sqrt(source_offset_x**2+ source_offset_y**2)\n",
    "        source_offset_theta = np.arctan2(source_offset_x, source_offset_y)*180/np.pi\n",
    "        nc.options['source_offset_r'] = source_offset_r\n",
    "        nc.options['source_offset_theta'] = source_offset_theta\n",
    "\n",
    "\n",
    "        filename = \"PSF_NIRCam_%s_%s_%s_offset.fits\" % (param[0], param[1], param[2])\n",
    "        result = nc.calc_psf(nlambda=nlambda,\n",
    "            oversample=oversample, calc_oversample=calc_oversample,\n",
    "            fov_arcsec=fov_arcsec, outfile=filename, display=False,)\n",
    "        \n",
    "    print('a')"
   ]
  },
  {
   "cell_type": "code",
   "execution_count": null,
   "id": "f2189c15-4e49-4c55-9fe5-de43bc1b8ac8",
   "metadata": {},
   "outputs": [],
   "source": [
    "compute_psfs()"
   ]
  },
  {
   "cell_type": "code",
   "execution_count": null,
   "id": "fc6d57a7-277b-4a41-a54e-3ae48c185994",
   "metadata": {},
   "outputs": [],
   "source": []
  }
 ],
 "metadata": {
  "kernelspec": {
   "display_name": "Python 3",
   "language": "python",
   "name": "python3"
  },
  "language_info": {
   "codemirror_mode": {
    "name": "ipython",
    "version": 3
   },
   "file_extension": ".py",
   "mimetype": "text/x-python",
   "name": "python",
   "nbconvert_exporter": "python",
   "pygments_lexer": "ipython3",
   "version": "3.9.16"
  }
 },
 "nbformat": 4,
 "nbformat_minor": 5
}

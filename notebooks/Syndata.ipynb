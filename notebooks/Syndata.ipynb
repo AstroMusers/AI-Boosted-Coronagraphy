{
 "cells": [
  {
   "cell_type": "code",
   "execution_count": null,
   "id": "116359ac-8003-49ab-8015-28054da4747c",
   "metadata": {},
   "outputs": [],
   "source": [
    "from syndata import *"
   ]
  },
  {
   "cell_type": "markdown",
   "id": "5bbbb859-ded7-430c-a0da-5d046e5f89c7",
   "metadata": {},
   "source": [
    "# Get Data"
   ]
  },
  {
   "cell_type": "code",
   "execution_count": null,
   "id": "f5ec6874-15b7-442d-b02b-bdc2b6395fd8",
   "metadata": {},
   "outputs": [],
   "source": [
    "directory = f'/home/sarperyn/sarperyurtseven/ProjectFiles/dataset/NIRCAM/'\n",
    "h5_files = glob(os.path.join(directory,'**/*.h5'))\n",
    "data_1441 = h5py.File(h5_files[0],'r')\n",
    "data_1386 = h5py.File(h5_files[1],'r')"
   ]
  },
  {
   "cell_type": "markdown",
   "id": "cb8f3d15-44f6-4146-99db-a3e604f8ee24",
   "metadata": {},
   "source": [
    "# 1386"
   ]
  },
  {
   "cell_type": "code",
   "execution_count": null,
   "id": "69859d53-537c-4ac7-b81c-328749f3a087",
   "metadata": {},
   "outputs": [],
   "source": [
    "keys_1386 = [x for x in data_1386.keys()]\n",
    "keys_1386"
   ]
  },
  {
   "cell_type": "code",
   "execution_count": null,
   "id": "071d38ce-4f14-42d9-b041-f96523fb4baf",
   "metadata": {},
   "outputs": [],
   "source": [
    "hip68245_f250m_335r_1386 = np.array(data_1386[keys_1386[0]])\n",
    "hip68245_f300m_335r_1386 = np.array(data_1386[keys_1386[1]])\n",
    "hip68245_f356w_335r_1386 = np.array(data_1386[keys_1386[2]])\n",
    "hip68245_f410m_335r_1386 = np.array(data_1386[keys_1386[3]])\n",
    "hip68245_f444w_335r_1386 = np.array(data_1386[keys_1386[4]])"
   ]
  },
  {
   "cell_type": "code",
   "execution_count": null,
   "id": "2e5f956b-df15-42e6-9c11-303a2072033d",
   "metadata": {},
   "outputs": [],
   "source": [
    "keys_1441 = [x for x in data_1441.keys()]\n",
    "keys_1441"
   ]
  },
  {
   "cell_type": "code",
   "execution_count": null,
   "id": "eaa166c5-fef0-4622-b57b-24eac6b2f8da",
   "metadata": {},
   "outputs": [],
   "source": [
    "d_1441 = np.array(data_1441[keys_1441[0]])"
   ]
  },
  {
   "cell_type": "code",
   "execution_count": null,
   "id": "74d1940c-1007-4fca-830a-8665f87f5ed4",
   "metadata": {},
   "outputs": [],
   "source": [
    "#exo_f250m = put_exo2image(hip68245_f250m_335r_1386)\n",
    "#exo_f300m = put_exo2image(hip68245_f300m_335r_1386)\n",
    "#exo_f356w = put_exo2image(hip68245_f356w_335r_1386)\n",
    "#exo_f410m = put_exo2image(hip68245_f410m_335r_1386)\n",
    "#exo_f444w = put_exo2image(hip68245_f444w_335r_1386)"
   ]
  },
  {
   "cell_type": "code",
   "execution_count": null,
   "id": "b03cb6cc-3cc3-4498-91a4-9bd23da8fd03",
   "metadata": {},
   "outputs": [],
   "source": [
    "#np.save('exo15_f250m',exo_f250m)\n",
    "#np.save('exo15_f300m',exo_f300m)\n",
    "#np.save('exo15_f356w',exo_f356w)\n",
    "#np.save('exo15_f410m',exo_f410m)\n",
    "#np.save('exo15_f444w',exo_f444w)"
   ]
  },
  {
   "cell_type": "code",
   "execution_count": null,
   "id": "08d93a30-8a64-40a5-b7c7-1942ec68c6de",
   "metadata": {},
   "outputs": [],
   "source": []
  },
  {
   "cell_type": "code",
   "execution_count": null,
   "id": "29e8479c-47f3-4df3-a3bd-047122ff3b07",
   "metadata": {},
   "outputs": [],
   "source": [
    "exo_locs = get_exo_locations()"
   ]
  },
  {
   "cell_type": "code",
   "execution_count": null,
   "id": "9dab3c85-de0b-4168-9edc-e778e7e9e29e",
   "metadata": {},
   "outputs": [],
   "source": [
    "visualize_syn_data(exo_f300m,exo_locs)"
   ]
  },
  {
   "cell_type": "code",
   "execution_count": null,
   "id": "bc02485b-3299-4872-89ae-063e363b45eb",
   "metadata": {},
   "outputs": [],
   "source": [
    "visualize_syn_data(exo_f356w,exo_locs)"
   ]
  },
  {
   "cell_type": "code",
   "execution_count": null,
   "id": "92d363ce-981b-4e1c-aee2-f92e7a120a75",
   "metadata": {},
   "outputs": [],
   "source": [
    "visualize_syn_data(exo_f410m,exo_locs)"
   ]
  },
  {
   "cell_type": "code",
   "execution_count": null,
   "id": "1750879a-2846-4993-9a08-1538a0f9cca9",
   "metadata": {},
   "outputs": [],
   "source": [
    "visualize_syn_data(exo_f444w,exo_locs)"
   ]
  },
  {
   "cell_type": "code",
   "execution_count": null,
   "id": "95dbabb1-5470-4f30-bd4c-077e554d9b05",
   "metadata": {},
   "outputs": [],
   "source": []
  },
  {
   "cell_type": "code",
   "execution_count": null,
   "id": "5570bfbc-6297-4454-a750-ae38468631e6",
   "metadata": {},
   "outputs": [],
   "source": [
    "all_data = np.concatenate((hip68245_f250m_335r_1386,\n",
    "                           hip68245_f300m_335r_1386,\n",
    "                           hip68245_f356w_335r_1386,\n",
    "                           hip68245_f410m_335r_1386,\n",
    "                           hip68245_f444w_335r_1386),axis=0)"
   ]
  },
  {
   "cell_type": "code",
   "execution_count": null,
   "id": "32bc9030-e12c-4616-bb39-62ee573ee82c",
   "metadata": {},
   "outputs": [],
   "source": []
  },
  {
   "cell_type": "code",
   "execution_count": null,
   "id": "bb5eac91-2ad6-4b26-8aca-59e63aebbfef",
   "metadata": {},
   "outputs": [],
   "source": []
  },
  {
   "cell_type": "code",
   "execution_count": null,
   "id": "a009ef3a-2231-4a24-8c6e-98b3b316b6a2",
   "metadata": {},
   "outputs": [],
   "source": [
    "def erase_star(imgs):\n",
    "    \n",
    "    y,x = np.random.randint(0,1,(2,len(imgs)))\n",
    "    samples = copy.deepcopy(imgs)\n",
    "    #star = copy.deepcopy(samples[:,100:250,75:225])\n",
    "    \n",
    "    for i in range(len(y)):\n",
    "        \n",
    "        replace = copy.deepcopy(samples[i:i+1,y[i]:y[i]+100,x[i]:x[i]+100])\n",
    "        #samples[i:i+1,y[i]:y[i]+150,x[i]:x[i]+150] = star[i]\n",
    "        samples[i:i+1,125:225,100:200] = replace\n",
    "        \n",
    "    return samples"
   ]
  },
  {
   "cell_type": "code",
   "execution_count": null,
   "id": "ecf71ea2-688f-4ace-945c-6dfc33f0e9d3",
   "metadata": {},
   "outputs": [],
   "source": [
    "erase_1441 = erase_star(d_1441)"
   ]
  },
  {
   "cell_type": "code",
   "execution_count": null,
   "id": "985cb9f2-ed77-4cfd-9b64-40a0e29a6ce6",
   "metadata": {},
   "outputs": [],
   "source": [
    "#noised_erased_start = erase_star + noise1"
   ]
  },
  {
   "cell_type": "code",
   "execution_count": null,
   "id": "58a9c72f-f82d-4821-8d02-6d84b32123e4",
   "metadata": {},
   "outputs": [],
   "source": [
    "#erase_star.shape"
   ]
  },
  {
   "cell_type": "code",
   "execution_count": null,
   "id": "ee74248c-6fb9-40bc-b4ae-023025dcdee4",
   "metadata": {},
   "outputs": [],
   "source": [
    "visualize_syn_data(erase_1441,exo_locs)"
   ]
  },
  {
   "cell_type": "code",
   "execution_count": null,
   "id": "5c305c68-11bb-4ade-8d08-1cb8aef5b523",
   "metadata": {},
   "outputs": [],
   "source": [
    "noise1441 =  np.random.normal(14,3,(189,320,320)) + np.random.exponential(scale=6,size=(189,320,320))\n",
    "noised_1441 = erase_1441 + noise1441"
   ]
  },
  {
   "cell_type": "code",
   "execution_count": null,
   "id": "7f4d3b92-cb6f-4268-b000-96153aa1bc73",
   "metadata": {},
   "outputs": [],
   "source": [
    "#np.save('noised_1441',noised_1441)"
   ]
  },
  {
   "cell_type": "code",
   "execution_count": null,
   "id": "2d8490f2-ce61-40cf-bdb7-d255e65bacba",
   "metadata": {},
   "outputs": [],
   "source": []
  },
  {
   "cell_type": "code",
   "execution_count": null,
   "id": "bd64820e-371a-4cba-937d-02e5b0b2cfec",
   "metadata": {},
   "outputs": [],
   "source": [
    "#star_10000    = np.load('staronly_10000.npy')\n",
    "#starexo_10000 = np.load('se_data_10000.npy')"
   ]
  },
  {
   "cell_type": "code",
   "execution_count": null,
   "id": "3be28709-6331-44af-9dbc-c9e2bdf4023a",
   "metadata": {},
   "outputs": [],
   "source": [
    "# y star 150 190\n",
    "# x star 130 170"
   ]
  },
  {
   "cell_type": "code",
   "execution_count": null,
   "id": "454a7ddb-b0f6-413c-82e3-cb00c68727c7",
   "metadata": {},
   "outputs": [],
   "source": [
    "# y 130--210\n",
    "# x 100--200"
   ]
  },
  {
   "cell_type": "code",
   "execution_count": null,
   "id": "9c149983-5c91-41b5-9141-d6101caa0b2d",
   "metadata": {},
   "outputs": [],
   "source": [
    "#sample1[0][exo_locs[0][1]:exo_locs[0][1]+6,exo_locs[0][0]:exo_locs[0][0]+6]  = sample1[0][exo_locs[0][1]:exo_locs[0][1]+6,exo_locs[0][0]:exo_locs[0][0]+6] + exo_stack\n",
    "#sample2 = np.expand_dims(final_1386[0],axis=0)\n",
    "#sample2[0][exo_locs[1][1]:exo_locs[1][1]+6,exo_locs[1][0]:exo_locs[1][0]+6]  = sample1[0][exo_locs[1][1]:exo_locs[1][1]+6,exo_locs[1][0]:exo_locs[1][0]+6] + exo_stack"
   ]
  },
  {
   "cell_type": "code",
   "execution_count": null,
   "id": "f7910925-a782-4e53-ab31-569ee1eab46e",
   "metadata": {},
   "outputs": [],
   "source": []
  },
  {
   "cell_type": "code",
   "execution_count": null,
   "id": "6446d551-8d35-4959-9c0b-870589df44cd",
   "metadata": {},
   "outputs": [],
   "source": [
    "DIR = '/home/sarperyn/sarperyurtseven/ProjectFiles/dataset/'"
   ]
  },
  {
   "cell_type": "code",
   "execution_count": null,
   "id": "9289fe85-eaf6-4fc0-9db1-1d565902b64a",
   "metadata": {},
   "outputs": [],
   "source": [
    "augmented_1386   = np.load(f'{DIR}/augmented/augmented.npy')\n",
    "augmented_erased = np.load(f'{DIR}/augmented/augmented_erased_data.npy')"
   ]
  },
  {
   "cell_type": "code",
   "execution_count": null,
   "id": "643aa52a-3d67-4c9a-b3e8-cc650efcdc16",
   "metadata": {},
   "outputs": [],
   "source": [
    "exo_f250m = np.concatenate((np.load(f'{DIR}/synthetic/exo1_f250m.npy'),np.load(f'{DIR}/synthetic/exo2_f250m.npy')),axis=0)\n",
    "exo_f300m = np.concatenate((np.load(f'{DIR}/synthetic/exo1_f300m.npy'),np.load(f'{DIR}/synthetic/exo2_f300m.npy')),axis=0)\n",
    "exo_f356w = np.concatenate((np.load(f'{DIR}/synthetic/exo1_f356w.npy'),np.load(f'{DIR}/synthetic/exo2_f356w.npy')),axis=0)\n",
    "exo_f410m = np.concatenate((np.load(f'{DIR}/synthetic/exo1_f410m.npy'),np.load(f'{DIR}/synthetic/exo2_f410m.npy')),axis=0)\n",
    "exo_f444w = np.concatenate((np.load(f'{DIR}/synthetic/exo1_f444w.npy'),np.load(f'{DIR}/synthetic/exo2_f444w.npy')),axis=0)"
   ]
  },
  {
   "cell_type": "code",
   "execution_count": null,
   "id": "2d741ba0-bfef-4d57-9db4-2b27eb2e99a0",
   "metadata": {},
   "outputs": [],
   "source": [
    "exo     = np.concatenate((exo_f250m,exo_f300m,exo_f356w,exo_f410m,exo_f444w),axis=0)\n",
    "star    = np.concatenate((all_data,augmented_1386),axis=0)\n",
    "nothing = np.concatenate((erase_star,augmented_erased),axis=0) "
   ]
  },
  {
   "cell_type": "code",
   "execution_count": null,
   "id": "9372e71d-841f-49c5-b054-17b29e8e1254",
   "metadata": {},
   "outputs": [],
   "source": [
    "exo_nsample = exo.shape[0]\n",
    "star_nsample = star.shape[0]\n",
    "nothing_nsample = nothing.shape[0]"
   ]
  },
  {
   "cell_type": "code",
   "execution_count": null,
   "id": "c7811ca5-e888-43a0-87a2-b28743d7ce8e",
   "metadata": {},
   "outputs": [],
   "source": [
    "noise1 = np.random.normal(14,3,(exo_nsample,320,320)) + np.random.exponential(scale=6,size=(exo_nsample,320,320)) + np.squeeze(np.random.dirichlet(alpha=(10,),size=(exo_nsample,320,320)))\n",
    "noise2 = np.random.normal(15,3,(star_nsample,320,320)) + np.random.exponential(scale=6,size=(star_nsample,320,320)) + np.squeeze(np.random.dirichlet(alpha=(10,),size=(star_nsample,320,320)))\n",
    "noise3 =  np.random.normal(20,3,(nothing_nsample,320,320)) + np.random.exponential(scale=6,size=(nothing_nsample,320,320)) + np.squeeze(np.random.dirichlet(alpha=(10,),size=(nothing_nsample,320,320)))"
   ]
  },
  {
   "cell_type": "code",
   "execution_count": null,
   "id": "aef1c8b1-cef4-4510-acc2-7c2768c2f33e",
   "metadata": {},
   "outputs": [],
   "source": [
    "#noise4 = np.random.normal(5,6,(exo_nsample,320,320)) + np.random.rayleigh(scale=5,size=(exo_nsample,320,320))\n",
    "#noise5 = np.random.normal(5,7,(star_nsample,320,320)) + np.random.rayleigh(scale=5,size=(star_nsample,320,320))\n",
    "#noise6 =  np.random.normal(5,8,(nothing_nsample,320,320)) + np.random.rayleigh(scale=5,size=(nothing_nsample,320,320))"
   ]
  },
  {
   "cell_type": "code",
   "execution_count": null,
   "id": "8650b232-e167-41a6-a11d-8e31b6884e6e",
   "metadata": {},
   "outputs": [],
   "source": [
    "noised_exo  = exo + noise1\n",
    "noised_star = star + noise2\n",
    "noised_nothing = nothing + noise3"
   ]
  },
  {
   "cell_type": "code",
   "execution_count": null,
   "id": "5754f11d-bbb3-430d-8aac-615fc1c237fc",
   "metadata": {},
   "outputs": [],
   "source": [
    "def add_noise(exo,star):\n",
    "    \n",
    "    exo_nsample = exo.shape[0]\n",
    "    star_nsample = star.shape[0]\n",
    "    \n",
    "    noise1 = np.random.normal(14,3,(exo_nsample,320,320)) + np.random.exponential(scale=6,size=(exo_nsample,320,320)) + np.squeeze(np.random.dirichlet(alpha=(10,),size=(exo_nsample,320,320)))\n",
    "    noise2 = np.random.normal(15,3,(star_nsample,320,320)) + np.random.exponential(scale=6,size=(star_nsample,320,320)) + np.squeeze(np.random.dirichlet(alpha=(10,),size=(star_nsample,320,320)))\n",
    "    \n",
    "    noised_exo  = exo + noise1\n",
    "    noised_star = star + noise2\n",
    "    \n",
    "    \n",
    "    return noised_exo, noised_star\n",
    "    \n",
    "    "
   ]
  },
  {
   "cell_type": "code",
   "execution_count": null,
   "id": "aa1eaefd-91b3-467b-8a75-073b87bed5fa",
   "metadata": {},
   "outputs": [],
   "source": []
  },
  {
   "cell_type": "code",
   "execution_count": null,
   "id": "73d87d5c-09d8-4033-8a4b-c2570dc9213d",
   "metadata": {},
   "outputs": [],
   "source": []
  },
  {
   "cell_type": "code",
   "execution_count": null,
   "id": "5cf56826-4a7f-4d13-b20b-8ef1d992e8ed",
   "metadata": {},
   "outputs": [],
   "source": [
    "#noised2_exo  = exo + noise4\n",
    "#noised2_star = star + noise5\n",
    "#noised2_nothing = nothing + noise6"
   ]
  },
  {
   "cell_type": "code",
   "execution_count": null,
   "id": "aa86ffab-3d5f-4fd8-a31d-331232e8386b",
   "metadata": {},
   "outputs": [],
   "source": [
    "np.save('noised_exo',noised_exo)\n",
    "np.save('noised_star',noised_star)\n",
    "np.save('noised_nothing',noised_nothing)"
   ]
  },
  {
   "cell_type": "code",
   "execution_count": null,
   "id": "589b1a67-697e-49b5-836f-a303cc614b4b",
   "metadata": {
    "collapsed": true,
    "jupyter": {
     "outputs_hidden": true
    },
    "tags": []
   },
   "outputs": [],
   "source": [
    "visualize_syn_data(exo,exo_locs)"
   ]
  },
  {
   "cell_type": "code",
   "execution_count": null,
   "id": "bdeab6f9-28ac-4dcb-9cc4-a9f665b80d88",
   "metadata": {
    "collapsed": true,
    "jupyter": {
     "outputs_hidden": true
    },
    "tags": []
   },
   "outputs": [],
   "source": [
    "visualize_syn_data(noised_exo,exo_locs)"
   ]
  },
  {
   "cell_type": "code",
   "execution_count": null,
   "id": "594abdce-44b9-4f20-b19e-384b017911f1",
   "metadata": {
    "collapsed": true,
    "jupyter": {
     "outputs_hidden": true
    },
    "tags": []
   },
   "outputs": [],
   "source": [
    "visualize_syn_data(noised_star,exo_locs)"
   ]
  },
  {
   "cell_type": "code",
   "execution_count": null,
   "id": "1685eaa8-0420-45dd-ace5-f1789a284dcf",
   "metadata": {
    "collapsed": true,
    "jupyter": {
     "outputs_hidden": true
    },
    "tags": []
   },
   "outputs": [],
   "source": [
    "visualize_syn_data(noised_nothing,exo_locs)"
   ]
  },
  {
   "cell_type": "code",
   "execution_count": null,
   "id": "4da27726-a4af-4d1a-b9c4-2416c5f50b07",
   "metadata": {},
   "outputs": [],
   "source": [
    "def add_gaussian_blur(exo,star):\n",
    "    \n",
    "\n",
    "    copy_exo = deepcopy(exo)\n",
    "    copy_star = deepcopy(star)\n",
    "    \n",
    "    \n",
    "\n",
    "    blurred_exo = gaussian_filter(copy_exo, sigma=0.8)\n",
    "    blurred_star = gaussian_filter(copy_star, sigma=1.2)\n",
    "    \n",
    "    return blurred_exo, blurred_star\n",
    "    "
   ]
  },
  {
   "cell_type": "code",
   "execution_count": null,
   "id": "9906cefa-1fcf-4b9e-8ba7-7eac3eedbb05",
   "metadata": {},
   "outputs": [],
   "source": [
    "from copy import deepcopy"
   ]
  },
  {
   "cell_type": "code",
   "execution_count": null,
   "id": "d600736c-f3c6-4200-a76c-ac7b9a7ed914",
   "metadata": {},
   "outputs": [],
   "source": [
    "copy_exo = deepcopy(exo)\n",
    "copy_star = deepcopy(star)\n",
    "copy_nothing = deepcopy(nothing)"
   ]
  },
  {
   "cell_type": "code",
   "execution_count": null,
   "id": "9494402c-1c8e-451d-98b1-c4b3e9d65627",
   "metadata": {},
   "outputs": [],
   "source": [
    "from scipy.ndimage import gaussian_filter\n",
    "\n",
    "blurred_exo = gaussian_filter(copy_exo, sigma=0.8)\n",
    "blurred_star = gaussian_filter(copy_star, sigma=1.2)\n",
    "blurred_nothing = gaussian_filter(copy_nothing, sigma=2)\n"
   ]
  },
  {
   "cell_type": "code",
   "execution_count": null,
   "id": "18a3c100-a132-4773-9d6d-cc4369be32d0",
   "metadata": {},
   "outputs": [],
   "source": [
    "np.save('blurred_exo',blurred_exo)\n",
    "np.save('blurred_star',blurred_star)\n",
    "np.save('blurred_nothing',blurred_nothing)"
   ]
  },
  {
   "cell_type": "code",
   "execution_count": null,
   "id": "3c304613-9669-4a79-8015-0153f324b7e1",
   "metadata": {},
   "outputs": [],
   "source": []
  },
  {
   "cell_type": "code",
   "execution_count": null,
   "id": "889968d4-5180-493e-b947-9e7cc3fa2b37",
   "metadata": {},
   "outputs": [],
   "source": []
  },
  {
   "cell_type": "code",
   "execution_count": null,
   "id": "8a8912fb-3e13-4b4d-9435-1449070b9441",
   "metadata": {},
   "outputs": [],
   "source": []
  },
  {
   "cell_type": "code",
   "execution_count": null,
   "id": "4bd4f2f2-9b63-4a34-a17d-7b61f427e9ef",
   "metadata": {},
   "outputs": [],
   "source": []
  },
  {
   "cell_type": "code",
   "execution_count": null,
   "id": "6420cf75-d661-475b-ac50-22b6a1e4a8b4",
   "metadata": {},
   "outputs": [],
   "source": [
    "x = 145\n",
    "y = 250\n",
    "aw = samples[6]\n",
    "aw[y:y+6,x:x+6]  = aw[y:y+6,x:x+6]  + exo_planet\n",
    "\n",
    "figure, axes = plt.subplots()\n",
    "star_circle = plt.Circle( (150, 170 ),\n",
    "                                      20 ,\n",
    "                                      fill =False ,color='red')\n",
    "\n",
    "exo_circle = plt.Circle( (148, 253 ),\n",
    "                                     3 ,\n",
    "                                     fill = False ,color='blue')\n",
    "axes.set_aspect(1)\n",
    "axes.imshow(aw,cmap='gray',clim=(0,255))\n",
    "axes.add_artist(star_circle)\n",
    "axes.add_artist(exo_circle)\n",
    "plt.show()"
   ]
  },
  {
   "cell_type": "code",
   "execution_count": null,
   "id": "1215b5f2-5d32-463d-9c42-2008bf188ca8",
   "metadata": {},
   "outputs": [],
   "source": []
  },
  {
   "cell_type": "markdown",
   "id": "551e9e7a-4c50-4970-8338-74609f85fd54",
   "metadata": {},
   "source": [
    "# 1441"
   ]
  },
  {
   "cell_type": "code",
   "execution_count": null,
   "id": "fe422152-8f1c-411e-b522-3973f3fa70c9",
   "metadata": {},
   "outputs": [],
   "source": [
    "keys_1441 = [x for x in data_1441.keys()]\n",
    "final_1441 = np.concatenate((np.array(data_1441[keys_1441[0]]),np.array(data_1441[keys_1441[1]])))\n",
    "\n",
    "for i in range(len(keys_1441)-2):\n",
    "    \n",
    "    final_1441 = np.concatenate((final_1441,np.array(data_1441[keys_1441[i+2]])))"
   ]
  },
  {
   "cell_type": "code",
   "execution_count": null,
   "id": "56df5772-f5ff-4be7-a5bb-66a6b7637737",
   "metadata": {},
   "outputs": [],
   "source": []
  }
 ],
 "metadata": {
  "kernelspec": {
   "display_name": "Python 3 (ipykernel)",
   "language": "python",
   "name": "python3"
  },
  "language_info": {
   "codemirror_mode": {
    "name": "ipython",
    "version": 3
   },
   "file_extension": ".py",
   "mimetype": "text/x-python",
   "name": "python",
   "nbconvert_exporter": "python",
   "pygments_lexer": "ipython3",
   "version": "3.10.8"
  }
 },
 "nbformat": 4,
 "nbformat_minor": 5
}

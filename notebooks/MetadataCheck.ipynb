{
 "cells": [
  {
   "cell_type": "code",
   "execution_count": null,
   "id": "d6b72098-bd76-41f0-aea6-29b72c858709",
   "metadata": {},
   "outputs": [],
   "source": [
    "from astropy.io import fits\n",
    "from glob import glob\n",
    "import os\n",
    "import matplotlib.pyplot as plt\n",
    "from mpl_toolkits import mplot3d\n",
    "import numpy as np\n",
    "import matplotlib.pyplot as plt\n",
    "from astropy import wcs\n",
    "import math\n",
    "from astropy.io import fits\n",
    "from astropy.wcs import WCS\n",
    "import pandas as pd\n",
    "import random"
   ]
  },
  {
   "attachments": {},
   "cell_type": "markdown",
   "id": "b27c1c78-8454-480b-9ee5-9225dbb1c12b",
   "metadata": {},
   "source": [
    "# THIS NOTEBOOK IS  A MANUSCRIPT"
   ]
  },
  {
   "cell_type": "code",
   "execution_count": null,
   "id": "7366d8f7-50b0-4061-b2c8-86349064bf7f",
   "metadata": {},
   "outputs": [],
   "source": [
    "from visualization_helpers import *"
   ]
  },
  {
   "cell_type": "code",
   "execution_count": null,
   "id": "beae1c49-25ad-4a07-b36e-26e5b092285c",
   "metadata": {},
   "outputs": [],
   "source": [
    "PROPOSAL_ID = '1386'\n",
    "FILTER = 'NIRCAM'\n",
    "# directory_nircam = f'/home/sarperyn/sarperyurtseven/ProjectFiles/dataset/{FILTER}/{PROPOSAL_ID}/mastDownload/JWST/'\n",
    "directory_nircam = f'/data/scratch/bariskurtkaya/dataset/{FILTER}/{PROPOSAL_ID}/mastDownload/JWST/'"
   ]
  },
  {
   "cell_type": "code",
   "execution_count": null,
   "id": "241602bf-f383-4208-b018-13307f5a1ccc",
   "metadata": {},
   "outputs": [],
   "source": [
    "psfaligns_nircam = get_stage3_products(suffix='psfalign',directory=directory_nircam)\n",
    "psfsubs_nircam = get_stage3_products(suffix='psfsub',directory=directory_nircam)\n",
    "psfstacks_nircam = get_stage3_products(suffix='psfstack',directory=directory_nircam)\n",
    "crfints_nircam = get_stage3_products(suffix='crfints',directory=directory_nircam)\n",
    "i2ds_nircam = get_stage3_products(suffix='i2d',directory=directory_nircam)\n",
    "calints_nircam = get_lower_products(suffix='calints',directory=directory_nircam)\n",
    "rateints_nircam = get_lower_products(suffix='rateints',directory=directory_nircam)"
   ]
  },
  {
   "cell_type": "code",
   "execution_count": null,
   "id": "e40975a3-8bcf-4bf4-8496-60fe83e57074",
   "metadata": {},
   "outputs": [],
   "source": [
    "header_psfstacks,sci_psfstacks,err_psfstacks,dq_psfstacks,_,_ = get_hdu(psfstacks_nircam,data='psf')\n",
    "header_psfsub,sci_psfsub,err_psfsub,dq_psfsub,_,_ = get_hdu(psfsubs_nircam,data='psfsub')\n",
    "header_calints,sci_calints,err_calints,dq_calints,_,_ = get_hdu(calints_nircam,data='psfsub')\n",
    "header_rateints,sci_rateints,err_rateints,dq_rateints,_,_ = get_hdu(calints_nircam,data='psfsub')"
   ]
  },
  {
   "cell_type": "code",
   "execution_count": null,
   "id": "b5544bf9-cb18-492c-9e01-77c9f7fa3bdf",
   "metadata": {
    "collapsed": true,
    "jupyter": {
     "outputs_hidden": true
    },
    "scrolled": true
   },
   "outputs": [],
   "source": [
    "header_calints[0]"
   ]
  },
  {
   "cell_type": "code",
   "execution_count": null,
   "id": "2d23a9b1-a78b-4744-9f40-a95822b9c616",
   "metadata": {
    "collapsed": true,
    "jupyter": {
     "outputs_hidden": true
    },
    "tags": []
   },
   "outputs": [],
   "source": [
    "corons = []\n",
    "for i in range(len(header_calints)):\n",
    "    \n",
    "    print(header_calints[i]['EXP_TYPE'])\n",
    "    if header_calints[i]['EXP_TYPE'] == 'NRC_CORON':\n",
    "        corons.append(header_calints[i]['FILENAME'])"
   ]
  },
  {
   "cell_type": "code",
   "execution_count": null,
   "id": "3cd8b0a3-7b87-4bd1-aa56-686df89fecd1",
   "metadata": {},
   "outputs": [],
   "source": [
    "# What is NRC_TACONFIRM,  NRC_TACQ"
   ]
  },
  {
   "cell_type": "code",
   "execution_count": null,
   "id": "fe94e031-884e-4b34-a9d1-ab92e39c09f5",
   "metadata": {
    "tags": []
   },
   "outputs": [],
   "source": [
    "header_calints[0]['EXP_TYPE']"
   ]
  },
  {
   "cell_type": "code",
   "execution_count": null,
   "id": "cd9938d6-941e-43c7-a207-594189050d08",
   "metadata": {},
   "outputs": [],
   "source": [
    "header_calints[6]['EXP_TYPE']"
   ]
  },
  {
   "cell_type": "code",
   "execution_count": null,
   "id": "fcaa6ae7-ba65-4df0-b64e-64d546df9f18",
   "metadata": {},
   "outputs": [],
   "source": [
    "PROPOSAL_ID = '1441'\n",
    "#directory_nircam = f'/home/sarperyn/sarperyurtseven/ProjectFiles/dataset/NIRCAM/{PROPOSAL_ID}/mastDownload/JWST/'\n",
    "directory_nircam = f'/data/scratch/bariskurtkaya/dataset/{FILTER}/{PROPOSAL_ID}/mastDownload/JWST/'"
   ]
  },
  {
   "cell_type": "code",
   "execution_count": null,
   "id": "8b8d7213-2aee-4276-9aea-5ee382866c4f",
   "metadata": {},
   "outputs": [],
   "source": [
    "psfaligns_nircam = get_stage3_products(suffix='psfalign',directory=directory_nircam)\n",
    "psfsubs_nircam = get_stage3_products(suffix='psfsub',directory=directory_nircam)\n",
    "psfstacks_nircam = get_stage3_products(suffix='psfstack',directory=directory_nircam)\n",
    "crfints_nircam = get_stage3_products(suffix='crfints',directory=directory_nircam)\n",
    "i2ds_nircam = get_stage3_products(suffix='i2d',directory=directory_nircam)\n",
    "calints_nircam = get_lower_products(suffix='calints',directory=directory_nircam)\n",
    "rateints_nircam = get_lower_products(suffix='rateints',directory=directory_nircam)"
   ]
  },
  {
   "cell_type": "code",
   "execution_count": null,
   "id": "54ff69a4-0001-4483-9820-b64c53a14f73",
   "metadata": {},
   "outputs": [],
   "source": [
    "header_psfstacks,sci_psfstacks,err_psfstacks,dq_psfstacks,_,_ = get_hdu(psfstacks_nircam,data='psf')\n",
    "header_psfsub,sci_psfsub,err_psfsub,dq_psfsub,_,_ = get_hdu(psfsubs_nircam,data='psfsub')\n",
    "header_calints,sci_calints,err_calints,dq_calints,_,_ = get_hdu(calints_nircam,data='psfsub')\n",
    "header_rateints,sci_rateints,err_rateints,dq_rateints,_,_ = get_hdu(calints_nircam,data='psfsub')"
   ]
  },
  {
   "cell_type": "code",
   "execution_count": null,
   "id": "62980bb2-39ce-4ae0-8b08-8eb0e862f677",
   "metadata": {
    "collapsed": true,
    "jupyter": {
     "outputs_hidden": true
    },
    "tags": []
   },
   "outputs": [],
   "source": [
    "header_psfstacks"
   ]
  },
  {
   "cell_type": "code",
   "execution_count": null,
   "id": "458c4d70-4242-40c4-a7f5-c9f33e4c776d",
   "metadata": {},
   "outputs": [],
   "source": []
  },
  {
   "cell_type": "code",
   "execution_count": null,
   "id": "f067de2d-9849-4efa-b2f3-77956240359e",
   "metadata": {},
   "outputs": [],
   "source": []
  },
  {
   "cell_type": "code",
   "execution_count": null,
   "id": "4346df8a-1c89-408f-bb5a-3bdccb8bc80d",
   "metadata": {},
   "outputs": [],
   "source": [
    "print(header_psfstacks[2]['TARGPROP'],header_psfsub[0]['TARGPROP'])\n",
    "print('----------------------------------------------------------')\n",
    "print(header_psfstacks[0]['DATE-OBS'],header_psfsub[0]['DATE-OBS'])\n",
    "print('----------------------------------------------------------')\n",
    "print(header_psfstacks[0]['TIME-OBS'],header_psfsub[0]['TIME-OBS'])\n",
    "print('----------------------------------------------------------')\n",
    "print(header_psfstacks[1]['FILTER'],header_psfsub[0]['FILTER'])\n",
    "print('----------------------------------------------------------')\n",
    "print(header_psfstacks[0]['PROP_RA'],header_psfsub[0]['PROP_RA'])\n",
    "print('----------------------------------------------------------')\n",
    "print(header_psfstacks[0]['PROP_DEC'],header_psfsub[0]['PROP_DEC'])\n"
   ]
  },
  {
   "cell_type": "code",
   "execution_count": null,
   "id": "50525aff-e7ad-4b03-a125-e63b03a91e04",
   "metadata": {},
   "outputs": [],
   "source": [
    "display(sci_psfstacks[1].shape)\n",
    "sci_psfsub[0].shape"
   ]
  },
  {
   "cell_type": "code",
   "execution_count": null,
   "id": "340129e7-8fc7-4a5f-aaa1-969315f85355",
   "metadata": {
    "collapsed": true,
    "jupyter": {
     "outputs_hidden": true
    },
    "tags": []
   },
   "outputs": [],
   "source": [
    "display(header_psfstacks[0], header_psfsub[0])"
   ]
  },
  {
   "cell_type": "code",
   "execution_count": null,
   "id": "8562ef79-dd54-4ce6-8ac0-7cc14e55b293",
   "metadata": {},
   "outputs": [],
   "source": []
  },
  {
   "cell_type": "code",
   "execution_count": null,
   "id": "57c3601a-a6f0-44c8-b16a-2a05ff7e311e",
   "metadata": {},
   "outputs": [],
   "source": []
  },
  {
   "cell_type": "code",
   "execution_count": null,
   "id": "e2590db2-5ad6-4515-b2b7-e91e59c4f2ba",
   "metadata": {},
   "outputs": [],
   "source": []
  },
  {
   "cell_type": "code",
   "execution_count": null,
   "id": "8307fcc3-d127-4057-aa3c-c61a2887efc8",
   "metadata": {},
   "outputs": [],
   "source": []
  },
  {
   "cell_type": "code",
   "execution_count": null,
   "id": "c4799815-cf19-4530-b966-aaaa75e597f6",
   "metadata": {},
   "outputs": [],
   "source": []
  },
  {
   "cell_type": "code",
   "execution_count": null,
   "id": "2874176b-c805-4c48-8cb0-8811d997b800",
   "metadata": {},
   "outputs": [],
   "source": []
  },
  {
   "cell_type": "code",
   "execution_count": null,
   "id": "49b73a29-d23d-4ddf-83f4-9d2cfb8e2760",
   "metadata": {},
   "outputs": [],
   "source": []
  },
  {
   "cell_type": "code",
   "execution_count": null,
   "id": "d8698669-dcc3-4005-837f-31a0692e0273",
   "metadata": {},
   "outputs": [],
   "source": []
  },
  {
   "cell_type": "code",
   "execution_count": null,
   "id": "e35cf588-0e34-4617-a61b-12e7a10b9253",
   "metadata": {},
   "outputs": [],
   "source": [
    "psfstack_1075 = '/home/sarperyn/sarperyurtseven/ProjectFiles/dataset/NIRCAM/1075/mastDownload/JWST/jw01075-a3001_t002_nircam_f335m-maskrnd-full_psfstack.fits'\n",
    "psfsub_1075 = '/home/sarperyn/sarperyurtseven/ProjectFiles/dataset/NIRCAM/1075/mastDownload/JWST/jw01075225001_03105_00009_nrcalong_a3001_psfsub.fits'\n",
    "psfalign_1075 = '/home/sarperyn/sarperyurtseven/ProjectFiles/dataset/NIRCAM/1075/mastDownload/JWST/jw01075225001_03105_00009_nrcalong_a3001_psfalign.fits'\n",
    "calints_1075 = '/home/sarperyn/sarperyurtseven/ProjectFiles/dataset/NIRCAM/1075/mastDownload/JWST/jw01075001001_03105_00003_nrca3/jw01075001001_03105_00003_nrca3_calints.fits'"
   ]
  },
  {
   "cell_type": "code",
   "execution_count": null,
   "id": "2301cadb-01cf-40d3-821d-0171b0c00cb3",
   "metadata": {
    "collapsed": true,
    "jupyter": {
     "outputs_hidden": true
    },
    "tags": []
   },
   "outputs": [],
   "source": [
    "psfstc = fits.open(psfstack_1075)\n",
    "psfsub = fits.open(psfsub_1075)\n",
    "psfalign = fits.open(psfalign_1075)\n",
    "calint = fits.open(calints_1075)"
   ]
  },
  {
   "cell_type": "code",
   "execution_count": null,
   "id": "56f68ae8-e009-4f55-a6f9-2aad6a3bdd5f",
   "metadata": {},
   "outputs": [],
   "source": [
    "sci_psfstc = psfstc[1].data\n",
    "sci_psfsub = psfsub[1].data\n",
    "sci_psfalign = psfalign[1].data\n",
    "sci_calint = calint[1].data"
   ]
  },
  {
   "cell_type": "code",
   "execution_count": null,
   "id": "48e19800-0ede-4ed2-a1fb-65ce387e5659",
   "metadata": {},
   "outputs": [],
   "source": [
    "print(sci_psfstc.shape)\n",
    "print(sci_psfsub.shape)\n",
    "print(sci_psfalign.shape)\n",
    "print(sci_calint.shape)"
   ]
  },
  {
   "cell_type": "code",
   "execution_count": null,
   "id": "6559d4f6-da61-4abc-a373-a66035d2131a",
   "metadata": {},
   "outputs": [],
   "source": [
    "plt.imshow(np.arcsinh(np.squeeze(sci_psfstc[:1,:,:])),clim=(0,1),origin='lower')"
   ]
  },
  {
   "cell_type": "code",
   "execution_count": null,
   "id": "2866b4d4-05be-46fd-a048-ca34e02fee2b",
   "metadata": {},
   "outputs": [],
   "source": [
    "plt.imshow(np.arcsinh(np.squeeze(sci_psfsub)),clim=(0,1),origin='lower')"
   ]
  },
  {
   "cell_type": "code",
   "execution_count": null,
   "id": "9d87825a-ba7c-455a-8811-3bbadd6afcef",
   "metadata": {},
   "outputs": [],
   "source": [
    "plt.imshow(np.arcsinh(np.squeeze(sci_psfsub[:1,:,:])),clim=(0,1),origin='lower')"
   ]
  },
  {
   "cell_type": "code",
   "execution_count": null,
   "id": "ddb668d7-f378-4d03-b816-67ebf2d6315a",
   "metadata": {},
   "outputs": [],
   "source": [
    "plt.imshow(np.arcsinh(np.squeeze(sci_calint)),clim=(0,1),origin='lower')"
   ]
  },
  {
   "cell_type": "code",
   "execution_count": null,
   "id": "9b5568b9-e92e-45f3-9684-4ba8f4f939a5",
   "metadata": {},
   "outputs": [],
   "source": []
  },
  {
   "cell_type": "code",
   "execution_count": null,
   "id": "a16b550b-227e-4e73-a575-74b9fb7a067f",
   "metadata": {},
   "outputs": [],
   "source": []
  },
  {
   "cell_type": "code",
   "execution_count": null,
   "id": "8b7b09fd-144d-4e62-ad40-913fb6f01c27",
   "metadata": {},
   "outputs": [],
   "source": []
  },
  {
   "cell_type": "code",
   "execution_count": null,
   "id": "e1bf25c9-9bd7-4351-8a3e-ad997b880131",
   "metadata": {},
   "outputs": [],
   "source": []
  },
  {
   "cell_type": "code",
   "execution_count": null,
   "id": "392a8786-97f3-4805-9bed-19880a0f9e8d",
   "metadata": {},
   "outputs": [],
   "source": []
  },
  {
   "cell_type": "code",
   "execution_count": null,
   "id": "d47cb92e-bc9f-46ec-89d0-da855ddf2552",
   "metadata": {},
   "outputs": [],
   "source": []
  },
  {
   "cell_type": "code",
   "execution_count": null,
   "id": "cba39217-3b8c-4af3-9581-3c215e0d4032",
   "metadata": {},
   "outputs": [],
   "source": []
  },
  {
   "cell_type": "code",
   "execution_count": null,
   "id": "8fdf1157-ddb8-48e5-8c05-76758df0e512",
   "metadata": {},
   "outputs": [],
   "source": [
    "align = '/home/sarperyn/sarperyurtseven/ProjectFiles/dataset/NIRCAM/1075/mastDownload/JWST/jw01075225001_03105_00003_nrcalong_a3001_psfalign.fits'"
   ]
  },
  {
   "cell_type": "code",
   "execution_count": null,
   "id": "7b9d9de3-465f-471b-94c0-258139945f61",
   "metadata": {},
   "outputs": [],
   "source": [
    "align_hd = fits.open(align)\n",
    "align_hd.info()"
   ]
  },
  {
   "cell_type": "code",
   "execution_count": null,
   "id": "115824bc-05fa-4b4f-ba84-97d2f06ca1b4",
   "metadata": {},
   "outputs": [],
   "source": [
    "sci_align = align_hd[1].data"
   ]
  },
  {
   "cell_type": "code",
   "execution_count": null,
   "id": "59a4b1ea-4492-4a3e-85cf-97c561489ea8",
   "metadata": {},
   "outputs": [],
   "source": [
    "sci_align[:,:1,:,:].shape"
   ]
  },
  {
   "cell_type": "code",
   "execution_count": null,
   "id": "3247494a-a517-427f-a521-29b1b5f5bc17",
   "metadata": {},
   "outputs": [],
   "source": [
    "np.squeeze(sci_align[:,:1,:,:]).shape"
   ]
  },
  {
   "cell_type": "code",
   "execution_count": null,
   "id": "42c7e12f-27f9-43c7-bd8b-0361e463f6e8",
   "metadata": {},
   "outputs": [],
   "source": [
    "plt.imshow(np.arcsinh(np.squeeze(sci_align[:,:1,:,:])),clim=(0,1),origin='lower')"
   ]
  },
  {
   "cell_type": "code",
   "execution_count": null,
   "id": "dc00d11d-b335-4cc6-a52d-7ba52510362f",
   "metadata": {},
   "outputs": [],
   "source": []
  },
  {
   "cell_type": "code",
   "execution_count": null,
   "id": "92617f54-4fad-42cd-9536-b650d40ae704",
   "metadata": {},
   "outputs": [],
   "source": []
  },
  {
   "cell_type": "code",
   "execution_count": null,
   "id": "9863daa2-9845-4419-a428-0ce5e20c3352",
   "metadata": {},
   "outputs": [],
   "source": [
    "crime = pd.read_csv('calints_NIRCAM_1536_pool.csv')"
   ]
  },
  {
   "cell_type": "code",
   "execution_count": null,
   "id": "1ceefd5c-c7ef-4d9d-ac56-66e8577bee23",
   "metadata": {},
   "outputs": [],
   "source": [
    "len(crime['act_id'])"
   ]
  },
  {
   "cell_type": "code",
   "execution_count": null,
   "id": "44f2e1d6-a5f6-46c0-a75f-d5cd3502ab4a",
   "metadata": {},
   "outputs": [],
   "source": [
    "lst = []\n",
    "for i in range(50):\n",
    "    a = random.randint(0,180)\n",
    "    lst.append(a)"
   ]
  },
  {
   "cell_type": "code",
   "execution_count": null,
   "id": "91b8e780-1b9d-493a-ac74-1a990990679c",
   "metadata": {},
   "outputs": [],
   "source": [
    "a= list(set(lst))"
   ]
  },
  {
   "cell_type": "code",
   "execution_count": null,
   "id": "a4d62149-9c81-4f2f-8a59-2e62e3bc75d5",
   "metadata": {},
   "outputs": [],
   "source": [
    "len(a)"
   ]
  },
  {
   "cell_type": "code",
   "execution_count": null,
   "id": "7149a992-ad88-40cc-856f-ac151b8f9ed4",
   "metadata": {},
   "outputs": [],
   "source": [
    "crime['is_psf']"
   ]
  },
  {
   "cell_type": "code",
   "execution_count": null,
   "id": "fde9903a-aa18-49ee-9869-4f36e9b86919",
   "metadata": {
    "tags": []
   },
   "outputs": [],
   "source": [
    "crime.loc[a] = False"
   ]
  },
  {
   "cell_type": "code",
   "execution_count": null,
   "id": "0fc85628-85a1-4524-9599-0594c8874029",
   "metadata": {},
   "outputs": [],
   "source": [
    "len(crime.loc[crime['is_psf']==False])"
   ]
  },
  {
   "cell_type": "code",
   "execution_count": null,
   "id": "0b62f0e0-f013-4006-b8c5-80a65806b65c",
   "metadata": {},
   "outputs": [],
   "source": [
    "len(crime.loc[crime['is_psf']==True])"
   ]
  },
  {
   "cell_type": "code",
   "execution_count": null,
   "id": "1d826096-6a7e-4b91-92b9-f835fc69504b",
   "metadata": {},
   "outputs": [],
   "source": [
    "crime.to_csv(f'calints_NIRCAM_1536_pool.csv',index=False)"
   ]
  },
  {
   "cell_type": "code",
   "execution_count": null,
   "id": "efa94af7-537a-406c-b7ac-bab4816f7330",
   "metadata": {},
   "outputs": [],
   "source": [
    "PATH = '/home/sarperyn/sarperyurtseven/ProjectFiles/dataset/CoronFiles/mastDownload/JWST/'\n",
    "PATH2 = '/home/sarperyn/sarperyurtseven/ProjectFiles/dataset/CoronFiles/'"
   ]
  },
  {
   "cell_type": "code",
   "execution_count": null,
   "id": "46b917a1-0e6b-4d5a-a819-d3fbfb5021ed",
   "metadata": {},
   "outputs": [],
   "source": [
    "p = '/home/sarperyn/sarperyurtseven/ProjectFiles/dataset/NIRCAM/1386/mastDownload/JWST/jw01386-a3001_t002_nircam_f444w-maskrnd-sub320a335r_i2d.fits'"
   ]
  },
  {
   "cell_type": "code",
   "execution_count": null,
   "id": "3ca1c86a-c78b-41ae-b80a-ad6c539cab42",
   "metadata": {},
   "outputs": [],
   "source": [
    "ps = '/home/sarperyn/sarperyurtseven/ProjectFiles/dataset/NIRCAM/1386/mastDownload/JWST/jw01386-a3001_t002_nircam_f444w-maskrnd-sub320a335r_psfstack.fits'"
   ]
  },
  {
   "cell_type": "code",
   "execution_count": null,
   "id": "0d2e6d27-908c-48c1-9f57-ad4e626b37ed",
   "metadata": {},
   "outputs": [],
   "source": [
    "psfalign = '/home/sarperyn/sarperyurtseven/ProjectFiles/dataset/NIRCAM/1386/mastDownload/JWST/jw01386003001_03106_00001_nrcalong_a3001_psfalign.fits'"
   ]
  },
  {
   "cell_type": "code",
   "execution_count": null,
   "id": "5a2a6648-f0a5-49b9-9890-86c78864be82",
   "metadata": {},
   "outputs": [],
   "source": [
    "psfal = fits.open(psfalign)\n",
    "psfal.info()"
   ]
  },
  {
   "cell_type": "code",
   "execution_count": null,
   "id": "17c65bc9-8456-4634-b54c-3f0abafd95dd",
   "metadata": {
    "tags": []
   },
   "outputs": [],
   "source": [
    "def pixel2wcs(fits_,ispsf=False): \n",
    "    file = fits.open(fits_)\n",
    "    sci = file[1].data\n",
    "    axs_length = np.max(file[1].data.shape)\n",
    "    axis_point = np.arange(5)\n",
    "    axis_points = np.round(axis_point * axs_length/4)\n",
    "    \n",
    "    if ispsf:\n",
    "        w = WCS(fil[1].header,naxis=2)\n",
    "    else:\n",
    "        w = WCS(file[1].header)\n",
    "        \n",
    "    sky = w.pixel_to_world((axis_points), (axis_points))\n",
    "    world_coords = w.pixel_to_world_values((axis_points), (axis_points))\n",
    "    \n",
    "    return world_coords,axis_points"
   ]
  },
  {
   "cell_type": "code",
   "execution_count": null,
   "id": "4c493236-b54d-4471-a7df-0eb22ade29e5",
   "metadata": {},
   "outputs": [],
   "source": [
    "def RA2time(degree):\n",
    "    \n",
    "    if isinstance(degree,np.ndarray):\n",
    "        time_list = []\n",
    "        \n",
    "        for i in degree:\n",
    "            \n",
    "            hour_frac, hour = math.modf(i/15)\n",
    "            min_frac, minute = math.modf(hour_frac*60)\n",
    "            sec_frac, seconds = math.modf(min_frac*60)\n",
    "            seconds = round(seconds+sec_frac,1)\n",
    "            \n",
    "            d2t = (int(hour),int(minute),seconds)\n",
    "            time_list.append(d2t)\n",
    "            \n",
    "        return time_list\n",
    "            \n",
    "        \n",
    "    elif isinstance(degree,np.float64):\n",
    "        \n",
    "        hour_frac, hour = math.modf(i/15)\n",
    "        min_frac, minute = math.modf(hour_frac*60)\n",
    "        sec_frac, seconds = math.modf(min_frac*60)\n",
    "        \n",
    "        \n",
    "        return (int(hour),int(minute),seconds)\n"
   ]
  },
  {
   "cell_type": "code",
   "execution_count": null,
   "id": "9e1c3596-2c9f-4c70-bf35-841d734c211c",
   "metadata": {},
   "outputs": [],
   "source": [
    "times = RA2time(world_coords[0])"
   ]
  },
  {
   "cell_type": "code",
   "execution_count": null,
   "id": "2423cac3-bcd5-47dc-9dba-501931a44b5b",
   "metadata": {},
   "outputs": [],
   "source": [
    "def create_axis_label(times,fixed):\n",
    "    \n",
    "    fixed_time = times[fixed]\n",
    "    labels = []\n",
    "    \n",
    "    lbl = ''\n",
    "    for i in range(len(times)):\n",
    "        \n",
    "        if i == fixed:\n",
    "            for j in times[i]:\n",
    "                lbl += str(j)+':'\n",
    "            \n",
    "            lbl = lbl[:-1]\n",
    "            labels.append(lbl)\n",
    "            \n",
    "        else:\n",
    "            labels.append(times[i][2])\n",
    "            \n",
    "    \n",
    "    return labels\n",
    "    \n",
    "    "
   ]
  },
  {
   "cell_type": "code",
   "execution_count": null,
   "id": "2412bd40-0b45-426f-9730-c11be7dbf649",
   "metadata": {},
   "outputs": [],
   "source": [
    "world_coords, axis_points = pixel2wcs(ps,ispsf=True)"
   ]
  },
  {
   "cell_type": "code",
   "execution_count": null,
   "id": "84921f07-731b-4c38-b763-51dc36bc8ff0",
   "metadata": {},
   "outputs": [],
   "source": [
    "def plot_image(world_coord,axis_points):\n",
    "    \n",
    "    times = RA2time(world_coords[0])\n",
    "    \n",
    "    y_labels = create_axis_label(times,2)\n",
    "    x_labels = [round(x_label,3) for x_label in world_coords[1]]\n",
    "    \n",
    "    plt.imshow(np.arcsinh(sci),clim=(0,1),origin='lower')\n",
    "    plt.xticks(axis_points,x_labels,rotation=45)\n",
    "    plt.yticks(axis_points,y_labels,rotation=45)\n",
    "    plt.show()\n",
    "    "
   ]
  },
  {
   "cell_type": "code",
   "execution_count": null,
   "id": "a02f89ca-b6c7-4795-bcd7-470ca2c791b4",
   "metadata": {},
   "outputs": [],
   "source": [
    "labelish = [str(round(x_label,3)) for x_label in world_coords[1]]"
   ]
  },
  {
   "cell_type": "code",
   "execution_count": null,
   "id": "b18ad9da-46fd-4159-89f8-d67538e76412",
   "metadata": {},
   "outputs": [],
   "source": [
    "def create_declination_labels(labelish,fixed=2):\n",
    "    \n",
    "    labels = []\n",
    "    \n",
    "    for i in range(len(labelish)):\n",
    "        \n",
    "        if i == fixed:\n",
    "            \n",
    "            labels.append(labelish[i])\n",
    "        else:\n",
    "            labels.append(labelish[i][4:])\n",
    "            \n",
    "            \n",
    "    return labels\n"
   ]
  },
  {
   "cell_type": "code",
   "execution_count": null,
   "id": "4fa0be3b-fe07-46b9-9e57-eb1c94ccca1f",
   "metadata": {},
   "outputs": [],
   "source": [
    "lll = create_declination_labels(labelish)"
   ]
  },
  {
   "cell_type": "code",
   "execution_count": null,
   "id": "0eb0ab0b-406e-4822-9aec-0fca9c0f6282",
   "metadata": {},
   "outputs": [],
   "source": [
    "lll"
   ]
  },
  {
   "cell_type": "code",
   "execution_count": null,
   "id": "9443cdf4-3564-402d-974a-48f3a2ad438b",
   "metadata": {},
   "outputs": [],
   "source": [
    "plot_image(world_coords,axis_points)"
   ]
  },
  {
   "cell_type": "code",
   "execution_count": null,
   "id": "cf7cb8ff-159c-4f42-a046-d612ae4d1551",
   "metadata": {},
   "outputs": [],
   "source": [
    "cry = '/home/sarperyn/sarperyurtseven/ProjectFiles/dataset/NIRCAM/1441/mastDownload/JWST/jw01441001001_03106_00001_nrcalong_a3001_crfints.fits'"
   ]
  },
  {
   "cell_type": "code",
   "execution_count": null,
   "id": "901b1cdd-4252-4c2a-90d1-9761e67acc21",
   "metadata": {},
   "outputs": [],
   "source": [
    "crfints = fits.open(cry)"
   ]
  },
  {
   "cell_type": "code",
   "execution_count": null,
   "id": "d34a2bfc-aae9-45ed-b995-c24a460954f1",
   "metadata": {},
   "outputs": [],
   "source": [
    "crfints.info()\n",
    "sci_crfints = crfints[1].data"
   ]
  },
  {
   "cell_type": "code",
   "execution_count": null,
   "id": "5fdc07e5-8784-4b4d-98ee-812afa8c4ad7",
   "metadata": {},
   "outputs": [],
   "source": [
    "plt.imshow(np.arcsinh(sci_crfints[62,:,:]))"
   ]
  },
  {
   "cell_type": "code",
   "execution_count": null,
   "id": "26d91243-fe4d-4e6e-8638-e597fea8938f",
   "metadata": {},
   "outputs": [],
   "source": [
    "med = '/home/sarperyn/sarperyurtseven/ProjectFiles/dataset/NIRCAM/1441/mastDownload/JWST/jw01441001001_03106_00001_nrcalong_median.fits'"
   ]
  },
  {
   "cell_type": "code",
   "execution_count": null,
   "id": "55f0b667-d672-4b4e-beeb-ba743a820d5a",
   "metadata": {},
   "outputs": [],
   "source": [
    "median = fits.open(med)\n",
    "sci_med = median[1].data\n",
    "median.info()"
   ]
  },
  {
   "cell_type": "code",
   "execution_count": null,
   "id": "f56fcfb1-9e7b-42ce-a801-a5c6f63fce7a",
   "metadata": {},
   "outputs": [],
   "source": [
    "plt.imshow(np.arcsinh(sci_med))"
   ]
  },
  {
   "cell_type": "code",
   "execution_count": null,
   "id": "cb01f9fd-2f13-4636-8cba-ad82252d998c",
   "metadata": {},
   "outputs": [],
   "source": [
    "calints_files = glob(os.path.join(PATH,'jw01441003001*/*rateints.fits'))\n",
    "calints_files2 = glob(os.path.join(PATH2,'*calints.fits'))"
   ]
  },
  {
   "cell_type": "code",
   "execution_count": null,
   "id": "04c75ff5-0e96-43b5-a072-3b40fbf82f6d",
   "metadata": {},
   "outputs": [],
   "source": [
    "calints_files"
   ]
  },
  {
   "cell_type": "code",
   "execution_count": null,
   "id": "880dd396-2295-4209-9612-8672ada1694e",
   "metadata": {},
   "outputs": [],
   "source": [
    "calints_long = fits.open(calints_files[0])"
   ]
  },
  {
   "cell_type": "code",
   "execution_count": null,
   "id": "27d80afa-b4a4-414c-b4db-27b09d5179ee",
   "metadata": {
    "collapsed": true,
    "jupyter": {
     "outputs_hidden": true
    },
    "tags": []
   },
   "outputs": [],
   "source": [
    "hd = calints_long[0]\n",
    "hd.header"
   ]
  },
  {
   "cell_type": "code",
   "execution_count": null,
   "id": "204d83f7-cbc8-4527-ac4f-0213afe875c6",
   "metadata": {},
   "outputs": [],
   "source": [
    "calints_files"
   ]
  },
  {
   "cell_type": "code",
   "execution_count": null,
   "id": "14a00e73-0f1f-4d4f-964e-47685e237183",
   "metadata": {},
   "outputs": [],
   "source": [
    "calint1 = fits.open(calints_files[2])"
   ]
  },
  {
   "cell_type": "code",
   "execution_count": null,
   "id": "eef79d9c-d968-410c-b35f-2398a3cb1fd0",
   "metadata": {},
   "outputs": [],
   "source": [
    "type(calint1)"
   ]
  },
  {
   "cell_type": "code",
   "execution_count": null,
   "id": "6d8a377e-5529-4fde-9201-26ec4bf80963",
   "metadata": {},
   "outputs": [],
   "source": [
    "calint1.info()"
   ]
  },
  {
   "cell_type": "code",
   "execution_count": null,
   "id": "25c202fb-d8a1-4aaf-b71b-219c13261067",
   "metadata": {},
   "outputs": [],
   "source": [
    "for i in range(len(calints_files)):\n",
    "    \n",
    "    calint1 = fits.open(calints_files[i])\n",
    "    \n",
    "    hdu = calint1[0]\n",
    "    try:\n",
    "        print(hdu.header['IS_PSF'])\n",
    "    except:\n",
    "        print(hdu.header['EXP_TYPE'])"
   ]
  },
  {
   "cell_type": "code",
   "execution_count": null,
   "id": "ad4767c8-3989-475e-9573-232c5ca48252",
   "metadata": {
    "collapsed": true,
    "jupyter": {
     "outputs_hidden": true
    },
    "scrolled": true,
    "tags": []
   },
   "outputs": [],
   "source": [
    "hdu = calint1[0]\n",
    "sci = calint1[1]\n",
    "err = calint1[2]\n",
    "dq = calint1[3]\n",
    "area = calint1[4]\n",
    "int_times = calint1[5]\n",
    "var_poisson = calint1[6]\n",
    "var_flat = calint1[7]\n",
    "var_flat = calint1[8]"
   ]
  },
  {
   "cell_type": "code",
   "execution_count": null,
   "id": "29c11e20-d66f-4400-aa6d-4b1df0a97083",
   "metadata": {},
   "outputs": [],
   "source": [
    "from visualization_helpers import *\n",
    "import matplotlib.pyplot as plt\n",
    "from matplotlib import rcParams\n",
    "\n",
    "%matplotlib inline\n",
    "\n",
    "# figure sizes and resolutions\n",
    "rcParams['figure.figsize'] = [20,20]\n",
    "rcParams['figure.dpi'] = 80\n",
    "rcParams['savefig.dpi'] = 80"
   ]
  },
  {
   "cell_type": "code",
   "execution_count": null,
   "id": "8fa2c8c4-4b28-48dc-95fd-86d5570c3a51",
   "metadata": {},
   "outputs": [],
   "source": [
    "PROPOSAL_ID = '2278'\n",
    "directory_nircam = f'/home/sarperyn/sarperyurtseven/ProjectFiles/dataset/NIRCAM/{PROPOSAL_ID}/mastDownload/JWST/'\n",
    "psfstacks_nircam = get_stage3_products(suffix='psfstack',directory=directory_nircam)\n",
    "header_psfstacks,sci_psfstacks,err_psfstacks,dq_psfstacks,_,_ = get_hdu(psfstacks_nircam,data='psf')\n",
    "sci_psfstacks[0].shape"
   ]
  },
  {
   "cell_type": "code",
   "execution_count": null,
   "id": "9b75c7f2-afff-491d-b802-ff7713834e18",
   "metadata": {},
   "outputs": [],
   "source": [
    "plt.imshow(np.arcsinh(sci_psfstacks[0][0,:,:]))"
   ]
  },
  {
   "cell_type": "code",
   "execution_count": null,
   "id": "0712340a-7e30-4ebe-8e6e-c52a2462eb56",
   "metadata": {},
   "outputs": [],
   "source": [
    "PROPOSAL_ID = '4454'\n",
    "directory_nircam = f'/home/sarperyn/sarperyurtseven/ProjectFiles/dataset/NIRCAM/{PROPOSAL_ID}/mastDownload/JWST/'\n",
    "psfstacks_nircam = get_stage3_products(suffix='psfstack',directory=directory_nircam)\n",
    "header_psfstacks,sci_psfstacks,err_psfstacks,dq_psfstacks,_,_ = get_hdu(psfstacks_nircam,data='psf')\n",
    "sci_psfstacks[0].shape"
   ]
  },
  {
   "cell_type": "code",
   "execution_count": null,
   "id": "f33c1316-7bec-4184-a903-0660bc9b7f18",
   "metadata": {},
   "outputs": [],
   "source": [
    "plt.imshow(np.arcsinh(sci_psfstacks[0][0,:,:]))"
   ]
  },
  {
   "cell_type": "code",
   "execution_count": null,
   "id": "de394b48-2b49-4a9c-81cb-a86c65a9d2b3",
   "metadata": {},
   "outputs": [],
   "source": [
    "PROPOSAL_ID = '1075'\n",
    "directory_nircam = f'/home/sarperyn/sarperyurtseven/ProjectFiles/dataset/NIRCAM/{PROPOSAL_ID}/mastDownload/JWST/'\n",
    "psfstacks_nircam = get_stage3_products(suffix='psfstack',directory=directory_nircam)\n",
    "header_psfstacks,sci_psfstacks,err_psfstacks,dq_psfstacks,_,_ = get_hdu(psfstacks_nircam,data='psf')\n",
    "sci_psfstacks[0].shape"
   ]
  },
  {
   "cell_type": "code",
   "execution_count": null,
   "id": "3ecca893-ff8b-4b0b-90a9-76a2422f1cb2",
   "metadata": {},
   "outputs": [],
   "source": [
    "plt.imshow(np.arcsinh(sci_psfstacks[0][0,:,:]))"
   ]
  },
  {
   "cell_type": "code",
   "execution_count": null,
   "id": "a158e793-5191-4fd6-aa6d-736812d0ddc8",
   "metadata": {},
   "outputs": [],
   "source": [
    "PROPOSAL_ID = '1412'\n",
    "directory_nircam = f'/home/sarperyn/sarperyurtseven/ProjectFiles/dataset/NIRCAM/{PROPOSAL_ID}/mastDownload/JWST/'\n",
    "psfstacks_nircam = get_stage3_products(suffix='psfstack',directory=directory_nircam)\n",
    "header_psfstacks,sci_psfstacks,err_psfstacks,dq_psfstacks,_,_ = get_hdu(psfstacks_nircam,data='psf')\n",
    "sci_psfstacks[0].shape"
   ]
  },
  {
   "cell_type": "code",
   "execution_count": null,
   "id": "21665e72-f519-4e21-8fbf-dc9f7a392bf7",
   "metadata": {},
   "outputs": [],
   "source": [
    "plt.imshow(np.arcsinh(sci_psfstacks[0][0,:,:]))"
   ]
  },
  {
   "cell_type": "code",
   "execution_count": null,
   "id": "518e29c8-508b-495d-8543-b50a08b89d6f",
   "metadata": {},
   "outputs": [],
   "source": []
  }
 ],
 "metadata": {
  "kernelspec": {
   "display_name": "Python 3",
   "language": "python",
   "name": "python3"
  },
  "language_info": {
   "codemirror_mode": {
    "name": "ipython",
    "version": 3
   },
   "file_extension": ".py",
   "mimetype": "text/x-python",
   "name": "python",
   "nbconvert_exporter": "python",
   "pygments_lexer": "ipython3",
   "version": "3.9.16"
  }
 },
 "nbformat": 4,
 "nbformat_minor": 5
}

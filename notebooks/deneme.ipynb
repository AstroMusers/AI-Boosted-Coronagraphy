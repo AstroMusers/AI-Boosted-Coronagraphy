{
 "cells": [
  {
   "cell_type": "code",
   "execution_count": 17,
   "metadata": {},
   "outputs": [],
   "source": [
    "import matplotlib.pyplot as plt\n",
    "import torch\n",
    "from torch.utils.data import Dataset, DataLoader\n",
    "from torchvision import datasets\n",
    "import torch.nn as nn\n",
    "import torch.optim as optim\n",
    "from torch.nn import functional as F\n",
    "import torchvision\n",
    "from torchvision import transforms\n",
    "import numpy as np\n",
    "from tqdm import tqdm\n",
    "from syndata import get_exo_locations\n",
    "import pandas as pd\n",
    "import glob\n",
    "from PIL import Image\n",
    "import os"
   ]
  },
  {
   "cell_type": "code",
   "execution_count": 2,
   "metadata": {},
   "outputs": [],
   "source": [
    "class SynDataset(Dataset):\n",
    "\n",
    "    def __init__(self, image_paths):\n",
    "\n",
    "        self.image_paths = image_paths\n",
    "        self.transform  = transforms.Compose([\n",
    "        transforms.ToTensor(),\n",
    "        ])\n",
    "\n",
    "\n",
    "    def __len__(self,):\n",
    "\n",
    "        return len(self.image_paths)\n",
    "\n",
    "    def __getitem__(self, index):\n",
    "        \n",
    "        image_path = self.image_paths[index]\n",
    "        image      = Image.open(image_path).convert('L')\n",
    "        image = self.transform(image)\n",
    "\n",
    "        if torch.isnan(image).any().item():\n",
    "            torch.nan_to_num(image)\n",
    "            \n",
    "        return image\n",
    "    "
   ]
  },
  {
   "cell_type": "code",
   "execution_count": 3,
   "metadata": {},
   "outputs": [],
   "source": [
    "image_paths = glob.glob('/data/scratch/bariskurtkaya/dataset/PSF_INJECTION/*.png')"
   ]
  },
  {
   "cell_type": "code",
   "execution_count": 4,
   "metadata": {},
   "outputs": [],
   "source": [
    "syndata        = SynDataset(image_paths=image_paths)\n",
    "syndata_loader = DataLoader(dataset=syndata, batch_size=16)"
   ]
  },
  {
   "cell_type": "code",
   "execution_count": 5,
   "metadata": {},
   "outputs": [],
   "source": [
    "idx, data = next(enumerate(syndata_loader))"
   ]
  },
  {
   "cell_type": "code",
   "execution_count": 7,
   "metadata": {},
   "outputs": [],
   "source": [
    "def calculate_conv_dims(input_size,paddings:list,kernels:list,strides:list,maxpool:list):\n",
    "    \n",
    "    outputs = []\n",
    "    outputs.append(input_size)\n",
    "    for i in range(len(paddings)):\n",
    "        \n",
    "        output_size = (input_size + (2*paddings[i]) - (kernels[i] - 1) - 1)/strides[i] + 1\n",
    "        if maxpool[i] != 0:\n",
    "            output_size = (output_size  + (2*paddings[i]) - (maxpool[i]-1)-1)/2 +1\n",
    "        \n",
    "        outputs.append(int(output_size))\n",
    "        input_size = output_size\n",
    "        \n",
    "    print(outputs)\n",
    "    return outputs"
   ]
  },
  {
   "cell_type": "code",
   "execution_count": 8,
   "metadata": {},
   "outputs": [],
   "source": [
    "kernels_enc = [7,7,7,7,7,7,7]\n",
    "paddings_enc= [0,0,0,0,0,0,0]\n",
    "strides_enc = [1,2,1,2,1,2,1]\n",
    "maxpool = [0,0,0,0,0,0,0]"
   ]
  },
  {
   "cell_type": "code",
   "execution_count": 9,
   "metadata": {},
   "outputs": [
    {
     "name": "stdout",
     "output_type": "stream",
     "text": [
      "[320, 314, 154, 148, 71, 65, 30, 24]\n"
     ]
    }
   ],
   "source": [
    "convdim_outputs = calculate_conv_dims(320,paddings_enc,kernels_enc,strides_enc,maxpool)"
   ]
  },
  {
   "cell_type": "code",
   "execution_count": 10,
   "metadata": {},
   "outputs": [],
   "source": [
    "def calculate_convtrans_dim(input_size,paddings:list,kernels:list,strides:list):\n",
    "    outputs = []\n",
    "    outputs.append(input_size)\n",
    "    for i in range(len(paddings)):\n",
    "        \n",
    "        output_size = (input_size - 1) * strides[i]  -  2 * paddings[i] + kernels[i] - 1 + 1\n",
    "        outputs.append(int(output_size))\n",
    "        input_size = output_size\n",
    "        \n",
    "    print(outputs)\n",
    "    return outputs"
   ]
  },
  {
   "cell_type": "code",
   "execution_count": 11,
   "metadata": {},
   "outputs": [],
   "source": [
    "kernels_dec  = [7,7,7,7,7,7,10]\n",
    "paddings_dec = [0,0,0,0,0,0,0]\n",
    "strides_dec  = [1,2,1,2,1,2,1]"
   ]
  },
  {
   "cell_type": "code",
   "execution_count": 12,
   "metadata": {},
   "outputs": [
    {
     "name": "stdout",
     "output_type": "stream",
     "text": [
      "[24, 30, 65, 71, 147, 153, 311, 320]\n"
     ]
    }
   ],
   "source": [
    "convtrans_outputs = calculate_convtrans_dim(24,paddings_dec,kernels_dec,strides_dec)"
   ]
  },
  {
   "cell_type": "code",
   "execution_count": 14,
   "metadata": {},
   "outputs": [],
   "source": [
    "class Exonet(nn.Module):\n",
    "    \n",
    "    def __init__(self, convdim_enc_outputs:list, kernels_enc:list, strides_enc:list, kernels_dec:list, strides_dec:list):\n",
    "        \n",
    "        super(Exonet,self).__init__()\n",
    "        \n",
    "        self.convdim = convdim_enc_outputs\n",
    "        self.kernels_enc = kernels_enc\n",
    "        self.strides_enc = strides_enc\n",
    "        self.kernels_dec = kernels_dec\n",
    "        self.strides_dec = strides_dec\n",
    "        self.C       = 8 \n",
    "        \n",
    "        self.encoder  = nn.Sequential(\n",
    "                        \n",
    "            nn.Conv2d(in_channels=1, out_channels=self.C, stride=self.strides_enc[0], kernel_size=self.kernels_enc[0]), #1\n",
    "            nn.SiLU(),\n",
    "            \n",
    "            nn.Conv2d(in_channels=self.C, out_channels=self.C, stride=self.strides_enc[1], kernel_size=self.kernels_enc[1]), #2\n",
    "            nn.SiLU(),\n",
    "            \n",
    "            nn.Conv2d(in_channels=self.C, out_channels=self.C, stride=self.strides_enc[2], kernel_size=self.kernels_enc[2]), #3\n",
    "            nn.SiLU(),\n",
    "            \n",
    "            nn.Conv2d(in_channels=self.C, out_channels=self.C*2, stride=self.strides_enc[3], kernel_size=self.kernels_enc[3]), #4 \n",
    "            nn.SiLU(),\n",
    "            \n",
    "            nn.Conv2d(in_channels=self.C*2, out_channels=self.C*2, stride=self.strides_enc[4], kernel_size=self.kernels_enc[4]), #5\n",
    "            nn.SiLU(),\n",
    "            \n",
    "            nn.Conv2d(in_channels=self.C*2, out_channels=self.C*2, stride=self.strides_enc[5], kernel_size=self.kernels_enc[5]), #6\n",
    "            nn.SiLU(),\n",
    "            \n",
    "            nn.Conv2d(in_channels=self.C*2, out_channels=self.C*2, stride=self.strides_enc[6], kernel_size=self.kernels_enc[6]), #7\n",
    "            nn.SiLU(),\n",
    "            \n",
    "        \n",
    "        ) \n",
    "        \n",
    "        self.fc1 = nn.Sequential(\n",
    "        \n",
    "                nn.Linear((self.C*2)*convdim_outputs[-1]**2,2048),\n",
    "                nn.SiLU(),\n",
    "                nn.Linear(2048,1024),\n",
    "                nn.SiLU(),\n",
    "        )\n",
    "\n",
    "        self.latent = nn.Linear(1024,1024)\n",
    "\n",
    "        self.fc2   = nn.Sequential(\n",
    "\n",
    "                nn.Linear(1024,2048),\n",
    "                nn.SiLU(),\n",
    "                nn.Linear(2048,(self.C*2)*convdim_outputs[-1]**2),\n",
    "                nn.SiLU(),\n",
    "\n",
    "        )\n",
    "\n",
    "        self.decoder = nn.Sequential(\n",
    "\n",
    "                        \n",
    "            nn.Conv2d(in_channels=self.C*2, out_channels=self.C*2, stride=self.strides_dec[0], kernel_size=self.kernels_dec[0]), #1\n",
    "            nn.SiLU(),\n",
    "            \n",
    "            nn.Conv2d(in_channels=self.C*2, out_channels=self.C*2, stride=self.strides_dec[1], kernel_size=self.kernels_dec[1]), #2\n",
    "            nn.SiLU(),\n",
    "            \n",
    "            nn.Conv2d(in_channels=self.C*2, out_channels=self.C*2, stride=self.strides_dec[2], kernel_size=self.kernels_dec[2]), #3\n",
    "            nn.SiLU(),\n",
    "            \n",
    "            nn.Conv2d(in_channels=self.C*2, out_channels=self.C, stride=self.strides_dec[3], kernel_size=self.kernels_dec[3]), #4 \n",
    "            nn.SiLU(),\n",
    "            \n",
    "            nn.Conv2d(in_channels=self.C, out_channels=self.C, stride=self.strides_dec[4], kernel_size=self.kernels_dec[4]), #5\n",
    "            nn.SiLU(),\n",
    "            \n",
    "            nn.Conv2d(in_channels=self.C, out_channels=self.C, stride=self.strides_dec[5], kernel_size=self.kernels_dec[5]), #6\n",
    "            nn.SiLU(),\n",
    "            \n",
    "            nn.Conv2d(in_channels=self.C, out_channels=1, stride=self.strides_dec[6], kernel_size=self.kernels_dec[6]), #7\n",
    "            nn.SiLU(),\n",
    "            \n",
    "        ) \n",
    "        \n",
    "    def forward(self,x):\n",
    "        \n",
    "        bs       = x.size(0)\n",
    "\n",
    "        x       = self.encoder(x)\n",
    "        x       = x.view(x.size(0),-1)\n",
    "\n",
    "        x       = self.fc1(x)\n",
    "        latents = self.latent(x)\n",
    "        x       = self.fc2(latents)\n",
    "\n",
    "        x       = x.view(bs,self.C*2,convdim_outputs[-1],convdim_outputs[-1])\n",
    "        x       = self.decoder(x)\n",
    "        \n",
    "        return x\n",
    "        "
   ]
  },
  {
   "cell_type": "code",
   "execution_count": null,
   "metadata": {},
   "outputs": [],
   "source": [
    "def conv_train(model,train_dataloader,optimizer,device,loss_fn,EPOCH=30):\n",
    "    \n",
    "\n",
    "    save_path = os.path.join('/home/sarperyn/sarperyurtseven/ProjectFiles', 'training_results')\n",
    "    with tqdm(total = len(train_dataloader) * EPOCH) as tt:\n",
    "        \n",
    "        model.train()\n",
    "        model = model.to(device)\n",
    "        \n",
    "        for epoch in range(EPOCH):\n",
    "            \n",
    "            batch_loss, batch_count = 0, 0\n",
    "            \n",
    "            for idx, batch in enumerate(train_dataloader):\n",
    "                \n",
    "                batch = batch.to(device)\n",
    "                \n",
    "                output = model(batch)\n",
    "                \n",
    "                loss = loss_fn(output,batch)\n",
    "                \n",
    "                optimizer.zero_grad()\n",
    "                loss.backward()\n",
    "                optimizer.step()\n",
    "                \n",
    "                total_loss += loss.item()\n",
    "                batch_count += 1\n",
    "                tt.update()\n",
    "                \n",
    "            batch_loss = batch_loss / batch_count\n",
    "            print(f'{batch_loss}')\n",
    "\n",
    "            plot_results(batch, recons, save_path, epoch, idx)"
   ]
  },
  {
   "cell_type": "code",
   "execution_count": 15,
   "metadata": {},
   "outputs": [],
   "source": [
    "def plot_results(imgs, recons, save_path, epoch, idx):\n",
    "\n",
    "    bs = imgs.size(0)\n",
    "    fig, axes = plt.subplots(nrows=2,ncols=bs,figsize=(bs*4,20))\n",
    "\n",
    "    for i, (row,col) in enumerate(product(range(2),range(bs))):\n",
    "\n",
    "        if row == 0:\n",
    "            axes[row][col].imshow(np.transpose(imgs[col].detach().cpu().numpy(),(1,2,0)))\n",
    "            axes[row][col].set_xlabel(f'Current Degree: {int(current_deg[col])}',fontsize=15,fontweight='bold')\n",
    "            if col == 0:\n",
    "                axes[row][col].set_ylabel('Original Image',fontsize=15,fontweight='bold')\n",
    "        \n",
    "        elif row == 1:\n",
    "            axes[row][col].imshow(np.transpose(generated_imgs[col].detach().cpu().numpy(),(1,2,0)))\n",
    "\n",
    "            if col == 0:\n",
    "                axes[row][col].set_ylabel('Reconstructed Image',fontsize=15,fontweight='bold')\n",
    "\n",
    "            \n",
    "        axes[row][col].set_yticks([])\n",
    "        axes[row][col].set_xticks([])\n",
    "\n",
    "    plt.subplots_adjust(wspace=0,hspace=0)\n",
    "    plt.savefig(os.path.join(save_path,f'fig_{epoch}_{idx}.png'),format='png',bbox_inches='tight',pad_inches=0,dpi=100, bbox_extra_artists=(suptitle,))\n",
    "    plt.show() \n"
   ]
  },
  {
   "cell_type": "code",
   "execution_count": null,
   "metadata": {},
   "outputs": [],
   "source": [
    "# def init_wandb(args):\n",
    "\n",
    "#     wandb.init(\n",
    "#     mode =   'online'if args.wandb else 'disabled',\n",
    "#     project = 'exoplanet_detection',\n",
    "#     entity  = '',\n",
    "#     group   = 'fermat-direction-gen',\n",
    "#     name    = f'{args.device}-fermat',\n",
    "#     config = vars(args)\n",
    "# )"
   ]
  }
 ],
 "metadata": {
  "kernelspec": {
   "display_name": "jwst-dev",
   "language": "python",
   "name": "python3"
  },
  "language_info": {
   "codemirror_mode": {
    "name": "ipython",
    "version": 3
   },
   "file_extension": ".py",
   "mimetype": "text/x-python",
   "name": "python",
   "nbconvert_exporter": "python",
   "pygments_lexer": "ipython3",
   "version": "3.9.16"
  },
  "orig_nbformat": 4
 },
 "nbformat": 4,
 "nbformat_minor": 2
}

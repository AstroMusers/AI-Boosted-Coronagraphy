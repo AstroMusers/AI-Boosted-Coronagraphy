{
 "cells": [
  {
   "cell_type": "code",
   "execution_count": 4,
   "id": "9b823195-c6e1-4522-b471-d63db5a65ee6",
   "metadata": {},
   "outputs": [],
   "source": [
    "from astropy.io import fits\n",
    "from glob import glob\n",
    "import os\n",
    "import matplotlib as mpl\n",
    "from mpl_toolkits import mplot3d\n",
    "import numpy as np\n",
    "import matplotlib.pyplot as plt\n",
    "from mpl_toolkits.axes_grid1 import ImageGrid\n",
    "from jwst import datamodels\n",
    "from itertools import product\n",
    "import itertools\n",
    "from astropy.wcs import WCS\n",
    "import math\n",
    "from IPython.display import display\n",
    "from visualization_helpers import *"
   ]
  },
  {
   "cell_type": "code",
   "execution_count": 5,
   "id": "3459397b-54bd-4a12-ab64-bc691aebd207",
   "metadata": {},
   "outputs": [],
   "source": [
    "import matplotlib.pyplot as plt\n",
    "from matplotlib import rcParams\n",
    "\n",
    "%matplotlib inline\n",
    "\n",
    "# figure sizes and resolutions\n",
    "rcParams['figure.figsize'] = [20,20]\n",
    "rcParams['figure.dpi'] = 80\n",
    "rcParams['savefig.dpi'] = 80\n",
    "\n",
    "COLOR = 'white'\n",
    "mpl.rcParams['text.color'] = COLOR\n",
    "mpl.rcParams['axes.labelcolor'] = COLOR\n",
    "mpl.rcParams['xtick.color'] = COLOR\n",
    "mpl.rcParams['ytick.color'] = COLOR\n",
    "\n",
    "cmap = plt.get_cmap('summer')\n",
    "cmaplist = [cmap(i) for i in range(cmap.N)]\n",
    "\n",
    "# create the new map\n",
    "cmap = cmap.from_list('Custom cmap', cmaplist[0:], cmap.N)"
   ]
  },
  {
   "cell_type": "code",
   "execution_count": 6,
   "id": "fa8f6208-71e3-4330-ad84-2f7dbf1ce851",
   "metadata": {},
   "outputs": [
    {
     "name": "stdout",
     "output_type": "stream",
     "text": [
      "1.11.3\n"
     ]
    }
   ],
   "source": [
    "import jwst\n",
    "print(jwst.__version__)"
   ]
  },
  {
   "attachments": {},
   "cell_type": "markdown",
   "id": "4116cae4-fb1c-4652-8209-07a5a798c33b",
   "metadata": {},
   "source": [
    "> All information that is provided below can be found in this <a href=\"https://jwst-pipeline.readthedocs.io/en/latest/jwst/data_products/science_products.html\">link</a>"
   ]
  },
  {
   "cell_type": "markdown",
   "id": "4749b308",
   "metadata": {},
   "source": [
    "# S"
   ]
  },
  {
   "attachments": {},
   "cell_type": "markdown",
   "id": "7928432b-a1c4-4434-871a-8e0a3a037d64",
   "metadata": {
    "jp-MarkdownHeadingCollapsed": true,
    "tags": []
   },
   "source": [
    "### RATEINTS and CALINTS"
   ]
  },
  {
   "attachments": {},
   "cell_type": "markdown",
   "id": "24b8cada-3e8b-4a2d-8876-8bb808f1eb1a",
   "metadata": {
    "jp-MarkdownHeadingCollapsed": true,
    "tags": []
   },
   "source": [
    "#### RATEINTS"
   ]
  },
  {
   "attachments": {},
   "cell_type": "markdown",
   "id": "3be252d4-cc9b-480d-a2a5-62e100ae9b4b",
   "metadata": {},
   "source": [
    "Countrate products are produced by applying the ramp_fitting step to the integrations within an exposure, in order to compute count rates from the original accumulating signal ramps. For exposures that contain multiple integrations (NINTS > 1) this is done in two ways, which results in two separate products. First, countrates are computed for each integration within the exposure, the results of which are stored in a rateints product. These products contain 3-D data arrays, where each plane of the data cube contains the countrate image for a given integration. "
   ]
  },
  {
   "attachments": {},
   "cell_type": "markdown",
   "id": "002c45b6-ad9c-4586-bc8f-f20bcd37f57d",
   "metadata": {},
   "source": [
    "| HDU | EXTNAME | HDU Type | Data Type | Dimensions | \n",
    "| --- | --- | --- | --- | --- | \n",
    "| 0 | N/A | primary | N/A | N/A\n",
    "| 1 | SCI | IMAGE | float32 | ncols x nrows x nints | \n",
    "| 2 | ERR | IMAGE | float32 | ncols x nrows x nints \n",
    "| 3 | DQ  | IMAGE | uint32 | ncols x nrows x nints | \n",
    "| 4 | INT_TIMES | BINTABLE | N/A | nints (rows) x 7 cols\n",
    "| 5 | VAR_POISSON | IMAGE | float32 | ncols x nrows x nints | \n",
    "| 6 | VAR_RNOISE | IMAGE | float32 | N/A\n",
    "| 7 | ASDF | BINTABLE | N/A | variable | \n"
   ]
  },
  {
   "attachments": {},
   "cell_type": "markdown",
   "id": "6cd72455-dc47-4497-a769-f067626644f3",
   "metadata": {},
   "source": [
    "* SCI: 3-D data array containing the pixel values, in units of DN/s. The first two dimensions are equal to the size of the detector readout, with the data from multiple integrations stored along the 3rd axis.\n",
    "\n",
    "* ERR: 3-D data array containing uncertainty estimates on a per-integration basis. These values are based on the combined VAR_POISSON and VAR_RNOISE data (see below), given as standard deviation.\n",
    "\n",
    "* DQ: 3-D data array containing DQ flags. Each plane of the cube corresponds to a given integration"
   ]
  },
  {
   "attachments": {},
   "cell_type": "markdown",
   "id": "375e026e-8b89-4a79-8050-21f73ab88963",
   "metadata": {
    "jp-MarkdownHeadingCollapsed": true,
    "tags": []
   },
   "source": [
    "#### CALINTS"
   ]
  },
  {
   "attachments": {},
   "cell_type": "markdown",
   "id": "546422ed-c40c-4897-a24f-77e79546904e",
   "metadata": {},
   "source": [
    "Single exposure calibrated products duplicate a lot of the format and content of countrate products. There are two different high-level forms of calibrated products: one containing results for all integrations in an exposure (calints) and one for results averaged over all integrations (cal). These products are the main result of Stage 2 pipelines like calwebb_image2 and calwebb_spec2. There are many additional types of extensions that only appear for certain observing modes or instruments, especially for spectroscopic exposures."
   ]
  },
  {
   "attachments": {},
   "cell_type": "markdown",
   "id": "b6e9c137-ef7f-46fb-bdd1-75f13723f9e1",
   "metadata": {},
   "source": [
    "| HDU | EXTNAME | HDU Type | Data Type | Dimensions | \n",
    "| --- | --- | --- | --- | --- | \n",
    "| 0 | N/A | primary | N/A | N/A\n",
    "| 1 | SCI | IMAGE | float32 | ncols x nrows x nints | \n",
    "| 2 | ERR | IMAGE | float32 | ncols x nrows x nints |\n",
    "| 3 | DQ  | IMAGE | uint32 | ncols x nrows x nints | \n",
    "|   | INT_TIMES | BINTABLE | N/A | nints (rows) x 7 cols |\n",
    "|   | VAR_POISSON | IMAGE | float32 | ncols x nrows x nints | \n",
    "|   | VAR_RNOISE | IMAGE | float32 | N/A | \n",
    "|   | VAR_FLAT | IMAGE | float32 | ncols x nrows x nints | \n",
    "|   | AREA | IMAGE |  | ncols x nrows |\n",
    "|   | WAVELENGTH* | IMAGE | float32 | ncols x nrows |\n",
    "|   | ASDF | BINTABLE | N/A | variable | "
   ]
  },
  {
   "attachments": {},
   "cell_type": "markdown",
   "id": "073bcb53-67af-46c4-a337-5ae42769edd6",
   "metadata": {},
   "source": [
    "* SCI: 3-D data array containing the pixel values, in units of surface brightness, for each integration.\n",
    "\n",
    "* ERR: 3-D data array containing uncertainty estimates for each pixel, for each integration. These values are based on the combined VAR_POISSON and VAR_RNOISE data (see below), given as standard deviation.\n",
    "\n",
    "* DQ: 3-D data array containing DQ flags for each pixel, for each integration.\n",
    "\n",
    "* INT_TIMES: A table of beginning, middle, and end time stamps for each integration in the exposure.\n",
    "\n",
    "* VAR_POISSON: 3-D data array containing the variance estimate for each pixel, based on Poisson noise only, for each integration.\n",
    "\n",
    "* VAR_RNOISE: 3-D data array containing the variance estimate for each pixel, based on read noise only, for each integration.\n",
    "\n",
    "* VAR_FLAT: 2-D data array containing the variance estimate for each pixel, based on uncertainty in the flat-field.\n",
    "\n",
    "* AREA: 2-D data array containing pixel area values, added by the photom step, for imaging modes.\n",
    "\n",
    "* WAVELENGTH: 2-D data array of wavelength values for each pixel, for some spectroscopic modes.\n",
    "\n",
    "* ADSF: The data model meta data."
   ]
  },
  {
   "attachments": {},
   "cell_type": "markdown",
   "id": "e06484d8-aa6b-458e-9182-71e7444471c4",
   "metadata": {
    "jp-MarkdownHeadingCollapsed": true,
    "tags": []
   },
   "source": [
    "### PSFSTACK, I2D, CRFINT, PSFSUB and PSFALIGN"
   ]
  },
  {
   "attachments": {},
   "cell_type": "markdown",
   "id": "ed68dcce-ccbc-4417-b9ce-4e33e0aafdd7",
   "metadata": {},
   "source": [
    "#### PSFSTACK"
   ]
  },
  {
   "attachments": {},
   "cell_type": "markdown",
   "id": "a07efc76-8388-40b0-aedf-efd380f478f5",
   "metadata": {},
   "source": [
    "The stack_refs step in the calwebb_coron3 pipeline takes a collection of PSF reference image and assembles them into a 3-D stack of PSF images, which results in a psfstack product. The psfstack product uses the CubeModel data model, which when serialized to a FITS file has the structure shown below."
   ]
  },
  {
   "attachments": {},
   "cell_type": "markdown",
   "id": "ba48a8c1-2733-4873-a124-4d9e01cf8f90",
   "metadata": {},
   "source": [
    "| HDU | EXTNAME | HDU Type | Data Type | Dimensions | \n",
    "| --- | --- | --- | --- | --- | \n",
    "| 0 | N/A | primary | N/A | N/A\n",
    "| 1 | SCI | IMAGE | float32 | ncols x nrows x nints | \n",
    "| 2 | DQ  | IMAGE | uint32 | ncols x nrows x nints | \n",
    "| 3 | ERR | IMAGE | float32 | ncols x nrows x nints |\n",
    "| 4 | ASDF | BINTABLE | N/A | variable"
   ]
  },
  {
   "attachments": {},
   "cell_type": "markdown",
   "id": "171b7f8a-8097-4bd7-9834-852528d4ef10",
   "metadata": {},
   "source": [
    "* SCI: 3-D data array containing a stack of 2-D PSF images.\n",
    "\n",
    "* DQ: 3-D data array containing DQ flags for each PSF image.\n",
    "\n",
    "* ERR: 3-D data array containing a stack of 2-D uncertainty estimates for each PSF image.\n",
    "\n",
    "* ADSF: The data model meta data."
   ]
  },
  {
   "attachments": {},
   "cell_type": "markdown",
   "id": "c9b2df5c-3b2e-428b-b07f-e23e55037a46",
   "metadata": {
    "tags": []
   },
   "source": [
    "#### I2D"
   ]
  },
  {
   "attachments": {},
   "cell_type": "markdown",
   "id": "77bd1ef9-5c80-417e-86ef-b6b708e472d9",
   "metadata": {},
   "source": [
    "Images that have been resampled by the resample step use a different set of data arrays than other science products. Resampled 2-D images are stored in <b>i2d</b> products."
   ]
  },
  {
   "attachments": {},
   "cell_type": "markdown",
   "id": "c5ef6090-1306-4619-8102-eeee732016d6",
   "metadata": {},
   "source": [
    "| HDU | EXTNAME | HDU Type | Data Type | Dimensions | \n",
    "| --- | --- | --- | --- | --- | \n",
    "| 0 | N/A | primary | N/A | N/A\n",
    "| 1 | SCI | IMAGE | float32 | ncols x nrows | \n",
    "| 2 | ERR | IMAGE | float32 | ncols x nrows |\n",
    "| 3 | CON  | IMAGE | int32 | ncols x nrows x nplanes | \n",
    "| 4 | WHT  | IMAGE | float32 | ncols x nrows | \n",
    "| 5 | VAR_POISSON  | IMAGE | float32 | ncols x nrows | \n",
    "| 6 | VAR_RNOISE  | IMAGE | float32 | ncols x nrows | \n",
    "| 6 | VAR_FLAT  | IMAGE | float32 | ncols x nrows | \n",
    "|   | HDRTAB* | BINTABLE | N/A | variable\n",
    "|   | ASDF | BINTABLE | N/A | variable"
   ]
  },
  {
   "attachments": {},
   "cell_type": "markdown",
   "id": "446a9b36-8e43-4a40-88ec-42de7ebef31b",
   "metadata": {},
   "source": [
    "- SCI: 2-D data array containing the pixel values, in units of surface brightness\n",
    "\n",
    "- ERR: 2-D data array containing resampled uncertainty estimates, given as standard deviation\n",
    "\n",
    "- CON: 3-D context image, which encodes information about which input images contribute to a specific output pixel\n",
    "\n",
    "- WHT: 2-D weight image giving the relative weight of the output pixels\n",
    "\n",
    "- VAR_POISSON: 2-D resampled Poisson variance estimates for each pixel\n",
    "\n",
    "- VAR_RNOISE: 2-D resampled read noise variance estimates for each pixel\n",
    "\n",
    "- VAR_FLAT: 2-D resampled flat-field variance estimates for each pixel\n",
    "\n",
    "- HDRTAB: A table containing meta data (FITS keyword values) for all of the input images that were combined to produce the output image. Only appears when multiple inputs are used.\n",
    "\n",
    "- ADSF: The data model meta data."
   ]
  },
  {
   "attachments": {},
   "cell_type": "markdown",
   "id": "ba551c56-c5e1-4c36-97ac-96b2e70ff800",
   "metadata": {},
   "source": [
    "#### PSFALIGN"
   ]
  },
  {
   "attachments": {},
   "cell_type": "markdown",
   "id": "cf7f3fec-6598-43c0-8851-41759b792b4c",
   "metadata": {},
   "source": [
    "The align_refs step in the calwebb_coron3 pipeline creates a 3-D stack of PSF images that are aligned to corresponding science target images. The resulting psfalign product uses the QuadModel data model, which when serialized to a FITS file has the structure and content shown below."
   ]
  },
  {
   "attachments": {},
   "cell_type": "markdown",
   "id": "c578ff36-c5b1-4804-94e5-bda59686f228",
   "metadata": {},
   "source": [
    "| HDU | EXTNAME | HDU Type | Data Type | Dimensions | \n",
    "| --- | --- | --- | --- | --- | \n",
    "| 0 | N/A | primary | N/A | N/A\n",
    "| 1 | SCI | IMAGE | float32 | ncols x nrows x npsfs x nints | \n",
    "| 2 | DQ  | IMAGE | uint32 | ncols x nrows x npsfs xnints | \n",
    "| 3 | ERR | IMAGE | float32 | ncols x nrows x npsfs x nints |\n",
    "| 4 | ASDF | BINTABLE | N/A | variable"
   ]
  },
  {
   "attachments": {},
   "cell_type": "markdown",
   "id": "c767c24d-ac82-447b-a7b7-d1aa72c5fe0e",
   "metadata": {},
   "source": [
    "- SCI: 4-D data array containing a stack of 2-D PSF images aligned to each integration within a corresponding science target exposure. each integration.\n",
    "\n",
    "- DQ: 4-D data array containing DQ flags for each PSF image.\n",
    "\n",
    "- ERR: 4-D data array containing a stack of 2-D uncertainty estimates for each PSF image, per science target integration.\n",
    "\n",
    "- ADSF: The data model meta data.\n",
    "\n"
   ]
  },
  {
   "attachments": {},
   "cell_type": "markdown",
   "id": "faaf34dd-5522-43fb-82f5-1636d3f98b31",
   "metadata": {
    "tags": []
   },
   "source": [
    "#### PSFSUB "
   ]
  },
  {
   "attachments": {},
   "cell_type": "markdown",
   "id": "e6922aaf-5d55-445f-a808-db897fdecc13",
   "metadata": {},
   "source": [
    "The klip step in the calwebb_coron3 pipeline subtracts an optimized combination of PSF images from each integration in a science target exposure. The resulting PSF-subtracted science exposure data uses the CubeModel data model, which when serialized to a FITS file has the structure shown below."
   ]
  },
  {
   "attachments": {},
   "cell_type": "markdown",
   "id": "599b887c-0b05-4bc2-99a5-c107276cdc59",
   "metadata": {},
   "source": [
    "| HDU | EXTNAME | HDU Type | Data Type | Dimensions | \n",
    "| --- | --- | --- | --- | --- | \n",
    "| 0 | N/A | primary | N/A | N/A\n",
    "| 1 | SCI | IMAGE | float32 | ncols x nrows x npsfs x nints | \n",
    "| 2 | DQ  | IMAGE | uint32 | ncols x nrows x npsfs xnints | \n",
    "| 3 | ERR | IMAGE | float32 | ncols x nrows x npsfs x nints |\n",
    "| 4 | INT_TIMES | BINTABLE | N/A | nints (rows) x 7 cols\n",
    "| 5 | VAR_POISSON | IMAGE | float32 | ncols x nrows x nints\n",
    "| 6 | VAR_RNOISE | IMAGE | float32 | ncols x nrows x nints\n",
    "| 7 | ASDF | BINTABLE | N/A | variable"
   ]
  },
  {
   "attachments": {},
   "cell_type": "markdown",
   "id": "4126ac9b-182f-4868-8a26-55156b13ef32",
   "metadata": {},
   "source": [
    "- SCI: 3-D data array containing a stack of 2-D PSF-subtracted science target images, one per integration.\n",
    "\n",
    "- ERR: 3-D data array containing a stack of 2-D uncertainty estimates for each science target integration.\n",
    "\n",
    "- DQ: 3-D data array containing DQ flags for each science target integration.\n",
    "\n",
    "- INT_TIMES: A table of beginning, middle, and end time stamps for each integration in the exposure.\n",
    "\n",
    "- VAR_POISSON: 3-D data array containing the per-integration variance estimates for each pixel, based on Poisson noise only.\n",
    "\n",
    "- VAR_RNOISE: 3-D data array containing the per-integration variance estimates for each pixel, based on read noise only.\n",
    "\n",
    "- ADSF: The data model meta data.\n",
    "\n"
   ]
  },
  {
   "attachments": {},
   "cell_type": "markdown",
   "id": "fec594b6-8a8a-4566-a83a-b3892b939815",
   "metadata": {
    "jp-MarkdownHeadingCollapsed": true
   },
   "source": [
    "# Proposal ID 1386"
   ]
  },
  {
   "cell_type": "code",
   "execution_count": 13,
   "id": "2a543685-3f4a-4993-8dd5-67315640b935",
   "metadata": {},
   "outputs": [],
   "source": [
    "PROPOSAL_ID = '1194'\n",
    "INSTRUMENT = 'NIRCAM'"
   ]
  },
  {
   "cell_type": "code",
   "execution_count": 14,
   "id": "9db7b8b3-14d0-495f-8957-84bfc7476867",
   "metadata": {},
   "outputs": [],
   "source": [
    "#directory_1386_nircam = f'/home/sarperyn/sarperyurtseven/ProjectFiles/dataset/NIRCAM/{PROPOSAL_ID}/mastDownload/JWST/'\n",
    "directory_1386_nircam = f'/data/scratch/bariskurtkaya/dataset/{INSTRUMENT}/{PROPOSAL_ID}/mastDownload/JWST/'"
   ]
  },
  {
   "attachments": {},
   "cell_type": "markdown",
   "id": "46ad9369-e827-4758-b372-a8a971eb464a",
   "metadata": {},
   "source": [
    "## NIRCAM"
   ]
  },
  {
   "attachments": {},
   "cell_type": "markdown",
   "id": "e50db613-6697-4707-813d-5880a08f832f",
   "metadata": {},
   "source": [
    "---"
   ]
  },
  {
   "cell_type": "code",
   "execution_count": 19,
   "id": "f4999f3c-40aa-4682-a050-947da6379769",
   "metadata": {},
   "outputs": [],
   "source": [
    "#rateints_nircam = get_lower_products(suffix='rateints',directory=directory_1386_nircam)\n",
    "calints_nircam = get_lower_products(suffix='calints',directory=directory_1386_nircam)"
   ]
  },
  {
   "cell_type": "code",
   "execution_count": 20,
   "id": "3755ea1f",
   "metadata": {},
   "outputs": [
    {
     "data": {
      "text/plain": [
       "[]"
      ]
     },
     "execution_count": 20,
     "metadata": {},
     "output_type": "execute_result"
    }
   ],
   "source": [
    "calints_nircam"
   ]
  },
  {
   "cell_type": "code",
   "execution_count": null,
   "id": "66da03e8-a5b5-44b2-8531-3274d0393b1d",
   "metadata": {},
   "outputs": [],
   "source": [
    "#print('RATEINTS:',len(rateints_nircam))\n",
    "print('CALINTS:',len(calints_nircam))"
   ]
  },
  {
   "cell_type": "code",
   "execution_count": null,
   "id": "4a6fd425-047a-4ddc-8ceb-a93d22722a30",
   "metadata": {},
   "outputs": [],
   "source": [
    "calints_samples = calints_nircam[:15]"
   ]
  },
  {
   "cell_type": "code",
   "execution_count": null,
   "id": "760f1143-5163-4d0e-8ba4-c3fe7a0d8a4b",
   "metadata": {},
   "outputs": [],
   "source": [
    "header_calints,sci_calints,err_calints,dq_calints,_,_ = get_hdu(calints_samples,data='psfsub')"
   ]
  },
  {
   "cell_type": "code",
   "execution_count": null,
   "id": "a5d10e6e-23c9-4acb-9403-a0b0f6b8dc4f",
   "metadata": {
    "tags": []
   },
   "outputs": [],
   "source": [
    "plot_calints(calints_nircam,sci_calints,header_calints,title='CALINTS',instrume='NIRCAM')"
   ]
  },
  {
   "attachments": {},
   "cell_type": "markdown",
   "id": "87347af8-920d-4494-8412-5679f4edd28b",
   "metadata": {},
   "source": [
    "---"
   ]
  },
  {
   "cell_type": "code",
   "execution_count": null,
   "id": "2ddc8fbe-76a7-4b34-9337-b428e14eb4f8",
   "metadata": {},
   "outputs": [],
   "source": [
    "psfaligns_nircam = get_stage3_products(suffix='psfalign',directory=directory_1386_nircam)\n",
    "psfsubs_nircam = get_stage3_products(suffix='psfsub',directory=directory_1386_nircam)\n",
    "psfstacks_nircam = get_stage3_products(suffix='psfstack',directory=directory_1386_nircam)\n",
    "crfints_nircam = get_stage3_products(suffix='crfints',directory=directory_1386_nircam)\n",
    "i2ds_nircam = get_stage3_products(suffix='i2d',directory=directory_1386_nircam)"
   ]
  },
  {
   "cell_type": "code",
   "execution_count": null,
   "id": "6edc98ce-e6b7-45ee-8a46-063c596b957e",
   "metadata": {},
   "outputs": [],
   "source": [
    "print('PSFSTACK:',len(psfstacks_nircam))\n",
    "print('I2D:',len(i2ds_nircam))\n",
    "print('CRFINT:',len(crfints_nircam))\n",
    "print('PSFSUB:',len(psfsubs_nircam))\n",
    "print('PSFALIGN:',len(psfaligns_nircam))"
   ]
  },
  {
   "cell_type": "code",
   "execution_count": null,
   "id": "e2dda508-f573-44b1-938c-d1596de3cc68",
   "metadata": {},
   "outputs": [],
   "source": [
    "header_psfstacks,sci_psfstacks,err_psfstacks,dq_psfstacks,_,_ = get_hdu(psfstacks_nircam,data='psf')"
   ]
  },
  {
   "cell_type": "code",
   "execution_count": null,
   "id": "cdb57303-4d67-4999-9a8b-39880750b0b7",
   "metadata": {},
   "outputs": [],
   "source": [
    "filtrs = get_headers(header_psfstacks,'FILTER')"
   ]
  },
  {
   "attachments": {},
   "cell_type": "markdown",
   "id": "ceb31844-2243-42a1-bde7-681b92537e17",
   "metadata": {},
   "source": [
    "---"
   ]
  },
  {
   "attachments": {},
   "cell_type": "markdown",
   "id": "edd5a8fd-feae-4b85-b354-910af1d0db44",
   "metadata": {
    "jp-MarkdownHeadingCollapsed": true
   },
   "source": [
    "## PSFSTACKS_1386_NIRCAM"
   ]
  },
  {
   "attachments": {},
   "cell_type": "markdown",
   "id": "32535e3a-b636-4420-a0ba-027f4813c1f0",
   "metadata": {},
   "source": [
    "### PSFSTACKS_SCI"
   ]
  },
  {
   "cell_type": "code",
   "execution_count": null,
   "id": "2bb03931-cee9-491d-8c17-a91e5a905f18",
   "metadata": {
    "collapsed": true,
    "jupyter": {
     "outputs_hidden": true
    },
    "tags": []
   },
   "outputs": [],
   "source": [
    "world_coords, axis_points = pixel2wcs(psfstacks_nircam[0],ispsf=True)\n",
    "header_psfstacks,sci_psfstacks,err_psfstacks,dq_psfstacks,_,_ = get_hdu(psfstacks_nircam,data='psf')\n",
    "filtrs = get_headers(header_psfstacks,'FILTER')\n",
    "instrume = get_headers(header_psfstacks,'INSTRUME')\n",
    "targprop = get_headers(header_psfstacks,'TARGPROP')\n",
    "program = get_headers(header_psfstacks,'PROGRAM')\n",
    "\n",
    "plot_psfstack(psfstack=sci_psfstacks,\n",
    "              ncol=9,\n",
    "              nrow=2,\n",
    "              title='PSFSTACK',\n",
    "              w=world_coords,\n",
    "              axis_points=axis_points,\n",
    "              filtrs=filtrs,\n",
    "              instrume=instrume,\n",
    "              program=program,\n",
    "              targprop=targprop\n",
    "              )"
   ]
  },
  {
   "cell_type": "code",
   "execution_count": null,
   "id": "342c58ec-c211-4d86-a271-d4b091e6da29",
   "metadata": {
    "tags": []
   },
   "outputs": [],
   "source": [
    "plot_psfstack(psfstack=err_psfstacks,\n",
    "              ncol=9,\n",
    "              nrow=2,\n",
    "              title='PSFSTACK',\n",
    "              w=world_coords,\n",
    "              axis_points=axis_points,\n",
    "              filtrs=filtrs,\n",
    "              instrume=instrume,\n",
    "              program=program,\n",
    "              targprop=targprop)"
   ]
  },
  {
   "attachments": {},
   "cell_type": "markdown",
   "id": "d7aa6180-1906-41dd-8c3a-6dc7beb57e31",
   "metadata": {},
   "source": [
    "### PSFSTACKS_DQ"
   ]
  },
  {
   "cell_type": "code",
   "execution_count": null,
   "id": "4b42253f-f1ed-4f5a-8998-d521165fd879",
   "metadata": {
    "tags": []
   },
   "outputs": [],
   "source": [
    "plot_psfstack(psfstack=dq_psfstacks,\n",
    "              ncol=9,\n",
    "              nrow=2,\n",
    "              title='PSFSTACK',\n",
    "              w=world_coords,\n",
    "              axis_points=axis_points,\n",
    "              filtrs=filtrs,\n",
    "              instrume=instrume,\n",
    "              program=program,\n",
    "              targprop=targprop)"
   ]
  },
  {
   "attachments": {},
   "cell_type": "markdown",
   "id": "76c0ce23-600f-4eb9-b67e-bbd6ba191703",
   "metadata": {
    "tags": []
   },
   "source": [
    "---"
   ]
  },
  {
   "attachments": {},
   "cell_type": "markdown",
   "id": "1241700b-fb9e-4935-9398-0a786d2e9b35",
   "metadata": {
    "jp-MarkdownHeadingCollapsed": true
   },
   "source": [
    "## I2D_1386_NIRCAM "
   ]
  },
  {
   "attachments": {},
   "cell_type": "markdown",
   "id": "76094817-c967-4ce1-8017-16d5951ce882",
   "metadata": {},
   "source": [
    "### I2D_SCI"
   ]
  },
  {
   "cell_type": "code",
   "execution_count": null,
   "id": "9fe95e59-b141-4a6f-9c46-0e842b5f574e",
   "metadata": {
    "tags": []
   },
   "outputs": [],
   "source": [
    "world_coords, axis_points = pixel2wcs(i2ds_nircam[0])\n",
    "header_i2d,sci_i2d,err_i2d,dq_i2d,con_i2d,wht_i2d = get_hdu(i2ds_nircam,data='i2d')\n",
    "filtrs = get_headers(header_i2d,'FILTER')\n",
    "instrume = get_headers(header_i2d,'INSTRUME')\n",
    "targprop = get_headers(header_i2d,'TARGPROP')\n",
    "program = get_headers(header_i2d,'PROGRAM')\n",
    "plot_i2d(data=sci_i2d,\n",
    "             title='I2D',\n",
    "             w=world_coords,\n",
    "             axis_points=axis_points,\n",
    "             filtrs=filtrs,\n",
    "             instrume = instrume,\n",
    "             program = program,\n",
    "             targprop = targprop,\n",
    "             ncols=5,\n",
    "             save=True)"
   ]
  },
  {
   "attachments": {},
   "cell_type": "markdown",
   "id": "1978c099-0627-4a67-b2fe-8eae742bc367",
   "metadata": {},
   "source": [
    "### I2D_ERR"
   ]
  },
  {
   "cell_type": "code",
   "execution_count": null,
   "id": "f4852f1e-671f-4f63-acea-96420dd0dcd5",
   "metadata": {
    "tags": []
   },
   "outputs": [],
   "source": [
    "plot_i2d(data=err_i2d,\n",
    "             title='I2D',\n",
    "             w=world_coords,\n",
    "             axis_points=axis_points,\n",
    "              filtrs=filtrs,\n",
    "              instrume = instrume,\n",
    "              program = program,\n",
    "              targprop = targprop,\n",
    "             ncols=5)"
   ]
  },
  {
   "attachments": {},
   "cell_type": "markdown",
   "id": "a28e82d7-dc53-4c34-9a5d-e144470f20e5",
   "metadata": {},
   "source": [
    "### I2D_CON"
   ]
  },
  {
   "cell_type": "code",
   "execution_count": null,
   "id": "47945a51-83a1-4650-81b7-1f22addb0e91",
   "metadata": {},
   "outputs": [],
   "source": [
    "squeezed_con_i2d = [np.squeeze(data) for data in con_i2d]\n",
    "plot_i2d(data=squeezed_con_i2d,\n",
    "             title='I2D',\n",
    "             w=world_coords,\n",
    "             axis_points=axis_points,\n",
    "              filtrs=filtrs,\n",
    "              instrume = instrume,\n",
    "              program = program,\n",
    "              targprop = targprop,\n",
    "             ncols=5)"
   ]
  },
  {
   "attachments": {},
   "cell_type": "markdown",
   "id": "9f5cc0ae-ccc9-411d-9a63-9efddbb99725",
   "metadata": {},
   "source": [
    "### I2D_WHT"
   ]
  },
  {
   "cell_type": "code",
   "execution_count": null,
   "id": "a8b2be48-6f2b-4a26-9a9f-14144e9d4487",
   "metadata": {},
   "outputs": [],
   "source": [
    "plot_i2d(data=wht_i2d,\n",
    "             title='I2D',\n",
    "             w=world_coords,\n",
    "             axis_points=axis_points,\n",
    "              filtrs=filtrs,\n",
    "              instrume = instrume,\n",
    "              program = program,\n",
    "              targprop = targprop,\n",
    "             ncols=5)"
   ]
  },
  {
   "attachments": {},
   "cell_type": "markdown",
   "id": "35c4724e-27c7-4d1e-81dc-7f66dde9a8ea",
   "metadata": {},
   "source": [
    "---"
   ]
  },
  {
   "attachments": {},
   "cell_type": "markdown",
   "id": "f697c049-cc44-4e13-9578-fb66bcaf6c71",
   "metadata": {
    "jp-MarkdownHeadingCollapsed": true
   },
   "source": [
    "## PSFALIGN_1386_NIRCAM "
   ]
  },
  {
   "attachments": {},
   "cell_type": "markdown",
   "id": "04b12b16-910d-4ba5-b033-61399e51ca74",
   "metadata": {},
   "source": [
    "### PSFALIGN_SCI"
   ]
  },
  {
   "cell_type": "code",
   "execution_count": null,
   "id": "f0f7c578-1f5d-481f-941d-418afb21b2da",
   "metadata": {
    "tags": []
   },
   "outputs": [],
   "source": [
    "world_coords, axis_points = pixel2wcs(psfaligns_nircam[0],ispsf=True)\n",
    "header_psfalign,sci_psfalign,err_psfalign,dq_psfalign,_,_ = get_hdu(psfaligns_nircam,data='psf')\n",
    "filtrs = get_headers(header_psfalign,'FILTER')\n",
    "instrume = get_headers(header_psfalign,'INSTRUME')\n",
    "targprop = get_headers(header_psfalign,'TARGPROP')\n",
    "program = get_headers(header_psfalign,'PROGRAM')\n",
    "psfaligns_nircam(psfaligns=sci_psfalign,\n",
    "              title='PSFALIGN',\n",
    "              w=world_coords,\n",
    "              axis_points=axis_points,\n",
    "              filtrs=filtrs,\n",
    "              instrume = instrume,\n",
    "              program = program,\n",
    "              targprop = targprop)"
   ]
  },
  {
   "attachments": {},
   "cell_type": "markdown",
   "id": "b122bcae-5b77-407f-9161-6131d43a6d7d",
   "metadata": {},
   "source": [
    "### PSFALIGN_ERR"
   ]
  },
  {
   "cell_type": "code",
   "execution_count": null,
   "id": "17f67b30-46fe-421a-8f3c-94b3c0316c65",
   "metadata": {
    "tags": []
   },
   "outputs": [],
   "source": [
    "plot_psfaligns(psfaligns=err_psfalign,\n",
    "              title='PSFALIGN',\n",
    "              w=world_coords,\n",
    "              filtrs=filtrs,\n",
    "              instrume = instrume,\n",
    "              program = program,\n",
    "              targprop = targprop,\n",
    "              axis_points=axis_points)"
   ]
  },
  {
   "attachments": {},
   "cell_type": "markdown",
   "id": "b8a2464e-87f0-4f00-bdb7-b04442ab41d3",
   "metadata": {
    "tags": []
   },
   "source": [
    "### PSFALIGN_DQ"
   ]
  },
  {
   "cell_type": "code",
   "execution_count": null,
   "id": "1df25f82-9c24-49b8-9b6c-7a1f140328ac",
   "metadata": {
    "tags": []
   },
   "outputs": [],
   "source": [
    "plot_psfaligns(psfaligns=dq_psfalign,\n",
    "              title='PSFALIGN',\n",
    "              w=world_coords,\n",
    "              filtrs=filtrs,\n",
    "              instrume = instrume,\n",
    "              program = program,\n",
    "              targprop = targprop,\n",
    "              axis_points=axis_points)"
   ]
  },
  {
   "attachments": {},
   "cell_type": "markdown",
   "id": "fd6426be-655d-4353-8404-789a699bf498",
   "metadata": {},
   "source": [
    "---"
   ]
  },
  {
   "attachments": {},
   "cell_type": "markdown",
   "id": "f507077d-b643-44d2-8300-e59feb853c34",
   "metadata": {
    "jp-MarkdownHeadingCollapsed": true
   },
   "source": [
    "## PSFSUB_1386_NIRCAM "
   ]
  },
  {
   "attachments": {},
   "cell_type": "markdown",
   "id": "dfb49dcc-5623-4752-8a5b-d8b8d6053988",
   "metadata": {},
   "source": [
    "### PSFSUB_SCI"
   ]
  },
  {
   "cell_type": "code",
   "execution_count": null,
   "id": "eaf1a928-b821-4271-baff-148209ddec59",
   "metadata": {
    "tags": []
   },
   "outputs": [],
   "source": [
    "world_coords, axis_points = pixel2wcs(psfsubs_nircam[0],ispsf=True)\n",
    "header_psfsub,sci_psfsub,err_psfsub,dq_psfsub,_,_ = get_hdu(psfsubs_nircam,data='psfsub')\n",
    "filtrs = get_headers(header_psfsub,'FILTER')\n",
    "instrume = get_headers(header_psfsub,'INSTRUME')\n",
    "targprop = get_headers(header_psfsub,'TARGPROP')\n",
    "program = get_headers(header_psfsub,'PROGRAM')\n",
    "plot_psfsubs(psfsubs=sci_psfsub,\n",
    "              title='PSFSUB',\n",
    "              w=world_coords,\n",
    "              filtrs=filtrs,\n",
    "              instrume = instrume,\n",
    "              program = program,\n",
    "              targprop = targprop,\n",
    "              axis_points=axis_points)"
   ]
  },
  {
   "attachments": {},
   "cell_type": "markdown",
   "id": "908cd790-376a-404c-bd13-71e9d4d0a6fc",
   "metadata": {},
   "source": [
    "### PSFSUB_ERR"
   ]
  },
  {
   "cell_type": "code",
   "execution_count": null,
   "id": "d9fada0b-6c1e-4517-8421-6f1a6c1b152e",
   "metadata": {
    "tags": []
   },
   "outputs": [],
   "source": [
    "plot_psfsubs(psfsubs=err_psfsub,\n",
    "              title='PSFSUB',\n",
    "              w=world_coords,\n",
    "              filtrs=filtrs,\n",
    "              instrume = instrume,\n",
    "              program = program,\n",
    "              targprop = targprop,\n",
    "              axis_points=axis_points)"
   ]
  },
  {
   "attachments": {},
   "cell_type": "markdown",
   "id": "fdfa991f-8f7d-4684-bb6a-a3a3c2ae4cd4",
   "metadata": {},
   "source": [
    "### PSFSUB_DQ"
   ]
  },
  {
   "cell_type": "code",
   "execution_count": null,
   "id": "9ef34f6b-7c2b-4ee9-b54b-332ea0b1fe36",
   "metadata": {
    "tags": []
   },
   "outputs": [],
   "source": [
    "plot_psfsubs(psfsubs=dq_psfsub,\n",
    "              title='PSFSUB',\n",
    "              w=world_coords,\n",
    "              filtrs=filtrs,\n",
    "              instrume = instrume,\n",
    "              program = program,\n",
    "              targprop = targprop,\n",
    "              axis_points=axis_points)"
   ]
  },
  {
   "attachments": {},
   "cell_type": "markdown",
   "id": "1edde341-96c0-4538-b801-3df9eff5272d",
   "metadata": {},
   "source": [
    "---"
   ]
  },
  {
   "attachments": {},
   "cell_type": "markdown",
   "id": "55a34d3f-6916-44a7-918e-d6edc4f53054",
   "metadata": {},
   "source": [
    " "
   ]
  },
  {
   "attachments": {},
   "cell_type": "markdown",
   "id": "4c8b7e48-baca-4bd5-b331-49e0ac0f1f2c",
   "metadata": {},
   "source": [
    " "
   ]
  },
  {
   "attachments": {},
   "cell_type": "markdown",
   "id": "ae20ccac-e89e-490e-8b44-f468020c9a04",
   "metadata": {},
   "source": [
    " "
   ]
  },
  {
   "attachments": {},
   "cell_type": "markdown",
   "id": "bd913efa-5be9-41b7-a670-fbc59f89365c",
   "metadata": {
    "jp-MarkdownHeadingCollapsed": true
   },
   "source": [
    "## MIRI"
   ]
  },
  {
   "cell_type": "code",
   "execution_count": null,
   "id": "e2cf5738-d8b5-4d2d-98e6-b7ae89095fc1",
   "metadata": {},
   "outputs": [],
   "source": [
    "PROPOSAL_ID = '1386'"
   ]
  },
  {
   "cell_type": "code",
   "execution_count": null,
   "id": "de076d4c-5552-4cd5-a32c-9d4c7e18d7ec",
   "metadata": {},
   "outputs": [],
   "source": [
    "directory_1386_miri = f'/home/sarperyn/sarperyurtseven/ProjectFiles/dataset/MIRI/{PROPOSAL_ID}/mastDownload/JWST/'"
   ]
  },
  {
   "attachments": {},
   "cell_type": "markdown",
   "id": "ba2538e4-5c1a-4e58-a9e8-2c51fa9a31cf",
   "metadata": {},
   "source": [
    "----"
   ]
  },
  {
   "cell_type": "code",
   "execution_count": null,
   "id": "e16203f9-231e-441f-9d32-2d2bbd86f183",
   "metadata": {},
   "outputs": [],
   "source": [
    "rateints = get_lower_products(suffix='rateints',directory=directory_1386_miri)\n",
    "calints_miri = get_lower_products(suffix='calints',directory=directory_1386_miri)"
   ]
  },
  {
   "cell_type": "code",
   "execution_count": null,
   "id": "ccbce506-de30-45fb-a768-7c1daca2b2a1",
   "metadata": {
    "tags": []
   },
   "outputs": [],
   "source": [
    "print('RATEINTS:',len(rateints))\n",
    "print('CALINTS:',len(calints_miri))"
   ]
  },
  {
   "cell_type": "code",
   "execution_count": null,
   "id": "a2fda753-f850-4180-aaae-444a708208aa",
   "metadata": {},
   "outputs": [],
   "source": [
    "idx_list = []\n",
    "dims = check_hdu_dims(calints_miri,hdu=1)\n",
    "for idx, shape, in enumerate(dims):\n",
    "    if shape[0] <= 6:\n",
    "        idx_list.append(idx)\n",
    "        "
   ]
  },
  {
   "cell_type": "code",
   "execution_count": null,
   "id": "d9adfbd2-dd61-42ea-b095-267668d884ad",
   "metadata": {},
   "outputs": [],
   "source": [
    "v_calints_miri = [calints_miri[i] for i in idx_list]"
   ]
  },
  {
   "cell_type": "code",
   "execution_count": null,
   "id": "d00636a2-1d4b-4a0f-a849-aef91db98ddd",
   "metadata": {
    "tags": []
   },
   "outputs": [],
   "source": [
    "header_calints_miri,sci_calints_miri,err_calints_miri,dq_calints_miri,_,_ = get_hdu(v_calints_miri,data='psf')\n",
    "plot_calints(calints_miri,sci_calints_miri,header_calints_miri,title='CALINTS',instrume='MIRI')"
   ]
  },
  {
   "cell_type": "code",
   "execution_count": null,
   "id": "5b925b18-5f3e-459a-a693-9c734752a86b",
   "metadata": {},
   "outputs": [],
   "source": [
    "psfaligns_miri = get_stage3_products(suffix='psfalign',directory=directory_1386_miri)\n",
    "psfsubs_miri = get_stage3_products(suffix='psfsub',directory=directory_1386_miri)\n",
    "psfstacks_miri = get_stage3_products(suffix='psfstack',directory=directory_1386_miri)\n",
    "crfints_miri = get_stage3_products(suffix='crfints',directory=directory_1386_miri)\n",
    "i2ds_miri = get_stage3_products(suffix='i2d',directory=directory_1386_miri)"
   ]
  },
  {
   "cell_type": "code",
   "execution_count": null,
   "id": "f072c137-2e5f-43e7-bc1e-e0711581b03a",
   "metadata": {},
   "outputs": [],
   "source": [
    "print('PSFSTACK:',len(psfstacks_miri))\n",
    "print('I2D:',len(i2ds_miri))\n",
    "print('CRFINT:',len(crfints_miri))\n",
    "print('PSFSUB:',len(psfsubs_miri))\n",
    "print('PSFALIGN:',len(psfaligns_miri))"
   ]
  },
  {
   "attachments": {},
   "cell_type": "markdown",
   "id": "ea789cb8-3084-4c2c-8b6d-49f66def107b",
   "metadata": {},
   "source": [
    "---"
   ]
  },
  {
   "attachments": {},
   "cell_type": "markdown",
   "id": "fb1e6076-6c02-4eb8-ab91-c870ae6668ff",
   "metadata": {
    "jp-MarkdownHeadingCollapsed": true
   },
   "source": [
    "## PSFSTACKS_1386_MIRI"
   ]
  },
  {
   "cell_type": "code",
   "execution_count": null,
   "id": "efa8ff8f-4524-4e46-98d2-f5d31176cfb9",
   "metadata": {
    "tags": []
   },
   "outputs": [],
   "source": [
    "world_coords, axis_points = pixel2wcs(psfstacks_miri[0],ispsf=True)\n",
    "header_psfstack_miri,sci_psfstack_miri,err_psfstack_miri,dq_psfstack_miri,_,_ = get_hdu(psfstacks_miri,data='psf')\n",
    "filtrs = get_headers(header_psfstack_miri,'FILTER')\n",
    "instrume = get_headers(header_psfstack_miri,'INSTRUME')\n",
    "targprop = get_headers(header_psfstack_miri,'TARGPROP')\n",
    "program = get_headers(header_psfstack_miri,'PROGRAM')\n",
    "plot_psfstack(psfstack= sci_psfstack_miri,\n",
    "            ncol=9,\n",
    "            nrow=2,\n",
    "            title='PSFSTACK',\n",
    "            w=world_coords,\n",
    "            axis_points=axis_points,\n",
    "            filtrs=filtrs,\n",
    "            instrume = instrume,\n",
    "            program = program,\n",
    "            targprop = targprop)"
   ]
  },
  {
   "attachments": {},
   "cell_type": "markdown",
   "id": "3761fe72-7f89-42db-9d9a-730763836966",
   "metadata": {
    "jp-MarkdownHeadingCollapsed": true
   },
   "source": [
    "## I2D_1386_MIRI"
   ]
  },
  {
   "cell_type": "code",
   "execution_count": null,
   "id": "7c494777-aa0d-4ca9-8f0d-3245612d062e",
   "metadata": {},
   "outputs": [],
   "source": [
    "world_coords, axis_points = pixel2wcs(i2ds_miri[0])\n",
    "header_i2d_miri,sci_i2d_miri,err_i2d_miri,dq_i2d_miri,con_i2d,wht_i2d = get_hdu(i2ds_miri,data='i2d')\n",
    "filtrs = get_headers(header_i2d_miri,'FILTER')\n",
    "instrume = get_headers(header_i2d_miri,'INSTRUME')\n",
    "targprop = get_headers(header_i2d_miri,'TARGPROP')\n",
    "program = get_headers(header_i2d_miri,'PROGRAM')\n",
    "plot_i2d_mir(data=sci_i2d_miri,\n",
    "             title='I2D',\n",
    "             w=world_coords,\n",
    "             axis_points=axis_points,\n",
    "             filtrs=filtrs,\n",
    "             instrume = instrume,\n",
    "             program = program,\n",
    "             targprop = targprop,\n",
    "             ncols=5,\n",
    "             save=True)"
   ]
  },
  {
   "cell_type": "code",
   "execution_count": null,
   "id": "6a0315ba-8c79-4ec3-b20d-9698f60599de",
   "metadata": {},
   "outputs": [],
   "source": [
    "plot_i2d_mir(data=wht_i2d,\n",
    "             title='I2D',\n",
    "             w=world_coords,\n",
    "             axis_points=axis_points,\n",
    "             filtrs=filtrs,\n",
    "             instrume = instrume,\n",
    "             program = program,\n",
    "             targprop = targprop,\n",
    "             ncols=5)"
   ]
  },
  {
   "cell_type": "code",
   "execution_count": null,
   "id": "572864ae-2d25-47ed-b600-3165412689d0",
   "metadata": {},
   "outputs": [],
   "source": [
    "check_hdu_dims(i2ds_miri,hdu=3)"
   ]
  },
  {
   "attachments": {},
   "cell_type": "markdown",
   "id": "9caa07ea-4a15-4ac2-bcb2-a2571439ee17",
   "metadata": {
    "jp-MarkdownHeadingCollapsed": true
   },
   "source": [
    "# Proposal ID 1441"
   ]
  },
  {
   "cell_type": "code",
   "execution_count": null,
   "id": "af1fa5fc-ca3a-4aba-beff-db392cf978fb",
   "metadata": {},
   "outputs": [],
   "source": []
  },
  {
   "cell_type": "code",
   "execution_count": null,
   "id": "94050028-7006-4fef-a4e8-5218aeb39430",
   "metadata": {},
   "outputs": [],
   "source": []
  },
  {
   "cell_type": "code",
   "execution_count": null,
   "id": "94d3e633-5f4a-40fa-8acc-35eb687f0a30",
   "metadata": {},
   "outputs": [],
   "source": [
    "PROPOSAL_ID = '1441'"
   ]
  },
  {
   "cell_type": "code",
   "execution_count": null,
   "id": "b05e33bd-786b-4837-a131-5167b9f9851c",
   "metadata": {},
   "outputs": [],
   "source": [
    "directory_1441_nircam = f'/home/sarperyn/sarperyurtseven/ProjectFiles/dataset/NIRCAM/{PROPOSAL_ID}/mastDownload/JWST/'"
   ]
  },
  {
   "attachments": {},
   "cell_type": "markdown",
   "id": "94b6c85d-3501-4ca7-b58b-6761da20bf57",
   "metadata": {},
   "source": [
    "---"
   ]
  },
  {
   "cell_type": "code",
   "execution_count": null,
   "id": "f2d67c8b-1840-4efe-846d-540d03b5be36",
   "metadata": {},
   "outputs": [],
   "source": [
    "rateints_nircam= get_lower_products(suffix='rateints',directory=directory_1441_nircam)\n",
    "calints_nircam = get_lower_products(suffix='calints',directory=directory_1441_nircam)"
   ]
  },
  {
   "cell_type": "code",
   "execution_count": null,
   "id": "0c22da3f-32f5-4a8a-9226-2e28b9acac59",
   "metadata": {},
   "outputs": [],
   "source": [
    "print('RATEINTS:',len(rateints_nircam))\n",
    "print('CALINTS:',len(calints_nircam))"
   ]
  },
  {
   "cell_type": "code",
   "execution_count": null,
   "id": "2e8bf9ff-279e-4ce2-8f46-caed0eebb714",
   "metadata": {},
   "outputs": [],
   "source": [
    "psfaligns_nircam = get_stage3_products(suffix='psfalign',directory=directory_1441_nircam)\n",
    "psfsubs_nircam = get_stage3_products(suffix='psfsub',directory=directory_1441_nircam)\n",
    "psfstacks_nircam = get_stage3_products(suffix='psfstack',directory=directory_1441_nircam)\n",
    "crfints_nircam = get_stage3_products(suffix='crfints',directory=directory_1441_nircam)\n",
    "i2ds_nircam = get_stage3_products(suffix='i2d',directory=directory_1441_nircam)"
   ]
  },
  {
   "cell_type": "code",
   "execution_count": null,
   "id": "cfb37f0b-4057-4b7b-b2f6-a06adc99c17d",
   "metadata": {
    "tags": []
   },
   "outputs": [],
   "source": [
    "print('PSFSTACK:',len(psfstacks_nircam))\n",
    "print('I2D:',len(i2ds_nircam))\n",
    "print('CRFINT:',len(crfints_nircam))\n",
    "print('PSFSUB:',len(psfsubs_nircam))\n",
    "print('PSFALIGN:',len(psfaligns_nircam))"
   ]
  },
  {
   "cell_type": "code",
   "execution_count": null,
   "id": "361694a5-da1c-42a4-95e0-99c3a71b4a1b",
   "metadata": {},
   "outputs": [],
   "source": [
    "header_psfstacks,sci_psfstacks,err_psfstacks,dq_psfstacks,_,_ = get_hdu(psfstacks_nircam,data='psf')\n",
    "filtrs = get_headers(header_psfstacks,'FILTER')"
   ]
  },
  {
   "attachments": {},
   "cell_type": "markdown",
   "id": "bcc2c293-dcc9-435e-a32c-b2069eedb103",
   "metadata": {},
   "source": [
    "---"
   ]
  },
  {
   "cell_type": "code",
   "execution_count": null,
   "id": "e5a35565-bd65-4b62-9256-c4b4b89bca69",
   "metadata": {
    "tags": []
   },
   "outputs": [],
   "source": [
    "world_coords, axis_points = pixel2wcs(psfstacks_nircam[0],ispsf=True)\n",
    "header_psfstacks,sci_psfstacks,err_psfstacks,dq_psfstacks,_,_ = get_hdu(psfstacks_nircam,data='psf')\n",
    "filtrs = get_headers(header_psfstacks,'FILTER')\n",
    "instrume = get_headers(header_psfstacks,'INSTRUME')\n",
    "targprop = get_headers(header_psfstacks,'TARGPROP')\n",
    "program = get_headers(header_psfstacks,'PROGRAM')\n",
    "plot_psfstack(psfstack=sci_psfstacks,\n",
    "              ncol=9,\n",
    "              nrow=2,\n",
    "              title='PSFSTACK',\n",
    "              w=world_coords,\n",
    "              axis_points=axis_points,\n",
    "              filtrs=filtrs,\n",
    "              instrume = instrume,\n",
    "              program = program,\n",
    "              targprop = targprop)"
   ]
  },
  {
   "cell_type": "code",
   "execution_count": null,
   "id": "b9b074c9-d479-498c-bcd3-27ae10620904",
   "metadata": {},
   "outputs": [],
   "source": [
    "sci_psfstacks[2].shape"
   ]
  },
  {
   "cell_type": "code",
   "execution_count": null,
   "id": "f6c837d7-0221-43d7-8ecc-ec4efbb88709",
   "metadata": {
    "tags": []
   },
   "outputs": [],
   "source": [
    "plot_psfstack(psfstack=err_psfstacks,\n",
    "              ncol=9,\n",
    "              nrow=2,\n",
    "              title='PSFSTACK',\n",
    "              w=world_coords,\n",
    "              axis_points=axis_points,\n",
    "              filtrs=filtrs,\n",
    "              instrume = instrume,\n",
    "              program = program,\n",
    "              targprop = targprop)"
   ]
  },
  {
   "cell_type": "code",
   "execution_count": null,
   "id": "1153a01c-dae1-42c7-8c4e-d8a2326cd218",
   "metadata": {
    "tags": []
   },
   "outputs": [],
   "source": [
    "plot_psfstack(psfstack=dq_psfstacks,\n",
    "              ncol=9,\n",
    "              nrow=2,\n",
    "              title='PSFSTACK',\n",
    "              w=world_coords,\n",
    "              axis_points=axis_points,\n",
    "              filtrs=filtrs,\n",
    "              instrume = instrume,\n",
    "              program = program,\n",
    "              targprop = targprop)"
   ]
  },
  {
   "cell_type": "code",
   "execution_count": null,
   "id": "4d10ecc0-0752-48d0-8f64-3f0e36cbbdbc",
   "metadata": {
    "tags": []
   },
   "outputs": [],
   "source": [
    "world_coords, axis_points = pixel2wcs(i2ds_nircam[0])\n",
    "header_i2d,sci_i2d,err_i2d,dq_i2d,con_i2d,wht_i2d = get_hdu(i2ds_nircam,data='i2d')\n",
    "filtrs = get_headers(header_i2d,'FILTER')\n",
    "instrume = get_headers(header_i2d,'INSTRUME')\n",
    "targprop = get_headers(header_i2d,'TARGPROP')\n",
    "program = get_headers(header_i2d,'PROGRAM')\n",
    "plot_i2d(data=sci_i2d,\n",
    "             title='I2D',\n",
    "             w=world_coords,\n",
    "             axis_points=axis_points,\n",
    "             filtrs=filtrs,\n",
    "             instrume = instrume,\n",
    "             program = program,\n",
    "             targprop = targprop,\n",
    "             ncols=3)"
   ]
  },
  {
   "cell_type": "code",
   "execution_count": null,
   "id": "430ad08f-49be-4bc5-b502-67d5f80e2bca",
   "metadata": {
    "tags": []
   },
   "outputs": [],
   "source": [
    "plot_i2d(data=err_i2d,\n",
    "             title='I2D',\n",
    "             w=world_coords,\n",
    "             axis_points=axis_points,\n",
    "             filtrs=filtrs,\n",
    "             instrume = instrume,\n",
    "             program = program,\n",
    "             targprop = targprop,\n",
    "             ncols=3)"
   ]
  },
  {
   "cell_type": "code",
   "execution_count": null,
   "id": "5fafe589-1066-44a7-803f-147de7400895",
   "metadata": {},
   "outputs": [],
   "source": []
  },
  {
   "attachments": {},
   "cell_type": "markdown",
   "id": "48c201cc-2daf-4b00-8137-ef649f7e7dd5",
   "metadata": {},
   "source": [
    "# Proposal ID 2278"
   ]
  },
  {
   "cell_type": "code",
   "execution_count": null,
   "id": "e754e947-d7f7-4f89-b9ba-49d6a2e56b92",
   "metadata": {},
   "outputs": [],
   "source": [
    "PROPOSAL_ID = '2278'\n",
    "directory_2278_nircam = f'/home/sarperyn/sarperyurtseven/ProjectFiles/dataset/NIRCAM/{PROPOSAL_ID}/mastDownload/JWST/'"
   ]
  },
  {
   "cell_type": "code",
   "execution_count": null,
   "id": "7378d36c-6d0f-46ac-bf34-a4fc615bb62e",
   "metadata": {},
   "outputs": [],
   "source": [
    "psfaligns_nircam = get_stage3_products(suffix='psfalign',directory=directory_2278_nircam)\n",
    "psfsubs_nircam = get_stage3_products(suffix='psfsub',directory=directory_2278_nircam)\n",
    "psfstacks_nircam = get_stage3_products(suffix='psfstack',directory=directory_2278_nircam)\n",
    "crfints_nircam = get_stage3_products(suffix='crfints',directory=directory_2278_nircam)\n",
    "i2ds_nircam = get_stage3_products(suffix='i2d',directory=directory_2278_nircam)"
   ]
  },
  {
   "cell_type": "code",
   "execution_count": null,
   "id": "9ef7df69-4768-44ac-97a8-5a70cae8ae66",
   "metadata": {},
   "outputs": [],
   "source": [
    "print('PSFSTACK:',len(psfstacks_nircam))\n",
    "print('I2D:',len(i2ds_nircam))\n",
    "print('CRFINT:',len(crfints_nircam))\n",
    "print('PSFSUB:',len(psfsubs_nircam))\n",
    "print('PSFALIGN:',len(psfaligns_nircam))"
   ]
  },
  {
   "cell_type": "code",
   "execution_count": null,
   "id": "3e85396c-5e47-4806-a44e-616b22bf002f",
   "metadata": {},
   "outputs": [],
   "source": [
    "header_psfstacks,sci_psfstacks,err_psfstacks,dq_psfstacks,_,_ = get_hdu(psfstacks_nircam,data='psf')\n",
    "filtrs = get_headers(header_psfstacks,'FILTER')"
   ]
  },
  {
   "cell_type": "code",
   "execution_count": null,
   "id": "722ea73b-9c64-4cb9-9c35-a93929a41517",
   "metadata": {},
   "outputs": [],
   "source": [
    "world_coords, axis_points = pixel2wcs(psfstacks_nircam[0],ispsf=True)\n",
    "header_psfstacks,sci_psfstacks,err_psfstacks,dq_psfstacks,_,_ = get_hdu(psfstacks_nircam,data='psf')\n",
    "filtrs = get_headers(header_psfstacks,'FILTER')\n",
    "instrume = get_headers(header_psfstacks,'INSTRUME')\n",
    "targprop = get_headers(header_psfstacks,'TARGPROP')\n",
    "program = get_headers(header_psfstacks,'PROGRAM')\n",
    "\n",
    "plot_psfstack(psfstack=sci_psfstacks,\n",
    "              ncol=9,\n",
    "              nrow=2,\n",
    "              title='PSFSTACK',\n",
    "              w=world_coords,\n",
    "              axis_points=axis_points,\n",
    "              filtrs=filtrs,\n",
    "              instrume=instrume,\n",
    "              program=program,\n",
    "              targprop=targprop\n",
    "              )"
   ]
  },
  {
   "attachments": {},
   "cell_type": "markdown",
   "id": "a59a9e20-d2ae-41ea-b9a3-d2941c717dd3",
   "metadata": {},
   "source": [
    "# Proposal ID 4454"
   ]
  },
  {
   "cell_type": "code",
   "execution_count": null,
   "id": "3297bf92-0bd7-4ecf-a4ac-3d3f4d7addc3",
   "metadata": {},
   "outputs": [],
   "source": [
    "PROPOSAL_ID = '4454'\n",
    "directory_4454_nircam = f'/home/sarperyn/sarperyurtseven/ProjectFiles/dataset/NIRCAM/{PROPOSAL_ID}/mastDownload/JWST/'"
   ]
  },
  {
   "cell_type": "code",
   "execution_count": null,
   "id": "152ef445-a95e-4a72-baca-16b8730818ec",
   "metadata": {},
   "outputs": [],
   "source": [
    "psfaligns_nircam = get_stage3_products(suffix='psfalign',directory=directory_4454_nircam)\n",
    "psfsubs_nircam = get_stage3_products(suffix='psfsub',directory=directory_4454_nircam)\n",
    "psfstacks_nircam = get_stage3_products(suffix='psfstack',directory=directory_4454_nircam)\n",
    "crfints_nircam = get_stage3_products(suffix='crfints',directory=directory_4454_nircam)\n",
    "i2ds_nircam = get_stage3_products(suffix='i2d',directory=directory_4454_nircam)"
   ]
  },
  {
   "cell_type": "code",
   "execution_count": null,
   "id": "eca1292b-a198-4cb8-8d30-5a2fa392092d",
   "metadata": {},
   "outputs": [],
   "source": [
    "print('PSFSTACK:',len(psfstacks_nircam))\n",
    "print('I2D:',len(i2ds_nircam))\n",
    "print('CRFINT:',len(crfints_nircam))\n",
    "print('PSFSUB:',len(psfsubs_nircam))\n",
    "print('PSFALIGN:',len(psfaligns_nircam))"
   ]
  },
  {
   "cell_type": "code",
   "execution_count": null,
   "id": "947565e1-4220-4fba-b56c-3f3103288eee",
   "metadata": {},
   "outputs": [],
   "source": [
    "header_psfstacks,sci_psfstacks,err_psfstacks,dq_psfstacks,_,_ = get_hdu(psfstacks_nircam,data='psf')\n",
    "filtrs = get_headers(header_psfstacks,'FILTER')"
   ]
  },
  {
   "cell_type": "code",
   "execution_count": null,
   "id": "f5909900-86cc-4af3-951b-c516ffcfa590",
   "metadata": {},
   "outputs": [],
   "source": [
    "world_coords, axis_points = pixel2wcs(psfstacks_nircam[0],ispsf=True)\n",
    "header_psfstacks,sci_psfstacks,err_psfstacks,dq_psfstacks,_,_ = get_hdu(psfstacks_nircam,data='psf')\n",
    "filtrs = get_headers(header_psfstacks,'FILTER')\n",
    "instrume = get_headers(header_psfstacks,'INSTRUME')\n",
    "targprop = get_headers(header_psfstacks,'TARGPROP')\n",
    "program = get_headers(header_psfstacks,'PROGRAM')\n",
    "\n",
    "plot_psfstack(psfstack=sci_psfstacks,\n",
    "              ncol=9,\n",
    "              nrow=2,\n",
    "              title='PSFSTACK',\n",
    "              w=world_coords,\n",
    "              axis_points=axis_points,\n",
    "              filtrs=filtrs,\n",
    "              instrume=instrume,\n",
    "              program=program,\n",
    "              targprop=targprop\n",
    "              )"
   ]
  },
  {
   "cell_type": "code",
   "execution_count": null,
   "id": "f9ea63bd-ef81-4b67-8b19-d0baced09384",
   "metadata": {},
   "outputs": [],
   "source": []
  },
  {
   "attachments": {},
   "cell_type": "markdown",
   "id": "0318e588-359d-4c05-aec9-b4f7d2cc048e",
   "metadata": {},
   "source": [
    "# Proposal ID 1075"
   ]
  },
  {
   "cell_type": "code",
   "execution_count": null,
   "id": "c4b84f9f-b441-4bbd-9fba-b51b56db0162",
   "metadata": {},
   "outputs": [],
   "source": [
    "PROPOSAL_ID = '1075'\n",
    "directory_1075_nircam = f'/data/scratch/bariskurtkaya/dataset/NIRCAM/{PROPOSAL_ID}/mastDownload/JWST/'"
   ]
  },
  {
   "cell_type": "code",
   "execution_count": null,
   "id": "96623d86-a611-477a-bde4-1b93c595bd69",
   "metadata": {},
   "outputs": [],
   "source": [
    "psfaligns_nircam = get_stage3_products(suffix='psfalign',directory=directory_1075_nircam)\n",
    "psfsubs_nircam = get_stage3_products(suffix='psfsub',directory=directory_1075_nircam)\n",
    "psfstacks_nircam = get_stage3_products(suffix='psfstack',directory=directory_1075_nircam)\n",
    "crfints_nircam = get_stage3_products(suffix='crfints',directory=directory_1075_nircam)\n",
    "i2ds_nircam = get_stage3_products(suffix='i2d',directory=directory_1075_nircam)"
   ]
  },
  {
   "cell_type": "code",
   "execution_count": null,
   "id": "79b4fa7e-1909-456f-9448-08e39451ddd4",
   "metadata": {},
   "outputs": [],
   "source": [
    "print('PSFSTACK:',len(psfstacks_nircam))\n",
    "print('I2D:',len(i2ds_nircam))\n",
    "print('CRFINT:',len(crfints_nircam))\n",
    "print('PSFSUB:',len(psfsubs_nircam))\n",
    "print('PSFALIGN:',len(psfaligns_nircam))"
   ]
  },
  {
   "cell_type": "code",
   "execution_count": null,
   "id": "cd2fd7a9-415c-49fe-9183-e7b496776951",
   "metadata": {},
   "outputs": [],
   "source": [
    "header_psfstacks,sci_psfstacks,err_psfstacks,dq_psfstacks,_,_ = get_hdu(psfstacks_nircam,data='psf')\n",
    "filtrs = get_headers(header_psfstacks,'FILTER')"
   ]
  },
  {
   "cell_type": "code",
   "execution_count": null,
   "id": "1b1a3f3f-0bbe-44d8-ab9a-966371cde859",
   "metadata": {},
   "outputs": [],
   "source": [
    "world_coords, axis_points = pixel2wcs(psfstacks_nircam[0],ispsf=True)\n",
    "header_psfstacks,sci_psfstacks,err_psfstacks,dq_psfstacks,_,_ = get_hdu(psfstacks_nircam,data='psf')\n",
    "filtrs = get_headers(header_psfstacks,'FILTER')\n",
    "instrume = get_headers(header_psfstacks,'INSTRUME')\n",
    "targprop = get_headers(header_psfstacks,'TARGPROP')\n",
    "program = get_headers(header_psfstacks,'PROGRAM')\n",
    "\n",
    "plot_psfstack(psfstack=sci_psfstacks,\n",
    "              ncol=9,\n",
    "              nrow=2,\n",
    "              title='PSFSTACK',\n",
    "              w=world_coords,\n",
    "              axis_points=axis_points,\n",
    "              filtrs=filtrs,\n",
    "              instrume=instrume,\n",
    "              program=program,\n",
    "              targprop=targprop\n",
    "              )"
   ]
  },
  {
   "attachments": {},
   "cell_type": "markdown",
   "id": "85c78fbb-20a9-48a7-9224-a268ab98749f",
   "metadata": {},
   "source": [
    "# Proposal ID 1412"
   ]
  },
  {
   "cell_type": "code",
   "execution_count": null,
   "id": "2aba9ffc-cffd-47ec-9e49-c54d276764c3",
   "metadata": {},
   "outputs": [],
   "source": [
    "PROPOSAL_ID = '1412'\n",
    "directory_1412_nircam = f'/home/sarperyn/sarperyurtseven/ProjectFiles/dataset/NIRCAM/{PROPOSAL_ID}/mastDownload/JWST/'"
   ]
  },
  {
   "cell_type": "code",
   "execution_count": null,
   "id": "5a5c8e18-2e84-43d3-8930-f785076b3098",
   "metadata": {},
   "outputs": [],
   "source": [
    "psfaligns_nircam = get_stage3_products(suffix='psfalign',directory=directory_1412_nircam)\n",
    "psfsubs_nircam = get_stage3_products(suffix='psfsub',directory=directory_1412_nircam)\n",
    "psfstacks_nircam = get_stage3_products(suffix='psfstack',directory=directory_1412_nircam)\n",
    "crfints_nircam = get_stage3_products(suffix='crfints',directory=directory_1412_nircam)\n",
    "i2ds_nircam = get_stage3_products(suffix='i2d',directory=directory_1412_nircam)"
   ]
  },
  {
   "cell_type": "code",
   "execution_count": null,
   "id": "d1447d5f-2838-47b3-b826-23c27e22a466",
   "metadata": {},
   "outputs": [],
   "source": [
    "print('PSFSTACK:',len(psfstacks_nircam))\n",
    "print('I2D:',len(i2ds_nircam))\n",
    "print('CRFINT:',len(crfints_nircam))\n",
    "print('PSFSUB:',len(psfsubs_nircam))\n",
    "print('PSFALIGN:',len(psfaligns_nircam))"
   ]
  },
  {
   "cell_type": "code",
   "execution_count": null,
   "id": "72d7c2ca-ee4e-416f-8a01-9cfb8382aca7",
   "metadata": {},
   "outputs": [],
   "source": [
    "header_psfstacks,sci_psfstacks,err_psfstacks,dq_psfstacks,_,_ = get_hdu(psfstacks_nircam,data='psf')\n",
    "filtrs = get_headers(header_psfstacks,'FILTER')"
   ]
  },
  {
   "cell_type": "code",
   "execution_count": null,
   "id": "646a5fc2-9aed-4ca2-8040-890ba915b066",
   "metadata": {},
   "outputs": [],
   "source": [
    "world_coords, axis_points = pixel2wcs(psfstacks_nircam[0],ispsf=True)\n",
    "header_psfstacks,sci_psfstacks,err_psfstacks,dq_psfstacks,_,_ = get_hdu(psfstacks_nircam,data='psf')\n",
    "filtrs = get_headers(header_psfstacks,'FILTER')\n",
    "instrume = get_headers(header_psfstacks,'INSTRUME')\n",
    "targprop = get_headers(header_psfstacks,'TARGPROP')\n",
    "program = get_headers(header_psfstacks,'PROGRAM')\n",
    "\n",
    "plot_psfstack(psfstack=sci_psfstacks,\n",
    "              ncol=9,\n",
    "              nrow=2,\n",
    "              title='PSFSTACK',\n",
    "              w=world_coords,\n",
    "              axis_points=axis_points,\n",
    "              filtrs=filtrs,\n",
    "              instrume=instrume,\n",
    "              program=program,\n",
    "              targprop=targprop\n",
    "              )"
   ]
  },
  {
   "cell_type": "code",
   "execution_count": null,
   "id": "9d2c5708-3492-4119-b6cb-81260ed59b95",
   "metadata": {},
   "outputs": [],
   "source": []
  }
 ],
 "metadata": {
  "kernelspec": {
   "display_name": "Python 3",
   "language": "python",
   "name": "python3"
  },
  "language_info": {
   "codemirror_mode": {
    "name": "ipython",
    "version": 3
   },
   "file_extension": ".py",
   "mimetype": "text/x-python",
   "name": "python",
   "nbconvert_exporter": "python",
   "pygments_lexer": "ipython3",
   "version": "3.10.8"
  }
 },
 "nbformat": 4,
 "nbformat_minor": 5
}

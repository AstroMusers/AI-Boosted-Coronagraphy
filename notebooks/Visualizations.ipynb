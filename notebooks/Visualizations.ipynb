{
 "cells": [
  {
   "cell_type": "code",
   "execution_count": 1,
   "id": "9b823195-c6e1-4522-b471-d63db5a65ee6",
   "metadata": {},
   "outputs": [
    {
     "name": "stdout",
     "output_type": "stream",
     "text": [
      "1.10.2\n"
     ]
    }
   ],
   "source": [
    "from glob import glob\n",
    "import numpy as np\n",
    "import math\n",
    "import sys\n",
    "import os\n",
    "sys.path.append(os.path.dirname(os.getcwd()))\n",
    "from astropy.io import fits\n",
    "from scripts.visualization_helpers import *\n",
    "import jwst\n",
    "print(jwst.__version__)"
   ]
  },
  {
   "cell_type": "code",
   "execution_count": 1,
   "id": "0d99b233",
   "metadata": {},
   "outputs": [
    {
     "data": {
      "text/plain": [
       "1220000.0"
      ]
     },
     "execution_count": 1,
     "metadata": {},
     "output_type": "execute_result"
    }
   ],
   "source": [
    "1e+3*610*2"
   ]
  },
  {
   "cell_type": "code",
   "execution_count": 2,
   "id": "3459397b-54bd-4a12-ab64-bc691aebd207",
   "metadata": {},
   "outputs": [],
   "source": [
    "import matplotlib.pyplot as plt\n",
    "from matplotlib import rcParams\n",
    "import matplotlib as mpl\n",
    "%matplotlib inline\n",
    "\n",
    "# figure sizes and resolutions\n",
    "rcParams['figure.figsize'] = [10,10]\n",
    "rcParams['figure.dpi'] = 80\n",
    "rcParams['savefig.dpi'] = 80\n",
    "\n",
    "COLOR = 'white'\n",
    "mpl.rcParams['text.color'] = COLOR\n",
    "mpl.rcParams['axes.labelcolor'] = COLOR\n",
    "mpl.rcParams['xtick.color'] = COLOR\n",
    "mpl.rcParams['ytick.color'] = COLOR\n",
    "\n",
    "cmap = plt.get_cmap('summer')\n",
    "cmaplist = [cmap(i) for i in range(cmap.N)]\n",
    "\n",
    "# create the new map\n",
    "cmap = cmap.from_list('Custom cmap', cmaplist[0:], cmap.N)\n"
   ]
  },
  {
   "cell_type": "code",
   "execution_count": 3,
   "id": "ed39a693",
   "metadata": {},
   "outputs": [
    {
     "data": {
      "text/plain": [
       "['1550',\n",
       " '1184',\n",
       " '1412',\n",
       " '1189',\n",
       " '4454',\n",
       " '1194',\n",
       " '1411',\n",
       " '1482',\n",
       " '4498',\n",
       " '3989',\n",
       " '1193',\n",
       " '4558',\n",
       " '1386',\n",
       " '4497',\n",
       " '1563',\n",
       " '4452',\n",
       " '1075',\n",
       " '4050',\n",
       " '2780',\n",
       " '1441',\n",
       " '2278',\n",
       " '3840',\n",
       " '4451']"
      ]
     },
     "execution_count": 3,
     "metadata": {},
     "output_type": "execute_result"
    }
   ],
   "source": [
    "pids = [pid.split('/')[-1] for pid in glob.glob('/data/scratch/bariskurtkaya/dataset/NIRCAM/*')]\n",
    "pids"
   ]
  },
  {
   "cell_type": "code",
   "execution_count": 11,
   "id": "1f4f28f1",
   "metadata": {},
   "outputs": [
    {
     "data": {
      "text/plain": [
       "0.06259530358142339"
      ]
     },
     "execution_count": 11,
     "metadata": {},
     "output_type": "execute_result"
    }
   ],
   "source": [
    "np.sqrt(fits.open(glob.glob('/data/scratch/bariskurtkaya/dataset/NIRCAM/1386/mastDownload/JWST/*psfstack.fits')[0])[1].header['PIXAR_A2'])"
   ]
  },
  {
   "cell_type": "code",
   "execution_count": null,
   "id": "36237bdd",
   "metadata": {},
   "outputs": [],
   "source": [
    "for pid in sorted(pids):\n",
    "    print(f\"{pid}\")\n",
    "    for suffix in ['rateints','calints','crfints','psfstack','psfsub','i2d']:\n",
    "        directory           = f'/data/scratch/bariskurtkaya/dataset/NIRCAM/{pid}/mastDownload/JWST/'\n",
    "        visualizer_psfstack = FITSVisualizer(directory=directory, suffix=suffix)\n",
    "        products = visualizer_psfstack.get_products()\n",
    "    \n",
    "    print(\"######################################\")\n",
    "\n",
    "    "
   ]
  },
  {
   "cell_type": "code",
   "execution_count": null,
   "id": "2a543685-3f4a-4993-8dd5-67315640b935",
   "metadata": {},
   "outputs": [],
   "source": [
    "PROPOSAL_ID = '1412'\n",
    "directory = f'/data/scratch/bariskurtkaya/dataset/NIRCAM/{PROPOSAL_ID}/mastDownload/JWST/'"
   ]
  },
  {
   "cell_type": "code",
   "execution_count": null,
   "id": "07be96a2",
   "metadata": {},
   "outputs": [],
   "source": [
    "fits_visualizer = FITSVisualizer(directory=directory, suffix='psfstack')"
   ]
  },
  {
   "cell_type": "code",
   "execution_count": null,
   "id": "48d5a43a",
   "metadata": {},
   "outputs": [],
   "source": [
    "things = fits_visualizer.get_things()"
   ]
  },
  {
   "cell_type": "code",
   "execution_count": null,
   "id": "26dbd481",
   "metadata": {},
   "outputs": [],
   "source": [
    "things['sci_array'][0].shape"
   ]
  },
  {
   "cell_type": "code",
   "execution_count": null,
   "id": "f71d2ec7",
   "metadata": {},
   "outputs": [],
   "source": [
    "fits_visualizer.plot()"
   ]
  },
  {
   "cell_type": "code",
   "execution_count": null,
   "id": "06f93a3f",
   "metadata": {},
   "outputs": [],
   "source": []
  }
 ],
 "metadata": {
  "kernelspec": {
   "display_name": "Python 3",
   "language": "python",
   "name": "python3"
  },
  "language_info": {
   "codemirror_mode": {
    "name": "ipython",
    "version": 3
   },
   "file_extension": ".py",
   "mimetype": "text/x-python",
   "name": "python",
   "nbconvert_exporter": "python",
   "pygments_lexer": "ipython3",
   "version": "3.9.16"
  }
 },
 "nbformat": 4,
 "nbformat_minor": 5
}

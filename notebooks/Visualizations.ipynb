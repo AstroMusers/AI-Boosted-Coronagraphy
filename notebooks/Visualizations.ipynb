{
 "cells": [
  {
   "cell_type": "code",
   "execution_count": null,
   "id": "9b823195-c6e1-4522-b471-d63db5a65ee6",
   "metadata": {},
   "outputs": [],
   "source": [
    "from glob import glob\n",
    "import numpy as np\n",
    "import math\n",
    "import sys\n",
    "import os\n",
    "sys.path.append(os.path.dirname(os.getcwd()))\n",
    "from astropy.io import fits\n",
    "from scripts.visualization_helpers import *\n",
    "import jwst\n",
    "print(jwst.__version__)"
   ]
  },
  {
   "cell_type": "code",
   "execution_count": null,
   "id": "3459397b-54bd-4a12-ab64-bc691aebd207",
   "metadata": {},
   "outputs": [],
   "source": [
    "import matplotlib.pyplot as plt\n",
    "from matplotlib import rcParams\n",
    "import matplotlib as mpl\n",
    "%matplotlib inline\n",
    "\n",
    "# figure sizes and resolutions\n",
    "rcParams['figure.figsize'] = [10,10]\n",
    "rcParams['figure.dpi'] = 80\n",
    "rcParams['savefig.dpi'] = 80\n",
    "\n",
    "COLOR = 'white'\n",
    "mpl.rcParams['text.color'] = COLOR\n",
    "mpl.rcParams['axes.labelcolor'] = COLOR\n",
    "mpl.rcParams['xtick.color'] = COLOR\n",
    "mpl.rcParams['ytick.color'] = COLOR\n",
    "\n",
    "cmap = plt.get_cmap('summer')\n",
    "cmaplist = [cmap(i) for i in range(cmap.N)]\n",
    "\n",
    "# create the new map\n",
    "cmap = cmap.from_list('Custom cmap', cmaplist[0:], cmap.N)\n"
   ]
  },
  {
   "cell_type": "code",
   "execution_count": null,
   "id": "2a543685-3f4a-4993-8dd5-67315640b935",
   "metadata": {},
   "outputs": [],
   "source": [
    "PROPOSAL_ID = '1386'\n",
    "INSTRUMENT = 'NIRCAM'"
   ]
  },
  {
   "cell_type": "code",
   "execution_count": null,
   "id": "9db7b8b3-14d0-495f-8957-84bfc7476867",
   "metadata": {},
   "outputs": [],
   "source": [
    "directory_1386_nircam = f'/data/scratch/bariskurtkaya/dataset/{INSTRUMENT}/{PROPOSAL_ID}/mastDownload/JWST/'"
   ]
  },
  {
   "cell_type": "code",
   "execution_count": null,
   "id": "07be96a2",
   "metadata": {},
   "outputs": [],
   "source": [
    "fits_visualizer_psfstack = FITSVisualizer(directory=directory_1386_nircam, suffix='psfstack')\n",
    "fits_visualizer_i2d = FITSVisualizer(directory=directory_1386_nircam, suffix='i2d')\n",
    "fits_visualizer_psfsub =  FITSVisualizer(directory=directory_1386_nircam, suffix='psfsub')"
   ]
  },
  {
   "cell_type": "code",
   "execution_count": null,
   "id": "81b91006",
   "metadata": {},
   "outputs": [],
   "source": [
    "#fits_visualizer_i2d.plot()"
   ]
  },
  {
   "cell_type": "code",
   "execution_count": null,
   "id": "f71d2ec7",
   "metadata": {},
   "outputs": [],
   "source": [
    "fits_visualizer_psfsub.plot()"
   ]
  },
  {
   "cell_type": "code",
   "execution_count": null,
   "id": "284565c5",
   "metadata": {},
   "outputs": [],
   "source": []
  },
  {
   "cell_type": "code",
   "execution_count": null,
   "id": "42371dbb",
   "metadata": {},
   "outputs": [],
   "source": []
  }
 ],
 "metadata": {
  "kernelspec": {
   "display_name": "Python 3",
   "language": "python",
   "name": "python3"
  },
  "language_info": {
   "codemirror_mode": {
    "name": "ipython",
    "version": 3
   },
   "file_extension": ".py",
   "mimetype": "text/x-python",
   "name": "python",
   "nbconvert_exporter": "python",
   "pygments_lexer": "ipython3",
   "version": "3.9.16"
  }
 },
 "nbformat": 4,
 "nbformat_minor": 5
}

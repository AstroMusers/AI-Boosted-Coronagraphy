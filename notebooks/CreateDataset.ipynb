{
 "cells": [
  {
   "cell_type": "code",
   "execution_count": 16,
   "id": "bd61c77f-0b4c-4b82-a958-7787f1d3d9fc",
   "metadata": {},
   "outputs": [],
   "source": [
    "from astropy.io import fits\n",
    "from glob import glob\n",
    "import os\n",
    "import matplotlib as mpl\n",
    "from mpl_toolkits import mplot3d\n",
    "import numpy as np\n",
    "import matplotlib.pyplot as plt\n",
    "from mpl_toolkits.axes_grid1 import ImageGrid\n",
    "from jwst import datamodels\n",
    "from itertools import product\n",
    "import itertools\n",
    "from astropy.wcs import WCS\n",
    "import math\n",
    "from IPython.display import display"
   ]
  },
  {
   "cell_type": "code",
   "execution_count": 17,
   "id": "3eccca64-5f80-47d4-949f-c7b34ad64010",
   "metadata": {},
   "outputs": [],
   "source": [
    "import h5py"
   ]
  },
  {
   "cell_type": "code",
   "execution_count": 18,
   "id": "013fa2d1-a14d-4dde-9d6c-32182ba45c53",
   "metadata": {},
   "outputs": [],
   "source": [
    "def get_lower_products(suffix,directory):\n",
    "    return glob(os.path.join(directory, f'**/*{suffix}.fits'))"
   ]
  },
  {
   "cell_type": "code",
   "execution_count": 19,
   "id": "2caa0708-5bea-4990-92c5-4af15c44db41",
   "metadata": {},
   "outputs": [],
   "source": [
    "def get_stage3_products(suffix,directory):\n",
    "    return glob(os.path.join(directory, f'*{suffix}.fits'))"
   ]
  },
  {
   "cell_type": "code",
   "execution_count": 20,
   "id": "a6b8685a-e9d1-411f-bc6e-c908b7906a89",
   "metadata": {},
   "outputs": [],
   "source": [
    "def get_hdu(fits_,data):\n",
    "    \n",
    "    pri_data = []\n",
    "    sci_data = []\n",
    "    err_data = []\n",
    "    dq_data  = [] \n",
    "    con_data = []\n",
    "    wht_data = []\n",
    "\n",
    "    for i,path in enumerate(fits_):\n",
    "        fits_file = fits.open(path)\n",
    "        \n",
    "        if data == 'psf':\n",
    "            pri = fits_file[0].header\n",
    "            sci = fits_file[1].data\n",
    "            dq  = fits_file[2].data \n",
    "            err = fits_file[3].data\n",
    "            \n",
    "            dq_data.append(dq)\n",
    "            \n",
    "        elif data == 'i2d':\n",
    "            \n",
    "            pri = fits_file[0].header\n",
    "            sci = fits_file[1].data\n",
    "            err = fits_file[2].data \n",
    "            con = fits_file[3].data\n",
    "            wht = fits_file[4].data\n",
    "                \n",
    "            con_data.append(con)\n",
    "            wht_data.append(wht)\n",
    "            \n",
    "        elif data == 'psfsub':\n",
    "            \n",
    "            pri = fits_file[0].header\n",
    "            sci = fits_file[1].data\n",
    "            err = fits_file[2].data \n",
    "            dq  = fits_file[3].data\n",
    "            \n",
    "            dq_data.append(dq)\n",
    "            \n",
    "        pri_data.append(pri)\n",
    "        sci_data.append(sci)\n",
    "        err_data.append(err)\n",
    "\n",
    "        \n",
    "    return pri_data,sci_data,err_data,dq_data,con_data,wht_data"
   ]
  },
  {
   "cell_type": "code",
   "execution_count": 21,
   "id": "7d4700d8-6c62-46a6-8ff4-942f667af719",
   "metadata": {},
   "outputs": [],
   "source": [
    "def get_filters(header):\n",
    "    \n",
    "    filtrs = []\n",
    "    for i in range(len(header)):\n",
    "        \n",
    "        filtrs.append(header[i]['FILTER'])\n",
    "    \n",
    "    return filtrs"
   ]
  },
  {
   "cell_type": "markdown",
   "id": "43a0b0b2-0d0d-4b68-82ac-50d7313aa506",
   "metadata": {},
   "source": [
    "## 1386"
   ]
  },
  {
   "cell_type": "markdown",
   "id": "5b02c2c9-12c8-413d-b200-3bf23a28139b",
   "metadata": {
    "tags": []
   },
   "source": [
    "### NIRCAM"
   ]
  },
  {
   "cell_type": "code",
   "execution_count": 22,
   "id": "e2b23014-ad91-4cda-b236-8a8e85960fb1",
   "metadata": {},
   "outputs": [],
   "source": [
    "INSTRUME = 'NIRCAM'"
   ]
  },
  {
   "cell_type": "code",
   "execution_count": 23,
   "id": "11509061-bfb6-4dc5-a12c-6398097d8647",
   "metadata": {},
   "outputs": [],
   "source": [
    "PROPOSAL_ID = '1386'"
   ]
  },
  {
   "cell_type": "code",
   "execution_count": 24,
   "id": "3ac4b468-a62a-4395-a46b-13069dccf6d0",
   "metadata": {},
   "outputs": [],
   "source": [
    "directory_1386_nircam = f'/home/sarperyn/sarperyurtseven/ProjectFiles/dataset/NIRCAM/{PROPOSAL_ID}/mastDownload/JWST/'"
   ]
  },
  {
   "cell_type": "code",
   "execution_count": 25,
   "id": "9c170b05-f94b-4df7-8ff7-f0cf5401e8af",
   "metadata": {},
   "outputs": [],
   "source": [
    "calints_nircam = get_lower_products(suffix='calints',directory=directory_1386_nircam)\n",
    "psfaligns_nircam = get_stage3_products(suffix='psfalign',directory=directory_1386_nircam)\n",
    "psfsubs_nircam = get_stage3_products(suffix='psfsub',directory=directory_1386_nircam)\n",
    "psfstacks_nircam = get_stage3_products(suffix='psfstack',directory=directory_1386_nircam)\n",
    "crfints_nircam = get_stage3_products(suffix='crfints',directory=directory_1386_nircam)\n",
    "i2ds_nircam = get_stage3_products(suffix='i2d',directory=directory_1386_nircam)"
   ]
  },
  {
   "cell_type": "code",
   "execution_count": 26,
   "id": "cbebe498-841d-4753-a16c-8dcd21095059",
   "metadata": {},
   "outputs": [],
   "source": [
    "header,sci,err,dq,con,wht = get_hdu(psfsubs_nircam,data='psfsub')"
   ]
  },
  {
   "cell_type": "code",
   "execution_count": 27,
   "id": "28653113-39e3-4994-9ce9-1cc199eadbc2",
   "metadata": {},
   "outputs": [
    {
     "name": "stdout",
     "output_type": "stream",
     "text": [
      "CALINTS: 64\n",
      "PSFSTACK: 5\n",
      "I2D: 5\n",
      "CRFINT: 55\n",
      "PSFSUB: 10\n",
      "PSFALIGN: 10\n"
     ]
    }
   ],
   "source": [
    "print('CALINTS:',len(calints_nircam))\n",
    "print('PSFSTACK:',len(psfstacks_nircam))\n",
    "print('I2D:',len(i2ds_nircam))\n",
    "print('CRFINT:',len(crfints_nircam))\n",
    "print('PSFSUB:',len(psfsubs_nircam))\n",
    "print('PSFALIGN:',len(psfaligns_nircam))"
   ]
  },
  {
   "cell_type": "code",
   "execution_count": 28,
   "id": "846d964f-46c6-471b-b1bb-cfc3622b117d",
   "metadata": {},
   "outputs": [],
   "source": [
    "def save_data(fits_dirs,instrume,proposal_id,suffix,hdu):\n",
    "    \n",
    "    if suffix == 'psfstack':\n",
    "        header,sci,err,dq,con,wht = get_hdu(fits_dirs,data='psf')\n",
    "    \n",
    "    elif suffix == 'i2d':\n",
    "        header,sci,err,dq,con,wht = get_hdu(fits_dirs,data='i2d')\n",
    "        \n",
    "    elif suffix == 'psfsub':\n",
    "        header,sci,err,dq,con,wht = get_hdu(fits_dirs,data='psfsub')\n",
    "    \n",
    "    filters = get_filters(header)\n",
    "    DIR = f'/home/sarperyn/sarperyurtseven/ProjectFiles/dataset/{instrume}/{proposal_id}/{proposal_id}_{suffix}_{hdu}.h5'\n",
    "    \n",
    "    with h5py.File(DIR,'w') as hf:\n",
    "    \n",
    "        if hdu == 'sci':\n",
    "            \n",
    "            for idx,arrays in enumerate(sci):\n",
    "                hf.create_dataset(f'sci_{filters[idx]}',data=arrays)    "
   ]
  },
  {
   "cell_type": "code",
   "execution_count": 29,
   "id": "9f2470f6-158b-4b81-bff1-c5070379bf9f",
   "metadata": {},
   "outputs": [
    {
     "ename": "ValueError",
     "evalue": "Unable to create dataset (name already exists)",
     "output_type": "error",
     "traceback": [
      "\u001b[0;31m---------------------------------------------------------------------------\u001b[0m",
      "\u001b[0;31mValueError\u001b[0m                                Traceback (most recent call last)",
      "Cell \u001b[0;32mIn [29], line 11\u001b[0m\n\u001b[1;32m      1\u001b[0m save_data(fits_dirs\u001b[38;5;241m=\u001b[39mpsfstacks_nircam,\n\u001b[1;32m      2\u001b[0m           instrume\u001b[38;5;241m=\u001b[39mINSTRUME,\n\u001b[1;32m      3\u001b[0m           proposal_id\u001b[38;5;241m=\u001b[39mPROPOSAL_ID,\n\u001b[1;32m      4\u001b[0m           suffix\u001b[38;5;241m=\u001b[39m\u001b[38;5;124m'\u001b[39m\u001b[38;5;124mpsfstack\u001b[39m\u001b[38;5;124m'\u001b[39m,\n\u001b[1;32m      5\u001b[0m           hdu\u001b[38;5;241m=\u001b[39m\u001b[38;5;124m'\u001b[39m\u001b[38;5;124msci\u001b[39m\u001b[38;5;124m'\u001b[39m)\n\u001b[1;32m      6\u001b[0m save_data(fits_dirs\u001b[38;5;241m=\u001b[39mi2ds_nircam,\n\u001b[1;32m      7\u001b[0m           instrume\u001b[38;5;241m=\u001b[39mINSTRUME,\n\u001b[1;32m      8\u001b[0m           proposal_id\u001b[38;5;241m=\u001b[39mPROPOSAL_ID,\n\u001b[1;32m      9\u001b[0m           suffix\u001b[38;5;241m=\u001b[39m\u001b[38;5;124m'\u001b[39m\u001b[38;5;124mi2d\u001b[39m\u001b[38;5;124m'\u001b[39m,\n\u001b[1;32m     10\u001b[0m           hdu\u001b[38;5;241m=\u001b[39m\u001b[38;5;124m'\u001b[39m\u001b[38;5;124msci\u001b[39m\u001b[38;5;124m'\u001b[39m)\n\u001b[0;32m---> 11\u001b[0m \u001b[43msave_data\u001b[49m\u001b[43m(\u001b[49m\u001b[43mfits_dirs\u001b[49m\u001b[38;5;241;43m=\u001b[39;49m\u001b[43mpsfsubs_nircam\u001b[49m\u001b[43m,\u001b[49m\n\u001b[1;32m     12\u001b[0m \u001b[43m          \u001b[49m\u001b[43minstrume\u001b[49m\u001b[38;5;241;43m=\u001b[39;49m\u001b[43mINSTRUME\u001b[49m\u001b[43m,\u001b[49m\n\u001b[1;32m     13\u001b[0m \u001b[43m          \u001b[49m\u001b[43mproposal_id\u001b[49m\u001b[38;5;241;43m=\u001b[39;49m\u001b[43mPROPOSAL_ID\u001b[49m\u001b[43m,\u001b[49m\n\u001b[1;32m     14\u001b[0m \u001b[43m          \u001b[49m\u001b[43msuffix\u001b[49m\u001b[38;5;241;43m=\u001b[39;49m\u001b[38;5;124;43m'\u001b[39;49m\u001b[38;5;124;43mpsfsub\u001b[39;49m\u001b[38;5;124;43m'\u001b[39;49m\u001b[43m,\u001b[49m\n\u001b[1;32m     15\u001b[0m \u001b[43m          \u001b[49m\u001b[43mhdu\u001b[49m\u001b[38;5;241;43m=\u001b[39;49m\u001b[38;5;124;43m'\u001b[39;49m\u001b[38;5;124;43msci\u001b[39;49m\u001b[38;5;124;43m'\u001b[39;49m\u001b[43m)\u001b[49m\n",
      "Cell \u001b[0;32mIn [28], line 20\u001b[0m, in \u001b[0;36msave_data\u001b[0;34m(fits_dirs, instrume, proposal_id, suffix, hdu)\u001b[0m\n\u001b[1;32m     17\u001b[0m \u001b[38;5;28;01mif\u001b[39;00m hdu \u001b[38;5;241m==\u001b[39m \u001b[38;5;124m'\u001b[39m\u001b[38;5;124msci\u001b[39m\u001b[38;5;124m'\u001b[39m:\n\u001b[1;32m     19\u001b[0m     \u001b[38;5;28;01mfor\u001b[39;00m idx,arrays \u001b[38;5;129;01min\u001b[39;00m \u001b[38;5;28menumerate\u001b[39m(sci):\n\u001b[0;32m---> 20\u001b[0m         \u001b[43mhf\u001b[49m\u001b[38;5;241;43m.\u001b[39;49m\u001b[43mcreate_dataset\u001b[49m\u001b[43m(\u001b[49m\u001b[38;5;124;43mf\u001b[39;49m\u001b[38;5;124;43m'\u001b[39;49m\u001b[38;5;124;43msci_\u001b[39;49m\u001b[38;5;132;43;01m{\u001b[39;49;00m\u001b[43mfilters\u001b[49m\u001b[43m[\u001b[49m\u001b[43midx\u001b[49m\u001b[43m]\u001b[49m\u001b[38;5;132;43;01m}\u001b[39;49;00m\u001b[38;5;124;43m'\u001b[39;49m\u001b[43m,\u001b[49m\u001b[43mdata\u001b[49m\u001b[38;5;241;43m=\u001b[39;49m\u001b[43marrays\u001b[49m\u001b[43m)\u001b[49m\n",
      "File \u001b[0;32m~/miniconda3/envs/jwst-dev/lib/python3.10/site-packages/h5py/_hl/group.py:161\u001b[0m, in \u001b[0;36mGroup.create_dataset\u001b[0;34m(self, name, shape, dtype, data, **kwds)\u001b[0m\n\u001b[1;32m    158\u001b[0m         parent_path, name \u001b[38;5;241m=\u001b[39m name\u001b[38;5;241m.\u001b[39mrsplit(\u001b[38;5;124mb\u001b[39m\u001b[38;5;124m'\u001b[39m\u001b[38;5;124m/\u001b[39m\u001b[38;5;124m'\u001b[39m, \u001b[38;5;241m1\u001b[39m)\n\u001b[1;32m    159\u001b[0m         group \u001b[38;5;241m=\u001b[39m \u001b[38;5;28mself\u001b[39m\u001b[38;5;241m.\u001b[39mrequire_group(parent_path)\n\u001b[0;32m--> 161\u001b[0m dsid \u001b[38;5;241m=\u001b[39m \u001b[43mdataset\u001b[49m\u001b[38;5;241;43m.\u001b[39;49m\u001b[43mmake_new_dset\u001b[49m\u001b[43m(\u001b[49m\u001b[43mgroup\u001b[49m\u001b[43m,\u001b[49m\u001b[43m \u001b[49m\u001b[43mshape\u001b[49m\u001b[43m,\u001b[49m\u001b[43m \u001b[49m\u001b[43mdtype\u001b[49m\u001b[43m,\u001b[49m\u001b[43m \u001b[49m\u001b[43mdata\u001b[49m\u001b[43m,\u001b[49m\u001b[43m \u001b[49m\u001b[43mname\u001b[49m\u001b[43m,\u001b[49m\u001b[43m \u001b[49m\u001b[38;5;241;43m*\u001b[39;49m\u001b[38;5;241;43m*\u001b[39;49m\u001b[43mkwds\u001b[49m\u001b[43m)\u001b[49m\n\u001b[1;32m    162\u001b[0m dset \u001b[38;5;241m=\u001b[39m dataset\u001b[38;5;241m.\u001b[39mDataset(dsid)\n\u001b[1;32m    163\u001b[0m \u001b[38;5;28;01mreturn\u001b[39;00m dset\n",
      "File \u001b[0;32m~/miniconda3/envs/jwst-dev/lib/python3.10/site-packages/h5py/_hl/dataset.py:156\u001b[0m, in \u001b[0;36mmake_new_dset\u001b[0;34m(parent, shape, dtype, data, name, chunks, compression, shuffle, fletcher32, maxshape, compression_opts, fillvalue, scaleoffset, track_times, external, track_order, dcpl, dapl, efile_prefix, virtual_prefix, allow_unknown_filter)\u001b[0m\n\u001b[1;32m    152\u001b[0m \u001b[38;5;28;01melse\u001b[39;00m:\n\u001b[1;32m    153\u001b[0m     sid \u001b[38;5;241m=\u001b[39m h5s\u001b[38;5;241m.\u001b[39mcreate_simple(shape, maxshape)\n\u001b[0;32m--> 156\u001b[0m dset_id \u001b[38;5;241m=\u001b[39m \u001b[43mh5d\u001b[49m\u001b[38;5;241;43m.\u001b[39;49m\u001b[43mcreate\u001b[49m\u001b[43m(\u001b[49m\u001b[43mparent\u001b[49m\u001b[38;5;241;43m.\u001b[39;49m\u001b[43mid\u001b[49m\u001b[43m,\u001b[49m\u001b[43m \u001b[49m\u001b[43mname\u001b[49m\u001b[43m,\u001b[49m\u001b[43m \u001b[49m\u001b[43mtid\u001b[49m\u001b[43m,\u001b[49m\u001b[43m \u001b[49m\u001b[43msid\u001b[49m\u001b[43m,\u001b[49m\u001b[43m \u001b[49m\u001b[43mdcpl\u001b[49m\u001b[38;5;241;43m=\u001b[39;49m\u001b[43mdcpl\u001b[49m\u001b[43m,\u001b[49m\u001b[43m \u001b[49m\u001b[43mdapl\u001b[49m\u001b[38;5;241;43m=\u001b[39;49m\u001b[43mdapl\u001b[49m\u001b[43m)\u001b[49m\n\u001b[1;32m    158\u001b[0m \u001b[38;5;28;01mif\u001b[39;00m (data \u001b[38;5;129;01mis\u001b[39;00m \u001b[38;5;129;01mnot\u001b[39;00m \u001b[38;5;28;01mNone\u001b[39;00m) \u001b[38;5;129;01mand\u001b[39;00m (\u001b[38;5;129;01mnot\u001b[39;00m \u001b[38;5;28misinstance\u001b[39m(data, Empty)):\n\u001b[1;32m    159\u001b[0m     dset_id\u001b[38;5;241m.\u001b[39mwrite(h5s\u001b[38;5;241m.\u001b[39mALL, h5s\u001b[38;5;241m.\u001b[39mALL, data)\n",
      "File \u001b[0;32mh5py/_objects.pyx:54\u001b[0m, in \u001b[0;36mh5py._objects.with_phil.wrapper\u001b[0;34m()\u001b[0m\n",
      "File \u001b[0;32mh5py/_objects.pyx:55\u001b[0m, in \u001b[0;36mh5py._objects.with_phil.wrapper\u001b[0;34m()\u001b[0m\n",
      "File \u001b[0;32mh5py/h5d.pyx:87\u001b[0m, in \u001b[0;36mh5py.h5d.create\u001b[0;34m()\u001b[0m\n",
      "\u001b[0;31mValueError\u001b[0m: Unable to create dataset (name already exists)"
     ]
    }
   ],
   "source": [
    "save_data(fits_dirs=psfstacks_nircam,\n",
    "          instrume=INSTRUME,\n",
    "          proposal_id=PROPOSAL_ID,\n",
    "          suffix='psfstack',\n",
    "          hdu='sci')\n",
    "save_data(fits_dirs=i2ds_nircam,\n",
    "          instrume=INSTRUME,\n",
    "          proposal_id=PROPOSAL_ID,\n",
    "          suffix='i2d',\n",
    "          hdu='sci')\n",
    "save_data(fits_dirs=psfsubs_nircam,\n",
    "          instrume=INSTRUME,\n",
    "          proposal_id=PROPOSAL_ID,\n",
    "          suffix='psfsub',\n",
    "          hdu='sci')"
   ]
  },
  {
   "cell_type": "code",
   "execution_count": 39,
   "id": "a83a54e4-5754-4c7b-be27-5e5019dc8cba",
   "metadata": {},
   "outputs": [],
   "source": [
    "PROPOSAL_ID = '1441'"
   ]
  },
  {
   "cell_type": "code",
   "execution_count": 40,
   "id": "eb9417ad-b629-4dd2-b238-eaf07c3e3cfb",
   "metadata": {},
   "outputs": [],
   "source": [
    "directory_1441_nircam = f'/home/sarperyn/sarperyurtseven/ProjectFiles/dataset/NIRCAM/{PROPOSAL_ID}/mastDownload/JWST/'"
   ]
  },
  {
   "cell_type": "code",
   "execution_count": 17,
   "id": "0d32a877-b4dc-4f21-b8f6-f1765087b2a5",
   "metadata": {},
   "outputs": [],
   "source": [
    "calints_nircam = get_lower_products(suffix='calints',directory=directory_1441_nircam)\n",
    "psfaligns_nircam = get_stage3_products(suffix='psfalign',directory=directory_1441_nircam)\n",
    "psfsubs_nircam = get_stage3_products(suffix='psfsub',directory=directory_1441_nircam)\n",
    "psfstacks_nircam = get_stage3_products(suffix='psfstack',directory=directory_1441_nircam)\n",
    "crfints_nircam = get_stage3_products(suffix='crfints',directory=directory_1441_nircam)\n",
    "i2ds_nircam = get_stage3_products(suffix='i2d',directory=directory_1441_nircam)"
   ]
  },
  {
   "cell_type": "code",
   "execution_count": 18,
   "id": "fde105c2-d93d-40e4-8236-e3f018ff2347",
   "metadata": {},
   "outputs": [
    {
     "name": "stdout",
     "output_type": "stream",
     "text": [
      "CALINTS: 90\n",
      "PSFSTACK: 3\n",
      "I2D: 3\n",
      "CRFINT: 63\n",
      "PSFSUB: 6\n",
      "PSFALIGN: 6\n"
     ]
    }
   ],
   "source": [
    "print('CALINTS:',len(calints_nircam))\n",
    "print('PSFSTACK:',len(psfstacks_nircam))\n",
    "print('I2D:',len(i2ds_nircam))\n",
    "print('CRFINT:',len(crfints_nircam))\n",
    "print('PSFSUB:',len(psfsubs_nircam))\n",
    "print('PSFALIGN:',len(psfaligns_nircam))"
   ]
  },
  {
   "cell_type": "code",
   "execution_count": 18,
   "id": "fd011cae-d6b5-4cbe-9e46-eb532186199b",
   "metadata": {},
   "outputs": [],
   "source": [
    "save_data(fits_dirs=psfstacks_nircam,\n",
    "          instrume=INSTRUME,\n",
    "          proposal_id=PROPOSAL_ID,\n",
    "          suffix='psfstack',\n",
    "          hdu='sci')\n",
    "save_data(fits_dirs=i2ds_nircam,\n",
    "          instrume=INSTRUME,\n",
    "          proposal_id=PROPOSAL_ID,\n",
    "          suffix='i2d',\n",
    "          hdu='sci')\n",
    "save_data(fits_dirs=psfsubs_nircam,\n",
    "          instrume=INSTRUME,\n",
    "          proposal_id=PROPOSAL_ID,\n",
    "          suffix='psfsub',\n",
    "          hdu='sci')"
   ]
  },
  {
   "cell_type": "code",
   "execution_count": null,
   "id": "4d342e18-9132-4b9a-a980-a30f89371cb2",
   "metadata": {},
   "outputs": [],
   "source": []
  }
 ],
 "metadata": {
  "kernelspec": {
   "display_name": "Python 3 (ipykernel)",
   "language": "python",
   "name": "python3"
  },
  "language_info": {
   "codemirror_mode": {
    "name": "ipython",
    "version": 3
   },
   "file_extension": ".py",
   "mimetype": "text/x-python",
   "name": "python",
   "nbconvert_exporter": "python",
   "pygments_lexer": "ipython3",
   "version": "3.10.8"
  }
 },
 "nbformat": 4,
 "nbformat_minor": 5
}

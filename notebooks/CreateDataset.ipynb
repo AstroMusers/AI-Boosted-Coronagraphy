{
 "cells": [
  {
   "cell_type": "code",
   "execution_count": 1,
   "id": "bd61c77f-0b4c-4b82-a958-7787f1d3d9fc",
   "metadata": {},
   "outputs": [],
   "source": [
    "from astropy.io import fits\n",
    "from glob import glob\n",
    "import os\n",
    "import matplotlib as mpl\n",
    "import numpy as np\n",
    "import matplotlib.pyplot as plt\n",
    "from jwst import datamodels\n",
    "import math\n",
    "from IPython.display import display\n",
    "from visualization_helpers import get_headers"
   ]
  },
  {
   "cell_type": "code",
   "execution_count": 2,
   "id": "013fa2d1-a14d-4dde-9d6c-32182ba45c53",
   "metadata": {},
   "outputs": [],
   "source": [
    "def get_lower_products(suffix,directory):\n",
    "    return glob(os.path.join(directory, f'**/*{suffix}.fits'))"
   ]
  },
  {
   "cell_type": "code",
   "execution_count": 3,
   "id": "2caa0708-5bea-4990-92c5-4af15c44db41",
   "metadata": {},
   "outputs": [],
   "source": [
    "def get_stage3_products(suffix,directory):\n",
    "    return glob(os.path.join(directory, f'*{suffix}.fits'))"
   ]
  },
  {
   "cell_type": "code",
   "execution_count": 4,
   "id": "a6b8685a-e9d1-411f-bc6e-c908b7906a89",
   "metadata": {},
   "outputs": [],
   "source": [
    "def get_hdu(fits_,data):\n",
    "    \n",
    "    pri_data = []\n",
    "    sci_data = []\n",
    "    err_data = []\n",
    "    dq_data  = [] \n",
    "    con_data = []\n",
    "    wht_data = []\n",
    "\n",
    "    for i,path in enumerate(fits_):\n",
    "        fits_file = fits.open(path)\n",
    "        \n",
    "        if data == 'psf':\n",
    "            pri = fits_file[0].header\n",
    "            sci = fits_file[1].data\n",
    "            dq  = fits_file[2].data \n",
    "            err = fits_file[3].data\n",
    "            \n",
    "            dq_data.append(dq)\n",
    "            \n",
    "        elif data == 'i2d':\n",
    "            \n",
    "            pri = fits_file[0].header\n",
    "            sci = fits_file[1].data\n",
    "            err = fits_file[2].data \n",
    "            con = fits_file[3].data\n",
    "            wht = fits_file[4].data\n",
    "                \n",
    "            con_data.append(con)\n",
    "            wht_data.append(wht)\n",
    "            \n",
    "        elif data == 'psfsub':\n",
    "            \n",
    "            pri = fits_file[0].header\n",
    "            sci = fits_file[1].data\n",
    "            err = fits_file[2].data \n",
    "            dq  = fits_file[3].data\n",
    "            \n",
    "            dq_data.append(dq)\n",
    "            \n",
    "        pri_data.append(pri)\n",
    "        sci_data.append(sci)\n",
    "        err_data.append(err)\n",
    "\n",
    "        \n",
    "    return pri_data,sci_data,err_data,dq_data,con_data,wht_data"
   ]
  },
  {
   "cell_type": "code",
   "execution_count": 5,
   "id": "3c8b3949",
   "metadata": {},
   "outputs": [],
   "source": [
    "def get_hdu_data(fits_dirs,suffix):\n",
    "    \n",
    "    if suffix == 'psfstack':\n",
    "        header,sci,err,dq,con,wht = get_hdu(fits_dirs,data='psf')\n",
    "    \n",
    "    elif suffix == 'i2d':\n",
    "        header,sci,err,dq,con,wht = get_hdu(fits_dirs,data='i2d')\n",
    "        \n",
    "    elif suffix == 'psfsub':\n",
    "        header,sci,err,dq,con,wht = get_hdu(fits_dirs,data='psfsub')\n",
    "\n",
    "\n",
    "    hdu_dict = {\n",
    "        'header':header,\n",
    "        'sci':sci,\n",
    "        'err':err,\n",
    "        'dq':dq,\n",
    "        'con':con,\n",
    "        'wht':wht\n",
    "    }\n",
    "    \n",
    "    return hdu_dict"
   ]
  },
  {
   "cell_type": "code",
   "execution_count": 34,
   "id": "1c569192",
   "metadata": {},
   "outputs": [],
   "source": [
    "def save_hdu_data(hdu_dict,instrume,proposal_id,suffix,hdu,header):\n",
    "    \n",
    "    filters = get_headers(header,'FILTER')\n",
    "    targets = get_headers(header,'TARGPROP')\n",
    "\n",
    "    data = hdu_dict[hdu]\n",
    "    DIR = f'/home/sarperyn/sarperyurtseven/ProjectFiles/real_dataset/{instrume}/{proposal_id}'\n",
    "    if not os.path.exists(DIR):\n",
    "        print('sss')\n",
    "        os.makedirs(DIR)\n",
    "\n",
    "    for i,d in enumerate(data):\n",
    "\n",
    "        np.save(os.path.join(DIR,f'{proposal_id}_{filters[i]}_{targets[i]}_{suffix}_{hdu}_{i}.npy'),d)"
   ]
  },
  {
   "attachments": {},
   "cell_type": "markdown",
   "id": "43a0b0b2-0d0d-4b68-82ac-50d7313aa506",
   "metadata": {},
   "source": [
    "## 1386"
   ]
  },
  {
   "attachments": {},
   "cell_type": "markdown",
   "id": "5b02c2c9-12c8-413d-b200-3bf23a28139b",
   "metadata": {
    "tags": []
   },
   "source": [
    "### NIRCAM"
   ]
  },
  {
   "cell_type": "code",
   "execution_count": 35,
   "id": "e2b23014-ad91-4cda-b236-8a8e85960fb1",
   "metadata": {},
   "outputs": [],
   "source": [
    "INSTRUME = 'NIRCAM'"
   ]
  },
  {
   "cell_type": "code",
   "execution_count": 36,
   "id": "11509061-bfb6-4dc5-a12c-6398097d8647",
   "metadata": {},
   "outputs": [],
   "source": [
    "PROPOSAL_ID = '1386'"
   ]
  },
  {
   "cell_type": "code",
   "execution_count": 37,
   "id": "3ac4b468-a62a-4395-a46b-13069dccf6d0",
   "metadata": {},
   "outputs": [],
   "source": [
    "directory_1386_nircam = f'/home/sarperyn/sarperyurtseven/ProjectFiles/dataset/NIRCAM/{PROPOSAL_ID}/mastDownload/JWST/'"
   ]
  },
  {
   "cell_type": "code",
   "execution_count": 38,
   "id": "9c170b05-f94b-4df7-8ff7-f0cf5401e8af",
   "metadata": {},
   "outputs": [],
   "source": [
    "calints_nircam_1386 = get_lower_products(suffix='calints',directory=directory_1386_nircam)\n",
    "psfaligns_nircam_1386 = get_stage3_products(suffix='psfalign',directory=directory_1386_nircam)\n",
    "psfsubs_nircam_1386 = get_stage3_products(suffix='psfsub',directory=directory_1386_nircam)\n",
    "psfstacks_nircam_1386 = get_stage3_products(suffix='psfstack',directory=directory_1386_nircam)\n",
    "crfints_nircam_1386 = get_stage3_products(suffix='crfints',directory=directory_1386_nircam)\n",
    "i2ds_nircam_1386 = get_stage3_products(suffix='i2d',directory=directory_1386_nircam)"
   ]
  },
  {
   "cell_type": "code",
   "execution_count": 39,
   "id": "cbebe498-841d-4753-a16c-8dcd21095059",
   "metadata": {},
   "outputs": [],
   "source": [
    "header,sci,err,dq,con,wht = get_hdu(psfstacks_nircam_1386,data='psf')"
   ]
  },
  {
   "cell_type": "code",
   "execution_count": 40,
   "id": "28653113-39e3-4994-9ce9-1cc199eadbc2",
   "metadata": {
    "tags": []
   },
   "outputs": [
    {
     "name": "stdout",
     "output_type": "stream",
     "text": [
      "CALINTS: 101\n",
      "PSFSTACK: 6\n",
      "I2D: 5\n",
      "CRFINT: 55\n",
      "PSFSUB: 10\n",
      "PSFALIGN: 10\n"
     ]
    }
   ],
   "source": [
    "print('CALINTS:',len(calints_nircam_1386))\n",
    "print('PSFSTACK:',len(psfstacks_nircam_1386))\n",
    "print('I2D:',len(i2ds_nircam_1386))\n",
    "print('CRFINT:',len(crfints_nircam_1386))\n",
    "print('PSFSUB:',len(psfsubs_nircam_1386))\n",
    "print('PSFALIGN:',len(psfaligns_nircam_1386))"
   ]
  },
  {
   "cell_type": "code",
   "execution_count": 41,
   "id": "846d964f-46c6-471b-b1bb-cfc3622b117d",
   "metadata": {},
   "outputs": [],
   "source": [
    "hdu_dict = get_hdu_data(psfstacks_nircam_1386,suffix='psfstack')\n",
    "save_hdu_data(hdu_dict,INSTRUME,PROPOSAL_ID,'psfstack','sci',header)"
   ]
  },
  {
   "cell_type": "code",
   "execution_count": null,
   "id": "cdbfd80b",
   "metadata": {},
   "outputs": [],
   "source": []
  },
  {
   "cell_type": "code",
   "execution_count": 47,
   "id": "a83a54e4-5754-4c7b-be27-5e5019dc8cba",
   "metadata": {},
   "outputs": [],
   "source": [
    "PROPOSAL_ID = '1441'"
   ]
  },
  {
   "cell_type": "code",
   "execution_count": 51,
   "id": "eb9417ad-b629-4dd2-b238-eaf07c3e3cfb",
   "metadata": {},
   "outputs": [],
   "source": [
    "directory_1441_nircam = f'/home/sarperyn/sarperyurtseven/ProjectFiles/dataset/NIRCAM/{PROPOSAL_ID}/mastDownload/JWST'"
   ]
  },
  {
   "cell_type": "code",
   "execution_count": 52,
   "id": "0d32a877-b4dc-4f21-b8f6-f1765087b2a5",
   "metadata": {},
   "outputs": [],
   "source": [
    "calints_nircam_1441 = get_lower_products(suffix='calints',directory=directory_1441_nircam)\n",
    "psfaligns_nircam_1441 = get_stage3_products(suffix='psfalign',directory=directory_1441_nircam)\n",
    "psfsubs_nircam_1441 = get_stage3_products(suffix='psfsub',directory=directory_1441_nircam)\n",
    "psfstacks_nircam_1441 = get_stage3_products(suffix='psfstack',directory=directory_1441_nircam)\n",
    "crfints_nircam_1441 = get_stage3_products(suffix='crfints',directory=directory_1441_nircam)\n",
    "i2ds_nircam_1441 = get_stage3_products(suffix='i2d',directory=directory_1441_nircam)"
   ]
  },
  {
   "cell_type": "code",
   "execution_count": 53,
   "id": "fde105c2-d93d-40e4-8236-e3f018ff2347",
   "metadata": {},
   "outputs": [
    {
     "name": "stdout",
     "output_type": "stream",
     "text": [
      "CALINTS: 91\n",
      "PSFSTACK: 3\n",
      "I2D: 3\n",
      "CRFINT: 63\n",
      "PSFSUB: 6\n",
      "PSFALIGN: 6\n"
     ]
    }
   ],
   "source": [
    "print('CALINTS:',len(calints_nircam_1441))\n",
    "print('PSFSTACK:',len(psfstacks_nircam_1441))\n",
    "print('I2D:',len(i2ds_nircam_1441))\n",
    "print('CRFINT:',len(crfints_nircam_1441))\n",
    "print('PSFSUB:',len(psfsubs_nircam_1441))\n",
    "print('PSFALIGN:',len(psfaligns_nircam_1441))"
   ]
  },
  {
   "cell_type": "code",
   "execution_count": 55,
   "id": "f22ac2dd-961a-47d9-8dbe-0ffe9f796b78",
   "metadata": {},
   "outputs": [],
   "source": [
    "hdu_dict = get_hdu_data(psfstacks_nircam_1441,suffix='psfstack')\n",
    "header,sci,err,dq,con,wht = get_hdu(psfstacks_nircam_1441,data='psf')\n",
    "save_hdu_data(hdu_dict,INSTRUME,PROPOSAL_ID,'psfstack','sci',header)"
   ]
  }
 ],
 "metadata": {
  "kernelspec": {
   "display_name": "Python 3",
   "language": "python",
   "name": "python3"
  },
  "language_info": {
   "codemirror_mode": {
    "name": "ipython",
    "version": 3
   },
   "file_extension": ".py",
   "mimetype": "text/x-python",
   "name": "python",
   "nbconvert_exporter": "python",
   "pygments_lexer": "ipython3",
   "version": "3.9.16"
  }
 },
 "nbformat": 4,
 "nbformat_minor": 5
}

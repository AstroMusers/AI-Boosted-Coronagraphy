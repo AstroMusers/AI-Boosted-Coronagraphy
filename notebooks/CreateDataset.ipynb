{
 "cells": [
  {
   "cell_type": "code",
   "execution_count": null,
   "id": "bd61c77f-0b4c-4b82-a958-7787f1d3d9fc",
   "metadata": {},
   "outputs": [],
   "source": [
    "from astropy.io import fits\n",
    "from glob import glob\n",
    "import os\n",
    "import matplotlib as mpl\n",
    "import numpy as np\n",
    "import matplotlib.pyplot as plt\n",
    "from jwst import datamodels\n",
    "import math\n",
    "from IPython.display import display\n",
    "from visualization_helpers import get_headers"
   ]
  },
  {
   "cell_type": "code",
   "execution_count": null,
   "id": "013fa2d1-a14d-4dde-9d6c-32182ba45c53",
   "metadata": {},
   "outputs": [],
   "source": [
    "def get_lower_products(suffix,directory):\n",
    "    return glob(os.path.join(directory, f'**/*{suffix}.fits'))"
   ]
  },
  {
   "cell_type": "code",
   "execution_count": null,
   "id": "2caa0708-5bea-4990-92c5-4af15c44db41",
   "metadata": {},
   "outputs": [],
   "source": [
    "def get_stage3_products(suffix,directory):\n",
    "    return glob(os.path.join(directory, f'*{suffix}.fits'))"
   ]
  },
  {
   "cell_type": "code",
   "execution_count": null,
   "id": "a6b8685a-e9d1-411f-bc6e-c908b7906a89",
   "metadata": {},
   "outputs": [],
   "source": [
    "def get_hdu(fits_,data):\n",
    "    \n",
    "    pri_data = []\n",
    "    sci_data = []\n",
    "    err_data = []\n",
    "    dq_data  = [] \n",
    "    con_data = []\n",
    "    wht_data = []\n",
    "\n",
    "    for i,path in enumerate(fits_):\n",
    "        fits_file = fits.open(path)\n",
    "        \n",
    "        if data == 'psf':\n",
    "            pri = fits_file[0].header\n",
    "            sci = fits_file[1].data\n",
    "            dq  = fits_file[2].data \n",
    "            err = fits_file[3].data\n",
    "            \n",
    "            dq_data.append(dq)\n",
    "            \n",
    "        elif data == 'i2d':\n",
    "            \n",
    "            pri = fits_file[0].header\n",
    "            sci = fits_file[1].data\n",
    "            err = fits_file[2].data \n",
    "            con = fits_file[3].data\n",
    "            wht = fits_file[4].data\n",
    "                \n",
    "            con_data.append(con)\n",
    "            wht_data.append(wht)\n",
    "            \n",
    "        elif data == 'psfsub':\n",
    "            \n",
    "            pri = fits_file[0].header\n",
    "            sci = fits_file[1].data\n",
    "            err = fits_file[2].data \n",
    "            dq  = fits_file[3].data\n",
    "            \n",
    "            dq_data.append(dq)\n",
    "            \n",
    "        pri_data.append(pri)\n",
    "        sci_data.append(sci)\n",
    "        err_data.append(err)\n",
    "\n",
    "        \n",
    "    return pri_data,sci_data,err_data,dq_data,con_data,wht_data"
   ]
  },
  {
   "attachments": {},
   "cell_type": "markdown",
   "id": "43a0b0b2-0d0d-4b68-82ac-50d7313aa506",
   "metadata": {},
   "source": [
    "## 1386"
   ]
  },
  {
   "attachments": {},
   "cell_type": "markdown",
   "id": "5b02c2c9-12c8-413d-b200-3bf23a28139b",
   "metadata": {
    "tags": []
   },
   "source": [
    "### NIRCAM"
   ]
  },
  {
   "cell_type": "code",
   "execution_count": null,
   "id": "e2b23014-ad91-4cda-b236-8a8e85960fb1",
   "metadata": {},
   "outputs": [],
   "source": [
    "INSTRUME = 'NIRCAM'"
   ]
  },
  {
   "cell_type": "code",
   "execution_count": null,
   "id": "11509061-bfb6-4dc5-a12c-6398097d8647",
   "metadata": {},
   "outputs": [],
   "source": [
    "PROPOSAL_ID = '1386'"
   ]
  },
  {
   "cell_type": "code",
   "execution_count": null,
   "id": "3ac4b468-a62a-4395-a46b-13069dccf6d0",
   "metadata": {},
   "outputs": [],
   "source": [
    "directory_1386_nircam = f'/home/sarperyn/sarperyurtseven/ProjectFiles/dataset/NIRCAM/{PROPOSAL_ID}/mastDownload/JWST/'"
   ]
  },
  {
   "cell_type": "code",
   "execution_count": null,
   "id": "9c170b05-f94b-4df7-8ff7-f0cf5401e8af",
   "metadata": {},
   "outputs": [],
   "source": [
    "calints_nircam_1386 = get_lower_products(suffix='calints',directory=directory_1386_nircam)\n",
    "psfaligns_nircam_1386 = get_stage3_products(suffix='psfalign',directory=directory_1386_nircam)\n",
    "psfsubs_nircam_1386 = get_stage3_products(suffix='psfsub',directory=directory_1386_nircam)\n",
    "psfstacks_nircam_1386 = get_stage3_products(suffix='psfstack',directory=directory_1386_nircam)\n",
    "crfints_nircam_1386 = get_stage3_products(suffix='crfints',directory=directory_1386_nircam)\n",
    "i2ds_nircam_1386 = get_stage3_products(suffix='i2d',directory=directory_1386_nircam)"
   ]
  },
  {
   "cell_type": "code",
   "execution_count": null,
   "id": "cbebe498-841d-4753-a16c-8dcd21095059",
   "metadata": {},
   "outputs": [],
   "source": [
    "header,sci,err,dq,con,wht = get_hdu(calints_nircam_1386,data='psf')"
   ]
  },
  {
   "cell_type": "code",
   "execution_count": null,
   "id": "28653113-39e3-4994-9ce9-1cc199eadbc2",
   "metadata": {
    "tags": []
   },
   "outputs": [],
   "source": [
    "print('CALINTS:',len(calints_nircam_1386))\n",
    "print('PSFSTACK:',len(psfstacks_nircam_1386))\n",
    "print('I2D:',len(i2ds_nircam_1386))\n",
    "print('CRFINT:',len(crfints_nircam_1386))\n",
    "print('PSFSUB:',len(psfsubs_nircam_1386))\n",
    "print('PSFALIGN:',len(psfaligns_nircam_1386))"
   ]
  },
  {
   "cell_type": "code",
   "execution_count": null,
   "id": "d76840b2-97df-48c4-95ee-528395fdd155",
   "metadata": {},
   "outputs": [],
   "source": [
    "filters = get_headers(header,'FILTER')\n",
    "targets = get_headers(header,'TARGPROP')\n",
    "#coronmask = get_headers(header,'CORONMSK')"
   ]
  },
  {
   "cell_type": "code",
   "execution_count": null,
   "id": "a0555490-6fad-44ac-acd2-679b96f2789c",
   "metadata": {},
   "outputs": [],
   "source": [
    "DIR = f'/home/sarperyn/sarperyurtseven/ProjectFiles/real_dataset/{INSTRUME}/{proposal_id}/{PROPOSAL_ID}_{suffix}_{hdu}_{filters[idx]}.npy'\n",
    "\n",
    "if not os.path.exists(DIR):\n",
    "    print(i)"
   ]
  },
  {
   "cell_type": "code",
   "execution_count": null,
   "id": "b9ab58eb-9e14-4388-a864-5e6e4b8cdb5c",
   "metadata": {},
   "outputs": [],
   "source": [
    "def save_hdu_data(hdu_dict,instrume,proposal_id,suffix):\n",
    "    \n",
    "    filters = get_headers(header,'FILTER')\n",
    "    targets = get_headers(header,'TARGPROP')\n",
    "    coronmask = get_headers(header,'CORONMSK')\n",
    "\n",
    "    hdus = hdu_dict.keys()\n",
    "\n",
    "    for hdu in hdus:\n",
    "        \n",
    "        DIR = f'/home/sarperyn/sarperyurtseven/ProjectFiles/real_dataset/{instrume}/{proposal_id}/{proposal_id}_{suffix}_{hdu}_{filters[idx]}.npy'\n",
    "\n",
    "        if not os.path.exists(DIR):\n",
    "            \n",
    "        \n",
    "\n",
    "\n",
    "    "
   ]
  },
  {
   "cell_type": "code",
   "execution_count": null,
   "id": "35ae9078-030b-4c71-9fa3-19d1f95559ad",
   "metadata": {},
   "outputs": [],
   "source": [
    "filters = get_headers(header,'FILTER')\n",
    "targets = get_headers(header,'TARGPROP')\n",
    "coronmask = get_headers(header,'CORONMSK')\n",
    "\n",
    "DIR = f'/home/sarperyn/sarperyurtseven/ProjectFiles/real_dataset/{instrume}/{proposal_id}/{proposal_id}_{suffix}_{hdu}_{filters}.npy'\n"
   ]
  },
  {
   "cell_type": "code",
   "execution_count": null,
   "id": "846d964f-46c6-471b-b1bb-cfc3622b117d",
   "metadata": {},
   "outputs": [],
   "source": [
    "def get_hdu_data(fits_dirs,instrume,proposal_id,suffix):\n",
    "    \n",
    "    if suffix == 'psfstack':\n",
    "        header,sci,err,dq,con,wht = get_hdu(fits_dirs,data='psf')\n",
    "    \n",
    "    elif suffix == 'i2d':\n",
    "        header,sci,err,dq,con,wht = get_hdu(fits_dirs,data='i2d')\n",
    "        \n",
    "    elif suffix == 'psfsub':\n",
    "        header,sci,err,dq,con,wht = get_hdu(fits_dirs,data='psfsub')\n",
    "\n",
    "\n",
    "    hdu_dict = {\n",
    "        'header':header,\n",
    "        'sci':sci,\n",
    "        'err':err,\n",
    "        'dq':dq,\n",
    "        'con':con,\n",
    "        'wht':wht\n",
    "    }\n",
    "    \n",
    "    return hdu_dict\n",
    "    # with h5py.File(DIR,'w') as hf:\n",
    "    \n",
    "    #     if hdu == 'sci':\n",
    "            \n",
    "    #         for idx,arrays in enumerate(sci):\n",
    "    #             hf.create_dataset(f'{proposal_id}_{targets[idx]}_{filters[idx]}_{coronmask[idx]}_{hdu}',data=arrays)    "
   ]
  },
  {
   "cell_type": "code",
   "execution_count": null,
   "id": "b2ff0540-7c79-4e4a-99c3-55c820e15efc",
   "metadata": {},
   "outputs": [],
   "source": [
    "hdu_dict = get_hdu_data(calints_nircam_1386,instrume=INSTRUME,proposal_id=PROPOSAL_ID,suffix='psfstack')"
   ]
  },
  {
   "cell_type": "code",
   "execution_count": null,
   "id": "63dd3977-2d7e-4007-8877-969aa5b80510",
   "metadata": {},
   "outputs": [],
   "source": [
    "hdu_dict.keys()"
   ]
  },
  {
   "cell_type": "code",
   "execution_count": null,
   "id": "7abdec77-c277-4f9e-a403-5abc8245f94f",
   "metadata": {},
   "outputs": [],
   "source": [
    "save_data(fits_dirs=psfstacks_nircam_1386,\n",
    "          instrume=INSTRUME,\n",
    "          proposal_id=PROPOSAL_ID,\n",
    "          suffix='psfstack',\n",
    "          hdu='sci)"
   ]
  },
  {
   "cell_type": "code",
   "execution_count": null,
   "id": "2121ef3b-ef70-490f-8784-2e03c1411576",
   "metadata": {},
   "outputs": [],
   "source": [
    "save_data(fits_dirs=psfstacks_nircam_1386,\n",
    "          instrume=INSTRUME,\n",
    "          proposal_id=PROPOSAL_ID,\n",
    "          suffix='psfstack',\n",
    "          hdu='sci')"
   ]
  },
  {
   "cell_type": "code",
   "execution_count": null,
   "id": "dcac82eb-bd7a-4498-8e03-29307fdfacd9",
   "metadata": {
    "tags": []
   },
   "outputs": [],
   "source": [
    "'''\n",
    "save_data(fits_dirs=i2ds_nircam,\n",
    "          instrume=INSTRUME,\n",
    "          proposal_id=PROPOSAL_ID,\n",
    "          suffix='i2d',\n",
    "          hdu='sci')\n",
    "save_data(fits_dirs=psfsubs_nircam,\n",
    "          instrume=INSTRUME,\n",
    "          proposal_id=PROPOSAL_ID,\n",
    "          suffix='psfsub',\n",
    "          hdu='sci')\n",
    "          '''"
   ]
  },
  {
   "cell_type": "code",
   "execution_count": null,
   "id": "b3858360-d06c-43fb-b03f-af008fc32d23",
   "metadata": {},
   "outputs": [],
   "source": []
  },
  {
   "cell_type": "code",
   "execution_count": null,
   "id": "99d9d5b2-4d76-4fa7-9eac-d09545d564e9",
   "metadata": {},
   "outputs": [],
   "source": []
  },
  {
   "cell_type": "code",
   "execution_count": null,
   "id": "19c87c79-b60f-4ac9-90b5-fe002e846645",
   "metadata": {},
   "outputs": [],
   "source": []
  },
  {
   "cell_type": "code",
   "execution_count": null,
   "id": "a83a54e4-5754-4c7b-be27-5e5019dc8cba",
   "metadata": {},
   "outputs": [],
   "source": [
    "PROPOSAL_ID = '1441'"
   ]
  },
  {
   "cell_type": "code",
   "execution_count": null,
   "id": "eb9417ad-b629-4dd2-b238-eaf07c3e3cfb",
   "metadata": {},
   "outputs": [],
   "source": [
    "directory_1441_nircam = f'/home/bariskurtkaya/github//AI-Boosted-Coronagraphy/dataset/NIRCAM/{PROPOSAL_ID}/mastDownload/JWST/'"
   ]
  },
  {
   "cell_type": "code",
   "execution_count": null,
   "id": "0d32a877-b4dc-4f21-b8f6-f1765087b2a5",
   "metadata": {},
   "outputs": [],
   "source": [
    "calints_nircam_1441 = get_lower_products(suffix='calints',directory=directory_1441_nircam)\n",
    "psfaligns_nircam_1441 = get_stage3_products(suffix='psfalign',directory=directory_1441_nircam)\n",
    "psfsubs_nircam_1441 = get_stage3_products(suffix='psfsub',directory=directory_1441_nircam)\n",
    "psfstacks_nircam_1441 = get_stage3_products(suffix='psfstack',directory=directory_1441_nircam)\n",
    "crfints_nircam_1441 = get_stage3_products(suffix='crfints',directory=directory_1441_nircam)\n",
    "i2ds_nircam_1441 = get_stage3_products(suffix='i2d',directory=directory_1441_nircam)"
   ]
  },
  {
   "cell_type": "code",
   "execution_count": null,
   "id": "fde105c2-d93d-40e4-8236-e3f018ff2347",
   "metadata": {},
   "outputs": [],
   "source": [
    "print('CALINTS:',len(calints_nircam_1441))\n",
    "print('PSFSTACK:',len(psfstacks_nircam_1441))\n",
    "print('I2D:',len(i2ds_nircam_1441))\n",
    "print('CRFINT:',len(crfints_nircam_1441))\n",
    "print('PSFSUB:',len(psfsubs_nircam_1441))\n",
    "print('PSFALIGN:',len(psfaligns_nircam_1441))"
   ]
  },
  {
   "cell_type": "code",
   "execution_count": null,
   "id": "f22ac2dd-961a-47d9-8dbe-0ffe9f796b78",
   "metadata": {},
   "outputs": [],
   "source": [
    "header,sci,err,dq,con,wht = get_hdu(psfstacks_nircam_1441,data='psf')"
   ]
  },
  {
   "cell_type": "code",
   "execution_count": null,
   "id": "be549d2e-d1bc-45e8-a019-711338adad65",
   "metadata": {
    "tags": []
   },
   "outputs": [],
   "source": [
    "save_data(fits_dirs=psfstacks_nircam_1441,\n",
    "          instrume=INSTRUME,\n",
    "          proposal_id=PROPOSAL_ID,\n",
    "          suffix='psfstack',\n",
    "          hdu='sci')"
   ]
  },
  {
   "cell_type": "code",
   "execution_count": null,
   "id": "fd011cae-d6b5-4cbe-9e46-eb532186199b",
   "metadata": {
    "tags": []
   },
   "outputs": [],
   "source": [
    "'''\n",
    "save_data(fits_dirs=psfstacks_nircam,\n",
    "          instrume=INSTRUME,\n",
    "          proposal_id=PROPOSAL_ID,\n",
    "          suffix='psfstack',\n",
    "          hdu='sci')\n",
    "save_data(fits_dirs=i2ds_nircam,\n",
    "          instrume=INSTRUME,\n",
    "          proposal_id=PROPOSAL_ID,\n",
    "          suffix='i2d',\n",
    "          hdu='sci')\n",
    "save_data(fits_dirs=psfsubs_nircam,\n",
    "          instrume=INSTRUME,\n",
    "          proposal_id=PROPOSAL_ID,\n",
    "          suffix='psfsub',\n",
    "          hdu='sci')\n",
    "          '''"
   ]
  },
  {
   "cell_type": "code",
   "execution_count": null,
   "id": "4d342e18-9132-4b9a-a980-a30f89371cb2",
   "metadata": {},
   "outputs": [],
   "source": []
  }
 ],
 "metadata": {
  "kernelspec": {
   "display_name": "Python 3",
   "language": "python",
   "name": "python3"
  },
  "language_info": {
   "codemirror_mode": {
    "name": "ipython",
    "version": 3
   },
   "file_extension": ".py",
   "mimetype": "text/x-python",
   "name": "python",
   "nbconvert_exporter": "python",
   "pygments_lexer": "ipython3",
   "version": "3.9.16"
  }
 },
 "nbformat": 4,
 "nbformat_minor": 5
}

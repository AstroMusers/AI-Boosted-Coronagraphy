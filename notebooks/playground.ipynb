{
 "cells": [
  {
   "cell_type": "code",
   "execution_count": null,
   "metadata": {},
   "outputs": [],
   "source": [
    "import glob\n",
    "import numpy as np\n",
    "import matplotlib.pyplot as plt\n",
    "from itertools import product\n",
    "import random\n",
    "import os\n",
    "import glob\n",
    "import numpy as np\n",
    "import matplotlib.pyplot as plt\n",
    "import astropy.io.fits as fits\n",
    "from itertools import product\n",
    "from astropy.wcs import WCS\n",
    "from astropy.coordinates import SkyCoord  # High-level coordinates\n",
    "from astropy.coordinates import ICRS, Galactic, FK4, FK5\n",
    "from astropy.coordinates import Angle, Latitude, Longitude  # Angles\n",
    "import astropy.units as u\n",
    "import math\n",
    "import re\n",
    "import sys\n",
    "sys.path.append(os.path.dirname(os.getcwd()))\n",
    "import torch\n",
    "from argparse import Namespace\n",
    "\n",
    "\n",
    "from util.util_data import *\n",
    "from util.util_dirs import *\n",
    "from util.util_train import *\n",
    "from ml.models import Train, VAE\n",
    "\n",
    "from torch.utils.data import DataLoader\n",
    "from torchvision import datasets"
   ]
  },
  {
   "cell_type": "code",
   "execution_count": null,
   "metadata": {},
   "outputs": [],
   "source": [
    "inj = glob.glob('/data/scratch/bariskurtkaya/dataset/NIRCAM/1386/injections2/fc5_coron_injections_train/*fc5.npy')\n",
    "no_inj = glob.glob('/data/scratch/bariskurtkaya/dataset/NIRCAM/1386/injections2/fc5_coron_injections_train/*[!fc5].npy')"
   ]
  },
  {
   "cell_type": "code",
   "execution_count": null,
   "metadata": {},
   "outputs": [],
   "source": [
    "len(inj)"
   ]
  },
  {
   "cell_type": "code",
   "execution_count": null,
   "metadata": {},
   "outputs": [],
   "source": [
    "len(no_inj)"
   ]
  },
  {
   "cell_type": "code",
   "execution_count": null,
   "metadata": {},
   "outputs": [],
   "source": [
    "\n",
    "train_paths = glob.glob(os.path.join(INJECTIONS,'fc5_coron_injections_train/*.npy'))\n",
    "print(len(train_paths))\n",
    "\n",
    "\n",
    "syndata        = SynDatasetLabel(image_paths=train_paths)\n",
    "syndata_loader = DataLoader(dataset=syndata, batch_size=32, shuffle=True)"
   ]
  },
  {
   "cell_type": "code",
   "execution_count": null,
   "metadata": {},
   "outputs": [],
   "source": [
    "batch, labels = next(iter(syndata_loader))"
   ]
  },
  {
   "cell_type": "code",
   "execution_count": null,
   "metadata": {},
   "outputs": [],
   "source": [
    "batch.shape"
   ]
  },
  {
   "cell_type": "code",
   "execution_count": null,
   "metadata": {},
   "outputs": [],
   "source": [
    "labels.shape"
   ]
  },
  {
   "cell_type": "code",
   "execution_count": null,
   "metadata": {},
   "outputs": [],
   "source": [
    "args = {\n",
    "    'device':'cuda:0',\n",
    "    'idx':'idx/s',\n",
    "    'lr':3e-4,\n",
    "    'batch_size':128,   \n",
    "    'model':'vae' \n",
    "}\n",
    "args = Namespace(**args)\n",
    "\n",
    "kernels_enc = [7,5,3,5,3,5]\n",
    "paddings_enc= [1,1,1,1,1,1]\n",
    "strides_enc = [2,1,1,1,1,2]\n",
    "\n",
    "maxpool = [0,0,0,0,0,0,0]\n",
    "\n",
    "kernels_dec = [5,3,5,3,5,7]\n",
    "paddings_dec= [1,1,1,1,1,1]\n",
    "strides_dec = [2,1,1,1,1,2]\n",
    "\n",
    "\n",
    "convdim_outputs = calculate_conv_dims(28,paddings_enc,kernels_enc,strides_enc,maxpool)\n",
    "\n",
    "convtrans_outputs = calculate_convtrans_dim(convdim_outputs[-1],paddings_dec,kernels_dec,strides_dec)\n",
    "\n",
    "\n",
    "model = VAE(args=args,\n",
    "               in_channels=1,\n",
    "               latent_dim=512,\n",
    "               convdim_enc_outputs=convdim_outputs, \n",
    "               kernels=kernels_enc, \n",
    "               strides=strides_enc)"
   ]
  },
  {
   "cell_type": "code",
   "execution_count": null,
   "metadata": {},
   "outputs": [],
   "source": [
    "mnist_data       = datasets.MNIST('', train=True, transform=transforms.ToTensor(), download=True)\n",
    "mnist_dataloader = DataLoader(dataset=mnist_data, batch_size=4096, shuffle=True)"
   ]
  },
  {
   "cell_type": "code",
   "execution_count": null,
   "metadata": {},
   "outputs": [],
   "source": [
    "batch, labels = next(iter(mnist_dataloader))\n",
    "batch, labels = batch.to('cuda:0'), labels.to('cuda:0')"
   ]
  },
  {
   "cell_type": "code",
   "execution_count": null,
   "metadata": {},
   "outputs": [],
   "source": [
    "labels.shape"
   ]
  },
  {
   "cell_type": "code",
   "execution_count": null,
   "metadata": {},
   "outputs": [],
   "source": [
    "model = torch.load('/data/scratch/sarperyurtseven/results/training_results/deneme_vae/3/model_epoch-74.pt', map_location='cuda:0')"
   ]
  },
  {
   "cell_type": "code",
   "execution_count": null,
   "metadata": {},
   "outputs": [],
   "source": [
    "mu, log = model.encode(batch)\n",
    "z = model.reparameterize(mu, log)"
   ]
  },
  {
   "cell_type": "code",
   "execution_count": null,
   "metadata": {},
   "outputs": [],
   "source": [
    "import numpy as np\n",
    "from sklearn.manifold import TSNE\n",
    "z_embedded = TSNE(n_components=2, learning_rate='auto',\n",
    "                  init='random', perplexity=3).fit_transform(z.detach().cpu().numpy())\n",
    "z_embedded.shape"
   ]
  },
  {
   "cell_type": "code",
   "execution_count": null,
   "metadata": {},
   "outputs": [],
   "source": [
    "plt.figure(figsize=(10, 10))\n",
    "plt.scatter(z_embedded[:, 0], z_embedded[:, 1], c=labels.detach().cpu().numpy(), cmap='brg')\n",
    "plt.colorbar()\n",
    "plt.show()"
   ]
  },
  {
   "cell_type": "code",
   "execution_count": null,
   "metadata": {},
   "outputs": [],
   "source": [
    "model.encoder()"
   ]
  },
  {
   "cell_type": "code",
   "execution_count": null,
   "metadata": {},
   "outputs": [],
   "source": [
    "z = torch.randn(10,512).to('cuda:0')"
   ]
  },
  {
   "cell_type": "code",
   "execution_count": null,
   "metadata": {},
   "outputs": [],
   "source": [
    "x = model.decoder_input(z)\n",
    "x = x.view(10,512,3,3)\n",
    "x = model.decoder(x)\n",
    "x = model.final_layer(x)"
   ]
  },
  {
   "cell_type": "code",
   "execution_count": null,
   "metadata": {},
   "outputs": [],
   "source": [
    "x = x.detach().cpu().numpy()"
   ]
  },
  {
   "cell_type": "code",
   "execution_count": null,
   "metadata": {},
   "outputs": [],
   "source": [
    "plt.imshow(np.transpose(x[1],(1,2,0)))"
   ]
  },
  {
   "cell_type": "code",
   "execution_count": null,
   "metadata": {},
   "outputs": [],
   "source": []
  },
  {
   "cell_type": "code",
   "execution_count": null,
   "metadata": {},
   "outputs": [],
   "source": [
    "kernels_enc = [7,7,7,7,7,7,7]\n",
    "hidden_dims = [2**(i+3) for i in range(len(kernels_enc))]"
   ]
  },
  {
   "cell_type": "code",
   "execution_count": null,
   "metadata": {},
   "outputs": [],
   "source": [
    "hidden_dims"
   ]
  },
  {
   "cell_type": "code",
   "execution_count": null,
   "metadata": {},
   "outputs": [],
   "source": [
    "coron_psfs  = glob.glob('/data/scratch/bariskurtkaya/dataset/CORON_PSF_SAMPLES/*.fits')"
   ]
  },
  {
   "cell_type": "code",
   "execution_count": null,
   "metadata": {},
   "outputs": [],
   "source": [
    "coron_psfs = sorted(coron_psfs)\n",
    "corons   = []\n",
    "for i in range(len(coron_psfs)):\n",
    "    coron = fits.open(coron_psfs[i])[0].data\n",
    "    corons.append(coron)\n",
    "\n",
    "corons  = np.concatenate(np.expand_dims(corons, axis=0))\n"
   ]
  },
  {
   "cell_type": "code",
   "execution_count": null,
   "metadata": {},
   "outputs": [],
   "source": [
    "bs = 4\n",
    "nrows = 1\n",
    "fig, axes = plt.subplots(nrows=nrows,ncols=bs,figsize=(15,10))\n",
    "\n",
    "for i, (row,col) in enumerate(product(range(nrows),range(bs))):\n",
    "\n",
    "    axes[col].imshow(corons[i])\n",
    "    axes[col].set_yticks([])\n",
    "    axes[col].set_xticks([])\n",
    "\n",
    "\n",
    "plt.subplots_adjust(wspace=0,hspace=0)\n",
    "plt.show()"
   ]
  },
  {
   "cell_type": "code",
   "execution_count": null,
   "metadata": {},
   "outputs": [],
   "source": [
    "for i in range(len(coron_psfs)):\n",
    "    coron = fits.open(coron_psfs[i])[0].data\n",
    "    filter = coron_psfs[i].split('/')[-1].split('_')[0].split('-')[-1]\n",
    "    print(f\"Filter: {filter}  Max: {np.max(coron)}  Min: {np.min(coron)}\")"
   ]
  },
  {
   "cell_type": "code",
   "execution_count": null,
   "metadata": {},
   "outputs": [],
   "source": [
    "train_paths = glob.glob(os.path.join(INJECTIONS,'fc5_coron_injections_train/*.npy'))\n",
    "print(len(train_paths))\n",
    "\n",
    "syndata        = SynDataset(image_paths=train_paths)\n",
    "syndata_loader = DataLoader(dataset=syndata, batch_size=8, shuffle=True)"
   ]
  },
  {
   "cell_type": "code",
   "execution_count": null,
   "metadata": {},
   "outputs": [],
   "source": [
    "idx, batch = next(enumerate(syndata_loader))"
   ]
  },
  {
   "cell_type": "code",
   "execution_count": null,
   "metadata": {},
   "outputs": [],
   "source": [
    "batch.shape"
   ]
  },
  {
   "cell_type": "code",
   "execution_count": null,
   "metadata": {},
   "outputs": [],
   "source": [
    "for i in batch:\n",
    "    print(f\"Max: {torch.max(i)}  Min: {torch.min(i)}\")\n",
    "    print(f\"Arcsinh Max: {torch.max(torch.arcsinh(i))}  Min: {torch.min(torch.arcsinh(i))}\")\n",
    "    print()"
   ]
  },
  {
   "cell_type": "code",
   "execution_count": null,
   "metadata": {},
   "outputs": [],
   "source": [
    "bs = 4\n",
    "nrows = 1\n",
    "fig, axes = plt.subplots(nrows=nrows,ncols=bs,figsize=(15,10))\n",
    "\n",
    "for i, (row,col) in enumerate(product(range(nrows),range(bs))):\n",
    "\n",
    "    axes[col].imshow(batch[i][0])\n",
    "    axes[col].set_yticks([])\n",
    "    axes[col].set_xticks([])\n",
    "\n",
    "\n",
    "plt.subplots_adjust(wspace=0,hspace=0)\n",
    "plt.show()"
   ]
  },
  {
   "cell_type": "code",
   "execution_count": null,
   "metadata": {},
   "outputs": [],
   "source": []
  }
 ],
 "metadata": {
  "kernelspec": {
   "display_name": "jwst-dev",
   "language": "python",
   "name": "python3"
  },
  "language_info": {
   "codemirror_mode": {
    "name": "ipython",
    "version": 3
   },
   "file_extension": ".py",
   "mimetype": "text/x-python",
   "name": "python",
   "nbconvert_exporter": "python",
   "pygments_lexer": "ipython3",
   "version": "3.9.16"
  },
  "orig_nbformat": 4
 },
 "nbformat": 4,
 "nbformat_minor": 2
}

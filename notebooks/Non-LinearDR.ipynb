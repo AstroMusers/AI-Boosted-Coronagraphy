{
 "cells": [
  {
   "cell_type": "code",
   "execution_count": null,
   "id": "94bde0b7-0b48-492d-bcd2-db7c0846ff43",
   "metadata": {
    "tags": []
   },
   "outputs": [],
   "source": [
    "from glob import glob\n",
    "import h5py\n",
    "import os\n",
    "import numpy as np\n",
    "from sklearn.manifold import TSNE\n",
    "import matplotlib.pyplot as plt\n",
    "import matplotlib.patches as patches\n",
    "import pandas as pd\n",
    "import umap\n",
    "import umap.plot"
   ]
  },
  {
   "attachments": {},
   "cell_type": "markdown",
   "id": "0fc3d5ce-4dc5-4da6-90b0-be199cccc759",
   "metadata": {},
   "source": [
    "## Data Loadings"
   ]
  },
  {
   "cell_type": "code",
   "execution_count": null,
   "id": "c59331f5-acd3-4d89-828e-f61b343fa1be",
   "metadata": {},
   "outputs": [],
   "source": [
    "directory = f'/home/sarperyn/sarperyurtseven/ProjectFiles/dataset/NIRCAM/'"
   ]
  },
  {
   "cell_type": "code",
   "execution_count": null,
   "id": "99cbcfc5-4965-4bc2-a733-8dbf92daa494",
   "metadata": {},
   "outputs": [],
   "source": [
    "h5_files = glob(os.path.join(directory,'**/*.h5'))"
   ]
  },
  {
   "cell_type": "code",
   "execution_count": null,
   "id": "7e5b9ade-3097-4e0f-a0ec-be17c53498c9",
   "metadata": {},
   "outputs": [],
   "source": [
    "h5_files"
   ]
  },
  {
   "cell_type": "code",
   "execution_count": null,
   "id": "de3f780b-212d-4e45-8d8f-2b6677c57ebc",
   "metadata": {},
   "outputs": [],
   "source": [
    "data_1441 = h5py.File(h5_files[0],'r')\n",
    "data_1386 = h5py.File(h5_files[1],'r')"
   ]
  },
  {
   "cell_type": "code",
   "execution_count": null,
   "id": "38016bc9-018d-4a7d-b1a9-c5ae89cef904",
   "metadata": {},
   "outputs": [],
   "source": [
    "def visualize(flatten_final, approximation, ncols=5):\n",
    "    substract = np.abs(flatten_final[:5,:] - approximation)\n",
    "    nsample = flatten_final.shape[0]\n",
    "    #subs_mean = np.mean(substract,axis=0)\n",
    "    \n",
    "    _, axes = plt.subplots(nrows=3,ncols=ncols,figsize=(15,10))\n",
    "    \n",
    "    for idx in range(ncols):\n",
    "        \n",
    "        #rand_num = np.random.randint(0,nsample)\n",
    "        #print(rand_num)\n",
    "        \n",
    "        \n",
    "        axes[0][idx].imshow(flatten_final[idx].reshape(320, 320),\n",
    "              cmap = plt.cm.gray, interpolation='nearest',\n",
    "              clim=(0, 255));\n",
    "        axes[1][idx].imshow(approximation[idx].reshape(320, 320),\n",
    "              cmap = plt.cm.gray, interpolation='nearest',\n",
    "              clim=(0, 255));\n",
    "    \n",
    "        axes[2][idx].imshow(np.sinh(substract[idx]).reshape(320, 320),\n",
    "              cmap = plt.cm.gray, interpolation='nearest',\n",
    "              clim=(0, 255));\n",
    "        \n",
    "        if idx == 0:\n",
    "            \n",
    "            axes[0][idx].set_ylabel('Original',fontsize=10,fontweight='bold',color='black')\n",
    "            axes[1][idx].set_ylabel('Reconstructed',fontsize=10,fontweight='bold',color='black')\n",
    "            axes[2][idx].set_ylabel('Residuals',fontsize=10,fontweight='bold',color='black')\n",
    "            \n",
    "        axes[0][idx].set_yticks([])\n",
    "        axes[0][idx].set_xticks([])\n",
    "        \n",
    "        axes[1][idx].set_yticks([])\n",
    "        axes[1][idx].set_xticks([])\n",
    "        \n",
    "        axes[2][idx].set_yticks([])\n",
    "        axes[2][idx].set_xticks([])\n",
    "        \n",
    "    plt.subplots_adjust(wspace=0,hspace=0)\n",
    "    #_.patch.set_facecolor('#423f3b')\n",
    "    plt.savefig(f'UMAP_1441.png', dpi=300,bbox_inches='tight',pad_inches=0);\n",
    "    plt.show()\n",
    "    "
   ]
  },
  {
   "attachments": {},
   "cell_type": "markdown",
   "id": "48fdc728-fb6a-46a3-af2b-0738467c6abd",
   "metadata": {},
   "source": [
    "# Methods"
   ]
  },
  {
   "attachments": {},
   "cell_type": "markdown",
   "id": "ef91e86c-de9b-4a90-9809-351dd27c03c8",
   "metadata": {},
   "source": [
    "We will try two methods for non-linear dimension reduction:\n",
    " - UMAP\n",
    " - T-SNE"
   ]
  },
  {
   "attachments": {},
   "cell_type": "markdown",
   "id": "655557ee-ca22-4073-a5da-44d6ff0bf0d2",
   "metadata": {},
   "source": [
    "# UMAP: Uniform Manifold Approximation and Projection for Dimension Reduction"
   ]
  },
  {
   "attachments": {},
   "cell_type": "markdown",
   "id": "93fc7f30-aec9-4aaf-81cd-67db1c855d79",
   "metadata": {},
   "source": [
    "Uniform Manifold Approximation and Projection (UMAP) is a dimension reduction technique that can be used for visualisation similarly to t-SNE, but also for general non-linear dimension reduction. The algorithm is founded on three assumptions about the data:\n",
    " - The data is uniformly distributed on Riemannian manifold\n",
    " - The Riemannian metric is locally constant (or can be approximated as such)\n",
    " - The manifold is locally connected"
   ]
  },
  {
   "attachments": {},
   "cell_type": "markdown",
   "id": "95dd299a-4296-49d2-93c5-0e4f700c59ac",
   "metadata": {},
   "source": [
    "From these assumptions it is possible to model the manifold with a fuzzy topological structure. The embedding is found by searching for a low dimensional projection of the data that has the closest possible equivalent fuzzy topological structure."
   ]
  },
  {
   "attachments": {},
   "cell_type": "markdown",
   "id": "57d70b53-4d01-4ab6-a600-67bddd8870ed",
   "metadata": {},
   "source": [
    "## 1386"
   ]
  },
  {
   "cell_type": "code",
   "execution_count": null,
   "id": "de28805b-4a4b-4cd1-a49b-92caa214c2f2",
   "metadata": {},
   "outputs": [],
   "source": [
    "def map_1386_classes(n):\n",
    "    \n",
    "    if n == 0:\n",
    "        return 'F410M'\n",
    "    elif n == 1:    \n",
    "        return 'F250M'\n",
    "    elif n == 2:\n",
    "        return 'F444W'\n",
    "    elif n == 3:\n",
    "        return 'F300M'\n",
    "    elif n == 4:\n",
    "        return 'F356W'"
   ]
  },
  {
   "cell_type": "code",
   "execution_count": null,
   "id": "3112313f-dda7-4428-85c0-c7b3bbbc9a8b",
   "metadata": {},
   "outputs": [],
   "source": [
    "keys_1386 = [x for x in data_1386.keys()]\n",
    "final_1386 = np.concatenate((np.array(data_1386[keys_1386[0]]),np.array(data_1386[keys_1386[1]])))\n",
    "\n",
    "for i in range(len(keys_1386)-2):\n",
    "    \n",
    "    final_1386 = np.concatenate((final_1386,np.array(data_1386[keys_1386[i+2]])))\n",
    "    \n",
    "\n",
    "flatten_final_1386 = np.resize(final_1386, (final_1386.shape[0],320*320))\n",
    "mapper_1386 = umap.UMAP().fit(flatten_final_1386)\n",
    "\n",
    "q = np.zeros(36)\n",
    "w = np.ones(36)\n",
    "r = np.ones(18) * 2\n",
    "t = np.ones(18) * 3\n",
    "y = np.ones(18) * 4\n",
    "\n",
    "classes_1386 = np.hstack((q, w, r, t, y))\n",
    "detector_classes_1386 = np.array([x for x in map(map_1386_classes,classes_1386)])\n",
    "\n",
    "umap.plot.points(mapper_1386,labels=detector_classes_1386);\n",
    "#plt.savefig(f'UMAP_1386.png', dpi=300,bbox_inches='tight',pad_inches=0);"
   ]
  },
  {
   "cell_type": "code",
   "execution_count": null,
   "id": "db986db5-95f4-4e0c-9e9a-9d46303ad3ab",
   "metadata": {
    "collapsed": true,
    "jupyter": {
     "outputs_hidden": true
    },
    "tags": []
   },
   "outputs": [],
   "source": [
    "test_1386 = mapper_1386.embedding_[:5,:]\n",
    "reconstruct_umap_1386 = mapper_1386.inverse_transform(test_1386)\n",
    "visualize(flatten_final_1386,reconstruct_umap_1386)"
   ]
  },
  {
   "attachments": {},
   "cell_type": "markdown",
   "id": "a5670107-d981-4379-891b-d42fe6d18d3d",
   "metadata": {
    "tags": []
   },
   "source": [
    "## 1441"
   ]
  },
  {
   "cell_type": "code",
   "execution_count": null,
   "id": "15ea5f8d-694d-4ea5-8cbe-3aec02608679",
   "metadata": {},
   "outputs": [],
   "source": [
    "def map_1441_classes(n):\n",
    "    \n",
    "    if n == 0:\n",
    "        return 'F250M LWB'\n",
    "    elif n == 1:    \n",
    "        return 'F355M 335R'\n",
    "    elif n == 2:\n",
    "        return 'F355M LWB'\n",
    "        "
   ]
  },
  {
   "cell_type": "code",
   "execution_count": null,
   "id": "8488ece0-dae7-4ed9-9a41-5742ed515032",
   "metadata": {},
   "outputs": [],
   "source": [
    "keys_1441 = [x for x in data_1441.keys()] # get list of keys for each psfstack\n",
    "f = np.concatenate((np.array(data_1441[keys_1441[0]]),np.array(data_1441[keys_1441[1]]))) \n",
    "final_1441 = np.concatenate((f,np.array(data_1441[keys_1441[2]])))\n",
    "flatten_final_1441 = np.resize(final_1441, (final_1441.shape[0],320*320))\n",
    "mapper_1441 = umap.UMAP().fit(flatten_final_1441)\n",
    "\n",
    "a = np.zeros(189) # class0\n",
    "b = np.ones(240)  # class1\n",
    "c = np.ones(240) * 2 # class2\n",
    "\n",
    "classes_1441 = np.hstack((a, b, c))\n",
    "detector_classes_1441 = np.array([x for x in map(map_1441_classes,classes_1441)])\n",
    "\n",
    "umap.plot.points(mapper_1441,labels=detector_classes_1441,color_key=['r','b','g']);\n",
    "#plt.savefig(f'UMAP_1441.png', dpi=300,bbox_inches='tight',pad_inches=0);"
   ]
  },
  {
   "cell_type": "code",
   "execution_count": null,
   "id": "5bef923a-4c8c-4d89-ba38-338d7083a67b",
   "metadata": {},
   "outputs": [],
   "source": [
    "x = mapper_1441.embedding_[:2,:]"
   ]
  },
  {
   "cell_type": "code",
   "execution_count": null,
   "id": "093fefc9-df56-4da3-9b68-9c0ada937af9",
   "metadata": {},
   "outputs": [],
   "source": [
    "y = mapper_1441.embedding_[250:251,:]"
   ]
  },
  {
   "cell_type": "code",
   "execution_count": null,
   "id": "bc165f18-7808-4888-bd8d-e613a36fb02f",
   "metadata": {},
   "outputs": [],
   "source": [
    "z = mapper_1441.embedding_[631:633,:]"
   ]
  },
  {
   "cell_type": "code",
   "execution_count": null,
   "id": "ab9930d7-6983-4d90-8150-e3775cc7528e",
   "metadata": {},
   "outputs": [],
   "source": [
    "test_1441 = np.vstack((x,y,z))\n",
    "reconstruct_umap_1441 =mapper_1441.inverse_transform(test_1441)\n",
    "visualize(flatten_final_1441,reconstruct_umap_1441)"
   ]
  },
  {
   "attachments": {},
   "cell_type": "markdown",
   "id": "e4993280-6774-431b-8b6a-8d74eeef35e7",
   "metadata": {},
   "source": [
    "----"
   ]
  },
  {
   "attachments": {},
   "cell_type": "markdown",
   "id": "bf75aae4-7614-43b6-a31e-2bfd74d84397",
   "metadata": {},
   "source": [
    "# T-SNE (T-distributed Stochastic Neighbor Embedding)"
   ]
  },
  {
   "attachments": {},
   "cell_type": "markdown",
   "id": "64957a91-f25d-4ea6-ada2-d1de1a1c8307",
   "metadata": {},
   "source": [
    "t-SNE is a tool to visualize high-dimensional data. It converts similarities between data points to joint probabilities and tries to minimize the Kullback-Leibler divergence between the joint probabilities of the low-dimensional embedding and the high-dimensional data. t-SNE has a cost function that is not convex, i.e. with different initializations we can get different results."
   ]
  },
  {
   "attachments": {},
   "cell_type": "markdown",
   "id": "388b50b4-6291-4e4e-b9b4-0a98628d2e2f",
   "metadata": {},
   "source": [
    "# TSNE 1386 Visualization"
   ]
  },
  {
   "cell_type": "code",
   "execution_count": null,
   "id": "89b6e647-7588-4354-8b2b-78209119d126",
   "metadata": {},
   "outputs": [],
   "source": [
    "tsne_1386 = TSNE()\n",
    "tsne_latent_1386 = tsne_1386.fit_transform(flatten_final_1386)"
   ]
  },
  {
   "cell_type": "code",
   "execution_count": null,
   "id": "0e41227f-05f8-4bf2-9a22-94818bc0c433",
   "metadata": {},
   "outputs": [],
   "source": [
    "f250m = plt.scatter(tsne_latent_1386[:36,0], tsne_latent_1386[:36,1])\n",
    "f300m = plt.scatter(tsne_latent_1386[36:72,0], tsne_latent_1386[36:72,1])\n",
    "f356w  = plt.scatter(tsne_latent_1386[72:90,0], tsne_latent_1386[72:90,1])\n",
    "f410m  = plt.scatter(tsne_latent_1386[90:108,0], tsne_latent_1386[90:108,1])\n",
    "f444w  = plt.scatter(tsne_latent_1386[108:,0], tsne_latent_1386[108:,1])\n",
    "\n",
    "plt.legend((f250m, f300m, f356w, f410m, f444w),\n",
    "           ('F250M', 'F300M', 'F356W', 'F410M', 'F444W'),\n",
    "           scatterpoints=1,\n",
    "           loc='upper right',\n",
    "           ncol=3,\n",
    "           fontsize=8)"
   ]
  },
  {
   "attachments": {},
   "cell_type": "markdown",
   "id": "58acf1c5-924d-45cd-a9d6-a550e9e7bdb3",
   "metadata": {},
   "source": [
    "# TSNE 1441 Visualization "
   ]
  },
  {
   "cell_type": "code",
   "execution_count": null,
   "id": "5553aa63-4aa1-463e-a456-2fb85f6285d5",
   "metadata": {},
   "outputs": [],
   "source": [
    "tsne_1441 = TSNE()\n",
    "tsne_latent_1441 = tsne_1441.fit_transform(flatten_final_1441)"
   ]
  },
  {
   "cell_type": "code",
   "execution_count": null,
   "id": "05af2c34-40b3-41bb-974b-3155abe8ef0a",
   "metadata": {},
   "outputs": [],
   "source": [
    "f335m_a335r    = plt.scatter(tsne_latent_1441[:189,0], tsne_latent_1441[:189,1])\n",
    "f335m_alwb     = plt.scatter(tsne_latent_1441[189:429,0], tsne_latent_1441[189:429,1])\n",
    "f250m_maskalwb = plt.scatter(tsne_latent_1441[429:,0], tsne_latent_1441[429:,1])\n",
    "\n",
    "plt.legend((f335m_a335r, f335m_alwb, f250m_maskalwb),\n",
    "           ('F335M_A335R', 'F335M_ALWB', 'F250M_MASKALWB'),\n",
    "           scatterpoints=1,\n",
    "           loc='upper right',\n",
    "           ncol=3,\n",
    "           fontsize=8);"
   ]
  },
  {
   "attachments": {},
   "cell_type": "markdown",
   "id": "c960000a-7427-4b46-a835-3b84896a7944",
   "metadata": {},
   "source": [
    "As expected non-linear models have more interpretable and more explainable components rather than the linear models that we applied in the other notebook"
   ]
  }
 ],
 "metadata": {
  "kernelspec": {
   "display_name": "Python 3",
   "language": "python",
   "name": "python3"
  },
  "language_info": {
   "codemirror_mode": {
    "name": "ipython",
    "version": 3
   },
   "file_extension": ".py",
   "mimetype": "text/x-python",
   "name": "python",
   "nbconvert_exporter": "python",
   "pygments_lexer": "ipython3",
   "version": "3.9.16"
  }
 },
 "nbformat": 4,
 "nbformat_minor": 5
}

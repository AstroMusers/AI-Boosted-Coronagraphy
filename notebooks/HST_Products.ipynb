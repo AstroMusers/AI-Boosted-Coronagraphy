{
 "cells": [
  {
   "cell_type": "code",
   "execution_count": null,
   "id": "84beb911-2e15-4fd5-948e-697f0d037383",
   "metadata": {
    "scrolled": true
   },
   "outputs": [],
   "source": [
    "from astropy.io import fits\n",
    "from astropy.table import unique, vstack\n",
    "from astropy.table import Table\n",
    "from astropy.time import Time\n",
    "from astroquery.mast import Mast,Observations\n",
    "import matplotlib.pyplot as plt\n",
    "import os\n",
    "import pandas as pd\n",
    "import numpy as np\n",
    "from glob import glob\n",
    "import json"
   ]
  },
  {
   "cell_type": "code",
   "execution_count": null,
   "id": "006d2956-d894-4557-896b-fecd23c1c027",
   "metadata": {},
   "outputs": [],
   "source": [
    "proposal_obs = Observations.query_criteria(obstype='all',obs_collection='JWST',instrument_name='NIRCAM/CORON')\n",
    "#print(\"Number of observations:\",len(proposal_obs))\n",
    "print(proposal_obs)"
   ]
  },
  {
   "cell_type": "code",
   "execution_count": null,
   "id": "8e5d58c2-0d1f-496c-908e-eef75d35cbcd",
   "metadata": {},
   "outputs": [],
   "source": [
    "batch_size = 10\n",
    "batches = [proposal_obs[i:i+batch_size] for i in range(0, len(proposal_obs), batch_size)]\n",
    "t = [Observations.get_product_list(obs) for obs in batches]\n",
    "products = unique(vstack(t), keys='productFilename')\n",
    "filtered_products = Observations.filter_products(products)"
   ]
  },
  {
   "cell_type": "code",
   "execution_count": null,
   "id": "88cfcbec-f80c-406e-a3cb-245c026bd9f2",
   "metadata": {},
   "outputs": [],
   "source": [
    "prd_df = filtered_products.to_pandas()"
   ]
  },
  {
   "cell_type": "code",
   "execution_count": null,
   "id": "5d7d275a-6385-4bfe-810b-1b3c9ae38230",
   "metadata": {},
   "outputs": [],
   "source": [
    "prd_df['proposal_id'].unique()"
   ]
  },
  {
   "cell_type": "code",
   "execution_count": null,
   "id": "cb92acf2-5f99-4ebb-b9e9-43f85cbc2b4b",
   "metadata": {},
   "outputs": [],
   "source": [
    "df = prd_df.loc[prd_df['dataRights'] != 'EXCLUSIVE_ACCESS']"
   ]
  },
  {
   "cell_type": "code",
   "execution_count": null,
   "id": "5a2d3db8-9fc5-4649-bc6d-9229b11a8561",
   "metadata": {},
   "outputs": [],
   "source": [
    "df['proposal_id'].unique()"
   ]
  },
  {
   "cell_type": "code",
   "execution_count": null,
   "id": "ca19f5d0-ea5d-4b2e-9081-1401060f5ac0",
   "metadata": {},
   "outputs": [],
   "source": [
    "#jw = level3_df[(level3_df['proposal_id']=='2278') & (level3_df['calib_level'] == 2) & (level3_df['productType'] == 'SCIENCE') & ((level3_df['productSubGroupDescription'] == 'CALINTS'))]"
   ]
  },
  {
   "cell_type": "code",
   "execution_count": null,
   "id": "efd0be65-7fb3-4db6-9eaf-c2b1c97a4f81",
   "metadata": {},
   "outputs": [],
   "source": [
    "#jw = level3_df[(level3_df['proposal_id']=='1075')  & (level3_df['productType'] == 'SCIENCE') & (level3_df['calib_level'] == 2) & (level3_df['productSubGroupDescription'] == 'RATEINTS')]"
   ]
  },
  {
   "cell_type": "code",
   "execution_count": null,
   "id": "7136ff61-cc81-4613-9674-16bbe8112721",
   "metadata": {},
   "outputs": [],
   "source": [
    "#len(jw)"
   ]
  },
  {
   "cell_type": "code",
   "execution_count": null,
   "id": "3b010f2e-177c-4a39-ad4c-b1d78aaa65a8",
   "metadata": {},
   "outputs": [],
   "source": [
    "#products = Table.from_pandas(jw)"
   ]
  },
  {
   "cell_type": "code",
   "execution_count": null,
   "id": "3d17c854-fd44-48e0-95e4-0118fb746bcc",
   "metadata": {},
   "outputs": [],
   "source": [
    "def save_products(df,programs):\n",
    "\n",
    "    for program in programs:\n",
    "        \n",
    "        jw = df[(df['proposal_id']==program)  & (df['productType'] == 'SCIENCE') & (df['calib_level'] == 2) & (df['productSubGroupDescription'] == 'RATEINTS')]\n",
    "        products = Table.from_pandas(jw)\n",
    "        Observations.download_products(products,mrp_only=False,download_dir=f'/home/sarperyn/sarperyurtseven/ProjectFiles/dataset/NIRCAM/{program}')\n",
    "        print(f'{program} is done.')\n",
    "        "
   ]
  },
  {
   "cell_type": "code",
   "execution_count": null,
   "id": "8619e575-ecf1-4d84-9977-715a8753fd25",
   "metadata": {},
   "outputs": [],
   "source": [
    "programs = ['1075','1184','1194','1386','1411']"
   ]
  },
  {
   "cell_type": "code",
   "execution_count": null,
   "id": "d60be51a-2795-4879-a308-c12060cfa8d3",
   "metadata": {},
   "outputs": [],
   "source": [
    "save_products(df=df,programs=programs)"
   ]
  },
  {
   "cell_type": "code",
   "execution_count": null,
   "id": "9f074d29-da60-4aad-b939-f233440840e7",
   "metadata": {},
   "outputs": [],
   "source": []
  },
  {
   "cell_type": "code",
   "execution_count": null,
   "id": "8289ca12-1ba2-4c65-b57e-b433eda144eb",
   "metadata": {},
   "outputs": [],
   "source": [
    "def determine_and_count(column:str,table):    \n",
    "    prop_list = []\n",
    "    counter = {}\n",
    "    for i in range(len(table['proposal_id'])):\n",
    "\n",
    "        if table[f'{column}'][i] not in prop_list:\n",
    "\n",
    "            prop_list.append(table[f'{column}'][i])\n",
    "            try:\n",
    "                counter[table[f'{column}'][i]] = 1\n",
    "            except:\n",
    "                #print(table[f'{column}'][i])\n",
    "                continue\n",
    "        else:\n",
    "            try:\n",
    "                counter[table[f'{column}'][i]] += 1\n",
    "            except:\n",
    "                continue\n",
    "            \n",
    "    print(counter)"
   ]
  },
  {
   "cell_type": "code",
   "execution_count": null,
   "id": "cf70c3d7-e7a2-41b4-8e01-6398c9602f51",
   "metadata": {},
   "outputs": [],
   "source": [
    "determine_and_count('calib_level',products)"
   ]
  },
  {
   "cell_type": "code",
   "execution_count": null,
   "id": "c5a3e8af-a681-4db8-8bba-17bb8de24c70",
   "metadata": {
    "scrolled": true,
    "tags": []
   },
   "outputs": [],
   "source": [
    "Observations.download_products(products,mrp_only=False,download_dir='/home/sarperyn/sarperyurtseven/ProjectFiles/dataset/NIRCAM/1075')"
   ]
  },
  {
   "cell_type": "code",
   "execution_count": null,
   "id": "1b7cc974-f628-4579-887d-cd725da227f8",
   "metadata": {},
   "outputs": [],
   "source": [
    "# Path containing the rateints data\n",
    "directory = f'/home/sarperyn/HST/mastDownload/HST/'"
   ]
  },
  {
   "cell_type": "code",
   "execution_count": null,
   "id": "5a31d2e6-37ca-48ee-9794-1293143944ce",
   "metadata": {},
   "outputs": [],
   "source": [
    "fits_files = glob(os.path.join(directory, '**/*.fits'))"
   ]
  },
  {
   "cell_type": "code",
   "execution_count": null,
   "id": "632eaefe-05ee-45dc-91c8-e8f8a343200b",
   "metadata": {},
   "outputs": [],
   "source": [
    "fits_files"
   ]
  },
  {
   "cell_type": "code",
   "execution_count": null,
   "id": "de0cb706-7846-4464-80d0-ee6c8ae7f90d",
   "metadata": {},
   "outputs": [],
   "source": [
    "f1 = fits.open(fits_files[10])"
   ]
  },
  {
   "cell_type": "code",
   "execution_count": null,
   "id": "b4b0fd89-8356-410c-9ebd-1a11b7138512",
   "metadata": {},
   "outputs": [],
   "source": [
    "def get_sci(fits_):\n",
    "    \n",
    "    header = []\n",
    "    sci_data = []\n",
    "    \n",
    "    for i,path in enumerate(fits_):\n",
    "        fits_file = fits.open(path)\n",
    "        hd = fits_file[0].header\n",
    "        sci = fits_file[1].data\n",
    "        \n",
    "        header.append(hd)\n",
    "        sci_data.append(sci)\n",
    "        \n",
    "    return header,sci_data"
   ]
  },
  {
   "cell_type": "code",
   "execution_count": null,
   "id": "4a199c9f-b51a-4aa2-ad4f-72e44f16c26a",
   "metadata": {},
   "outputs": [],
   "source": [
    "headers, scis = get_sci(fits_files)"
   ]
  },
  {
   "cell_type": "code",
   "execution_count": null,
   "id": "416c1aca-7e13-46ac-8094-9de0cb3c9f0c",
   "metadata": {
    "tags": []
   },
   "outputs": [],
   "source": [
    "headers[0]"
   ]
  },
  {
   "cell_type": "code",
   "execution_count": null,
   "id": "3f57b6aa-9689-4dd9-8d81-b67e23af4796",
   "metadata": {},
   "outputs": [],
   "source": [
    "plt.figure(figsize=(15,5))\n",
    "plt.imshow(scis[0],clim=(0,250),cmap='gray')"
   ]
  },
  {
   "cell_type": "code",
   "execution_count": null,
   "id": "8a1bbbad-0b88-43f9-844e-db1b4e346115",
   "metadata": {},
   "outputs": [],
   "source": [
    "plt.figure(figsize=(15,5))\n",
    "plt.imshow(scis[14],clim=(0,250),cmap='gray')"
   ]
  },
  {
   "cell_type": "code",
   "execution_count": null,
   "id": "280a9093-3bc9-49dc-84d9-ecd4af306da4",
   "metadata": {},
   "outputs": [],
   "source": []
  }
 ],
 "metadata": {
  "kernelspec": {
   "display_name": "Python 3",
   "language": "python",
   "name": "python3"
  },
  "language_info": {
   "codemirror_mode": {
    "name": "ipython",
    "version": 3
   },
   "file_extension": ".py",
   "mimetype": "text/x-python",
   "name": "python",
   "nbconvert_exporter": "python",
   "pygments_lexer": "ipython3",
   "version": "3.9.16"
  }
 },
 "nbformat": 4,
 "nbformat_minor": 5
}

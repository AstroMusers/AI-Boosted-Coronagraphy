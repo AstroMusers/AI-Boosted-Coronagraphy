{
 "cells": [
  {
   "cell_type": "code",
   "execution_count": 1,
   "metadata": {},
   "outputs": [],
   "source": [
    "import glob\n",
    "import numpy as np\n",
    "import matplotlib.pyplot as plt\n",
    "from itertools import product\n",
    "import random\n",
    "import os\n",
    "import glob\n",
    "import numpy as np\n",
    "import decimal\n",
    "import matplotlib.pyplot as plt\n",
    "import seaborn as sns\n",
    "import astropy.io.fits as fits\n",
    "from itertools import product\n",
    "from astropy.wcs import WCS\n",
    "import astropy.units as u\n",
    "import pandas as pd\n",
    "import re\n",
    "import sys\n",
    "sys.path.append(os.path.dirname(os.getcwd()))\n",
    "from scripts.visualization_helpers import *"
   ]
  },
  {
   "cell_type": "code",
   "execution_count": 2,
   "metadata": {},
   "outputs": [],
   "source": [
    "df = pd.read_csv('/home/sarperyn/sarperyurtseven/AI-Boosted-Coronagraphy/ml/results_fixed.csv')"
   ]
  },
  {
   "cell_type": "code",
   "execution_count": null,
   "metadata": {},
   "outputs": [],
   "source": [
    "#paths = glob.glob('/data/scratch/bariskurtkaya/dataset/NIRCAM/train/1386/injections/*fc*.npy')\n",
    "#df = pd.DataFrame(paths,columns=['img_paths'])"
   ]
  },
  {
   "cell_type": "code",
   "execution_count": 6,
   "metadata": {},
   "outputs": [],
   "source": [
    "def print_statistics(df):\n",
    "\n",
    "    statistics = {\n",
    "        'flux_coefficients': {\n",
    "            'mean': df['flux_coefficients'].mean(),\n",
    "            'variance': df['flux_coefficients'].var(),\n",
    "            'distribution': df['flux_coefficients'].describe()\n",
    "        },\n",
    "        # 'distances': {\n",
    "        #     'mean': df['distances'].mean(),\n",
    "        #     'variance': df['distances'].var(),\n",
    "        #     'distribution': df['distances'].describe()\n",
    "        # }\n",
    "    }\n",
    "    print(statistics)\n",
    "    \n",
    "def create_histogram(df, column):\n",
    "    plt.figure(figsize=(10, 6))\n",
    "    sns.histplot(df[f'{column}'], bins=30, kde=True, color='blue')\n",
    "    plt.title('Histogram Distribution of Flux Coefficients')\n",
    "    plt.xlabel('Flux Coefficient')\n",
    "    plt.ylabel('Frequency')\n",
    "    plt.grid(True)\n",
    "    plt.show()"
   ]
  },
  {
   "cell_type": "code",
   "execution_count": null,
   "metadata": {},
   "outputs": [],
   "source": []
  }
 ],
 "metadata": {
  "kernelspec": {
   "display_name": "jwst-dev",
   "language": "python",
   "name": "python3"
  },
  "language_info": {
   "codemirror_mode": {
    "name": "ipython",
    "version": 3
   },
   "file_extension": ".py",
   "mimetype": "text/x-python",
   "name": "python",
   "nbconvert_exporter": "python",
   "pygments_lexer": "ipython3",
   "version": "3.9.16"
  }
 },
 "nbformat": 4,
 "nbformat_minor": 2
}
